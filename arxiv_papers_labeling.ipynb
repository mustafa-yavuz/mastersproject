{
 "cells": [
  {
   "cell_type": "code",
   "execution_count": 1,
   "metadata": {
    "colab": {},
    "colab_type": "code",
    "id": "Da3g0-6gpafj"
   },
   "outputs": [],
   "source": [
    "import numpy as np\n",
    "import pandas as pd\n",
    "import pickle, os\n",
    "import spacy\n",
    "import fasttext\n",
    "import re\n",
    "import pickle\n",
    "import string\n",
    "\n",
    "from tqdm.auto import tqdm, trange\n",
    "from scipy.spatial.distance import cosine\n",
    "\n",
    "from utils import text_cleaning, find_top_n, pro_labeling , mat_labeling\n",
    "\n",
    "from sklearn.feature_extraction.text import TfidfVectorizer\n",
    "\n",
    "with open('abstract_list.pkl', 'rb') as f:\n",
    "    abstracts = pickle.load(f)\n",
    "with open('title_list.pkl', 'rb') as f:\n",
    "    titles = pickle.load(f)"
   ]
  },
  {
   "cell_type": "code",
   "execution_count": 2,
   "metadata": {},
   "outputs": [],
   "source": [
    "# Concatenating pdfs and titles for tfidf\n",
    "pdf_title = abstracts.copy() \n",
    "for text in titles:\n",
    "    pdf_title.append(text)"
   ]
  },
  {
   "cell_type": "code",
   "execution_count": 3,
   "metadata": {},
   "outputs": [
    {
     "data": {
      "text/plain": [
       "20000"
      ]
     },
     "execution_count": 3,
     "metadata": {},
     "output_type": "execute_result"
    }
   ],
   "source": [
    "len(pdf_title)"
   ]
  },
  {
   "cell_type": "code",
   "execution_count": 6,
   "metadata": {},
   "outputs": [
    {
     "data": {
      "text/plain": [
       "TfidfVectorizer(analyzer='word', binary=False, decode_error='strict',\n",
       "                dtype=<class 'numpy.float64'>, encoding='utf-8',\n",
       "                input='content', lowercase=True, max_df=0.9, max_features=None,\n",
       "                min_df=10, ngram_range=(1, 2), norm='l2', preprocessor=None,\n",
       "                smooth_idf=True, stop_words='english', strip_accents=None,\n",
       "                sublinear_tf=False, token_pattern='(?u)\\\\b\\\\w\\\\w+\\\\b',\n",
       "                tokenizer=None, use_idf=True, vocabulary=None)"
      ]
     },
     "execution_count": 6,
     "metadata": {},
     "output_type": "execute_result"
    }
   ],
   "source": [
    "# Tfidf for abstracts\n",
    "vec = TfidfVectorizer(max_df=0.9,min_df=10,stop_words='english',ngram_range=(1, 2))\n",
    "vec.fit(pdf_title)"
   ]
  },
  {
   "cell_type": "code",
   "execution_count": 7,
   "metadata": {},
   "outputs": [
    {
     "data": {
      "text/plain": [
       "10908"
      ]
     },
     "execution_count": 7,
     "metadata": {},
     "output_type": "execute_result"
    }
   ],
   "source": [
    "len(vec.vocabulary_)"
   ]
  },
  {
   "cell_type": "code",
   "execution_count": 8,
   "metadata": {},
   "outputs": [],
   "source": [
    "path = \"crawl-300d-2M.vec\"\n",
    "\n",
    "with open('1000.txt','w',encoding=\"utf-8\") as f:\n",
    "    f.write('\\n'.join(pdf_title[:1000]))\n",
    "\n",
    "train_data = '1000.txt'\n",
    "\n",
    "ft_model = fasttext.train_unsupervised(input=train_data, pretrainedVectors=path, dim=300)"
   ]
  },
  {
   "cell_type": "code",
   "execution_count": null,
   "metadata": {},
   "outputs": [],
   "source": [
    "# Saving the model\n",
    "#ft_model.save_model(\"ft_model_arxiv.bin\")\n",
    "\n",
    "# Loading the model\n",
    "#ft_model = fasttext.load_model(\"ft_model_arxiv.bin\")"
   ]
  },
  {
   "cell_type": "code",
   "execution_count": 9,
   "metadata": {},
   "outputs": [
    {
     "data": {
      "application/vnd.jupyter.widget-view+json": {
       "model_id": "9d8707f59252432e80a9fdb0fca2c41d",
       "version_major": 2,
       "version_minor": 0
      },
      "text/plain": [
       "HBox(children=(IntProgress(value=0, max=10000), HTML(value='')))"
      ]
     },
     "metadata": {},
     "output_type": "display_data"
    },
    {
     "name": "stdout",
     "output_type": "stream",
     "text": [
      "\n"
     ]
    },
    {
     "data": {
      "application/vnd.jupyter.widget-view+json": {
       "model_id": "17a845fb17a04526a9c51ad280ee1231",
       "version_major": 2,
       "version_minor": 0
      },
      "text/plain": [
       "HBox(children=(IntProgress(value=0, max=10000), HTML(value='')))"
      ]
     },
     "metadata": {},
     "output_type": "display_data"
    },
    {
     "name": "stdout",
     "output_type": "stream",
     "text": [
      "\n"
     ]
    }
   ],
   "source": [
    "# Creating sentences for each document with the strongest tfidf words\n",
    "\n",
    "tfidf_words_abstract = []\n",
    "\n",
    "for abstract in tqdm(abstracts):\n",
    "    tfidf_words_abstract.append(\" \".join(find_top_n(abstract,vec,10)))\n",
    "    \n",
    "tfidf_words_title = []\n",
    "\n",
    "for title in tqdm(titles):\n",
    "    tfidf_words_title.append(\" \".join(find_top_n(title,vec,10)))"
   ]
  },
  {
   "cell_type": "code",
   "execution_count": null,
   "metadata": {},
   "outputs": [],
   "source": [
    "len(abstracts)"
   ]
  },
  {
   "cell_type": "code",
   "execution_count": null,
   "metadata": {},
   "outputs": [],
   "source": [
    "len(titles)"
   ]
  },
  {
   "cell_type": "code",
   "execution_count": null,
   "metadata": {},
   "outputs": [],
   "source": [
    "######################"
   ]
  },
  {
   "cell_type": "code",
   "execution_count": null,
   "metadata": {},
   "outputs": [],
   "source": [
    "tfidf_words_abstract[:5]"
   ]
  },
  {
   "cell_type": "code",
   "execution_count": null,
   "metadata": {},
   "outputs": [],
   "source": [
    "tfidf_words_title[:5]"
   ]
  },
  {
   "cell_type": "code",
   "execution_count": null,
   "metadata": {},
   "outputs": [],
   "source": [
    "list(filter(lambda x:len(x.split())==2,list(np.array(vec.get_feature_names()))))"
   ]
  },
  {
   "cell_type": "code",
   "execution_count": 10,
   "metadata": {},
   "outputs": [],
   "source": [
    "pro_1 = ft_model.get_sentence_vector('selective laser melting')\n",
    "pro_2 = ft_model.get_sentence_vector('direct metal laser sintering')\n",
    "\n",
    "pro_3 = ft_model.get_sentence_vector('fused deposition modeling')\n",
    "pro_4 = ft_model.get_sentence_vector('fused filament fabrication')\n",
    "pro_5 = ft_model.get_sentence_vector('extrusion based additive manufacturing')\n",
    "\n",
    "metal = ft_model.get_sentence_vector('metal')\n",
    "ceramic = ft_model.get_sentence_vector('ceramic')\n",
    "polymer = ft_model.get_sentence_vector('polymer')\n",
    "\n",
    "# feature_1 = get_embedding('fracture toughness')\n",
    "# feature_2 = get_embedding('tensile strength')\n",
    "# feature_3 = get_embedding('yield strength')\n",
    "# feature_4 = get_embedding('elastic modulus')\n",
    "# feature_5 = get_embedding('strain fracture break')\n",
    "# feature_6 = get_embedding('weibull modulus')"
   ]
  },
  {
   "cell_type": "code",
   "execution_count": 11,
   "metadata": {},
   "outputs": [],
   "source": [
    "def create_df_abs():\n",
    "    \n",
    "    d_abs = {'Titles':titles,\n",
    "         'Abstracts':abstracts,\n",
    "         'Abs_Production':abs_production,\n",
    "         'Abs_Production_score':abs_production_cos_score,\n",
    "         'Abs_Material':abs_material,\n",
    "         'Abs_Material_score':abs_material_cos_score\n",
    "        }\n",
    "    \n",
    "    df = pd.DataFrame(d_abs)\n",
    "    #df[\"Production/Material\"] = df[\"Abs_Production\"] + \" / \" + df[\"Abs_Material\"]\n",
    "    \n",
    "    return df"
   ]
  },
  {
   "cell_type": "code",
   "execution_count": 12,
   "metadata": {},
   "outputs": [],
   "source": [
    "def create_df_title():\n",
    "    \n",
    "    d_title = {'Titles':titles,\n",
    "         'Abstracts':abstracts,\n",
    "         'Title_Production':title_production,\n",
    "         'Title_Production_score':title_production_cos_score,\n",
    "         'Title_Material':title_material,\n",
    "         'Title_Material_score':title_material_cos_score\n",
    "        }\n",
    "    \n",
    "    df = pd.DataFrame(d_title)\n",
    "    #df[\"Production/Material\"] = df[\"Title_Production\"] + \" / \" + df[\"Title_Material\"]\n",
    "    \n",
    "    return df"
   ]
  },
  {
   "cell_type": "code",
   "execution_count": 13,
   "metadata": {},
   "outputs": [],
   "source": [
    "abs_production , abs_production_cos_score = pro_labeling(tfidf_words_abstract,ft_model,cosine,pro_1,pro_2,pro_3,pro_4,pro_5)\n",
    "abs_material , abs_material_cos_score = mat_labeling(tfidf_words_abstract,ft_model,cosine,metal,ceramic,polymer)\n",
    "df_abs = create_df_abs()\n",
    "\n",
    "title_production , title_production_cos_score = pro_labeling(tfidf_words_title,ft_model,cosine,pro_1,pro_2,pro_3,pro_4,pro_5)\n",
    "title_material , title_material_cos_score = mat_labeling(tfidf_words_title,ft_model,cosine,metal,ceramic,polymer)\n",
    "df_title = create_df_title()"
   ]
  },
  {
   "cell_type": "code",
   "execution_count": 14,
   "metadata": {},
   "outputs": [
    {
     "data": {
      "text/plain": [
       "FDM or FFF or EAM    9905\n",
       "SLM or DMLS            95\n",
       "Name: Abs_Production, dtype: int64"
      ]
     },
     "execution_count": 14,
     "metadata": {},
     "output_type": "execute_result"
    }
   ],
   "source": [
    "df_abs[\"Abs_Production\"].value_counts()"
   ]
  },
  {
   "cell_type": "code",
   "execution_count": 15,
   "metadata": {},
   "outputs": [
    {
     "data": {
      "text/plain": [
       "FDM or FFF or EAM    9766\n",
       "SLM or DMLS           234\n",
       "Name: Title_Production, dtype: int64"
      ]
     },
     "execution_count": 15,
     "metadata": {},
     "output_type": "execute_result"
    }
   ],
   "source": [
    "df_title[\"Title_Production\"].value_counts()"
   ]
  },
  {
   "cell_type": "code",
   "execution_count": 16,
   "metadata": {},
   "outputs": [
    {
     "data": {
      "text/plain": [
       "Ceramic    6051\n",
       "Metal      3252\n",
       "Polymer     697\n",
       "Name: Abs_Material, dtype: int64"
      ]
     },
     "execution_count": 16,
     "metadata": {},
     "output_type": "execute_result"
    }
   ],
   "source": [
    "df_abs[\"Abs_Material\"].value_counts()"
   ]
  },
  {
   "cell_type": "code",
   "execution_count": 17,
   "metadata": {},
   "outputs": [
    {
     "data": {
      "text/plain": [
       "Ceramic    6027\n",
       "Metal      3289\n",
       "Polymer     684\n",
       "Name: Title_Material, dtype: int64"
      ]
     },
     "execution_count": 17,
     "metadata": {},
     "output_type": "execute_result"
    }
   ],
   "source": [
    "df_title[\"Title_Material\"].value_counts()"
   ]
  },
  {
   "cell_type": "code",
   "execution_count": null,
   "metadata": {},
   "outputs": [],
   "source": []
  },
  {
   "cell_type": "code",
   "execution_count": null,
   "metadata": {},
   "outputs": [],
   "source": []
  },
  {
   "cell_type": "code",
   "execution_count": null,
   "metadata": {},
   "outputs": [],
   "source": []
  },
  {
   "cell_type": "code",
   "execution_count": null,
   "metadata": {
    "colab": {},
    "colab_type": "code",
    "id": "rXdYZvJVr-Xy"
   },
   "outputs": [],
   "source": [
    "vectorizer = TfidfVectorizer(max_df=0.9,min_df=2,stop_words='english')\n",
    "vectorizer.fit(abstract_list)"
   ]
  },
  {
   "cell_type": "code",
   "execution_count": null,
   "metadata": {
    "colab": {},
    "colab_type": "code",
    "id": "67Q0jXSJubD2"
   },
   "outputs": [],
   "source": [
    "cos = torch.nn.CosineSimilarity(dim=0, eps=1e-6)"
   ]
  },
  {
   "cell_type": "markdown",
   "metadata": {},
   "source": [
    "### Finding the cosine similarities between documents and labels"
   ]
  },
  {
   "cell_type": "markdown",
   "metadata": {},
   "source": [
    "* **Labels** : How materials are produced\n",
    "* **Material** : The material type after producuction\n",
    "\n",
    "\n",
    "* **SLM** : Selective laser melting\n",
    "* **DMLS** : Direct metal laser sintering\n",
    "* **FDM** : Fused deposition modeling \n",
    "* **FFF** : Fused filament fabrication\n",
    "* **EAM** : Extrusion-based additive manufacturing\n",
    "\n",
    "\n",
    "* Metal\n",
    "* Polymer \n",
    "* Ceramic  "
   ]
  },
  {
   "cell_type": "code",
   "execution_count": null,
   "metadata": {},
   "outputs": [],
   "source": [
    "# labels to find for each document\n",
    "label_1 = get_embedding('selective laser melting')\n",
    "label_2 = get_embedding('direct metal laser sintering')\n",
    "\n",
    "label_3 = get_embedding('fused deposition modeling')\n",
    "label_4 = get_embedding('fused filament fabrication')\n",
    "label_5 = get_embedding('extrusion based additive manufacturing')\n",
    "\n",
    "metal = get_embedding('metal')\n",
    "ceramic = get_embedding('ceramic')\n",
    "polymer = get_embedding('polymer')\n",
    "\n",
    "feature_1 = get_embedding('fracture toughness')\n",
    "feature_2 = get_embedding('tensile strength')\n",
    "feature_3 = get_embedding('yield strength')\n",
    "feature_4 = get_embedding('elastic modulus')\n",
    "feature_5 = get_embedding('strain fracture break')\n",
    "feature_6 = get_embedding('weibull modulus')"
   ]
  },
  {
   "cell_type": "code",
   "execution_count": null,
   "metadata": {},
   "outputs": [],
   "source": [
    "#new \n",
    "sentences = tfidf_sentences(abstract_list,vectorizer,3)"
   ]
  },
  {
   "cell_type": "code",
   "execution_count": null,
   "metadata": {},
   "outputs": [],
   "source": [
    "# Labeling for production type\n",
    "production , production_cos_score = production_labeling(sentences,cos,label_1,label_2,label_3,label_4,label_5)"
   ]
  },
  {
   "cell_type": "code",
   "execution_count": null,
   "metadata": {},
   "outputs": [],
   "source": [
    "# Labeling for material type\n",
    "material , material_cos_score = material_labeling(sentences,cos,metal,ceramic,polymer)"
   ]
  },
  {
   "cell_type": "code",
   "execution_count": null,
   "metadata": {
    "colab": {},
    "colab_type": "code",
    "id": "gz8Ny0U_3D5X"
   },
   "outputs": [],
   "source": [
    "d = {'Documents/Abstracts':abstract_list,'Production':production,'P_score':production_cos_score,'Material':material,'M_score':material_cos_score}\n",
    "df = pd.DataFrame(d)"
   ]
  },
  {
   "cell_type": "code",
   "execution_count": null,
   "metadata": {},
   "outputs": [],
   "source": [
    "df[\"Production/Material\"] = df[\"Production\"] + \" / \" + df[\"Material\"]"
   ]
  },
  {
   "cell_type": "code",
   "execution_count": null,
   "metadata": {
    "colab": {},
    "colab_type": "code",
    "id": "F96ARgRH3Eg8"
   },
   "outputs": [],
   "source": [
    "df.head(20)"
   ]
  },
  {
   "cell_type": "code",
   "execution_count": null,
   "metadata": {},
   "outputs": [],
   "source": [
    "df[\"Production\"].value_counts()"
   ]
  },
  {
   "cell_type": "code",
   "execution_count": null,
   "metadata": {},
   "outputs": [],
   "source": [
    "df[\"Material\"].value_counts()"
   ]
  },
  {
   "cell_type": "code",
   "execution_count": null,
   "metadata": {},
   "outputs": [],
   "source": [
    "df[df['M_score']== max(df['M_score'])]"
   ]
  },
  {
   "cell_type": "code",
   "execution_count": null,
   "metadata": {},
   "outputs": [],
   "source": [
    "max_material = df.iloc[9955]['Documents/Abstracts']\n",
    "df.iloc[9955]['Documents/Abstracts']"
   ]
  },
  {
   "cell_type": "code",
   "execution_count": null,
   "metadata": {},
   "outputs": [],
   "source": [
    "import re\n",
    "\n",
    "len(re.findall('ceramic',max_material)) # 7 ceramic in abstract with most score"
   ]
  },
  {
   "cell_type": "code",
   "execution_count": null,
   "metadata": {},
   "outputs": [],
   "source": [
    "df[df['P_score']== max(df['P_score'])]"
   ]
  },
  {
   "cell_type": "code",
   "execution_count": null,
   "metadata": {},
   "outputs": [],
   "source": [
    "max_production = df.iloc[2686]['Documents/Abstracts']\n",
    "df.iloc[2686]['Documents/Abstracts']"
   ]
  },
  {
   "cell_type": "markdown",
   "metadata": {},
   "source": [
    "### 3rd level of classification"
   ]
  },
  {
   "cell_type": "markdown",
   "metadata": {},
   "source": [
    "* **Features** : Features of materials\n",
    "\n",
    "\n",
    "* Fracture toughness or Work of fracture\n",
    "* Tensile strength or ultimate tensile strength\n",
    "* Yield strength\n",
    "* Elastic modulus or Young’s modulus\n",
    "* Strain at break or strain at fracture or fracture strain\n",
    "* Weibull modulus"
   ]
  },
  {
   "cell_type": "code",
   "execution_count": null,
   "metadata": {},
   "outputs": [],
   "source": [
    "# Labeling for feature type\n",
    "feature , feature_cos_score = feature_labeling(sentences,cos,feature_1,feature_2,feature_3,feature_4,feature_5,feature_6)"
   ]
  },
  {
   "cell_type": "code",
   "execution_count": null,
   "metadata": {},
   "outputs": [],
   "source": [
    "df['Features'] = feature\n",
    "df['F_score'] = feature_cos_score"
   ]
  },
  {
   "cell_type": "code",
   "execution_count": null,
   "metadata": {},
   "outputs": [],
   "source": [
    "df[\"Features\"].value_counts()"
   ]
  },
  {
   "cell_type": "code",
   "execution_count": null,
   "metadata": {},
   "outputs": [],
   "source": [
    "df[\"Production/Material/Feature\"] = df[\"Production\"] + \" / \" + df[\"Material\"] + \" / \" + df[\"Features\"]"
   ]
  },
  {
   "cell_type": "code",
   "execution_count": null,
   "metadata": {},
   "outputs": [],
   "source": [
    "df.head()"
   ]
  },
  {
   "cell_type": "code",
   "execution_count": null,
   "metadata": {},
   "outputs": [],
   "source": [
    "df[\"Production/Material/Feature\"].value_counts()"
   ]
  },
  {
   "cell_type": "code",
   "execution_count": null,
   "metadata": {},
   "outputs": [],
   "source": [
    "df[\"M_score\"].value_counts()"
   ]
  },
  {
   "cell_type": "code",
   "execution_count": null,
   "metadata": {},
   "outputs": [],
   "source": [
    "df['M_score'].describe()"
   ]
  },
  {
   "cell_type": "code",
   "execution_count": null,
   "metadata": {},
   "outputs": [],
   "source": [
    "df[\"M_score\"].nunique()"
   ]
  },
  {
   "cell_type": "code",
   "execution_count": null,
   "metadata": {},
   "outputs": [],
   "source": [
    "X_axis = list(\"0\" + 30 * \" \" + \"0.425\" + 30 * \" \"+ \"0.85\")"
   ]
  },
  {
   "cell_type": "code",
   "execution_count": null,
   "metadata": {},
   "outputs": [],
   "source": [
    "plt.figure(figsize=(15,10))\n",
    "sns.set(style=\"darkgrid\")\n",
    "\n",
    "ax = sns.countplot(x=\"M_score\", data=df)\n",
    "ax.xaxis.set_major_formatter(ticker.FixedFormatter(X_axis))\n",
    "#ax.xaxis.set_major_locator(ticker.MultipleLocator(base=10))"
   ]
  },
  {
   "cell_type": "code",
   "execution_count": null,
   "metadata": {},
   "outputs": [],
   "source": [
    "df[df['M_score']== min(df['M_score'])]"
   ]
  },
  {
   "cell_type": "code",
   "execution_count": null,
   "metadata": {},
   "outputs": [],
   "source": [
    "df[\"Documents/Abstracts\"][df['M_score'].idxmin()] # least cos score"
   ]
  },
  {
   "cell_type": "code",
   "execution_count": null,
   "metadata": {},
   "outputs": [],
   "source": [
    "df[\"Documents/Abstracts\"][df['M_score'].idxmax()] # most cos score"
   ]
  },
  {
   "cell_type": "code",
   "execution_count": null,
   "metadata": {},
   "outputs": [],
   "source": [
    "df[df['M_score']>0.35]['M_score'].describe()"
   ]
  },
  {
   "cell_type": "code",
   "execution_count": null,
   "metadata": {},
   "outputs": [],
   "source": [
    "#df.to_csv(\"data labeling.csv\")"
   ]
  },
  {
   "cell_type": "code",
   "execution_count": null,
   "metadata": {},
   "outputs": [],
   "source": [
    "\"\"\"\n",
    "Queries arxiv API and parses the urls of papers.\n",
    "Reads all papers under Material Science tag and fetch their abstracts and titles\n",
    "Dumps results to files abstract.pkl and titles.pkl\n",
    "\"\"\"\n",
    "import urllib.request\n",
    "import feedparser\n",
    "import pickle\n",
    "import spacy\n",
    "import re\n",
    "\n",
    "\n",
    "\n",
    "# Loading spacy nlp model\n",
    "spacy_model = spacy.load(\"en_core_web_sm\")\n",
    "\n",
    "# Base api query url\n",
    "base_url = 'http://export.arxiv.org/api/query?';\n",
    "\n",
    "# Search parameters- Limits the number of papers accessed\n",
    "search_query = 'cat:cond-mat.mtrl-sci' \n",
    "start = 0                     \n",
    "max_results = 10000\n",
    "\n",
    "query = 'search_query=%s&start=%i&max_results=%i' % (search_query,\n",
    "                                                     start,\n",
    "                                                     max_results)\n",
    "\n",
    "feedparser._FeedParserMixin.namespaces['http://arxiv.org/schemas/atom'] = 'arxiv'\n",
    "\n",
    "# perform a GET request using the base_url and query\n",
    "response = urllib.request.urlopen(base_url+query).read()\n",
    "\n",
    "# parse the response using feedparser\n",
    "feed = feedparser.parse(response)\n",
    "\n",
    "# print out feed information\n",
    "print ('Feed title: %s' % feed.feed.title)\n",
    "\n",
    "# print opensearch metadata\n",
    "print ('totalResults for this query: %s' % feed.feed.opensearch_totalresults)\n",
    "print ('itemsPerPage for this query: %s' % feed.feed.opensearch_itemsperpage)\n",
    "print ('startIndex for this query: %s'   % feed.feed.opensearch_startindex)\n",
    "\n",
    "# Run through each entry, and print out information\n",
    "title_list = []\n",
    "abstract_list = []\n",
    "\n",
    "for entry in feed.entries:\n",
    "   \n",
    "    title_list.append(entry.title)\n",
    "    print ('Title:  %s' % entry.title)\n",
    "\n",
    "    # get the links to the abs page and pdf \n",
    "    for link in entry.links:\n",
    "        if link.rel == 'alternate':\n",
    "            print ('abs page link: %s' % link.href)\n",
    "        elif link.title == 'pdf':\n",
    "            print ('pdf link: %s' % link.href)\n",
    "    \n",
    "\n",
    "    #print ('Abstract: %s' %  entry.summary)\n",
    "    abstract_list.append(entry.summary)"
   ]
  },
  {
   "cell_type": "code",
   "execution_count": null,
   "metadata": {},
   "outputs": [],
   "source": [
    "type(abstract_list[0])"
   ]
  },
  {
   "cell_type": "code",
   "execution_count": null,
   "metadata": {},
   "outputs": [],
   "source": [
    "abstracts = list(map(lambda x: text_cleaning(x,spacy_model), abstract_list))\n",
    "titles = list(map(lambda x: text_cleaning(x,spacy_model), title_list))\n",
    "\n",
    "\n",
    "with open('abstract_list.pkl', 'wb') as f:\n",
    "    pickle.dump(abstracts, f)\n",
    "with open('title_list.pkl', 'wb') as f:\n",
    "    pickle.dump(titles, f)"
   ]
  },
  {
   "cell_type": "code",
   "execution_count": null,
   "metadata": {},
   "outputs": [],
   "source": [
    "abstract_list[33]"
   ]
  },
  {
   "cell_type": "code",
   "execution_count": null,
   "metadata": {},
   "outputs": [],
   "source": [
    "abstracts[33]"
   ]
  },
  {
   "cell_type": "code",
   "execution_count": null,
   "metadata": {},
   "outputs": [],
   "source": [
    "data = \" symmetry mm mmm \"\n",
    "data = re.sub(r\" mm \", \" \", data)\n",
    "data"
   ]
  },
  {
   "cell_type": "code",
   "execution_count": null,
   "metadata": {},
   "outputs": [],
   "source": []
  }
 ],
 "metadata": {
  "colab": {
   "collapsed_sections": [],
   "name": "data_labeling",
   "provenance": []
  },
  "kernelspec": {
   "display_name": "Python 3",
   "language": "python",
   "name": "python3"
  },
  "language_info": {
   "codemirror_mode": {
    "name": "ipython",
    "version": 3
   },
   "file_extension": ".py",
   "mimetype": "text/x-python",
   "name": "python",
   "nbconvert_exporter": "python",
   "pygments_lexer": "ipython3",
   "version": "3.7.4"
  }
 },
 "nbformat": 4,
 "nbformat_minor": 1
}
