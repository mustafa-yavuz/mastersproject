{
 "cells": [
  {
   "cell_type": "code",
   "execution_count": 1,
   "metadata": {},
   "outputs": [],
   "source": [
    "import numpy as np\n",
    "import pandas as pd\n",
    "import pickle, os\n",
    "import spacy\n",
    "import fasttext\n",
    "\n",
    "from tqdm.auto import tqdm, trange\n",
    "from scipy.spatial.distance import cosine\n",
    "\n",
    "from utils import embedding, get_embedding, text_cleaning, find_top_n , tfidf_sentences\n",
    "\n",
    "from sklearn.feature_extraction.text import TfidfVectorizer"
   ]
  },
  {
   "cell_type": "code",
   "execution_count": 2,
   "metadata": {},
   "outputs": [],
   "source": [
    "import seaborn as sns\n",
    "from sklearn.decomposition import PCA\n",
    "import matplotlib.pyplot as plt"
   ]
  },
  {
   "cell_type": "markdown",
   "metadata": {},
   "source": [
    "### Preprocessing"
   ]
  },
  {
   "cell_type": "code",
   "execution_count": 3,
   "metadata": {},
   "outputs": [],
   "source": [
    "# Loading spacy nlp model\n",
    "nlp = spacy.load(\"en_core_web_sm\")"
   ]
  },
  {
   "cell_type": "code",
   "execution_count": 4,
   "metadata": {},
   "outputs": [],
   "source": [
    "# Getting the titles from file names\n",
    "title_list = []\n",
    "\n",
    "for file in os.listdir(\"Local pdf text files\"):\n",
    "  if file.endswith(\".txt\"):\n",
    "    title_list.append(file.split(\".\")[0])"
   ]
  },
  {
   "cell_type": "code",
   "execution_count": 5,
   "metadata": {},
   "outputs": [],
   "source": [
    "# Getting the text from local text files\n",
    "pdf_list = []\n",
    "    \n",
    "for file in os.listdir(\"Local pdf text files\"):\n",
    "  if file.endswith(\".txt\"):\n",
    "    with open(\"Local pdf text files/\"+file,\"r\",encoding=\"utf8\") as f:\n",
    "        pdf_list.append(f.read())"
   ]
  },
  {
   "cell_type": "code",
   "execution_count": 6,
   "metadata": {},
   "outputs": [],
   "source": [
    "# cleaning text and titles\n",
    "pdfs = list(map(lambda x: text_cleaning(x,nlp), pdf_list))\n",
    "titles = list(map(lambda x: text_cleaning(x,nlp), title_list))\n",
    "\n",
    "# lemmatization\n",
    "pdfs = list(map(lambda x: ' '.join([token.lemma_ for token in x]), pdfs))\n",
    "titles = list(map(lambda x: ' '.join([token.lemma_ for token in x]), titles))\n",
    "\n",
    "# removing PRON after lemmatization\n",
    "pdfs = list(map(lambda x: x.replace(\"-PRON-\",\"\"), pdfs))\n",
    "titles = list(map(lambda x: x.replace(\"-PRON-\",\"\"), titles))"
   ]
  },
  {
   "cell_type": "code",
   "execution_count": 7,
   "metadata": {},
   "outputs": [
    {
     "data": {
      "text/plain": [
       "TfidfVectorizer(analyzer='word', binary=False, decode_error='strict',\n",
       "                dtype=<class 'numpy.float64'>, encoding='utf-8',\n",
       "                input='content', lowercase=True, max_df=0.9, max_features=100,\n",
       "                min_df=2, ngram_range=(1, 2), norm='l2', preprocessor=None,\n",
       "                smooth_idf=True, stop_words='english', strip_accents=None,\n",
       "                sublinear_tf=False, token_pattern='(?u)\\\\b\\\\w\\\\w+\\\\b',\n",
       "                tokenizer=None, use_idf=True, vocabulary=None)"
      ]
     },
     "execution_count": 7,
     "metadata": {},
     "output_type": "execute_result"
    }
   ],
   "source": [
    "# Tfidf for abstracts\n",
    "vec_abs = TfidfVectorizer(max_df=0.9,min_df=2,stop_words='english',max_features=100,ngram_range=(1, 2))\n",
    "vec_abs.fit(pdfs)\n",
    "\n",
    "# Tfidf for titles\n",
    "vec_title = TfidfVectorizer(max_df=0.9,min_df=2,stop_words='english',max_features=100,ngram_range=(1, 2))\n",
    "vec_title.fit(titles)"
   ]
  },
  {
   "cell_type": "code",
   "execution_count": 8,
   "metadata": {},
   "outputs": [],
   "source": [
    "#np.array(vec_abs.get_feature_names())"
   ]
  },
  {
   "cell_type": "code",
   "execution_count": 9,
   "metadata": {},
   "outputs": [],
   "source": [
    "# # np.array(vec_abs.get_feature_names())\n",
    "# arr1 = X[0].toarray()\n",
    "# arr2 = X[1].toarray()"
   ]
  },
  {
   "cell_type": "code",
   "execution_count": 10,
   "metadata": {},
   "outputs": [],
   "source": [
    "# 1-cosine(cer,arr2)"
   ]
  },
  {
   "cell_type": "code",
   "execution_count": 11,
   "metadata": {},
   "outputs": [],
   "source": [
    "# cer = \"A ceramic is a solid material comprising an inorganic compound of metal or metalloid and non-metal with ionic or covalent bonds. Common examples are earthenware, porcelain, and brick.\"\n",
    "# y = vec_abs.transform([cer])"
   ]
  },
  {
   "cell_type": "code",
   "execution_count": 12,
   "metadata": {},
   "outputs": [],
   "source": [
    "# cer = y.toarray()"
   ]
  },
  {
   "cell_type": "markdown",
   "metadata": {},
   "source": [
    "### Model Installation"
   ]
  },
  {
   "cell_type": "code",
   "execution_count": 13,
   "metadata": {},
   "outputs": [],
   "source": [
    "# path = \"crawl-300d-2M.vec\"\n",
    "\n",
    "# with open('training_data.txt','w',encoding=\"utf-8\") as f:\n",
    "#       f.write('\\n'.join(pdfs))\n",
    "\n",
    "# train_data = 'training_data.txt'\n",
    "\n",
    "# ft_model = fasttext.train_unsupervised(input=train_data, pretrainedVectors=path, dim=300)"
   ]
  },
  {
   "cell_type": "code",
   "execution_count": 14,
   "metadata": {},
   "outputs": [
    {
     "name": "stderr",
     "output_type": "stream",
     "text": [
      "Warning : `load_model` does not return WordVectorModel or SupervisedModel any more, but a `FastText` object which is very similar.\n"
     ]
    }
   ],
   "source": [
    "# Saving the model\n",
    "#ft_model.save_model(\"ft_model.bin\")\n",
    "\n",
    "# Loading the model\n",
    "ft_model = fasttext.load_model(\"ft_model.bin\")"
   ]
  },
  {
   "cell_type": "markdown",
   "metadata": {},
   "source": [
    "### Labels"
   ]
  },
  {
   "cell_type": "code",
   "execution_count": 15,
   "metadata": {},
   "outputs": [
    {
     "data": {
      "application/vnd.jupyter.widget-view+json": {
       "model_id": "eaf97207d4a4449aa1973e48de9c4425",
       "version_major": 2,
       "version_minor": 0
      },
      "text/plain": [
       "HBox(children=(IntProgress(value=0, max=99), HTML(value='')))"
      ]
     },
     "metadata": {},
     "output_type": "display_data"
    },
    {
     "name": "stdout",
     "output_type": "stream",
     "text": [
      "\n"
     ]
    },
    {
     "data": {
      "application/vnd.jupyter.widget-view+json": {
       "model_id": "ff84e901a871419fa6aeb5505323d76c",
       "version_major": 2,
       "version_minor": 0
      },
      "text/plain": [
       "HBox(children=(IntProgress(value=0, max=99), HTML(value='')))"
      ]
     },
     "metadata": {},
     "output_type": "display_data"
    },
    {
     "name": "stdout",
     "output_type": "stream",
     "text": [
      "\n"
     ]
    }
   ],
   "source": [
    "# Creating sentences for each document with the strongest tfidf words\n",
    "\n",
    "tfidf_words_abstract = []\n",
    "\n",
    "for abstract in tqdm(pdfs):\n",
    "    tfidf_words_abstract.append(\" \".join(find_top_n(abstract,vec_abs,20)))\n",
    "    \n",
    "tfidf_words_title = []\n",
    "\n",
    "for title in tqdm(titles):\n",
    "    tfidf_words_title.append(\" \".join(find_top_n(title,vec_title,10)))"
   ]
  },
  {
   "cell_type": "code",
   "execution_count": 16,
   "metadata": {},
   "outputs": [
    {
     "data": {
      "text/plain": [
       "['base sample printing ceramic sinter shape print density produce method surface strength study property use process formation fabricate fdm fiber',\n",
       " 'glass size different layer temperature material shape porosity increase sample melt printing stress print surface powder property use process high',\n",
       " 'ceramic printing component present technique material performance research shape energy metal make print application fabrication high fabricate property use process',\n",
       " 'fiber reinforce composite print fabrication base use printing value deposition model tensile strength fused deposition fused improve deposition technique method tensile model mechanical property',\n",
       " 'glass material base manufacturing product printing research energy print application manufacture method additive manufacturing additive use process composite increase build fused']"
      ]
     },
     "execution_count": 16,
     "metadata": {},
     "output_type": "execute_result"
    }
   ],
   "source": [
    "tfidf_words_abstract[:5]"
   ]
  },
  {
   "cell_type": "code",
   "execution_count": 17,
   "metadata": {},
   "outputs": [
    {
     "data": {
      "text/plain": [
       "['zirconia printing ceramic manufacture lattice structure experimental manufacturing fabricate fabricate selective fabrication',\n",
       " 'surface printing glass print process property fiber evaluation evolution experimental',\n",
       " 'review print ceramic zirconia fused experimental fabricate fabricate selective fabrication fdm',\n",
       " 'continuous fiber composite print zirconia evaluation experimental fabricate fabricate selective fabrication',\n",
       " 'glass print zirconia fused evolution experimental fabricate fabricate selective fabrication fdm']"
      ]
     },
     "execution_count": 17,
     "metadata": {},
     "output_type": "execute_result"
    }
   ],
   "source": [
    "tfidf_words_title[:5]"
   ]
  },
  {
   "cell_type": "code",
   "execution_count": 18,
   "metadata": {},
   "outputs": [
    {
     "data": {
      "text/plain": [
       "['additive manufacturing',\n",
       " 'deposition model',\n",
       " 'fused deposition',\n",
       " 'lattice structure',\n",
       " 'mechanical property',\n",
       " 'process parameter',\n",
       " 'selective laser',\n",
       " 'slm process',\n",
       " 'tensile strength']"
      ]
     },
     "execution_count": 18,
     "metadata": {},
     "output_type": "execute_result"
    }
   ],
   "source": [
    "list(filter(lambda x:len(x.split())==2,list(np.array(vec_abs.get_feature_names()))))"
   ]
  },
  {
   "cell_type": "code",
   "execution_count": 19,
   "metadata": {},
   "outputs": [],
   "source": [
    "production_1 = ft_model.get_sentence_vector('selective laser melting')\n",
    "production_2 = ft_model.get_sentence_vector('direct metal laser sintering')\n",
    "\n",
    "production_3 = ft_model.get_sentence_vector('fused deposition modeling')\n",
    "production_4 = ft_model.get_sentence_vector('fused filament fabrication')\n",
    "production_5 = ft_model.get_sentence_vector('extrusion based additive manufacturing')\n",
    "\n",
    "metal = ft_model.get_sentence_vector('metal')\n",
    "ceramic = ft_model.get_sentence_vector('ceramic')\n",
    "polymer = ft_model.get_sentence_vector('polymer')\n",
    "\n",
    "# feature_1 = get_embedding('fracture toughness')\n",
    "# feature_2 = get_embedding('tensile strength')\n",
    "# feature_3 = get_embedding('yield strength')\n",
    "# feature_4 = get_embedding('elastic modulus')\n",
    "# feature_5 = get_embedding('strain fracture break')\n",
    "# feature_6 = get_embedding('weibull modulus')"
   ]
  },
  {
   "cell_type": "code",
   "execution_count": 20,
   "metadata": {},
   "outputs": [],
   "source": [
    "def pro_labeling(doc):\n",
    "    \n",
    "    production = []\n",
    "    production_cos_score = []\n",
    "    \n",
    "    for text in doc:\n",
    "        \n",
    "        text = ft_model.get_sentence_vector(text)\n",
    "        \n",
    "        lbl= []\n",
    "\n",
    "        lbl.append(1-cosine(text,production_1))\n",
    "        lbl.append(1-cosine(text,production_2))\n",
    "        lbl.append(1-cosine(text,production_3))\n",
    "        lbl.append(1-cosine(text,production_4))\n",
    "        lbl.append(1-cosine(text,production_5))\n",
    "\n",
    "        if lbl.index(max(lbl))==0 or lbl.index(max(lbl))==1:\n",
    "            production.append('SLM or DMLS')\n",
    "            production_cos_score.append(max(lbl))\n",
    "        else:\n",
    "            production.append('FDM or FFF or EAM')\n",
    "            production_cos_score.append(max(lbl))\n",
    "    \n",
    "    return production , production_cos_score"
   ]
  },
  {
   "cell_type": "code",
   "execution_count": 21,
   "metadata": {},
   "outputs": [],
   "source": [
    "def mat_labeling(doc):\n",
    "\n",
    "    material = []  \n",
    "    material_cos_score = []\n",
    "\n",
    "    for text in doc:\n",
    "        \n",
    "        text = ft_model.get_sentence_vector(text)\n",
    "        \n",
    "        lbl= []\n",
    "\n",
    "        lbl.append(1-cosine(text,metal))\n",
    "        lbl.append(1-cosine(text,ceramic))\n",
    "        lbl.append(1-cosine(text,polymer))\n",
    "\n",
    "        if lbl.index(max(lbl))==0:\n",
    "            material.append('Metal')\n",
    "            material_cos_score.append(max(lbl))\n",
    "        elif lbl.index(max(lbl))==1:\n",
    "            material.append('Ceramic')\n",
    "            material_cos_score.append(max(lbl))\n",
    "        else:\n",
    "            material.append('Polymer')\n",
    "            material_cos_score.append(max(lbl))\n",
    "    \n",
    "    return material , material_cos_score"
   ]
  },
  {
   "cell_type": "code",
   "execution_count": 22,
   "metadata": {},
   "outputs": [],
   "source": [
    "def create_df_abs():\n",
    "    \n",
    "    d_abs = {'Titles':title_list,\n",
    "         'Abstracts':pdf_list,\n",
    "         'Abs_Production':abs_production,\n",
    "         'Abs_Production_score':abs_production_cos_score,\n",
    "         'Abs_Material':abs_material,\n",
    "         'Abs_Material_score':abs_material_cos_score\n",
    "        }\n",
    "    \n",
    "    df = pd.DataFrame(d_abs)\n",
    "    #df[\"Production/Material\"] = df[\"Abs_Production\"] + \" / \" + df[\"Abs_Material\"]\n",
    "    \n",
    "    return df"
   ]
  },
  {
   "cell_type": "code",
   "execution_count": 23,
   "metadata": {},
   "outputs": [],
   "source": [
    "def create_df_title():\n",
    "    \n",
    "    d_title = {'Titles':title_list,\n",
    "         'Abstracts':pdf_list,\n",
    "         'Title_Production':title_production,\n",
    "         'Title_Production_score':title_production_cos_score,\n",
    "         'Title_Material':title_material,\n",
    "         'Title_Material_score':title_material_cos_score\n",
    "        }\n",
    "    \n",
    "    df = pd.DataFrame(d_title)\n",
    "    #df[\"Production/Material\"] = df[\"Title_Production\"] + \" / \" + df[\"Title_Material\"]\n",
    "    \n",
    "    return df"
   ]
  },
  {
   "cell_type": "markdown",
   "metadata": {},
   "source": [
    "### Labeling with abstracts and Titles"
   ]
  },
  {
   "cell_type": "code",
   "execution_count": 24,
   "metadata": {},
   "outputs": [],
   "source": [
    "abs_production , abs_production_cos_score = pro_labeling(tfidf_words_abstract)\n",
    "abs_material , abs_material_cos_score = mat_labeling(tfidf_words_abstract)\n",
    "df_abs = create_df_abs()\n",
    "\n",
    "title_production , title_production_cos_score = pro_labeling(tfidf_words_title)\n",
    "title_material , title_material_cos_score = mat_labeling(tfidf_words_title)\n",
    "df_title = create_df_title()"
   ]
  },
  {
   "cell_type": "code",
   "execution_count": 25,
   "metadata": {},
   "outputs": [
    {
     "data": {
      "text/plain": [
       "'We have developed a method for the three-dimensional (3D) printing of continuous fiber-reinforced thermoplastics based on fused-deposition modeling. The technique enables direct 3D fabrication without the use of molds and may become the standard next-generation composite fabrication methodology. A thermoplastic filament and continuous fibers were separately supplied to the 3D printer and the fibers were impregnated with the filament within the heated nozzle of the printer immediately before printing. Polylactic acid was used as the matrix while carbon fibers, or twisted yarns of natural jute fibers, were used as the reinforcements. The thermoplastics reinforced with unidirectional jute fibers were examples of plant-sourced composites; those reinforced with unidirectional carbon fiber showed mechanical properties superior to those of both the jute-reinforced and unreinforced thermoplastics. Continuous fiber reinforcement improved the tensile strength of the printed composites relative to the values shown by conventional 3D-printed polymer-based composites.\\n'"
      ]
     },
     "execution_count": 25,
     "metadata": {},
     "output_type": "execute_result"
    }
   ],
   "source": [
    "pdf_list[3]"
   ]
  },
  {
   "cell_type": "code",
   "execution_count": 26,
   "metadata": {},
   "outputs": [
    {
     "data": {
      "text/plain": [
       "' have develop a method for the three dimensional printing of continuous fiber reinforce thermoplastic base on fused deposition model the technique enable direct fabrication without the use of mold and may become the standard next generation composite fabrication methodology a thermoplastic filament and continuous fiber be separately supply to the printer and the fiber be impregnate with the filament within the heated nozzle of the printer immediately before print polylactic acid be use as the matrix while carbon fiber or twist yarn of natural jute fiber be use as the reinforcement the thermoplastic reinforce with unidirectional jute fiber be example of plant source composite those reinforce with unidirectional carbon fiber show mechanical property superior to those of both the jute reinforce and unreinforced thermoplastic continuous fiber reinforcement improve the tensile strength of the print composite relative to the value show by conventional print polymer base composites'"
      ]
     },
     "execution_count": 26,
     "metadata": {},
     "output_type": "execute_result"
    }
   ],
   "source": [
    "pdfs[3]"
   ]
  },
  {
   "cell_type": "code",
   "execution_count": 27,
   "metadata": {},
   "outputs": [
    {
     "data": {
      "text/plain": [
       "FDM or FFF or EAM    71\n",
       "SLM or DMLS          28\n",
       "Name: Abs_Production, dtype: int64"
      ]
     },
     "execution_count": 27,
     "metadata": {},
     "output_type": "execute_result"
    }
   ],
   "source": [
    "df_abs[\"Abs_Production\"].value_counts()"
   ]
  },
  {
   "cell_type": "code",
   "execution_count": 28,
   "metadata": {},
   "outputs": [
    {
     "data": {
      "text/plain": [
       "FDM or FFF or EAM    68\n",
       "SLM or DMLS          31\n",
       "Name: Title_Production, dtype: int64"
      ]
     },
     "execution_count": 28,
     "metadata": {},
     "output_type": "execute_result"
    }
   ],
   "source": [
    "df_title[\"Title_Production\"].value_counts()"
   ]
  },
  {
   "cell_type": "code",
   "execution_count": 29,
   "metadata": {},
   "outputs": [
    {
     "data": {
      "text/plain": [
       "Ceramic    73\n",
       "Metal      20\n",
       "Polymer     6\n",
       "Name: Abs_Material, dtype: int64"
      ]
     },
     "execution_count": 29,
     "metadata": {},
     "output_type": "execute_result"
    }
   ],
   "source": [
    "df_abs[\"Abs_Material\"].value_counts()"
   ]
  },
  {
   "cell_type": "code",
   "execution_count": 30,
   "metadata": {},
   "outputs": [
    {
     "data": {
      "text/plain": [
       "Ceramic    56\n",
       "Metal      29\n",
       "Polymer    14\n",
       "Name: Title_Material, dtype: int64"
      ]
     },
     "execution_count": 30,
     "metadata": {},
     "output_type": "execute_result"
    }
   ],
   "source": [
    "df_title[\"Title_Material\"].value_counts()"
   ]
  },
  {
   "cell_type": "code",
   "execution_count": 31,
   "metadata": {},
   "outputs": [
    {
     "data": {
      "text/html": [
       "<div>\n",
       "<style scoped>\n",
       "    .dataframe tbody tr th:only-of-type {\n",
       "        vertical-align: middle;\n",
       "    }\n",
       "\n",
       "    .dataframe tbody tr th {\n",
       "        vertical-align: top;\n",
       "    }\n",
       "\n",
       "    .dataframe thead th {\n",
       "        text-align: right;\n",
       "    }\n",
       "</style>\n",
       "<table border=\"1\" class=\"dataframe\">\n",
       "  <thead>\n",
       "    <tr style=\"text-align: right;\">\n",
       "      <th></th>\n",
       "      <th>Titles</th>\n",
       "      <th>Abstracts</th>\n",
       "      <th>Abs_Production</th>\n",
       "      <th>Abs_Production_score</th>\n",
       "      <th>Abs_Material</th>\n",
       "      <th>Abs_Material_score</th>\n",
       "    </tr>\n",
       "  </thead>\n",
       "  <tbody>\n",
       "    <tr>\n",
       "      <td>0</td>\n",
       "      <td>3D gel-printing of zirconia ceramic parts</td>\n",
       "      <td>3D gel-printing (3DGP) is a new printing metho...</td>\n",
       "      <td>FDM or FFF or EAM</td>\n",
       "      <td>0.881961</td>\n",
       "      <td>Ceramic</td>\n",
       "      <td>0.751230</td>\n",
       "    </tr>\n",
       "    <tr>\n",
       "      <td>1</td>\n",
       "      <td>3D Printed Glass Surface Finish and Bulk Prope...</td>\n",
       "      <td>It is impossible to print glass directly from ...</td>\n",
       "      <td>FDM or FFF or EAM</td>\n",
       "      <td>0.861991</td>\n",
       "      <td>Ceramic</td>\n",
       "      <td>0.713428</td>\n",
       "    </tr>\n",
       "    <tr>\n",
       "      <td>2</td>\n",
       "      <td>3D printing of ceramics A review</td>\n",
       "      <td>Along with extensive research on the three-dim...</td>\n",
       "      <td>FDM or FFF or EAM</td>\n",
       "      <td>0.883376</td>\n",
       "      <td>Ceramic</td>\n",
       "      <td>0.756373</td>\n",
       "    </tr>\n",
       "    <tr>\n",
       "      <td>3</td>\n",
       "      <td>3D Printing of Continuous-Fiber Composites by ...</td>\n",
       "      <td>We have developed a method for the three-dimen...</td>\n",
       "      <td>FDM or FFF or EAM</td>\n",
       "      <td>0.905677</td>\n",
       "      <td>Polymer</td>\n",
       "      <td>0.715738</td>\n",
       "    </tr>\n",
       "    <tr>\n",
       "      <td>4</td>\n",
       "      <td>3D Printing of Transparent Glass</td>\n",
       "      <td>Traditional assembly line manufacturing is spe...</td>\n",
       "      <td>FDM or FFF or EAM</td>\n",
       "      <td>0.939048</td>\n",
       "      <td>Ceramic</td>\n",
       "      <td>0.719551</td>\n",
       "    </tr>\n",
       "  </tbody>\n",
       "</table>\n",
       "</div>"
      ],
      "text/plain": [
       "                                              Titles  \\\n",
       "0          3D gel-printing of zirconia ceramic parts   \n",
       "1  3D Printed Glass Surface Finish and Bulk Prope...   \n",
       "2                   3D printing of ceramics A review   \n",
       "3  3D Printing of Continuous-Fiber Composites by ...   \n",
       "4                   3D Printing of Transparent Glass   \n",
       "\n",
       "                                           Abstracts     Abs_Production  \\\n",
       "0  3D gel-printing (3DGP) is a new printing metho...  FDM or FFF or EAM   \n",
       "1  It is impossible to print glass directly from ...  FDM or FFF or EAM   \n",
       "2  Along with extensive research on the three-dim...  FDM or FFF or EAM   \n",
       "3  We have developed a method for the three-dimen...  FDM or FFF or EAM   \n",
       "4  Traditional assembly line manufacturing is spe...  FDM or FFF or EAM   \n",
       "\n",
       "   Abs_Production_score Abs_Material  Abs_Material_score  \n",
       "0              0.881961      Ceramic            0.751230  \n",
       "1              0.861991      Ceramic            0.713428  \n",
       "2              0.883376      Ceramic            0.756373  \n",
       "3              0.905677      Polymer            0.715738  \n",
       "4              0.939048      Ceramic            0.719551  "
      ]
     },
     "execution_count": 31,
     "metadata": {},
     "output_type": "execute_result"
    }
   ],
   "source": [
    "df_abs.head()"
   ]
  },
  {
   "cell_type": "code",
   "execution_count": 32,
   "metadata": {},
   "outputs": [
    {
     "data": {
      "text/html": [
       "<div>\n",
       "<style scoped>\n",
       "    .dataframe tbody tr th:only-of-type {\n",
       "        vertical-align: middle;\n",
       "    }\n",
       "\n",
       "    .dataframe tbody tr th {\n",
       "        vertical-align: top;\n",
       "    }\n",
       "\n",
       "    .dataframe thead th {\n",
       "        text-align: right;\n",
       "    }\n",
       "</style>\n",
       "<table border=\"1\" class=\"dataframe\">\n",
       "  <thead>\n",
       "    <tr style=\"text-align: right;\">\n",
       "      <th></th>\n",
       "      <th>Titles</th>\n",
       "      <th>Abstracts</th>\n",
       "      <th>Title_Production</th>\n",
       "      <th>Title_Production_score</th>\n",
       "      <th>Title_Material</th>\n",
       "      <th>Title_Material_score</th>\n",
       "    </tr>\n",
       "  </thead>\n",
       "  <tbody>\n",
       "    <tr>\n",
       "      <td>0</td>\n",
       "      <td>3D gel-printing of zirconia ceramic parts</td>\n",
       "      <td>3D gel-printing (3DGP) is a new printing metho...</td>\n",
       "      <td>FDM or FFF or EAM</td>\n",
       "      <td>0.892678</td>\n",
       "      <td>Ceramic</td>\n",
       "      <td>0.769095</td>\n",
       "    </tr>\n",
       "    <tr>\n",
       "      <td>1</td>\n",
       "      <td>3D Printed Glass Surface Finish and Bulk Prope...</td>\n",
       "      <td>It is impossible to print glass directly from ...</td>\n",
       "      <td>FDM or FFF or EAM</td>\n",
       "      <td>0.864877</td>\n",
       "      <td>Ceramic</td>\n",
       "      <td>0.711444</td>\n",
       "    </tr>\n",
       "    <tr>\n",
       "      <td>2</td>\n",
       "      <td>3D printing of ceramics A review</td>\n",
       "      <td>Along with extensive research on the three-dim...</td>\n",
       "      <td>FDM or FFF or EAM</td>\n",
       "      <td>0.898858</td>\n",
       "      <td>Ceramic</td>\n",
       "      <td>0.778722</td>\n",
       "    </tr>\n",
       "    <tr>\n",
       "      <td>3</td>\n",
       "      <td>3D Printing of Continuous-Fiber Composites by ...</td>\n",
       "      <td>We have developed a method for the three-dimen...</td>\n",
       "      <td>FDM or FFF or EAM</td>\n",
       "      <td>0.880182</td>\n",
       "      <td>Polymer</td>\n",
       "      <td>0.717929</td>\n",
       "    </tr>\n",
       "    <tr>\n",
       "      <td>4</td>\n",
       "      <td>3D Printing of Transparent Glass</td>\n",
       "      <td>Traditional assembly line manufacturing is spe...</td>\n",
       "      <td>FDM or FFF or EAM</td>\n",
       "      <td>0.900735</td>\n",
       "      <td>Ceramic</td>\n",
       "      <td>0.726451</td>\n",
       "    </tr>\n",
       "  </tbody>\n",
       "</table>\n",
       "</div>"
      ],
      "text/plain": [
       "                                              Titles  \\\n",
       "0          3D gel-printing of zirconia ceramic parts   \n",
       "1  3D Printed Glass Surface Finish and Bulk Prope...   \n",
       "2                   3D printing of ceramics A review   \n",
       "3  3D Printing of Continuous-Fiber Composites by ...   \n",
       "4                   3D Printing of Transparent Glass   \n",
       "\n",
       "                                           Abstracts   Title_Production  \\\n",
       "0  3D gel-printing (3DGP) is a new printing metho...  FDM or FFF or EAM   \n",
       "1  It is impossible to print glass directly from ...  FDM or FFF or EAM   \n",
       "2  Along with extensive research on the three-dim...  FDM or FFF or EAM   \n",
       "3  We have developed a method for the three-dimen...  FDM or FFF or EAM   \n",
       "4  Traditional assembly line manufacturing is spe...  FDM or FFF or EAM   \n",
       "\n",
       "   Title_Production_score Title_Material  Title_Material_score  \n",
       "0                0.892678        Ceramic              0.769095  \n",
       "1                0.864877        Ceramic              0.711444  \n",
       "2                0.898858        Ceramic              0.778722  \n",
       "3                0.880182        Polymer              0.717929  \n",
       "4                0.900735        Ceramic              0.726451  "
      ]
     },
     "execution_count": 32,
     "metadata": {},
     "output_type": "execute_result"
    }
   ],
   "source": [
    "df_title.head()"
   ]
  },
  {
   "cell_type": "code",
   "execution_count": 46,
   "metadata": {},
   "outputs": [],
   "source": [
    "import seaborn as sns\n",
    "from sklearn.decomposition import PCA\n",
    "import matplotlib.pyplot as plt\n",
    "\n",
    "X= []\n",
    "\n",
    "for text in tfidf_words_title:\n",
    "    X.append(ft_model.get_sentence_vector(text))\n",
    "\n",
    "pca = PCA(n_components=2)\n",
    "X_reduced = pca.fit_transform(X)\n",
    "\n",
    "pca_df = pd.DataFrame(index=title_list,columns=['First Component','Second Component'],data=X_reduced)\n",
    "pca_df[\"Labels\"] = df_title[\"Title_Material\"].values"
   ]
  },
  {
   "cell_type": "code",
   "execution_count": 47,
   "metadata": {},
   "outputs": [
    {
     "data": {
      "image/png": "[encoded data removed]",
      "text/plain": [
       "<Figure size 720x720 with 1 Axes>"
      ]
     },
     "metadata": {
      "needs_background": "light"
     },
     "output_type": "display_data"
    }
   ],
   "source": [
    "fig, ax = plt.subplots(figsize=(10,10))\n",
    "ax = sns.scatterplot(x=pca_df['First Component'],y=pca_df['Second Component'],hue=pca_df['Labels'],palette ='Set1')"
   ]
  },
  {
   "cell_type": "code",
   "execution_count": 35,
   "metadata": {},
   "outputs": [],
   "source": [
    "# def vis_docs(abs_n,title_n,doc_type): # Tuple , number, number, list\n",
    "    \n",
    "#     # Tfidf for abstracts\n",
    "#     vec_abs = TfidfVectorizer(max_df=0.9,min_df=2,stop_words='english',max_features=100,ngram_range=(1,2))\n",
    "#     vec_abs.fit(pdfs)\n",
    "\n",
    "#     # Tfidf for titles\n",
    "#     vec_title = TfidfVectorizer(max_df=0.9,min_df=2,stop_words='english',max_features=100,ngram_range=(1,2))\n",
    "#     vec_title.fit(titles)\n",
    "    \n",
    "#     tfidf_words_abstract = []\n",
    "\n",
    "#     for abstract in pdfs:\n",
    "#         tfidf_words_abstract.append(\" \".join(find_top_n(abstract,vec_abs,abs_n)))\n",
    "\n",
    "#     tfidf_words_title = []\n",
    "\n",
    "#     for title in titles:\n",
    "#         tfidf_words_title.append(\" \".join(find_top_n(title,vec_title,title_n)))\n",
    "        \n",
    "#     abs_production , abs_production_cos_score = pro_labeling(tfidf_words_abstract)\n",
    "#     abs_material , abs_material_cos_score = mat_labeling(tfidf_words_abstract)\n",
    "#     df_abs = create_df_abs()\n",
    "\n",
    "#     title_production , title_production_cos_score = pro_labeling(tfidf_words_title)\n",
    "#     title_material , title_material_cos_score = mat_labeling(tfidf_words_title)\n",
    "#     df_title = create_df_title()\n",
    "    \n",
    "#     X= []\n",
    "\n",
    "#     for text in doc_type:\n",
    "#         X.append(ft_model.get_sentence_vector(text))\n",
    "\n",
    "#     pca = PCA(n_components=2)\n",
    "#     X_reduced = pca.fit_transform(X)\n",
    "\n",
    "#     pca_df = pd.DataFrame(index=title_list,columns=['First Component','Second Component'],data=X_reduced)\n",
    "#     pca_df[\"Labels\"] = df_title[\"Title_Material\"].values\n",
    "    \n",
    "#     fig, ax = plt.subplots(figsize=(10,10))\n",
    "#     ax = sns.scatterplot(x=pca_df['First Component'],y=pca_df['Second Component'],hue=pca_df['Labels'],palette ='Set1')\n",
    "    \n",
    "#     return df_abs , df_title "
   ]
  },
  {
   "cell_type": "code",
   "execution_count": 36,
   "metadata": {},
   "outputs": [],
   "source": [
    "# df_abs , df_title = vis_docs(abs_n=20,title_n=10,doc_type=tfidf_words_abstract)"
   ]
  },
  {
   "cell_type": "code",
   "execution_count": 37,
   "metadata": {},
   "outputs": [],
   "source": [
    "# df_2 = df_2.drop('que',axis=1)"
   ]
  },
  {
   "cell_type": "code",
   "execution_count": 38,
   "metadata": {},
   "outputs": [],
   "source": [
    "# def que(x):\n",
    "#     if x['Material_title'] == x['Material_abstract']:\n",
    "#         return True\n",
    "#     else:\n",
    "#         return False\n",
    "    \n",
    "# df_2['que'] = df_2.apply(que, axis=1)"
   ]
  },
  {
   "cell_type": "code",
   "execution_count": 39,
   "metadata": {},
   "outputs": [],
   "source": [
    "# df_2['que'].apply(lambda x:\"x['que']\" ,if x ==\"Ceramic\",axis=1)"
   ]
  },
  {
   "cell_type": "code",
   "execution_count": 40,
   "metadata": {},
   "outputs": [],
   "source": [
    "# sum(df_2['que'])"
   ]
  },
  {
   "cell_type": "code",
   "execution_count": 41,
   "metadata": {},
   "outputs": [],
   "source": [
    "# df_2 = df_2[['Titles','Abstracts','Material_abstract','Material_abstract_score','Material_title','Material_title_score','que']]"
   ]
  },
  {
   "cell_type": "code",
   "execution_count": 42,
   "metadata": {},
   "outputs": [],
   "source": [
    "# df_2 = df_2.drop(['que'],axis=1)"
   ]
  },
  {
   "cell_type": "code",
   "execution_count": 43,
   "metadata": {},
   "outputs": [],
   "source": [
    "# df_2.to_excel(\"recent_results.xlsx\")"
   ]
  },
  {
   "cell_type": "code",
   "execution_count": 44,
   "metadata": {},
   "outputs": [],
   "source": [
    "# def r(x):\n",
    "#     return round(x,2)\n",
    "\n",
    "# df_2[\"Material_title_score\"] = df_2[\"Material_title_score\"].apply(lambda x:round(x,2))\n",
    "# df_2[\"Production_title_score\"] = df_2[\"Production_title_score\"].apply(lambda x:round(x,2))"
   ]
  },
  {
   "cell_type": "code",
   "execution_count": 45,
   "metadata": {},
   "outputs": [],
   "source": [
    "# temizlemeden bakilabilri aynimi diye\n",
    "# yuksek olan abs ve titledan birseltirielbilir\n",
    "# tfidf word sayilariyla oynanabilir\n",
    "\n",
    "# https://www.datacamp.com/community/tutorials/stemming-lemmatization-python"
   ]
  },
  {
   "cell_type": "code",
   "execution_count": null,
   "metadata": {},
   "outputs": [],
   "source": []
  }
 ],
 "metadata": {
  "kernelspec": {
   "display_name": "Python 3",
   "language": "python",
   "name": "python3"
  },
  "language_info": {
   "codemirror_mode": {
    "name": "ipython",
    "version": 3
   },
   "file_extension": ".py",
   "mimetype": "text/x-python",
   "name": "python",
   "nbconvert_exporter": "python",
   "pygments_lexer": "ipython3",
   "version": "3.7.4"
  }
 },
 "nbformat": 4,
 "nbformat_minor": 2
}
