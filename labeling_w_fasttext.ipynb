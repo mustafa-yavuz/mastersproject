{
 "cells": [
  {
   "cell_type": "code",
   "execution_count": 1,
   "metadata": {},
   "outputs": [],
   "source": [
    "import numpy as np\n",
    "import pandas as pd\n",
    "import pickle, os\n",
    "import spacy\n",
    "import fasttext\n",
    "\n",
    "from tqdm.auto import tqdm, trange\n",
    "from scipy.spatial.distance import cosine\n",
    "\n",
    "from utils import embedding, get_embedding, text_cleaning, find_top_n , tfidf_sentences\n",
    "\n",
    "from sklearn.feature_extraction.text import TfidfVectorizer"
   ]
  },
  {
   "cell_type": "markdown",
   "metadata": {},
   "source": [
    "### Preprocessing"
   ]
  },
  {
   "cell_type": "code",
   "execution_count": 2,
   "metadata": {},
   "outputs": [],
   "source": [
    "# Loading spacy nlp model\n",
    "nlp = spacy.load(\"en_core_web_sm\")"
   ]
  },
  {
   "cell_type": "code",
   "execution_count": 3,
   "metadata": {},
   "outputs": [],
   "source": [
    "# Getting the titles from file names\n",
    "title_list = []\n",
    "\n",
    "for file in os.listdir(\"Local pdf text files\"):\n",
    "  if file.endswith(\".txt\"):\n",
    "    title_list.append(file.split(\".\")[0])"
   ]
  },
  {
   "cell_type": "code",
   "execution_count": 4,
   "metadata": {},
   "outputs": [],
   "source": [
    "# Getting the text from local text files\n",
    "pdf_list = []\n",
    "    \n",
    "for file in os.listdir(\"Local pdf text files\"):\n",
    "  if file.endswith(\".txt\"):\n",
    "    with open(\"Local pdf text files/\"+file,\"r\",encoding=\"utf8\") as f:\n",
    "        pdf_list.append(f.read())"
   ]
  },
  {
   "cell_type": "code",
   "execution_count": 5,
   "metadata": {},
   "outputs": [],
   "source": [
    "# cleaning text and titles\n",
    "pdfs = list(map(lambda x: text_cleaning(x,nlp), pdf_list))\n",
    "titles = list(map(lambda x: text_cleaning(x,nlp), title_list))\n",
    "\n",
    "# lemmatization\n",
    "pdfs = list(map(lambda x: ' '.join([token.lemma_ for token in x]), pdfs))\n",
    "titles = list(map(lambda x: ' '.join([token.lemma_ for token in x]), titles))\n",
    "\n",
    "# removing PRON after lemmatization\n",
    "pdfs = list(map(lambda x: x.replace(\"-PRON-\",\"\"), pdfs))\n",
    "titles = list(map(lambda x: x.replace(\"-PRON-\",\"\"), titles))"
   ]
  },
  {
   "cell_type": "code",
   "execution_count": 6,
   "metadata": {},
   "outputs": [
    {
     "data": {
      "text/plain": [
       "TfidfVectorizer(analyzer='word', binary=False, decode_error='strict',\n",
       "                dtype=<class 'numpy.float64'>, encoding='utf-8',\n",
       "                input='content', lowercase=True, max_df=0.9, max_features=None,\n",
       "                min_df=2, ngram_range=(1, 1), norm='l2', preprocessor=None,\n",
       "                smooth_idf=True, stop_words='english', strip_accents=None,\n",
       "                sublinear_tf=False, token_pattern='(?u)\\\\b\\\\w\\\\w+\\\\b',\n",
       "                tokenizer=None, use_idf=True, vocabulary=None)"
      ]
     },
     "execution_count": 6,
     "metadata": {},
     "output_type": "execute_result"
    }
   ],
   "source": [
    "# Tfidf for abstracts\n",
    "vec_abs = TfidfVectorizer(max_df=0.9,min_df=2,stop_words='english')\n",
    "vec_abs.fit(pdfs)\n",
    "\n",
    "# Tfidf for titles\n",
    "vec_title = TfidfVectorizer(max_df=0.9,min_df=2,stop_words='english')\n",
    "vec_title.fit(titles)"
   ]
  },
  {
   "cell_type": "markdown",
   "metadata": {},
   "source": [
    "### Model Installation"
   ]
  },
  {
   "cell_type": "code",
   "execution_count": 7,
   "metadata": {},
   "outputs": [],
   "source": [
    "path = \"crawl-300d-2M.vec\"\n",
    "\n",
    "with open('training_data.txt','w',encoding=\"utf-8\") as f:\n",
    "    f.write('\\n'.join(pdfs))\n",
    "\n",
    "train_data = 'training_data.txt'\n",
    "\n",
    "ft_model = fasttext.train_unsupervised(input=train_data, pretrainedVectors=path, dim=300)"
   ]
  },
  {
   "cell_type": "code",
   "execution_count": 8,
   "metadata": {},
   "outputs": [],
   "source": [
    "# Saving the model\n",
    "#ft_model.save_model(\"ft_model.bin\")\n",
    "\n",
    "# Loading the model\n",
    "#ft_model = fasttext.load_model(\"ft_model.bin\")"
   ]
  },
  {
   "cell_type": "markdown",
   "metadata": {},
   "source": [
    "### Labels"
   ]
  },
  {
   "cell_type": "code",
   "execution_count": 9,
   "metadata": {},
   "outputs": [
    {
     "data": {
      "application/vnd.jupyter.widget-view+json": {
       "model_id": "22b6764650fc491da29093c6adf0e663",
       "version_major": 2,
       "version_minor": 0
      },
      "text/plain": [
       "HBox(children=(IntProgress(value=0, max=99), HTML(value='')))"
      ]
     },
     "metadata": {},
     "output_type": "display_data"
    },
    {
     "name": "stdout",
     "output_type": "stream",
     "text": [
      "\n"
     ]
    },
    {
     "data": {
      "application/vnd.jupyter.widget-view+json": {
       "model_id": "fdf1460a89ad4d9899a88419fe2757b2",
       "version_major": 2,
       "version_minor": 0
      },
      "text/plain": [
       "HBox(children=(IntProgress(value=0, max=99), HTML(value='')))"
      ]
     },
     "metadata": {},
     "output_type": "display_data"
    },
    {
     "name": "stdout",
     "output_type": "stream",
     "text": [
      "\n"
     ]
    }
   ],
   "source": [
    "# Creating sentences for each document with the strongest tfidf words\n",
    "\n",
    "tfidf_words_abstract = []\n",
    "\n",
    "for text in tqdm(pdfs):\n",
    "    tfidf_words_abstract.append(\" \".join(find_top_n(text,vec_abs,10)))\n",
    "    \n",
    "tfidf_words_title = []\n",
    "\n",
    "for text in tqdm(titles):\n",
    "    tfidf_words_title.append(\" \".join(find_top_n(text,vec_title,5)))"
   ]
  },
  {
   "cell_type": "code",
   "execution_count": 10,
   "metadata": {},
   "outputs": [
    {
     "data": {
      "text/plain": [
       "['ra µm sample prepare ceramic base rheological transverse zirconia vicker',\n",
       " 'glass cool firing salt size layer object lead different binder',\n",
       " 'printing ceramic late technical component present stock come highperformance advancement',\n",
       " 'fiber thermoplastic composite continuous unidirectional reinforcement carbon printer filament reinforce',\n",
       " 'resource glass costly major need material print handling recycle stock',\n",
       " 'manufacturing additive information technology industry make signiﬁcant cad process work',\n",
       " 'manufacturing additive customize area review impact time supply chain healthcare',\n",
       " 'code zirconia extrusion employ fabrication microstructural layer property stabilize pressure',\n",
       " 'fiberreinforce plastic carbon deposition composite fused model tensile process modeling',\n",
       " 'material progress field technology design formation new development ceramic base']"
      ]
     },
     "execution_count": 10,
     "metadata": {},
     "output_type": "execute_result"
    }
   ],
   "source": [
    "tfidf_words_abstract[:10]"
   ]
  },
  {
   "cell_type": "code",
   "execution_count": 11,
   "metadata": {},
   "outputs": [
    {
     "data": {
      "text/plain": [
       "['zirconia ceramic distribution electron evaluation',\n",
       " 'finish surface printing glass print',\n",
       " 'review print ceramic zirconia filament',\n",
       " 'composite print zirconia distribution electron',\n",
       " 'transparent glass print zirconia finish',\n",
       " 'review manufacturing additive finish electron',\n",
       " 'impact review manufacturing additive finish',\n",
       " 'density zirconia characterization manufacturing additive',\n",
       " 'tensile model effect fused deposition',\n",
       " 'base material ceramic manufacturing additive']"
      ]
     },
     "execution_count": 11,
     "metadata": {},
     "output_type": "execute_result"
    }
   ],
   "source": [
    "tfidf_words_title[:10]"
   ]
  },
  {
   "cell_type": "code",
   "execution_count": 12,
   "metadata": {},
   "outputs": [],
   "source": [
    "production_1 = ft_model.get_sentence_vector('selective laser melting')\n",
    "production_2 = ft_model.get_sentence_vector('direct metal laser sintering')\n",
    "\n",
    "production_3 = ft_model.get_sentence_vector('fused deposition modeling')\n",
    "production_4 = ft_model.get_sentence_vector('fused filament fabrication')\n",
    "production_5 = ft_model.get_sentence_vector('extrusion based additive manufacturing')\n",
    "\n",
    "metal = ft_model.get_sentence_vector('metal')\n",
    "ceramic = ft_model.get_sentence_vector('ceramic')\n",
    "polymer = ft_model.get_sentence_vector('polymer')\n",
    "\n",
    "# feature_1 = get_embedding('fracture toughness')\n",
    "# feature_2 = get_embedding('tensile strength')\n",
    "# feature_3 = get_embedding('yield strength')\n",
    "# feature_4 = get_embedding('elastic modulus')\n",
    "# feature_5 = get_embedding('strain fracture break')\n",
    "# feature_6 = get_embedding('weibull modulus')"
   ]
  },
  {
   "cell_type": "code",
   "execution_count": 13,
   "metadata": {},
   "outputs": [],
   "source": [
    "def pro_labeling(doc):\n",
    "    \n",
    "    production = []\n",
    "    production_cos_score = []\n",
    "    \n",
    "    for text in tqdm(doc):\n",
    "        \n",
    "        text = ft_model.get_sentence_vector(text)\n",
    "        \n",
    "        lbl= []\n",
    "\n",
    "        lbl.append(1-cosine(text,production_1))\n",
    "        lbl.append(1-cosine(text,production_2))\n",
    "        lbl.append(1-cosine(text,production_3))\n",
    "        lbl.append(1-cosine(text,production_4))\n",
    "        lbl.append(1-cosine(text,production_5))\n",
    "\n",
    "        if lbl.index(max(lbl))==0 or lbl.index(max(lbl))==1:\n",
    "            production.append('SLM or DMLS')\n",
    "            production_cos_score.append(max(lbl))\n",
    "        else:\n",
    "            production.append('FDM or FFF or EAM')\n",
    "            production_cos_score.append(max(lbl))\n",
    "    \n",
    "    return production , production_cos_score"
   ]
  },
  {
   "cell_type": "code",
   "execution_count": 14,
   "metadata": {},
   "outputs": [],
   "source": [
    "def mat_labeling(doc):\n",
    "\n",
    "    material = []  \n",
    "    material_cos_score = []\n",
    "\n",
    "    for text in tqdm(doc):\n",
    "        \n",
    "        text = ft_model.get_sentence_vector(text)\n",
    "        \n",
    "        lbl= []\n",
    "\n",
    "        lbl.append(1-cosine(text,metal))\n",
    "        lbl.append(1-cosine(text,ceramic))\n",
    "        lbl.append(1-cosine(text,polymer))\n",
    "\n",
    "        if lbl.index(max(lbl))==0:\n",
    "            material.append('Metal')\n",
    "            material_cos_score.append(max(lbl))\n",
    "        elif lbl.index(max(lbl))==1:\n",
    "            material.append('Ceramic')\n",
    "            material_cos_score.append(max(lbl))\n",
    "        else:\n",
    "            material.append('Polymer')\n",
    "            material_cos_score.append(max(lbl))\n",
    "    \n",
    "    return material , material_cos_score"
   ]
  },
  {
   "cell_type": "code",
   "execution_count": 15,
   "metadata": {},
   "outputs": [],
   "source": [
    "def create_df_abs():\n",
    "    \n",
    "    d_abs = {'Titles':title_list,\n",
    "         'Abstracts':pdf_list,\n",
    "         'Abs_Production':abs_production,\n",
    "         'Abs_Production_score':abs_production_cos_score,\n",
    "         'Abs_Material':abs_material,\n",
    "         'Abs_Material_score':abs_material_cos_score\n",
    "        }\n",
    "    \n",
    "    df = pd.DataFrame(d_abs)\n",
    "    #df[\"Production/Material\"] = df[\"Abs_Production\"] + \" / \" + df[\"Abs_Material\"]\n",
    "    \n",
    "    return df"
   ]
  },
  {
   "cell_type": "code",
   "execution_count": 16,
   "metadata": {},
   "outputs": [],
   "source": [
    "def create_df_title():\n",
    "    \n",
    "    d_title = {'Titles':title_list,\n",
    "         'Abstracts':pdf_list,\n",
    "         'Title_Production':title_production,\n",
    "         'Title_Production_score':title_production_cos_score,\n",
    "         'Title_Material':title_material,\n",
    "         'Title_Material_score':title_material_cos_score\n",
    "        }\n",
    "    \n",
    "    df = pd.DataFrame(d_title)\n",
    "    #df[\"Production/Material\"] = df[\"Title_Production\"] + \" / \" + df[\"Title_Material\"]\n",
    "    \n",
    "    return df"
   ]
  },
  {
   "cell_type": "markdown",
   "metadata": {},
   "source": [
    "### Labeling with abstracts and Titles"
   ]
  },
  {
   "cell_type": "code",
   "execution_count": 17,
   "metadata": {},
   "outputs": [
    {
     "data": {
      "application/vnd.jupyter.widget-view+json": {
       "model_id": "571d30922bec4e338f40f127f30c75dc",
       "version_major": 2,
       "version_minor": 0
      },
      "text/plain": [
       "HBox(children=(IntProgress(value=0, max=99), HTML(value='')))"
      ]
     },
     "metadata": {},
     "output_type": "display_data"
    },
    {
     "name": "stdout",
     "output_type": "stream",
     "text": [
      "\n"
     ]
    },
    {
     "data": {
      "application/vnd.jupyter.widget-view+json": {
       "model_id": "625b2b4c36bc4405bae37cd36c9919b4",
       "version_major": 2,
       "version_minor": 0
      },
      "text/plain": [
       "HBox(children=(IntProgress(value=0, max=99), HTML(value='')))"
      ]
     },
     "metadata": {},
     "output_type": "display_data"
    },
    {
     "name": "stdout",
     "output_type": "stream",
     "text": [
      "\n"
     ]
    },
    {
     "data": {
      "application/vnd.jupyter.widget-view+json": {
       "model_id": "89b77a1ba97b4ad4813b3776896c1a63",
       "version_major": 2,
       "version_minor": 0
      },
      "text/plain": [
       "HBox(children=(IntProgress(value=0, max=99), HTML(value='')))"
      ]
     },
     "metadata": {},
     "output_type": "display_data"
    },
    {
     "name": "stdout",
     "output_type": "stream",
     "text": [
      "\n"
     ]
    },
    {
     "data": {
      "application/vnd.jupyter.widget-view+json": {
       "model_id": "c0866141d6914b57b19b9c7623c350f2",
       "version_major": 2,
       "version_minor": 0
      },
      "text/plain": [
       "HBox(children=(IntProgress(value=0, max=99), HTML(value='')))"
      ]
     },
     "metadata": {},
     "output_type": "display_data"
    },
    {
     "name": "stdout",
     "output_type": "stream",
     "text": [
      "\n"
     ]
    }
   ],
   "source": [
    "abs_production , abs_production_cos_score = pro_labeling(tfidf_words_abstract)\n",
    "abs_material , abs_material_cos_score = mat_labeling(tfidf_words_abstract)\n",
    "df_abs = create_df_abs()\n",
    "\n",
    "title_production , title_production_cos_score = pro_labeling(tfidf_words_title)\n",
    "title_material , title_material_cos_score = mat_labeling(tfidf_words_title)\n",
    "df_title = create_df_title()"
   ]
  },
  {
   "cell_type": "code",
   "execution_count": 18,
   "metadata": {},
   "outputs": [
    {
     "data": {
      "text/plain": [
       "Ceramic    58\n",
       "Polymer    25\n",
       "Metal      16\n",
       "Name: Abs_Material, dtype: int64"
      ]
     },
     "execution_count": 18,
     "metadata": {},
     "output_type": "execute_result"
    }
   ],
   "source": [
    "df_abs[\"Abs_Material\"].value_counts()"
   ]
  },
  {
   "cell_type": "code",
   "execution_count": 19,
   "metadata": {},
   "outputs": [
    {
     "data": {
      "text/plain": [
       "Ceramic    63\n",
       "Polymer    22\n",
       "Metal      14\n",
       "Name: Title_Material, dtype: int64"
      ]
     },
     "execution_count": 19,
     "metadata": {},
     "output_type": "execute_result"
    }
   ],
   "source": [
    "df_title[\"Title_Material\"].value_counts()"
   ]
  },
  {
   "cell_type": "code",
   "execution_count": 20,
   "metadata": {},
   "outputs": [
    {
     "data": {
      "text/html": [
       "<div>\n",
       "<style scoped>\n",
       "    .dataframe tbody tr th:only-of-type {\n",
       "        vertical-align: middle;\n",
       "    }\n",
       "\n",
       "    .dataframe tbody tr th {\n",
       "        vertical-align: top;\n",
       "    }\n",
       "\n",
       "    .dataframe thead th {\n",
       "        text-align: right;\n",
       "    }\n",
       "</style>\n",
       "<table border=\"1\" class=\"dataframe\">\n",
       "  <thead>\n",
       "    <tr style=\"text-align: right;\">\n",
       "      <th></th>\n",
       "      <th>Titles</th>\n",
       "      <th>Abstracts</th>\n",
       "      <th>Abs_Production</th>\n",
       "      <th>Abs_Production_score</th>\n",
       "      <th>Abs_Material</th>\n",
       "      <th>Abs_Material_score</th>\n",
       "    </tr>\n",
       "  </thead>\n",
       "  <tbody>\n",
       "    <tr>\n",
       "      <td>0</td>\n",
       "      <td>3D gel-printing of zirconia ceramic parts</td>\n",
       "      <td>3D gel-printing (3DGP) is a new printing metho...</td>\n",
       "      <td>FDM or FFF or EAM</td>\n",
       "      <td>0.861564</td>\n",
       "      <td>Ceramic</td>\n",
       "      <td>0.746750</td>\n",
       "    </tr>\n",
       "    <tr>\n",
       "      <td>1</td>\n",
       "      <td>3D Printed Glass Surface Finish and Bulk Prope...</td>\n",
       "      <td>It is impossible to print glass directly from ...</td>\n",
       "      <td>FDM or FFF or EAM</td>\n",
       "      <td>0.832146</td>\n",
       "      <td>Ceramic</td>\n",
       "      <td>0.691518</td>\n",
       "    </tr>\n",
       "    <tr>\n",
       "      <td>2</td>\n",
       "      <td>3D printing of ceramics A review</td>\n",
       "      <td>Along with extensive research on the three-dim...</td>\n",
       "      <td>FDM or FFF or EAM</td>\n",
       "      <td>0.868318</td>\n",
       "      <td>Ceramic</td>\n",
       "      <td>0.779559</td>\n",
       "    </tr>\n",
       "    <tr>\n",
       "      <td>3</td>\n",
       "      <td>3D Printing of Continuous-Fiber Composites by ...</td>\n",
       "      <td>We have developed a method for the three-dimen...</td>\n",
       "      <td>FDM or FFF or EAM</td>\n",
       "      <td>0.860610</td>\n",
       "      <td>Polymer</td>\n",
       "      <td>0.730466</td>\n",
       "    </tr>\n",
       "    <tr>\n",
       "      <td>4</td>\n",
       "      <td>3D Printing of Transparent Glass</td>\n",
       "      <td>Traditional assembly line manufacturing is spe...</td>\n",
       "      <td>FDM or FFF or EAM</td>\n",
       "      <td>0.839091</td>\n",
       "      <td>Polymer</td>\n",
       "      <td>0.692131</td>\n",
       "    </tr>\n",
       "  </tbody>\n",
       "</table>\n",
       "</div>"
      ],
      "text/plain": [
       "                                              Titles  \\\n",
       "0          3D gel-printing of zirconia ceramic parts   \n",
       "1  3D Printed Glass Surface Finish and Bulk Prope...   \n",
       "2                   3D printing of ceramics A review   \n",
       "3  3D Printing of Continuous-Fiber Composites by ...   \n",
       "4                   3D Printing of Transparent Glass   \n",
       "\n",
       "                                           Abstracts     Abs_Production  \\\n",
       "0  3D gel-printing (3DGP) is a new printing metho...  FDM or FFF or EAM   \n",
       "1  It is impossible to print glass directly from ...  FDM or FFF or EAM   \n",
       "2  Along with extensive research on the three-dim...  FDM or FFF or EAM   \n",
       "3  We have developed a method for the three-dimen...  FDM or FFF or EAM   \n",
       "4  Traditional assembly line manufacturing is spe...  FDM or FFF or EAM   \n",
       "\n",
       "   Abs_Production_score Abs_Material  Abs_Material_score  \n",
       "0              0.861564      Ceramic            0.746750  \n",
       "1              0.832146      Ceramic            0.691518  \n",
       "2              0.868318      Ceramic            0.779559  \n",
       "3              0.860610      Polymer            0.730466  \n",
       "4              0.839091      Polymer            0.692131  "
      ]
     },
     "execution_count": 20,
     "metadata": {},
     "output_type": "execute_result"
    }
   ],
   "source": [
    "df_abs.head()"
   ]
  },
  {
   "cell_type": "code",
   "execution_count": 21,
   "metadata": {},
   "outputs": [
    {
     "data": {
      "text/html": [
       "<div>\n",
       "<style scoped>\n",
       "    .dataframe tbody tr th:only-of-type {\n",
       "        vertical-align: middle;\n",
       "    }\n",
       "\n",
       "    .dataframe tbody tr th {\n",
       "        vertical-align: top;\n",
       "    }\n",
       "\n",
       "    .dataframe thead th {\n",
       "        text-align: right;\n",
       "    }\n",
       "</style>\n",
       "<table border=\"1\" class=\"dataframe\">\n",
       "  <thead>\n",
       "    <tr style=\"text-align: right;\">\n",
       "      <th></th>\n",
       "      <th>Titles</th>\n",
       "      <th>Abstracts</th>\n",
       "      <th>Title_Production</th>\n",
       "      <th>Title_Production_score</th>\n",
       "      <th>Title_Material</th>\n",
       "      <th>Title_Material_score</th>\n",
       "    </tr>\n",
       "  </thead>\n",
       "  <tbody>\n",
       "    <tr>\n",
       "      <td>0</td>\n",
       "      <td>3D gel-printing of zirconia ceramic parts</td>\n",
       "      <td>3D gel-printing (3DGP) is a new printing metho...</td>\n",
       "      <td>FDM or FFF or EAM</td>\n",
       "      <td>0.836623</td>\n",
       "      <td>Ceramic</td>\n",
       "      <td>0.791198</td>\n",
       "    </tr>\n",
       "    <tr>\n",
       "      <td>1</td>\n",
       "      <td>3D Printed Glass Surface Finish and Bulk Prope...</td>\n",
       "      <td>It is impossible to print glass directly from ...</td>\n",
       "      <td>FDM or FFF or EAM</td>\n",
       "      <td>0.811190</td>\n",
       "      <td>Ceramic</td>\n",
       "      <td>0.681929</td>\n",
       "    </tr>\n",
       "    <tr>\n",
       "      <td>2</td>\n",
       "      <td>3D printing of ceramics A review</td>\n",
       "      <td>Along with extensive research on the three-dim...</td>\n",
       "      <td>FDM or FFF or EAM</td>\n",
       "      <td>0.863827</td>\n",
       "      <td>Ceramic</td>\n",
       "      <td>0.838977</td>\n",
       "    </tr>\n",
       "    <tr>\n",
       "      <td>3</td>\n",
       "      <td>3D Printing of Continuous-Fiber Composites by ...</td>\n",
       "      <td>We have developed a method for the three-dimen...</td>\n",
       "      <td>FDM or FFF or EAM</td>\n",
       "      <td>0.837679</td>\n",
       "      <td>Ceramic</td>\n",
       "      <td>0.702488</td>\n",
       "    </tr>\n",
       "    <tr>\n",
       "      <td>4</td>\n",
       "      <td>3D Printing of Transparent Glass</td>\n",
       "      <td>Traditional assembly line manufacturing is spe...</td>\n",
       "      <td>FDM or FFF or EAM</td>\n",
       "      <td>0.834935</td>\n",
       "      <td>Ceramic</td>\n",
       "      <td>0.699891</td>\n",
       "    </tr>\n",
       "  </tbody>\n",
       "</table>\n",
       "</div>"
      ],
      "text/plain": [
       "                                              Titles  \\\n",
       "0          3D gel-printing of zirconia ceramic parts   \n",
       "1  3D Printed Glass Surface Finish and Bulk Prope...   \n",
       "2                   3D printing of ceramics A review   \n",
       "3  3D Printing of Continuous-Fiber Composites by ...   \n",
       "4                   3D Printing of Transparent Glass   \n",
       "\n",
       "                                           Abstracts   Title_Production  \\\n",
       "0  3D gel-printing (3DGP) is a new printing metho...  FDM or FFF or EAM   \n",
       "1  It is impossible to print glass directly from ...  FDM or FFF or EAM   \n",
       "2  Along with extensive research on the three-dim...  FDM or FFF or EAM   \n",
       "3  We have developed a method for the three-dimen...  FDM or FFF or EAM   \n",
       "4  Traditional assembly line manufacturing is spe...  FDM or FFF or EAM   \n",
       "\n",
       "   Title_Production_score Title_Material  Title_Material_score  \n",
       "0                0.836623        Ceramic              0.791198  \n",
       "1                0.811190        Ceramic              0.681929  \n",
       "2                0.863827        Ceramic              0.838977  \n",
       "3                0.837679        Ceramic              0.702488  \n",
       "4                0.834935        Ceramic              0.699891  "
      ]
     },
     "execution_count": 21,
     "metadata": {},
     "output_type": "execute_result"
    }
   ],
   "source": [
    "df_title.head()"
   ]
  },
  {
   "cell_type": "code",
   "execution_count": 22,
   "metadata": {},
   "outputs": [],
   "source": [
    "# df_2 = df_2.drop('que',axis=1)"
   ]
  },
  {
   "cell_type": "code",
   "execution_count": 23,
   "metadata": {},
   "outputs": [],
   "source": [
    "# def que(x):\n",
    "#     if x['Material_title'] == x['Material_abstract']:\n",
    "#         return True\n",
    "#     else:\n",
    "#         return False\n",
    "    \n",
    "# df_2['que'] = df_2.apply(que, axis=1)"
   ]
  },
  {
   "cell_type": "code",
   "execution_count": 24,
   "metadata": {},
   "outputs": [],
   "source": [
    "# df_2['que'].apply(lambda x:\"x['que']\" ,if x ==\"Ceramic\",axis=1)"
   ]
  },
  {
   "cell_type": "code",
   "execution_count": 25,
   "metadata": {},
   "outputs": [],
   "source": [
    "# sum(df_2['que'])"
   ]
  },
  {
   "cell_type": "code",
   "execution_count": 26,
   "metadata": {},
   "outputs": [],
   "source": [
    "# df_2 = df_2[['Titles','Abstracts','Material_abstract','Material_abstract_score','Material_title','Material_title_score','que']]"
   ]
  },
  {
   "cell_type": "code",
   "execution_count": 27,
   "metadata": {},
   "outputs": [],
   "source": [
    "# df_2 = df_2.drop(['que'],axis=1)"
   ]
  },
  {
   "cell_type": "code",
   "execution_count": 28,
   "metadata": {},
   "outputs": [],
   "source": [
    "# df_2.to_excel(\"recent_results.xlsx\")"
   ]
  },
  {
   "cell_type": "code",
   "execution_count": 29,
   "metadata": {},
   "outputs": [],
   "source": [
    "# def r(x):\n",
    "#     return round(x,2)\n",
    "\n",
    "# df_2[\"Material_title_score\"] = df_2[\"Material_title_score\"].apply(lambda x:round(x,2))\n",
    "# df_2[\"Production_title_score\"] = df_2[\"Production_title_score\"].apply(lambda x:round(x,2))"
   ]
  },
  {
   "cell_type": "code",
   "execution_count": null,
   "metadata": {},
   "outputs": [],
   "source": []
  }
 ],
 "metadata": {
  "kernelspec": {
   "display_name": "Python 3",
   "language": "python",
   "name": "python3"
  },
  "language_info": {
   "codemirror_mode": {
    "name": "ipython",
    "version": 3
   },
   "file_extension": ".py",
   "mimetype": "text/x-python",
   "name": "python",
   "nbconvert_exporter": "python",
   "pygments_lexer": "ipython3",
   "version": "3.7.4"
  }
 },
 "nbformat": 4,
 "nbformat_minor": 2
}
