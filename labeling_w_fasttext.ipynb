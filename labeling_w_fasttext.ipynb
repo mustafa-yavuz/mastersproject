{
 "cells": [
  {
   "cell_type": "code",
   "execution_count": 1,
   "metadata": {},
   "outputs": [],
   "source": [
    "import numpy as np\n",
    "import pandas as pd\n",
    "import pickle, os\n",
    "import spacy\n",
    "import fasttext\n",
    "import re\n",
    "\n",
    "from tqdm.auto import tqdm, trange\n",
    "from scipy.spatial.distance import cosine\n",
    "\n",
    "from utils import find_top_n, pro_labeling ,mat_labeling, text_cleaning\n",
    "\n",
    "\n",
    "from sklearn.feature_extraction.text import TfidfVectorizer"
   ]
  },
  {
   "cell_type": "code",
   "execution_count": 2,
   "metadata": {},
   "outputs": [],
   "source": [
    "import seaborn as sns\n",
    "from sklearn.decomposition import PCA\n",
    "import matplotlib.pyplot as plt"
   ]
  },
  {
   "cell_type": "markdown",
   "metadata": {},
   "source": [
    "### Preprocessing"
   ]
  },
  {
   "cell_type": "code",
   "execution_count": 3,
   "metadata": {},
   "outputs": [],
   "source": [
    "# Loading spacy nlp model\n",
    "spacy_model = spacy.load(\"en_core_web_sm\")"
   ]
  },
  {
   "cell_type": "code",
   "execution_count": 4,
   "metadata": {},
   "outputs": [],
   "source": [
    "# Getting the titles from file names\n",
    "title_list = []\n",
    "\n",
    "for file in os.listdir(\"Local pdf text files\"):\n",
    "  if file.endswith(\".txt\"):\n",
    "    title_list.append(file.split(\".\")[0])"
   ]
  },
  {
   "cell_type": "code",
   "execution_count": 5,
   "metadata": {},
   "outputs": [],
   "source": [
    "# Getting the text from local text files\n",
    "pdf_list = []\n",
    "    \n",
    "for file in os.listdir(\"Local pdf text files\"):\n",
    "  if file.endswith(\".txt\"):\n",
    "    with open(\"Local pdf text files/\"+file,\"r\",encoding=\"utf8\") as f:\n",
    "        pdf_list.append(f.read())"
   ]
  },
  {
   "cell_type": "code",
   "execution_count": 6,
   "metadata": {},
   "outputs": [],
   "source": [
    "pdfs = list(map(lambda x: text_cleaning(x,spacy_model), pdf_list))\n",
    "titles = list(map(lambda x: text_cleaning(x,spacy_model), title_list))"
   ]
  },
  {
   "cell_type": "code",
   "execution_count": 7,
   "metadata": {},
   "outputs": [],
   "source": [
    "# Concatenating pdfs and titles for tfidf\n",
    "pdf_title = pdfs.copy() \n",
    "for text in titles:\n",
    "    pdf_title.append(text)"
   ]
  },
  {
   "cell_type": "code",
   "execution_count": 8,
   "metadata": {},
   "outputs": [
    {
     "data": {
      "text/plain": [
       "198"
      ]
     },
     "execution_count": 8,
     "metadata": {},
     "output_type": "execute_result"
    }
   ],
   "source": [
    "len(pdf_title)"
   ]
  },
  {
   "cell_type": "code",
   "execution_count": 9,
   "metadata": {},
   "outputs": [
    {
     "data": {
      "text/plain": [
       "TfidfVectorizer(analyzer='word', binary=False, decode_error='strict',\n",
       "                dtype=<class 'numpy.float64'>, encoding='utf-8',\n",
       "                input='content', lowercase=True, max_df=0.9, max_features=None,\n",
       "                min_df=2, ngram_range=(1, 2), norm='l2', preprocessor=None,\n",
       "                smooth_idf=True, stop_words='english', strip_accents=None,\n",
       "                sublinear_tf=False, token_pattern='(?u)\\\\b\\\\w\\\\w+\\\\b',\n",
       "                tokenizer=None, use_idf=True, vocabulary=None)"
      ]
     },
     "execution_count": 9,
     "metadata": {},
     "output_type": "execute_result"
    }
   ],
   "source": [
    "# Tfidf for abstracts\n",
    "vec = TfidfVectorizer(max_df=0.9,min_df=2,stop_words='english',ngram_range=(1, 2))\n",
    "vec.fit(pdf_title)\n",
    "\n",
    "# Tfidf for titles\n",
    "#vec_title = TfidfVectorizer(max_df=0.9,min_df=2,stop_words='english',max_features=100,ngram_range=(1, 2))\n",
    "#vec_abs.fit(titles)"
   ]
  },
  {
   "cell_type": "code",
   "execution_count": 10,
   "metadata": {},
   "outputs": [],
   "source": [
    "#np.array(vec_abs.get_feature_names())"
   ]
  },
  {
   "cell_type": "code",
   "execution_count": 11,
   "metadata": {},
   "outputs": [],
   "source": [
    "# # np.array(vec_abs.get_feature_names())\n",
    "# arr1 = X[0].toarray()\n",
    "# arr2 = X[1].toarray()"
   ]
  },
  {
   "cell_type": "code",
   "execution_count": 12,
   "metadata": {},
   "outputs": [],
   "source": [
    "# 1-cosine(cer,arr2)"
   ]
  },
  {
   "cell_type": "code",
   "execution_count": 13,
   "metadata": {},
   "outputs": [],
   "source": [
    "# cer = \"A ceramic is a solid material comprising an inorganic compound of metal or metalloid and non-metal with ionic or covalent bonds. Common examples are earthenware, porcelain, and brick.\"\n",
    "# y = vec_abs.transform([cer])"
   ]
  },
  {
   "cell_type": "code",
   "execution_count": 14,
   "metadata": {},
   "outputs": [],
   "source": [
    "# cer = y.toarray()"
   ]
  },
  {
   "cell_type": "markdown",
   "metadata": {},
   "source": [
    "### Model Installation"
   ]
  },
  {
   "cell_type": "code",
   "execution_count": 15,
   "metadata": {},
   "outputs": [],
   "source": [
    "# path = \"crawl-300d-2M.vec\"\n",
    "\n",
    "# with open('training_data_local_pdf.txt','w',encoding=\"utf-8\") as f:\n",
    "#       f.write('\\n'.join(pdf_title))\n",
    "\n",
    "# train_data = 'training_data_local_pdf.txt'\n",
    "\n",
    "# ft_model = fasttext.train_unsupervised(input=train_data, pretrainedVectors=path, dim=300)"
   ]
  },
  {
   "cell_type": "code",
   "execution_count": 16,
   "metadata": {},
   "outputs": [
    {
     "name": "stderr",
     "output_type": "stream",
     "text": [
      "Warning : `load_model` does not return WordVectorModel or SupervisedModel any more, but a `FastText` object which is very similar.\n"
     ]
    }
   ],
   "source": [
    "# Saving the model\n",
    "#ft_model.save_model(\"ft_model_local_pdfs.bin\")\n",
    "\n",
    "# Loading the model\n",
    "ft_model = fasttext.load_model(\"ft_model_local_pdfs.bin\")"
   ]
  },
  {
   "cell_type": "markdown",
   "metadata": {},
   "source": [
    "### Labels"
   ]
  },
  {
   "cell_type": "code",
   "execution_count": 17,
   "metadata": {},
   "outputs": [
    {
     "data": {
      "application/vnd.jupyter.widget-view+json": {
       "model_id": "e58f5588b6df4e968a81c1cb2a00952e",
       "version_major": 2,
       "version_minor": 0
      },
      "text/plain": [
       "HBox(children=(IntProgress(value=0, max=99), HTML(value='')))"
      ]
     },
     "metadata": {},
     "output_type": "display_data"
    },
    {
     "name": "stdout",
     "output_type": "stream",
     "text": [
      "\n"
     ]
    },
    {
     "data": {
      "application/vnd.jupyter.widget-view+json": {
       "model_id": "3c372127cce442d8aa0bbc82f116013d",
       "version_major": 2,
       "version_minor": 0
      },
      "text/plain": [
       "HBox(children=(IntProgress(value=0, max=99), HTML(value='')))"
      ]
     },
     "metadata": {},
     "output_type": "display_data"
    },
    {
     "name": "stdout",
     "output_type": "stream",
     "text": [
      "\n"
     ]
    }
   ],
   "source": [
    "# Creating sentences for each document with the strongest tfidf words\n",
    "\n",
    "tfidf_words_abstract = []\n",
    "\n",
    "for abstract in tqdm(pdfs):\n",
    "    tfidf_words_abstract.append(\" \".join(find_top_n(abstract,vec,20)))\n",
    "    \n",
    "tfidf_words_title = []\n",
    "\n",
    "for title in tqdm(titles):\n",
    "    tfidf_words_title.append(\" \".join(find_top_n(title,vec,10)))"
   ]
  },
  {
   "cell_type": "code",
   "execution_count": 18,
   "metadata": {},
   "outputs": [
    {
     "data": {
      "text/plain": [
       "['base ra sample water prepare printing ceramic density vicker rheological transverse gel process base hydroxyethyl study process gel printing sintered printing method gpa mpa zirconia ceramic volume fraction',\n",
       " 'glass cool firing salt hydroxyethyl size different lead object layer binder pore temperature material shape increase sample porosity melt remove',\n",
       " 'ceramic printing late technical ceramic component present technique component process control extensive make technique ability fabricate challenging come stock advancement form mechanism performance ceramic survey various type',\n",
       " 'fiber thermoplastic continuous fiber reinforce continuous unidirectional reinforcement composite carbon fiber printer print carbon filament use fabrication base natural supply fiber reinforcement composite fabrication',\n",
       " 'resource glass costly silica major need material base stock expense recycle handling substantial shortage place printing method assembly advance path base printing']"
      ]
     },
     "execution_count": 18,
     "metadata": {},
     "output_type": "execute_result"
    }
   ],
   "source": [
    "tfidf_words_abstract[:5]"
   ]
  },
  {
   "cell_type": "code",
   "execution_count": 19,
   "metadata": {},
   "outputs": [
    {
     "data": {
      "text/plain": [
       "['gel printing gel zirconia ceramic zirconia printing ceramic distribution fdm process far fashion',\n",
       " 'printing process surface finish finish function print glass bulk printing glass surface print',\n",
       " 'review print ceramic failure behaviour far fashion fast fatigue fatigue crack fdc',\n",
       " 'print continuous fiber composite nozzle continuous fiber continuous fiber composite print fdm paper fabricate',\n",
       " 'transparent glass transparent glass print zone fdm make failure behaviour failure mode far fashion']"
      ]
     },
     "execution_count": 19,
     "metadata": {},
     "output_type": "execute_result"
    }
   ],
   "source": [
    "tfidf_words_title[:5]"
   ]
  },
  {
   "cell_type": "code",
   "execution_count": 20,
   "metadata": {},
   "outputs": [
    {
     "data": {
      "text/plain": [
       "['ability fabricate',\n",
       " 'abs fabricate',\n",
       " 'accuracy surface',\n",
       " 'acid pla',\n",
       " 'acrylonitrile butadiene',\n",
       " 'add material',\n",
       " 'additive manufacture',\n",
       " 'additive manufacturing',\n",
       " 'additively manufacture',\n",
       " 'address issue',\n",
       " 'advanced ceramic',\n",
       " 'aid design',\n",
       " 'air gap',\n",
       " 'allow design',\n",
       " 'allow fabrication',\n",
       " 'allow production',\n",
       " 'alloy fabricate',\n",
       " 'alloy powder',\n",
       " 'alloy produce',\n",
       " 'alumina suspension',\n",
       " 'aluminide process',\n",
       " 'aluminum alloy',\n",
       " 'analysis use',\n",
       " 'analysis variance',\n",
       " 'angle raster',\n",
       " 'anisotropic material',\n",
       " 'anisotropic mechanical',\n",
       " 'anisotropic microstructure',\n",
       " 'anneal procedure',\n",
       " 'apatite wollastonite',\n",
       " 'application fdm',\n",
       " 'approach present',\n",
       " 'aqueous alumina',\n",
       " 'architectural design',\n",
       " 'assess use',\n",
       " 'base central',\n",
       " 'base material',\n",
       " 'base powder',\n",
       " 'base printing',\n",
       " 'beam melt',\n",
       " 'beam melting',\n",
       " 'bed fusion',\n",
       " 'behavior deposit',\n",
       " 'ber reinforce',\n",
       " 'bimodal powder',\n",
       " 'bind mechanism',\n",
       " 'bioactive glass',\n",
       " 'bioactivity test',\n",
       " 'biomedical application',\n",
       " 'build direction',\n",
       " 'build heat',\n",
       " 'build layer',\n",
       " 'build orientation',\n",
       " 'build parameter',\n",
       " 'bulk density',\n",
       " 'bulk material',\n",
       " 'bulk sample',\n",
       " 'butadiene styrene',\n",
       " 'cad model',\n",
       " 'cad software',\n",
       " 'calcium phosphate',\n",
       " 'calvarial defect',\n",
       " 'capable fabricate',\n",
       " 'carbon fiber',\n",
       " 'carbon glass',\n",
       " 'carry determine',\n",
       " 'cast sample',\n",
       " 'cell size',\n",
       " 'cellular lattice',\n",
       " 'cellular ti',\n",
       " 'central composite',\n",
       " 'ceramic base',\n",
       " 'ceramic component',\n",
       " 'ceramic composite',\n",
       " 'ceramic fdc',\n",
       " 'ceramic material',\n",
       " 'ceramic powder',\n",
       " 'ceramic process',\n",
       " 'change process',\n",
       " 'characterize mechanical',\n",
       " 'cobalt chromium',\n",
       " 'cocrfemnni high',\n",
       " 'commercially available',\n",
       " 'commonly use',\n",
       " 'complex shape',\n",
       " 'compo nent',\n",
       " 'component establish',\n",
       " 'composite design',\n",
       " 'composite experimental',\n",
       " 'composite fabricate',\n",
       " 'composite fabrication',\n",
       " 'composite filament',\n",
       " 'composite specimen',\n",
       " 'composite use',\n",
       " 'compression test',\n",
       " 'compressive response',\n",
       " 'compressive strength',\n",
       " 'computer aid',\n",
       " 'computerized solid',\n",
       " 'contain mesoporous',\n",
       " 'continuous carbon',\n",
       " 'continuous fiber',\n",
       " 'control change',\n",
       " 'conventionally produce',\n",
       " 'cooling rate',\n",
       " 'correlation process',\n",
       " 'crack growth',\n",
       " 'crack propagation',\n",
       " 'critical sized',\n",
       " 'cross section',\n",
       " 'crystallographic texture',\n",
       " 'ct scan',\n",
       " 'cubic sample',\n",
       " 'current study',\n",
       " 'currently available',\n",
       " 'curved layer',\n",
       " 'cut tool',\n",
       " 'datum handle',\n",
       " 'defect fatigue',\n",
       " 'defect formation',\n",
       " 'defect morphology',\n",
       " 'defect present',\n",
       " 'defect regularity',\n",
       " 'deformation failure',\n",
       " 'demonstrate process',\n",
       " 'dense ceramic',\n",
       " 'densication level',\n",
       " 'density allow',\n",
       " 'density measure',\n",
       " 'density microstructure',\n",
       " 'density range',\n",
       " 'density vicker',\n",
       " 'deposition ceramic',\n",
       " 'deposition model',\n",
       " 'deposition modeling',\n",
       " 'design build',\n",
       " 'design cad',\n",
       " 'design experiment',\n",
       " 'design fabrication',\n",
       " 'design freedom',\n",
       " 'design manufacture',\n",
       " 'design manufacturing',\n",
       " 'design methodology',\n",
       " 'design tailor',\n",
       " 'design technique',\n",
       " 'determine orientation',\n",
       " 'development additive',\n",
       " 'development new',\n",
       " 'diameter build',\n",
       " 'diameter height',\n",
       " 'different layer',\n",
       " 'different powder',\n",
       " 'differential evolution',\n",
       " 'dimensional accuracy',\n",
       " 'dimensional printing',\n",
       " 'dimensional structure',\n",
       " 'direct laser',\n",
       " 'direct metal',\n",
       " 'direction layer',\n",
       " 'dlp stereolithography',\n",
       " 'dmls process',\n",
       " 'duplex stainless',\n",
       " 'ebm machine',\n",
       " 'ebm process',\n",
       " 'ebm ti',\n",
       " 'effect defect',\n",
       " 'effect fdm',\n",
       " 'effect hierarchical',\n",
       " 'effect laser',\n",
       " 'effect layer',\n",
       " 'effect parameter',\n",
       " 'effect process',\n",
       " 'effect sample',\n",
       " 'effect test',\n",
       " 'elastic modulus',\n",
       " 'electron beam',\n",
       " 'electron microscope',\n",
       " 'electron microscopy',\n",
       " 'element analysis',\n",
       " 'element model',\n",
       " 'empirical model',\n",
       " 'energy absorb',\n",
       " 'energy absorption',\n",
       " 'energy density',\n",
       " 'energy input',\n",
       " 'engineering application',\n",
       " 'entropy alloy',\n",
       " 'equiatomic cocrfemnni',\n",
       " 'equilibrium microstructure',\n",
       " 'evaluate effect',\n",
       " 'evolution melt',\n",
       " 'experimental datum',\n",
       " 'experimental design',\n",
       " 'experimental investigation',\n",
       " 'experimental result',\n",
       " 'extrusion process',\n",
       " 'exural modulus',\n",
       " 'exural strength',\n",
       " 'fabricate component',\n",
       " 'fabricate dimensional',\n",
       " 'fabricate functional',\n",
       " 'fabricate fused',\n",
       " 'fabricate prototype',\n",
       " 'fabricate rapid',\n",
       " 'fabricate selective',\n",
       " 'fabricate specimen',\n",
       " 'fabricate use',\n",
       " 'fabrication complex',\n",
       " 'fabrication fff',\n",
       " 'fabrication method',\n",
       " 'fabrication process',\n",
       " 'fabrication technique',\n",
       " 'fabrication technology',\n",
       " 'fabrication titanium',\n",
       " 'failure behaviour',\n",
       " 'failure mode',\n",
       " 'fatigue crack',\n",
       " 'fdm machine',\n",
       " 'fdm make',\n",
       " 'fdm paper',\n",
       " 'fdm process',\n",
       " 'feature size',\n",
       " 'feedstock material',\n",
       " 'fiber composite',\n",
       " 'fiber content',\n",
       " 'fiber reinforce',\n",
       " 'fiber reinforcement',\n",
       " 'filament fabrication',\n",
       " 'filament improve',\n",
       " 'finite element',\n",
       " 'form mechanism',\n",
       " 'formation mechanism',\n",
       " 'formula student',\n",
       " 'fracture surface',\n",
       " 'fracture toughness',\n",
       " 'fully dense',\n",
       " 'fully stabilize',\n",
       " 'functional component',\n",
       " 'functionally grade',\n",
       " 'fuse deposition',\n",
       " 'fuse filament',\n",
       " 'fused deposition',\n",
       " 'gel printing',\n",
       " 'glass ceramic',\n",
       " 'glass object',\n",
       " 'glass powder',\n",
       " 'glass speciman',\n",
       " 'glass viscosity',\n",
       " 'gpa mpa',\n",
       " 'grain size',\n",
       " 'gray relational',\n",
       " 'group method',\n",
       " 'handle gmdh',\n",
       " 'hardness fracture',\n",
       " 'hatch spacing',\n",
       " 'heat treat',\n",
       " 'heat treatment',\n",
       " 'hierarchical wavy',\n",
       " 'high cooling',\n",
       " 'high degree',\n",
       " 'high density',\n",
       " 'high energy',\n",
       " 'high entropy',\n",
       " 'high laser',\n",
       " 'high performance',\n",
       " 'high porosity',\n",
       " 'identify classify',\n",
       " 'image processing',\n",
       " 'impact process',\n",
       " 'implant tailor',\n",
       " 'important process',\n",
       " 'improve mechanical',\n",
       " 'improve surface',\n",
       " 'improvement surface',\n",
       " 'increase increase',\n",
       " 'increase laser',\n",
       " 'increase level',\n",
       " 'increase number',\n",
       " 'influence process',\n",
       " 'integrate taguchi',\n",
       " 'interface performance',\n",
       " 'internal structure',\n",
       " 'investigate effect',\n",
       " 'investigate inuence',\n",
       " 'laser beam',\n",
       " 'laser energy',\n",
       " 'laser melt',\n",
       " 'laser melting',\n",
       " 'laser metal',\n",
       " 'laser powder',\n",
       " 'laser power',\n",
       " 'laser scanning',\n",
       " 'laser sinter',\n",
       " 'laser sintering',\n",
       " 'laser source',\n",
       " 'lattice structure',\n",
       " 'lattice topology',\n",
       " 'layer cid',\n",
       " 'layer fashion',\n",
       " 'layer layer',\n",
       " 'layer manufacturing',\n",
       " 'layer orientation',\n",
       " 'layer thickness',\n",
       " 'layer use',\n",
       " 'layered manufacturing',\n",
       " 'lightweight component',\n",
       " 'limitation implication',\n",
       " 'limitation technology',\n",
       " 'liquid phase',\n",
       " 'low cost',\n",
       " 'low density',\n",
       " 'low energy',\n",
       " 'low hardness',\n",
       " 'machine use',\n",
       " 'main process',\n",
       " 'make slm',\n",
       " 'make technique',\n",
       " 'make use',\n",
       " 'manufacture component',\n",
       " 'manufacture metal',\n",
       " 'manufacture selective',\n",
       " 'manufacture stainless',\n",
       " 'manufacture use',\n",
       " 'manufacturing ceramic',\n",
       " 'manufacturing complex',\n",
       " 'manufacturing lm',\n",
       " 'manufacturing material',\n",
       " 'manufacturing method',\n",
       " 'manufacturing process',\n",
       " 'manufacturing technique',\n",
       " 'manufacturing technology',\n",
       " 'material extrusion',\n",
       " 'material paper',\n",
       " 'material process',\n",
       " 'material produce',\n",
       " 'material property',\n",
       " 'material use',\n",
       " 'measure use',\n",
       " 'mechanical behavior',\n",
       " 'mechanical characterization',\n",
       " 'mechanical performance',\n",
       " 'mechanical property',\n",
       " 'mechanical response',\n",
       " 'mechanical strength',\n",
       " 'mechanism selective',\n",
       " 'melt additive',\n",
       " 'melt ebm',\n",
       " 'melt pool',\n",
       " 'melt slm',\n",
       " 'melting allow',\n",
       " 'melting electron',\n",
       " 'melting process',\n",
       " 'melting slm',\n",
       " 'melting technology',\n",
       " 'melting use',\n",
       " 'memory polymer',\n",
       " 'mesoporous bioactive',\n",
       " 'metal ceramic',\n",
       " 'metal fabrication',\n",
       " 'metal laser',\n",
       " 'metal matrix',\n",
       " 'metal particle',\n",
       " 'metal powder',\n",
       " 'metallic material',\n",
       " 'method datum',\n",
       " 'method fabricate',\n",
       " 'method gray',\n",
       " 'method improve',\n",
       " 'method use',\n",
       " 'methodology approach',\n",
       " 'microscopy sem',\n",
       " 'microstructural evolution',\n",
       " 'microstructural mechanical',\n",
       " 'microstructure evolution',\n",
       " 'microstructure investigate',\n",
       " 'microstructure mechanical',\n",
       " 'microstructure property',\n",
       " 'microstructure result',\n",
       " 'microstructure slm',\n",
       " 'microstructure tensile',\n",
       " 'microstructure texture',\n",
       " 'mixture different',\n",
       " 'model compare',\n",
       " 'model develop',\n",
       " 'model fdm',\n",
       " 'model process',\n",
       " 'molding process',\n",
       " 'molten pool',\n",
       " 'mpa respectively',\n",
       " 'multi functional',\n",
       " 'multiple pore',\n",
       " 'nal product',\n",
       " 'near net',\n",
       " 'net shape',\n",
       " 'neutron diffraction',\n",
       " 'niti implant',\n",
       " 'non equilibrium',\n",
       " 'non stochastic',\n",
       " 'open source',\n",
       " 'optical metallography',\n",
       " 'optical microscopy',\n",
       " 'optical property',\n",
       " 'optically transparent',\n",
       " 'optimal parameter',\n",
       " 'optimal process',\n",
       " 'optimization technique',\n",
       " 'optimize process',\n",
       " 'optimize rapid',\n",
       " 'order investigate',\n",
       " 'orientation dependence',\n",
       " 'orientation mechanical',\n",
       " 'orientation raster',\n",
       " 'orientation tensile',\n",
       " 'originality value',\n",
       " 'paper discuss',\n",
       " 'paper investigate',\n",
       " 'paper present',\n",
       " 'paper provide',\n",
       " 'paper report',\n",
       " 'parameter defect',\n",
       " 'parameter fdm',\n",
       " 'parameter include',\n",
       " 'parameter layer',\n",
       " 'parameter mechanical',\n",
       " 'parameter microstructure',\n",
       " 'parameter result',\n",
       " 'parameter slm',\n",
       " 'parameter study',\n",
       " 'parameter systematically',\n",
       " 'parameter temperature',\n",
       " 'parameter tensile',\n",
       " 'parameter use',\n",
       " 'particle size',\n",
       " 'performance ceramic',\n",
       " 'performance material',\n",
       " 'performance print',\n",
       " 'phase sinter',\n",
       " 'polylactic acid',\n",
       " 'polymer composite',\n",
       " 'pool porosity',\n",
       " 'pool shape',\n",
       " 'pore distribution',\n",
       " 'pore size',\n",
       " 'porosity microstructure',\n",
       " 'porosity pore',\n",
       " 'porosity result',\n",
       " 'possible obtain',\n",
       " 'post processing',\n",
       " 'potential application',\n",
       " 'potential source',\n",
       " 'potential use',\n",
       " 'powder bed',\n",
       " 'powder layer',\n",
       " 'powder particle',\n",
       " 'powder use',\n",
       " 'power scan',\n",
       " 'practical implication',\n",
       " 'pre alloy',\n",
       " 'preheat temperature',\n",
       " 'present paper',\n",
       " 'present study',\n",
       " 'present survey',\n",
       " 'previous work',\n",
       " 'print composite',\n",
       " 'print continuous',\n",
       " 'print glass',\n",
       " 'print parameter',\n",
       " 'print process',\n",
       " 'print sample',\n",
       " 'print use',\n",
       " 'printer use',\n",
       " 'printing method',\n",
       " 'printing process',\n",
       " 'printing technique',\n",
       " 'process additive',\n",
       " 'process application',\n",
       " 'process base',\n",
       " 'process build',\n",
       " 'process ceramic',\n",
       " 'process continuous',\n",
       " 'process control',\n",
       " 'process fabricate',\n",
       " 'process fdm',\n",
       " 'process form',\n",
       " 'process improve',\n",
       " 'process integrate',\n",
       " 'process material',\n",
       " 'process microstructure',\n",
       " 'process parameter',\n",
       " 'process performance',\n",
       " 'process powder',\n",
       " 'process sample',\n",
       " 'process selective',\n",
       " 'process study',\n",
       " 'process use',\n",
       " 'process variable',\n",
       " 'process yield',\n",
       " 'processing parameter',\n",
       " 'processing use',\n",
       " 'produce additive',\n",
       " 'produce good',\n",
       " 'produce material',\n",
       " 'produce selective',\n",
       " 'produce slm',\n",
       " 'product make',\n",
       " 'propagation behavior',\n",
       " 'property abs',\n",
       " 'property additively',\n",
       " 'property compressive',\n",
       " 'property effect',\n",
       " 'property fabricate',\n",
       " 'property fused',\n",
       " 'property increase',\n",
       " 'property lattice',\n",
       " 'property paper',\n",
       " 'property pla',\n",
       " 'property print',\n",
       " 'property process',\n",
       " 'property produce',\n",
       " 'property result',\n",
       " 'property study',\n",
       " 'prototyping process',\n",
       " 'prototyping rp',\n",
       " 'purpose paper',\n",
       " 'quality mechanical',\n",
       " 'quantify use',\n",
       " 'rapid manufacture',\n",
       " 'rapid prototyping',\n",
       " 'raster angle',\n",
       " 'raster width',\n",
       " 'ray compute',\n",
       " 'ray diffraction',\n",
       " 'recent research',\n",
       " 'recent study',\n",
       " 'recent year',\n",
       " 'reinforce composite',\n",
       " 'reinforce plastic',\n",
       " 'reinforce polymer',\n",
       " 'reinforce thermoplastic',\n",
       " 'relational analysis',\n",
       " 'relative density',\n",
       " 'relatively high',\n",
       " 'research area',\n",
       " 'research development',\n",
       " 'research limitation',\n",
       " 'residual stress',\n",
       " 'respect process',\n",
       " 'response lattice',\n",
       " 'response surface',\n",
       " 'response tensile',\n",
       " 'result compare',\n",
       " 'result high',\n",
       " 'result indicate',\n",
       " 'result mechanical',\n",
       " 'result obtain',\n",
       " 'result present',\n",
       " 'result reveal',\n",
       " 'result study',\n",
       " 'result verify',\n",
       " 'review additive',\n",
       " 'room temperature',\n",
       " 'rp process',\n",
       " 'rp technology',\n",
       " 'sample average',\n",
       " 'sample design',\n",
       " 'sample high',\n",
       " 'sample increase',\n",
       " 'sample prepare',\n",
       " 'sample produce',\n",
       " 'sample signicantly',\n",
       " 'scan strategy',\n",
       " 'scanning direction',\n",
       " 'scanning electron',\n",
       " 'scanning strategy',\n",
       " 'section sample',\n",
       " 'selective electron',\n",
       " 'selective laser',\n",
       " 'shape memory',\n",
       " 'shape sample',\n",
       " 'short ber',\n",
       " 'signicantly improve',\n",
       " 'single component',\n",
       " 'single track',\n",
       " 'sinter condition',\n",
       " 'sinter dmls',\n",
       " 'sinter maximum',\n",
       " 'sinter print',\n",
       " 'sinter sls',\n",
       " 'sintering print',\n",
       " 'sintering process',\n",
       " 'size distribution',\n",
       " 'size range',\n",
       " 'slm apply',\n",
       " 'slm build',\n",
       " 'slm ebm',\n",
       " 'slm electron',\n",
       " 'slm process',\n",
       " 'slm produce',\n",
       " 'sls slm',\n",
       " 'societal impact',\n",
       " 'solid load',\n",
       " 'solid model',\n",
       " 'source low',\n",
       " 'spatially resolve',\n",
       " 'specimen fabricate',\n",
       " 'specimen obtain',\n",
       " 'stabilize zirconia',\n",
       " 'stainless steel',\n",
       " 'statistically analyze',\n",
       " 'steel nanocomposite',\n",
       " 'stereolithography base',\n",
       " 'stochastic structure',\n",
       " 'strategy result',\n",
       " 'strength composite',\n",
       " 'strength elongation',\n",
       " 'strength energy',\n",
       " 'strength fused',\n",
       " 'strength mpa',\n",
       " 'strength range',\n",
       " 'strength value',\n",
       " 'strength yield',\n",
       " 'strength young',\n",
       " 'stress mpa',\n",
       " 'strontium contain',\n",
       " 'structural ceramic',\n",
       " 'structural formula',\n",
       " 'structural integrity',\n",
       " 'structure different',\n",
       " 'structure distortion',\n",
       " 'structure foam',\n",
       " 'structure high',\n",
       " 'structure manufacture',\n",
       " 'structure relative',\n",
       " 'structure result',\n",
       " 'structure similar',\n",
       " 'structure test',\n",
       " 'study change',\n",
       " 'study demonstrate',\n",
       " 'study effect',\n",
       " 'study evaluate',\n",
       " 'study fabricate',\n",
       " 'study investigate',\n",
       " 'study process',\n",
       " 'styrene abs',\n",
       " 'successfully use',\n",
       " 'suitable process',\n",
       " 'support structure',\n",
       " 'surface defect',\n",
       " 'surface finish',\n",
       " 'surface nish',\n",
       " 'surface quality',\n",
       " 'surface roughness',\n",
       " 'systematically study',\n",
       " 'taguchi method',\n",
       " 'technique fabricate',\n",
       " 'technique particular',\n",
       " 'technique use',\n",
       " 'technology fabrication',\n",
       " 'technology use',\n",
       " 'temperature material',\n",
       " 'tensile property',\n",
       " 'tensile strength',\n",
       " 'tensile stress',\n",
       " 'tensile test',\n",
       " 'tensile testing',\n",
       " 'test carry',\n",
       " 'test method',\n",
       " 'test orientation',\n",
       " 'test sample',\n",
       " 'testing develop',\n",
       " 'testing machine',\n",
       " 'texture anisotropy',\n",
       " 'thermal expansion',\n",
       " 'thermo mechanical',\n",
       " 'thermoplastic material',\n",
       " 'ti alloy',\n",
       " 'ti fabricate',\n",
       " 'ti lattice',\n",
       " 'ti pre',\n",
       " 'ti specimen',\n",
       " 'ti structure',\n",
       " 'time sinter',\n",
       " 'tissue engineering',\n",
       " 'titanium aluminide',\n",
       " 'titanium implant',\n",
       " 'tomography ct',\n",
       " 'toughness fatigue',\n",
       " 'track layer',\n",
       " 'track track',\n",
       " 'transmission electron',\n",
       " 'transparent glass',\n",
       " 'treat specimen',\n",
       " 'treatment result',\n",
       " 'ultimate tensile',\n",
       " 'understand effect',\n",
       " 'uniformly distribute',\n",
       " 'unit cell',\n",
       " 'use additive',\n",
       " 'use bimodal',\n",
       " 'use design',\n",
       " 'use different',\n",
       " 'use electron',\n",
       " 'use fabricate',\n",
       " 'use fdm',\n",
       " 'use fuse',\n",
       " 'use fused',\n",
       " 'use group',\n",
       " 'use high',\n",
       " 'use manufacture',\n",
       " 'use method',\n",
       " 'use optical',\n",
       " 'use rapid',\n",
       " 'use selective',\n",
       " 'use slm',\n",
       " 'use various',\n",
       " 'value originality',\n",
       " 'value paper',\n",
       " 'variance anova',\n",
       " 'various color',\n",
       " 'various type',\n",
       " 'vicker hardness',\n",
       " 'void formation',\n",
       " 'volume fraction',\n",
       " 'width air',\n",
       " 'wollastonite glass',\n",
       " 'work focus',\n",
       " 'work provide',\n",
       " 'work ti',\n",
       " 'yield strength',\n",
       " 'yield stress',\n",
       " 'young modulus',\n",
       " 'zirconia ceramic']"
      ]
     },
     "execution_count": 20,
     "metadata": {},
     "output_type": "execute_result"
    }
   ],
   "source": [
    "list(filter(lambda x:len(x.split())==2,list(np.array(vec.get_feature_names()))))"
   ]
  },
  {
   "cell_type": "code",
   "execution_count": 21,
   "metadata": {},
   "outputs": [],
   "source": [
    "pro_1 = ft_model.get_sentence_vector('selective laser melting')\n",
    "pro_2 = ft_model.get_sentence_vector('direct metal laser sintering')\n",
    "\n",
    "pro_3 = ft_model.get_sentence_vector('fused deposition modeling')\n",
    "pro_4 = ft_model.get_sentence_vector('fused filament fabrication')\n",
    "pro_5 = ft_model.get_sentence_vector('extrusion based additive manufacturing')\n",
    "\n",
    "metal = ft_model.get_sentence_vector('metal')\n",
    "ceramic = ft_model.get_sentence_vector('ceramic')\n",
    "polymer = ft_model.get_sentence_vector('polymer')\n",
    "\n",
    "# feature_1 = get_embedding('fracture toughness')\n",
    "# feature_2 = get_embedding('tensile strength')\n",
    "# feature_3 = get_embedding('yield strength')\n",
    "# feature_4 = get_embedding('elastic modulus')\n",
    "# feature_5 = get_embedding('strain fracture break')\n",
    "# feature_6 = get_embedding('weibull modulus')"
   ]
  },
  {
   "cell_type": "code",
   "execution_count": 22,
   "metadata": {},
   "outputs": [],
   "source": [
    "def create_df_abs():\n",
    "    \n",
    "    d_abs = {'Titles':title_list,\n",
    "         'Abstracts':pdf_list,\n",
    "         'Abs_Production':abs_production,\n",
    "         'Abs_Production_score':abs_production_cos_score,\n",
    "         'Abs_Material':abs_material,\n",
    "         'Abs_Material_score':abs_material_cos_score\n",
    "        }\n",
    "    \n",
    "    df = pd.DataFrame(d_abs)\n",
    "    #df[\"Production/Material\"] = df[\"Abs_Production\"] + \" / \" + df[\"Abs_Material\"]\n",
    "    \n",
    "    return df"
   ]
  },
  {
   "cell_type": "code",
   "execution_count": 23,
   "metadata": {},
   "outputs": [],
   "source": [
    "def create_df_title():\n",
    "    \n",
    "    d_title = {'Titles':title_list,\n",
    "         'Abstracts':pdf_list,\n",
    "         'Title_Production':title_production,\n",
    "         'Title_Production_score':title_production_cos_score,\n",
    "         'Title_Material':title_material,\n",
    "         'Title_Material_score':title_material_cos_score\n",
    "        }\n",
    "    \n",
    "    df = pd.DataFrame(d_title)\n",
    "    #df[\"Production/Material\"] = df[\"Title_Production\"] + \" / \" + df[\"Title_Material\"]\n",
    "    \n",
    "    return df"
   ]
  },
  {
   "cell_type": "markdown",
   "metadata": {},
   "source": [
    "### Labeling with abstracts and Titles"
   ]
  },
  {
   "cell_type": "code",
   "execution_count": 24,
   "metadata": {},
   "outputs": [],
   "source": [
    "abs_production , abs_production_cos_score = pro_labeling(tfidf_words_abstract,ft_model,cosine,pro_1,pro_2,pro_3,pro_4,pro_5)\n",
    "abs_material , abs_material_cos_score = mat_labeling(tfidf_words_abstract,ft_model,cosine,metal,ceramic,polymer)\n",
    "df_abs = create_df_abs()\n",
    "\n",
    "title_production , title_production_cos_score = pro_labeling(tfidf_words_title,ft_model,cosine,pro_1,pro_2,pro_3,pro_4,pro_5)\n",
    "title_material , title_material_cos_score = mat_labeling(tfidf_words_title,ft_model,cosine,metal,ceramic,polymer)\n",
    "df_title = create_df_title()"
   ]
  },
  {
   "cell_type": "code",
   "execution_count": 25,
   "metadata": {},
   "outputs": [
    {
     "data": {
      "text/plain": [
       "FDM or FFF or EAM    86\n",
       "SLM or DMLS          13\n",
       "Name: Abs_Production, dtype: int64"
      ]
     },
     "execution_count": 25,
     "metadata": {},
     "output_type": "execute_result"
    }
   ],
   "source": [
    "df_abs[\"Abs_Production\"].value_counts()"
   ]
  },
  {
   "cell_type": "code",
   "execution_count": 26,
   "metadata": {},
   "outputs": [
    {
     "data": {
      "text/plain": [
       "FDM or FFF or EAM    73\n",
       "SLM or DMLS          26\n",
       "Name: Title_Production, dtype: int64"
      ]
     },
     "execution_count": 26,
     "metadata": {},
     "output_type": "execute_result"
    }
   ],
   "source": [
    "df_title[\"Title_Production\"].value_counts()"
   ]
  },
  {
   "cell_type": "code",
   "execution_count": 27,
   "metadata": {},
   "outputs": [
    {
     "data": {
      "text/plain": [
       "Ceramic    63\n",
       "Metal      21\n",
       "Polymer    15\n",
       "Name: Abs_Material, dtype: int64"
      ]
     },
     "execution_count": 27,
     "metadata": {},
     "output_type": "execute_result"
    }
   ],
   "source": [
    "df_abs[\"Abs_Material\"].value_counts()"
   ]
  },
  {
   "cell_type": "code",
   "execution_count": 28,
   "metadata": {},
   "outputs": [
    {
     "data": {
      "text/plain": [
       "Ceramic    51\n",
       "Metal      31\n",
       "Polymer    17\n",
       "Name: Title_Material, dtype: int64"
      ]
     },
     "execution_count": 28,
     "metadata": {},
     "output_type": "execute_result"
    }
   ],
   "source": [
    "df_title[\"Title_Material\"].value_counts()"
   ]
  },
  {
   "cell_type": "code",
   "execution_count": 29,
   "metadata": {},
   "outputs": [
    {
     "data": {
      "text/html": [
       "<div>\n",
       "<style scoped>\n",
       "    .dataframe tbody tr th:only-of-type {\n",
       "        vertical-align: middle;\n",
       "    }\n",
       "\n",
       "    .dataframe tbody tr th {\n",
       "        vertical-align: top;\n",
       "    }\n",
       "\n",
       "    .dataframe thead th {\n",
       "        text-align: right;\n",
       "    }\n",
       "</style>\n",
       "<table border=\"1\" class=\"dataframe\">\n",
       "  <thead>\n",
       "    <tr style=\"text-align: right;\">\n",
       "      <th></th>\n",
       "      <th>Titles</th>\n",
       "      <th>Abstracts</th>\n",
       "      <th>Abs_Production</th>\n",
       "      <th>Abs_Production_score</th>\n",
       "      <th>Abs_Material</th>\n",
       "      <th>Abs_Material_score</th>\n",
       "    </tr>\n",
       "  </thead>\n",
       "  <tbody>\n",
       "    <tr>\n",
       "      <td>0</td>\n",
       "      <td>3D gel-printing of zirconia ceramic parts</td>\n",
       "      <td>3D gel-printing (3DGP) is a new printing metho...</td>\n",
       "      <td>FDM or FFF or EAM</td>\n",
       "      <td>0.897511</td>\n",
       "      <td>Ceramic</td>\n",
       "      <td>0.778365</td>\n",
       "    </tr>\n",
       "    <tr>\n",
       "      <td>1</td>\n",
       "      <td>3D Printed Glass Surface Finish and Bulk Prope...</td>\n",
       "      <td>It is impossible to print glass directly from ...</td>\n",
       "      <td>FDM or FFF or EAM</td>\n",
       "      <td>0.865425</td>\n",
       "      <td>Ceramic</td>\n",
       "      <td>0.722613</td>\n",
       "    </tr>\n",
       "    <tr>\n",
       "      <td>2</td>\n",
       "      <td>3D printing of ceramics A review</td>\n",
       "      <td>Along with extensive research on the three-dim...</td>\n",
       "      <td>FDM or FFF or EAM</td>\n",
       "      <td>0.897688</td>\n",
       "      <td>Ceramic</td>\n",
       "      <td>0.813127</td>\n",
       "    </tr>\n",
       "    <tr>\n",
       "      <td>3</td>\n",
       "      <td>3D Printing of Continuous-Fiber Composites by ...</td>\n",
       "      <td>We have developed a method for the three-dimen...</td>\n",
       "      <td>FDM or FFF or EAM</td>\n",
       "      <td>0.878495</td>\n",
       "      <td>Polymer</td>\n",
       "      <td>0.762192</td>\n",
       "    </tr>\n",
       "    <tr>\n",
       "      <td>4</td>\n",
       "      <td>3D Printing of Transparent Glass</td>\n",
       "      <td>Traditional assembly line manufacturing is spe...</td>\n",
       "      <td>FDM or FFF or EAM</td>\n",
       "      <td>0.895995</td>\n",
       "      <td>Ceramic</td>\n",
       "      <td>0.712717</td>\n",
       "    </tr>\n",
       "  </tbody>\n",
       "</table>\n",
       "</div>"
      ],
      "text/plain": [
       "                                              Titles  \\\n",
       "0          3D gel-printing of zirconia ceramic parts   \n",
       "1  3D Printed Glass Surface Finish and Bulk Prope...   \n",
       "2                   3D printing of ceramics A review   \n",
       "3  3D Printing of Continuous-Fiber Composites by ...   \n",
       "4                   3D Printing of Transparent Glass   \n",
       "\n",
       "                                           Abstracts     Abs_Production  \\\n",
       "0  3D gel-printing (3DGP) is a new printing metho...  FDM or FFF or EAM   \n",
       "1  It is impossible to print glass directly from ...  FDM or FFF or EAM   \n",
       "2  Along with extensive research on the three-dim...  FDM or FFF or EAM   \n",
       "3  We have developed a method for the three-dimen...  FDM or FFF or EAM   \n",
       "4  Traditional assembly line manufacturing is spe...  FDM or FFF or EAM   \n",
       "\n",
       "   Abs_Production_score Abs_Material  Abs_Material_score  \n",
       "0              0.897511      Ceramic            0.778365  \n",
       "1              0.865425      Ceramic            0.722613  \n",
       "2              0.897688      Ceramic            0.813127  \n",
       "3              0.878495      Polymer            0.762192  \n",
       "4              0.895995      Ceramic            0.712717  "
      ]
     },
     "execution_count": 29,
     "metadata": {},
     "output_type": "execute_result"
    }
   ],
   "source": [
    "df_abs.head()"
   ]
  },
  {
   "cell_type": "code",
   "execution_count": 30,
   "metadata": {},
   "outputs": [
    {
     "data": {
      "text/html": [
       "<div>\n",
       "<style scoped>\n",
       "    .dataframe tbody tr th:only-of-type {\n",
       "        vertical-align: middle;\n",
       "    }\n",
       "\n",
       "    .dataframe tbody tr th {\n",
       "        vertical-align: top;\n",
       "    }\n",
       "\n",
       "    .dataframe thead th {\n",
       "        text-align: right;\n",
       "    }\n",
       "</style>\n",
       "<table border=\"1\" class=\"dataframe\">\n",
       "  <thead>\n",
       "    <tr style=\"text-align: right;\">\n",
       "      <th></th>\n",
       "      <th>Titles</th>\n",
       "      <th>Abstracts</th>\n",
       "      <th>Title_Production</th>\n",
       "      <th>Title_Production_score</th>\n",
       "      <th>Title_Material</th>\n",
       "      <th>Title_Material_score</th>\n",
       "    </tr>\n",
       "  </thead>\n",
       "  <tbody>\n",
       "    <tr>\n",
       "      <td>0</td>\n",
       "      <td>3D gel-printing of zirconia ceramic parts</td>\n",
       "      <td>3D gel-printing (3DGP) is a new printing metho...</td>\n",
       "      <td>FDM or FFF or EAM</td>\n",
       "      <td>0.887244</td>\n",
       "      <td>Ceramic</td>\n",
       "      <td>0.821238</td>\n",
       "    </tr>\n",
       "    <tr>\n",
       "      <td>1</td>\n",
       "      <td>3D Printed Glass Surface Finish and Bulk Prope...</td>\n",
       "      <td>It is impossible to print glass directly from ...</td>\n",
       "      <td>FDM or FFF or EAM</td>\n",
       "      <td>0.837338</td>\n",
       "      <td>Ceramic</td>\n",
       "      <td>0.703301</td>\n",
       "    </tr>\n",
       "    <tr>\n",
       "      <td>2</td>\n",
       "      <td>3D printing of ceramics A review</td>\n",
       "      <td>Along with extensive research on the three-dim...</td>\n",
       "      <td>FDM or FFF or EAM</td>\n",
       "      <td>0.852245</td>\n",
       "      <td>Ceramic</td>\n",
       "      <td>0.727185</td>\n",
       "    </tr>\n",
       "    <tr>\n",
       "      <td>3</td>\n",
       "      <td>3D Printing of Continuous-Fiber Composites by ...</td>\n",
       "      <td>We have developed a method for the three-dimen...</td>\n",
       "      <td>FDM or FFF or EAM</td>\n",
       "      <td>0.837858</td>\n",
       "      <td>Polymer</td>\n",
       "      <td>0.746015</td>\n",
       "    </tr>\n",
       "    <tr>\n",
       "      <td>4</td>\n",
       "      <td>3D Printing of Transparent Glass</td>\n",
       "      <td>Traditional assembly line manufacturing is spe...</td>\n",
       "      <td>FDM or FFF or EAM</td>\n",
       "      <td>0.866358</td>\n",
       "      <td>Ceramic</td>\n",
       "      <td>0.693882</td>\n",
       "    </tr>\n",
       "  </tbody>\n",
       "</table>\n",
       "</div>"
      ],
      "text/plain": [
       "                                              Titles  \\\n",
       "0          3D gel-printing of zirconia ceramic parts   \n",
       "1  3D Printed Glass Surface Finish and Bulk Prope...   \n",
       "2                   3D printing of ceramics A review   \n",
       "3  3D Printing of Continuous-Fiber Composites by ...   \n",
       "4                   3D Printing of Transparent Glass   \n",
       "\n",
       "                                           Abstracts   Title_Production  \\\n",
       "0  3D gel-printing (3DGP) is a new printing metho...  FDM or FFF or EAM   \n",
       "1  It is impossible to print glass directly from ...  FDM or FFF or EAM   \n",
       "2  Along with extensive research on the three-dim...  FDM or FFF or EAM   \n",
       "3  We have developed a method for the three-dimen...  FDM or FFF or EAM   \n",
       "4  Traditional assembly line manufacturing is spe...  FDM or FFF or EAM   \n",
       "\n",
       "   Title_Production_score Title_Material  Title_Material_score  \n",
       "0                0.887244        Ceramic              0.821238  \n",
       "1                0.837338        Ceramic              0.703301  \n",
       "2                0.852245        Ceramic              0.727185  \n",
       "3                0.837858        Polymer              0.746015  \n",
       "4                0.866358        Ceramic              0.693882  "
      ]
     },
     "execution_count": 30,
     "metadata": {},
     "output_type": "execute_result"
    }
   ],
   "source": [
    "df_title.head()"
   ]
  },
  {
   "cell_type": "code",
   "execution_count": 31,
   "metadata": {},
   "outputs": [],
   "source": [
    "import seaborn as sns\n",
    "from sklearn.decomposition import PCA\n",
    "import matplotlib.pyplot as plt"
   ]
  },
  {
   "cell_type": "code",
   "execution_count": 32,
   "metadata": {},
   "outputs": [],
   "source": [
    "def visu_pro(doc):\n",
    "    \n",
    "    X= []\n",
    "\n",
    "    for text in doc:\n",
    "        X.append(ft_model.get_sentence_vector(text))\n",
    "\n",
    "    pca = PCA(n_components=2)\n",
    "    X_reduced = pca.fit_transform(X)\n",
    "\n",
    "    pca_df = pd.DataFrame(index=title_list,columns=['First Component','Second Component'],data=X_reduced)\n",
    "    \n",
    "    if doc == tfidf_words_abstract:\n",
    "        pca_df[\"Labels\"] = df_abs[\"Abs_Production\"].values\n",
    "    else :\n",
    "        pca_df[\"Labels\"] = df_title[\"Title_Production\"].values\n",
    "\n",
    "    fig, ax = plt.subplots(figsize=(10,10))\n",
    "    ax = sns.scatterplot(x=pca_df['First Component'],y=pca_df['Second Component'],hue=pca_df['Labels'],palette ='Set1')\n",
    "    \n",
    "    return pca_df"
   ]
  },
  {
   "cell_type": "code",
   "execution_count": 33,
   "metadata": {},
   "outputs": [
    {
     "data": {
      "image/png": "[encoded data removed]",
      "text/plain": [
       "<Figure size 720x720 with 1 Axes>"
      ]
     },
     "metadata": {
      "needs_background": "light"
     },
     "output_type": "display_data"
    }
   ],
   "source": [
    "a_pro = visu_pro(tfidf_words_abstract)"
   ]
  },
  {
   "cell_type": "code",
   "execution_count": 34,
   "metadata": {},
   "outputs": [
    {
     "data": {
      "image/png": "[encoded data removed]",
      "text/plain": [
       "<Figure size 720x720 with 1 Axes>"
      ]
     },
     "metadata": {
      "needs_background": "light"
     },
     "output_type": "display_data"
    }
   ],
   "source": [
    "t_pro = visu_pro(tfidf_words_title)"
   ]
  },
  {
   "cell_type": "code",
   "execution_count": 35,
   "metadata": {},
   "outputs": [],
   "source": [
    "def visu_mat(doc):\n",
    "    \n",
    "    X= []\n",
    "\n",
    "    for text in doc:\n",
    "        X.append(ft_model.get_sentence_vector(text))\n",
    "\n",
    "    pca = PCA(n_components=2)\n",
    "    X_reduced = pca.fit_transform(X)\n",
    "\n",
    "    pca_df = pd.DataFrame(index=title_list,columns=['First Component','Second Component'],data=X_reduced)\n",
    "    \n",
    "    if doc == tfidf_words_abstract:\n",
    "        pca_df[\"Labels\"] = df_abs[\"Abs_Material\"].values\n",
    "    else :\n",
    "        pca_df[\"Labels\"] = df_title[\"Title_Material\"].values\n",
    "\n",
    "    fig, ax = plt.subplots(figsize=(10,10))\n",
    "    ax = sns.scatterplot(x=pca_df['First Component'],y=pca_df['Second Component'],hue=pca_df['Labels'],palette ='Set1')\n",
    "    \n",
    "    return pca_df"
   ]
  },
  {
   "cell_type": "code",
   "execution_count": 36,
   "metadata": {},
   "outputs": [
    {
     "data": {
      "image/png": "[encoded data removed]",
      "text/plain": [
       "<Figure size 720x720 with 1 Axes>"
      ]
     },
     "metadata": {
      "needs_background": "light"
     },
     "output_type": "display_data"
    }
   ],
   "source": [
    "a_mat = visu_mat(tfidf_words_abstract)"
   ]
  },
  {
   "cell_type": "code",
   "execution_count": 37,
   "metadata": {},
   "outputs": [
    {
     "data": {
      "image/png": "[encoded data removed]",
      "text/plain": [
       "<Figure size 720x720 with 1 Axes>"
      ]
     },
     "metadata": {
      "needs_background": "light"
     },
     "output_type": "display_data"
    }
   ],
   "source": [
    "t_mat = visu_mat(tfidf_words_title)"
   ]
  },
  {
   "cell_type": "code",
   "execution_count": 38,
   "metadata": {},
   "outputs": [
    {
     "ename": "NameError",
     "evalue": "name 'cxvcxvxc' is not defined",
     "output_type": "error",
     "traceback": [
      "\u001b[1;31m---------------------------------------------------------------------------\u001b[0m",
      "\u001b[1;31mNameError\u001b[0m                                 Traceback (most recent call last)",
      "\u001b[1;32m<ipython-input-38-1e2038c6504f>\u001b[0m in \u001b[0;36m<module>\u001b[1;34m\u001b[0m\n\u001b[1;32m----> 1\u001b[1;33m \u001b[0mcxvcxvxc\u001b[0m\u001b[1;33m\u001b[0m\u001b[1;33m\u001b[0m\u001b[0m\n\u001b[0m",
      "\u001b[1;31mNameError\u001b[0m: name 'cxvcxvxc' is not defined"
     ]
    }
   ],
   "source": [
    "cxvcxvxc"
   ]
  },
  {
   "cell_type": "code",
   "execution_count": null,
   "metadata": {},
   "outputs": [],
   "source": [
    "new_df = pd.DataFrame(dict(Titles=title_list,Abstracts=pdf_list))\n",
    "\n",
    "new_df[\"ABS_PRO\"] = df_abs[\"Abs_Production\"]\n",
    "new_df[\"TITLE_PRO\"] = df_title[\"Title_Production\"]\n",
    "\n",
    "new_df[\"ABS_MATERIAL\"] = df_abs[\"Abs_Material\"]\n",
    "new_df[\"TITLE_MATERIAL\"] = df_title[\"Title_Material\"]"
   ]
  },
  {
   "cell_type": "code",
   "execution_count": null,
   "metadata": {},
   "outputs": [],
   "source": [
    "new_df.head()"
   ]
  },
  {
   "cell_type": "code",
   "execution_count": null,
   "metadata": {},
   "outputs": [],
   "source": [
    "new_df[new_df.ABS_PRO!=new_df.TITLE_PRO].shape"
   ]
  },
  {
   "cell_type": "code",
   "execution_count": null,
   "metadata": {},
   "outputs": [],
   "source": [
    "new_df[new_df.ABS_MATERIAL!=new_df.TITLE_MATERIAL].shape"
   ]
  },
  {
   "cell_type": "code",
   "execution_count": null,
   "metadata": {},
   "outputs": [],
   "source": [
    "new_df[\"Titles\"][27]"
   ]
  },
  {
   "cell_type": "code",
   "execution_count": null,
   "metadata": {},
   "outputs": [],
   "source": [
    "df_abs.iloc[27]"
   ]
  },
  {
   "cell_type": "code",
   "execution_count": null,
   "metadata": {},
   "outputs": [],
   "source": [
    "df_title.iloc[27]"
   ]
  },
  {
   "cell_type": "code",
   "execution_count": null,
   "metadata": {},
   "outputs": [],
   "source": [
    "####################################################################################"
   ]
  },
  {
   "cell_type": "code",
   "execution_count": null,
   "metadata": {},
   "outputs": [],
   "source": [
    "new_df[\"Titles\"][25]"
   ]
  },
  {
   "cell_type": "code",
   "execution_count": null,
   "metadata": {},
   "outputs": [],
   "source": [
    "df_abs.iloc[25]"
   ]
  },
  {
   "cell_type": "code",
   "execution_count": null,
   "metadata": {},
   "outputs": [],
   "source": [
    "df_title.iloc[25]"
   ]
  },
  {
   "cell_type": "code",
   "execution_count": null,
   "metadata": {},
   "outputs": [],
   "source": [
    "####################################################################################"
   ]
  },
  {
   "cell_type": "code",
   "execution_count": null,
   "metadata": {},
   "outputs": [],
   "source": [
    "new_df[\"Titles\"][46]"
   ]
  },
  {
   "cell_type": "code",
   "execution_count": null,
   "metadata": {},
   "outputs": [],
   "source": [
    "df_abs.iloc[46]"
   ]
  },
  {
   "cell_type": "code",
   "execution_count": null,
   "metadata": {},
   "outputs": [],
   "source": [
    "df_title.iloc[46]"
   ]
  },
  {
   "cell_type": "code",
   "execution_count": null,
   "metadata": {},
   "outputs": [],
   "source": [
    "new_df[(new_df.ABS_MATERIAL!=new_df.TITLE_MATERIAL)&(new_df.ABS_PRO!=new_df.TITLE_PRO)]"
   ]
  },
  {
   "cell_type": "code",
   "execution_count": null,
   "metadata": {},
   "outputs": [],
   "source": [
    "new_df[\"Titles\"][38]"
   ]
  },
  {
   "cell_type": "code",
   "execution_count": null,
   "metadata": {},
   "outputs": [],
   "source": [
    "df_abs.iloc[38]"
   ]
  },
  {
   "cell_type": "code",
   "execution_count": null,
   "metadata": {},
   "outputs": [],
   "source": [
    "df_title.iloc[38]"
   ]
  },
  {
   "cell_type": "code",
   "execution_count": null,
   "metadata": {},
   "outputs": [],
   "source": [
    "####################################################################################"
   ]
  },
  {
   "cell_type": "code",
   "execution_count": null,
   "metadata": {},
   "outputs": [],
   "source": [
    "new_df[\"Titles\"][75]"
   ]
  },
  {
   "cell_type": "code",
   "execution_count": null,
   "metadata": {},
   "outputs": [],
   "source": [
    "df_abs.iloc[75]"
   ]
  },
  {
   "cell_type": "code",
   "execution_count": null,
   "metadata": {},
   "outputs": [],
   "source": [
    "df_title.iloc[75]"
   ]
  },
  {
   "cell_type": "code",
   "execution_count": null,
   "metadata": {},
   "outputs": [],
   "source": [
    "# def vis_docs(abs_n,title_n,doc_type): # Tuple , number, number, list\n",
    "    \n",
    "#     # Tfidf for abstracts\n",
    "#     vec_abs = TfidfVectorizer(max_df=0.9,min_df=2,stop_words='english',max_features=100,ngram_range=(1,2))\n",
    "#     vec_abs.fit(pdfs)\n",
    "\n",
    "#     # Tfidf for titles\n",
    "#     vec_title = TfidfVectorizer(max_df=0.9,min_df=2,stop_words='english',max_features=100,ngram_range=(1,2))\n",
    "#     vec_title.fit(titles)\n",
    "    \n",
    "#     tfidf_words_abstract = []\n",
    "\n",
    "#     for abstract in pdfs:\n",
    "#         tfidf_words_abstract.append(\" \".join(find_top_n(abstract,vec_abs,abs_n)))\n",
    "\n",
    "#     tfidf_words_title = []\n",
    "\n",
    "#     for title in titles:\n",
    "#         tfidf_words_title.append(\" \".join(find_top_n(title,vec_title,title_n)))\n",
    "        \n",
    "#     abs_production , abs_production_cos_score = pro_labeling(tfidf_words_abstract)\n",
    "#     abs_material , abs_material_cos_score = mat_labeling(tfidf_words_abstract)\n",
    "#     df_abs = create_df_abs()\n",
    "\n",
    "#     title_production , title_production_cos_score = pro_labeling(tfidf_words_title)\n",
    "#     title_material , title_material_cos_score = mat_labeling(tfidf_words_title)\n",
    "#     df_title = create_df_title()\n",
    "    \n",
    "#     X= []\n",
    "\n",
    "#     for text in doc_type:\n",
    "#         X.append(ft_model.get_sentence_vector(text))\n",
    "\n",
    "#     pca = PCA(n_components=2)\n",
    "#     X_reduced = pca.fit_transform(X)\n",
    "\n",
    "#     pca_df = pd.DataFrame(index=title_list,columns=['First Component','Second Component'],data=X_reduced)\n",
    "#     pca_df[\"Labels\"] = df_title[\"Title_Material\"].values\n",
    "    \n",
    "#     fig, ax = plt.subplots(figsize=(10,10))\n",
    "#     ax = sns.scatterplot(x=pca_df['First Component'],y=pca_df['Second Component'],hue=pca_df['Labels'],palette ='Set1')\n",
    "    \n",
    "#     return df_abs , df_title "
   ]
  },
  {
   "cell_type": "code",
   "execution_count": null,
   "metadata": {},
   "outputs": [],
   "source": [
    "# df_abs , df_title = vis_docs(abs_n=20,title_n=10,doc_type=tfidf_words_abstract)"
   ]
  },
  {
   "cell_type": "code",
   "execution_count": null,
   "metadata": {},
   "outputs": [],
   "source": [
    "# df_2 = df_2.drop('que',axis=1)"
   ]
  },
  {
   "cell_type": "code",
   "execution_count": null,
   "metadata": {},
   "outputs": [],
   "source": [
    "# def que(x):\n",
    "#     if x['Material_title'] == x['Material_abstract']:\n",
    "#         return True\n",
    "#     else:\n",
    "#         return False\n",
    "    \n",
    "# df_2['que'] = df_2.apply(que, axis=1)"
   ]
  },
  {
   "cell_type": "code",
   "execution_count": null,
   "metadata": {},
   "outputs": [],
   "source": [
    "# df_2['que'].apply(lambda x:\"x['que']\" ,if x ==\"Ceramic\",axis=1)"
   ]
  },
  {
   "cell_type": "code",
   "execution_count": null,
   "metadata": {},
   "outputs": [],
   "source": [
    "# sum(df_2['que'])"
   ]
  },
  {
   "cell_type": "code",
   "execution_count": null,
   "metadata": {},
   "outputs": [],
   "source": [
    "# df_2 = df_2[['Titles','Abstracts','Material_abstract','Material_abstract_score','Material_title','Material_title_score','que']]"
   ]
  },
  {
   "cell_type": "code",
   "execution_count": null,
   "metadata": {},
   "outputs": [],
   "source": [
    "# df_2 = df_2.drop(['que'],axis=1)"
   ]
  },
  {
   "cell_type": "code",
   "execution_count": null,
   "metadata": {},
   "outputs": [],
   "source": [
    "# df_2.to_excel(\"recent_results.xlsx\")"
   ]
  },
  {
   "cell_type": "code",
   "execution_count": null,
   "metadata": {},
   "outputs": [],
   "source": [
    "# def r(x):\n",
    "#     return round(x,2)\n",
    "\n",
    "# df_2[\"Material_title_score\"] = df_2[\"Material_title_score\"].apply(lambda x:round(x,2))\n",
    "# df_2[\"Production_title_score\"] = df_2[\"Production_title_score\"].apply(lambda x:round(x,2))"
   ]
  },
  {
   "cell_type": "code",
   "execution_count": null,
   "metadata": {},
   "outputs": [],
   "source": [
    "# temizlemeden bakilabilri aynimi diye\n",
    "# yuksek olan abs ve titledan birseltirielbilir\n",
    "# tfidf word sayilariyla oynanabilir\n",
    "\n",
    "# https://www.datacamp.com/community/tutorials/stemming-lemmatization-python"
   ]
  },
  {
   "cell_type": "code",
   "execution_count": null,
   "metadata": {},
   "outputs": [],
   "source": []
  }
 ],
 "metadata": {
  "kernelspec": {
   "display_name": "Python 3",
   "language": "python",
   "name": "python3"
  },
  "language_info": {
   "codemirror_mode": {
    "name": "ipython",
    "version": 3
   },
   "file_extension": ".py",
   "mimetype": "text/x-python",
   "name": "python",
   "nbconvert_exporter": "python",
   "pygments_lexer": "ipython3",
   "version": "3.7.4"
  }
 },
 "nbformat": 4,
 "nbformat_minor": 2
}
