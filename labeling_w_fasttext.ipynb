{
 "cells": [
  {
   "cell_type": "code",
   "execution_count": 1,
   "metadata": {},
   "outputs": [],
   "source": [
    "import numpy as np\n",
    "import pandas as pd\n",
    "import pickle, os\n",
    "import spacy\n",
    "import fasttext\n",
    "import re\n",
    "\n",
    "from tqdm.auto import tqdm, trange\n",
    "from scipy.spatial.distance import cosine\n",
    "\n",
    "from utils import find_top_n, pro_labeling ,mat_labeling, text_cleaning\n",
    "\n",
    "\n",
    "from sklearn.feature_extraction.text import TfidfVectorizer"
   ]
  },
  {
   "cell_type": "code",
   "execution_count": 2,
   "metadata": {},
   "outputs": [],
   "source": [
    "import seaborn as sns\n",
    "from sklearn.decomposition import PCA\n",
    "import matplotlib.pyplot as plt"
   ]
  },
  {
   "cell_type": "markdown",
   "metadata": {},
   "source": [
    "### Preprocessing"
   ]
  },
  {
   "cell_type": "code",
   "execution_count": 3,
   "metadata": {},
   "outputs": [],
   "source": [
    "# Loading spacy nlp model\n",
    "spacy_model = spacy.load(\"en_core_web_sm\")"
   ]
  },
  {
   "cell_type": "code",
   "execution_count": 4,
   "metadata": {},
   "outputs": [],
   "source": [
    "# Getting the titles from file names\n",
    "title_list = []\n",
    "\n",
    "for file in os.listdir(\"Local pdf text files\"):\n",
    "  if file.endswith(\".txt\"):\n",
    "    title_list.append(file.split(\".\")[0])"
   ]
  },
  {
   "cell_type": "code",
   "execution_count": 5,
   "metadata": {},
   "outputs": [],
   "source": [
    "# Getting the text from local text files\n",
    "pdf_list = []\n",
    "    \n",
    "for file in os.listdir(\"Local pdf text files\"):\n",
    "  if file.endswith(\".txt\"):\n",
    "    with open(\"Local pdf text files/\"+file,\"r\",encoding=\"utf8\") as f:\n",
    "        pdf_list.append(f.read())"
   ]
  },
  {
   "cell_type": "code",
   "execution_count": 6,
   "metadata": {},
   "outputs": [],
   "source": [
    "pdfs = list(map(lambda x: text_cleaning(x,spacy_model), pdf_list))\n",
    "titles = list(map(lambda x: text_cleaning(x,spacy_model), title_list))"
   ]
  },
  {
   "cell_type": "code",
   "execution_count": 7,
   "metadata": {},
   "outputs": [],
   "source": [
    "# Concatenating pdfs and titles for tfidf\n",
    "pdf_title = pdfs.copy() \n",
    "for text in titles:\n",
    "    pdf_title.append(text)"
   ]
  },
  {
   "cell_type": "code",
   "execution_count": 8,
   "metadata": {},
   "outputs": [
    {
     "data": {
      "text/plain": [
       "198"
      ]
     },
     "execution_count": 8,
     "metadata": {},
     "output_type": "execute_result"
    }
   ],
   "source": [
    "len(pdf_title)"
   ]
  },
  {
   "cell_type": "code",
   "execution_count": 9,
   "metadata": {},
   "outputs": [
    {
     "data": {
      "text/plain": [
       "TfidfVectorizer(analyzer='word', binary=False, decode_error='strict',\n",
       "                dtype=<class 'numpy.float64'>, encoding='utf-8',\n",
       "                input='content', lowercase=True, max_df=0.9, max_features=None,\n",
       "                min_df=10, ngram_range=(1, 2), norm='l2', preprocessor=None,\n",
       "                smooth_idf=True, stop_words='english', strip_accents=None,\n",
       "                sublinear_tf=False, token_pattern='(?u)\\\\b\\\\w\\\\w+\\\\b',\n",
       "                tokenizer=None, use_idf=True, vocabulary=None)"
      ]
     },
     "execution_count": 9,
     "metadata": {},
     "output_type": "execute_result"
    }
   ],
   "source": [
    "# Tfidf for abstracts\n",
    "vec = TfidfVectorizer(max_df=0.9,min_df=10,stop_words='english',ngram_range=(1, 2))\n",
    "vec.fit(pdf_title)\n",
    "\n",
    "# Tfidf for titles\n",
    "#vec_title = TfidfVectorizer(max_df=0.9,min_df=2,stop_words='english',max_features=100,ngram_range=(1, 2))\n",
    "#vec_abs.fit(titles)"
   ]
  },
  {
   "cell_type": "code",
   "execution_count": 10,
   "metadata": {},
   "outputs": [],
   "source": [
    "#np.array(vec_abs.get_feature_names())"
   ]
  },
  {
   "cell_type": "code",
   "execution_count": 11,
   "metadata": {},
   "outputs": [],
   "source": [
    "# # np.array(vec_abs.get_feature_names())\n",
    "# arr1 = X[0].toarray()\n",
    "# arr2 = X[1].toarray()"
   ]
  },
  {
   "cell_type": "code",
   "execution_count": 12,
   "metadata": {},
   "outputs": [],
   "source": [
    "# 1-cosine(cer,arr2)"
   ]
  },
  {
   "cell_type": "code",
   "execution_count": 13,
   "metadata": {},
   "outputs": [],
   "source": [
    "# cer = \"A ceramic is a solid material comprising an inorganic compound of metal or metalloid and non-metal with ionic or covalent bonds. Common examples are earthenware, porcelain, and brick.\"\n",
    "# y = vec_abs.transform([cer])"
   ]
  },
  {
   "cell_type": "code",
   "execution_count": 14,
   "metadata": {},
   "outputs": [],
   "source": [
    "# cer = y.toarray()"
   ]
  },
  {
   "cell_type": "markdown",
   "metadata": {},
   "source": [
    "### Model Installation"
   ]
  },
  {
   "cell_type": "code",
   "execution_count": 15,
   "metadata": {},
   "outputs": [],
   "source": [
    "# path = \"crawl-300d-2M.vec\"\n",
    "\n",
    "# with open('training_data_local_pdf.txt','w',encoding=\"utf-8\") as f:\n",
    "#     for text in pdf_title:\n",
    "#         f.write('\\n'.join(text.split()))\n",
    "\n",
    "# train_data = 'training_data_local_pdf.txt'\n",
    "\n",
    "# ft_model = fasttext.train_unsupervised(input=train_data, pretrainedVectors=path, dim=300)"
   ]
  },
  {
   "cell_type": "code",
   "execution_count": 16,
   "metadata": {},
   "outputs": [
    {
     "name": "stderr",
     "output_type": "stream",
     "text": [
      "Warning : `load_model` does not return WordVectorModel or SupervisedModel any more, but a `FastText` object which is very similar.\n"
     ]
    }
   ],
   "source": [
    "# Saving the model\n",
    "#ft_model.save_model(\"ft_model_local_pdfs.bin\")\n",
    "\n",
    "# Loading the model\n",
    "ft_model = fasttext.load_model(\"ft_model_arxiv.bin\")"
   ]
  },
  {
   "cell_type": "code",
   "execution_count": 17,
   "metadata": {},
   "outputs": [],
   "source": [
    "# print(ft_model.similarity(w1='artificial' , w2='intelligence'))"
   ]
  },
  {
   "cell_type": "markdown",
   "metadata": {},
   "source": [
    "### Labels"
   ]
  },
  {
   "cell_type": "code",
   "execution_count": 18,
   "metadata": {},
   "outputs": [
    {
     "data": {
      "application/vnd.jupyter.widget-view+json": {
       "model_id": "ab5d30875ebb4878b431473b534842a8",
       "version_major": 2,
       "version_minor": 0
      },
      "text/plain": [
       "HBox(children=(IntProgress(value=0, max=99), HTML(value='')))"
      ]
     },
     "metadata": {},
     "output_type": "display_data"
    },
    {
     "name": "stdout",
     "output_type": "stream",
     "text": [
      "\n"
     ]
    },
    {
     "data": {
      "application/vnd.jupyter.widget-view+json": {
       "model_id": "645ba45753e44e1ea50bf3e91cfeec60",
       "version_major": 2,
       "version_minor": 0
      },
      "text/plain": [
       "HBox(children=(IntProgress(value=0, max=99), HTML(value='')))"
      ]
     },
     "metadata": {},
     "output_type": "display_data"
    },
    {
     "name": "stdout",
     "output_type": "stream",
     "text": [
      "\n"
     ]
    }
   ],
   "source": [
    "# Creating sentences for each document with the strongest tfidf words\n",
    "\n",
    "tfidf_words_abstract = []\n",
    "\n",
    "for abstract in tqdm(pdfs):\n",
    "    tfidf_words_abstract.append(\" \".join(find_top_n(abstract,vec,10)))\n",
    "    \n",
    "tfidf_words_title = []\n",
    "\n",
    "for title in tqdm(titles):\n",
    "    tfidf_words_title.append(\" \".join(find_top_n(title,vec,10)))"
   ]
  },
  {
   "cell_type": "code",
   "execution_count": 19,
   "metadata": {},
   "outputs": [
    {
     "data": {
      "text/plain": [
       "['base sample printing ceramic characterize mpa hardness new sinter complex',\n",
       " 'glass size different layer pore temperature material shape increase porosity',\n",
       " 'ceramic printing present technique component material form main discuss source',\n",
       " 'fiber reinforce continuous composite print carbon filament use fabrication base',\n",
       " 'glass need material base manufacturing condition time product research energy']"
      ]
     },
     "execution_count": 19,
     "metadata": {},
     "output_type": "execute_result"
    }
   ],
   "source": [
    "tfidf_words_abstract[:5]"
   ]
  },
  {
   "cell_type": "code",
   "execution_count": 20,
   "metadata": {},
   "outputs": [
    {
     "data": {
      "text/plain": [
       "['printing ceramic yield fiber fused deposition fused fuse functional fracture formation',\n",
       " 'printing glass surface print property process machine experimental fracture formation',\n",
       " 'review ceramic print yield fdm fused fuse functional fracture formation',\n",
       " 'fiber continuous composite print element form glass electron beam fused deposition fused',\n",
       " 'glass print fdm fused deposition fused fuse functional fracture formation form']"
      ]
     },
     "execution_count": 20,
     "metadata": {},
     "output_type": "execute_result"
    }
   ],
   "source": [
    "tfidf_words_title[:5]"
   ]
  },
  {
   "cell_type": "code",
   "execution_count": 21,
   "metadata": {},
   "outputs": [
    {
     "data": {
      "text/plain": [
       "['additive manufacturing',\n",
       " 'beam melt',\n",
       " 'deposition model',\n",
       " 'direct metal',\n",
       " 'electron beam',\n",
       " 'fused deposition',\n",
       " 'laser melt',\n",
       " 'laser melting',\n",
       " 'lattice structure',\n",
       " 'manufacturing technology',\n",
       " 'mechanical property',\n",
       " 'melt slm',\n",
       " 'microstructure mechanical',\n",
       " 'model fdm',\n",
       " 'process parameter',\n",
       " 'rapid prototyping',\n",
       " 'selective laser',\n",
       " 'slm process',\n",
       " 'stainless steel',\n",
       " 'tensile strength']"
      ]
     },
     "execution_count": 21,
     "metadata": {},
     "output_type": "execute_result"
    }
   ],
   "source": [
    "list(filter(lambda x:len(x.split())==2,list(np.array(vec.get_feature_names()))))"
   ]
  },
  {
   "cell_type": "code",
   "execution_count": 22,
   "metadata": {},
   "outputs": [],
   "source": [
    "pro_1 = ft_model.get_sentence_vector('selective laser melting')\n",
    "pro_2 = ft_model.get_sentence_vector('direct metal laser sintering')\n",
    "\n",
    "pro_3 = ft_model.get_sentence_vector('fused deposition modeling')\n",
    "pro_4 = ft_model.get_sentence_vector('fused filament fabrication')\n",
    "pro_5 = ft_model.get_sentence_vector('extrusion based additive manufacturing')\n",
    "\n",
    "metal = ft_model.get_word_vector('metal')\n",
    "ceramic = ft_model.get_word_vector('ceramic')\n",
    "polymer = ft_model.get_word_vector('polymer')\n",
    "\n",
    "# feature_1 = get_embedding('fracture toughness')\n",
    "# feature_2 = get_embedding('tensile strength')\n",
    "# feature_3 = get_embedding('yield strength')\n",
    "# feature_4 = get_embedding('elastic modulus')\n",
    "# feature_5 = get_embedding('strain fracture break')\n",
    "# feature_6 = get_embedding('weibull modulus')"
   ]
  },
  {
   "cell_type": "code",
   "execution_count": 23,
   "metadata": {},
   "outputs": [],
   "source": [
    "def create_df_abs():\n",
    "    \n",
    "    d_abs = {'Titles':title_list,\n",
    "         'Abstracts':pdf_list,\n",
    "         'Abs_Production':abs_production,\n",
    "         'Abs_Production_score':abs_production_cos_score,\n",
    "         'Abs_Material':abs_material,\n",
    "         'Abs_Material_score':abs_material_cos_score\n",
    "        }\n",
    "    \n",
    "    df = pd.DataFrame(d_abs)\n",
    "    #df[\"Production/Material\"] = df[\"Abs_Production\"] + \" / \" + df[\"Abs_Material\"]\n",
    "    \n",
    "    return df"
   ]
  },
  {
   "cell_type": "code",
   "execution_count": 24,
   "metadata": {},
   "outputs": [],
   "source": [
    "def create_df_title():\n",
    "    \n",
    "    d_title = {'Titles':title_list,\n",
    "         'Abstracts':pdf_list,\n",
    "         'Title_Production':title_production,\n",
    "         'Title_Production_score':title_production_cos_score,\n",
    "         'Title_Material':title_material,\n",
    "         'Title_Material_score':title_material_cos_score\n",
    "        }\n",
    "    \n",
    "    df = pd.DataFrame(d_title)\n",
    "    #df[\"Production/Material\"] = df[\"Title_Production\"] + \" / \" + df[\"Title_Material\"]\n",
    "    \n",
    "    return df"
   ]
  },
  {
   "cell_type": "markdown",
   "metadata": {},
   "source": [
    "### Labeling with abstracts and Titles"
   ]
  },
  {
   "cell_type": "code",
   "execution_count": 25,
   "metadata": {},
   "outputs": [],
   "source": [
    "abs_production , abs_production_cos_score = pro_labeling(tfidf_words_abstract,ft_model,cosine,pro_1,pro_2,pro_3,pro_4,pro_5)\n",
    "abs_material , abs_material_cos_score = mat_labeling(tfidf_words_abstract,ft_model,cosine,metal,ceramic,polymer)\n",
    "df_abs = create_df_abs()\n",
    "\n",
    "title_production , title_production_cos_score = pro_labeling(tfidf_words_title,ft_model,cosine,pro_1,pro_2,pro_3,pro_4,pro_5)\n",
    "title_material , title_material_cos_score = mat_labeling(tfidf_words_title,ft_model,cosine,metal,ceramic,polymer)\n",
    "df_title = create_df_title()"
   ]
  },
  {
   "cell_type": "code",
   "execution_count": 26,
   "metadata": {},
   "outputs": [
    {
     "data": {
      "text/plain": [
       "FDM or FFF or EAM    70\n",
       "SLM or DMLS          29\n",
       "Name: Abs_Production, dtype: int64"
      ]
     },
     "execution_count": 26,
     "metadata": {},
     "output_type": "execute_result"
    }
   ],
   "source": [
    "df_abs[\"Abs_Production\"].value_counts()"
   ]
  },
  {
   "cell_type": "code",
   "execution_count": 27,
   "metadata": {},
   "outputs": [
    {
     "data": {
      "text/plain": [
       "FDM or FFF or EAM    54\n",
       "SLM or DMLS          45\n",
       "Name: Title_Production, dtype: int64"
      ]
     },
     "execution_count": 27,
     "metadata": {},
     "output_type": "execute_result"
    }
   ],
   "source": [
    "df_title[\"Title_Production\"].value_counts()"
   ]
  },
  {
   "cell_type": "code",
   "execution_count": 28,
   "metadata": {},
   "outputs": [
    {
     "data": {
      "text/plain": [
       "Ceramic    58\n",
       "Polymer    26\n",
       "Metal      15\n",
       "Name: Abs_Material, dtype: int64"
      ]
     },
     "execution_count": 28,
     "metadata": {},
     "output_type": "execute_result"
    }
   ],
   "source": [
    "df_abs[\"Abs_Material\"].value_counts()"
   ]
  },
  {
   "cell_type": "code",
   "execution_count": 29,
   "metadata": {},
   "outputs": [
    {
     "data": {
      "text/plain": [
       "Ceramic    49\n",
       "Metal      31\n",
       "Polymer    19\n",
       "Name: Title_Material, dtype: int64"
      ]
     },
     "execution_count": 29,
     "metadata": {},
     "output_type": "execute_result"
    }
   ],
   "source": [
    "df_title[\"Title_Material\"].value_counts()"
   ]
  },
  {
   "cell_type": "code",
   "execution_count": 30,
   "metadata": {},
   "outputs": [
    {
     "data": {
      "text/html": [
       "<div>\n",
       "<style scoped>\n",
       "    .dataframe tbody tr th:only-of-type {\n",
       "        vertical-align: middle;\n",
       "    }\n",
       "\n",
       "    .dataframe tbody tr th {\n",
       "        vertical-align: top;\n",
       "    }\n",
       "\n",
       "    .dataframe thead th {\n",
       "        text-align: right;\n",
       "    }\n",
       "</style>\n",
       "<table border=\"1\" class=\"dataframe\">\n",
       "  <thead>\n",
       "    <tr style=\"text-align: right;\">\n",
       "      <th></th>\n",
       "      <th>Titles</th>\n",
       "      <th>Abstracts</th>\n",
       "      <th>Abs_Production</th>\n",
       "      <th>Abs_Production_score</th>\n",
       "      <th>Abs_Material</th>\n",
       "      <th>Abs_Material_score</th>\n",
       "    </tr>\n",
       "  </thead>\n",
       "  <tbody>\n",
       "    <tr>\n",
       "      <td>0</td>\n",
       "      <td>3D gel-printing of zirconia ceramic parts</td>\n",
       "      <td>3D gel-printing (3DGP) is a new printing metho...</td>\n",
       "      <td>FDM or FFF or EAM</td>\n",
       "      <td>0.998097</td>\n",
       "      <td>Ceramic</td>\n",
       "      <td>0.997609</td>\n",
       "    </tr>\n",
       "    <tr>\n",
       "      <td>1</td>\n",
       "      <td>3D Printed Glass Surface Finish and Bulk Prope...</td>\n",
       "      <td>It is impossible to print glass directly from ...</td>\n",
       "      <td>SLM or DMLS</td>\n",
       "      <td>0.998682</td>\n",
       "      <td>Ceramic</td>\n",
       "      <td>0.997980</td>\n",
       "    </tr>\n",
       "    <tr>\n",
       "      <td>2</td>\n",
       "      <td>3D printing of ceramics A review</td>\n",
       "      <td>Along with extensive research on the three-dim...</td>\n",
       "      <td>FDM or FFF or EAM</td>\n",
       "      <td>0.999350</td>\n",
       "      <td>Ceramic</td>\n",
       "      <td>0.998179</td>\n",
       "    </tr>\n",
       "    <tr>\n",
       "      <td>3</td>\n",
       "      <td>3D Printing of Continuous-Fiber Composites by ...</td>\n",
       "      <td>We have developed a method for the three-dimen...</td>\n",
       "      <td>SLM or DMLS</td>\n",
       "      <td>0.999467</td>\n",
       "      <td>Metal</td>\n",
       "      <td>0.998895</td>\n",
       "    </tr>\n",
       "    <tr>\n",
       "      <td>4</td>\n",
       "      <td>3D Printing of Transparent Glass</td>\n",
       "      <td>Traditional assembly line manufacturing is spe...</td>\n",
       "      <td>FDM or FFF or EAM</td>\n",
       "      <td>0.999015</td>\n",
       "      <td>Ceramic</td>\n",
       "      <td>0.997971</td>\n",
       "    </tr>\n",
       "  </tbody>\n",
       "</table>\n",
       "</div>"
      ],
      "text/plain": [
       "                                              Titles  \\\n",
       "0          3D gel-printing of zirconia ceramic parts   \n",
       "1  3D Printed Glass Surface Finish and Bulk Prope...   \n",
       "2                   3D printing of ceramics A review   \n",
       "3  3D Printing of Continuous-Fiber Composites by ...   \n",
       "4                   3D Printing of Transparent Glass   \n",
       "\n",
       "                                           Abstracts     Abs_Production  \\\n",
       "0  3D gel-printing (3DGP) is a new printing metho...  FDM or FFF or EAM   \n",
       "1  It is impossible to print glass directly from ...        SLM or DMLS   \n",
       "2  Along with extensive research on the three-dim...  FDM or FFF or EAM   \n",
       "3  We have developed a method for the three-dimen...        SLM or DMLS   \n",
       "4  Traditional assembly line manufacturing is spe...  FDM or FFF or EAM   \n",
       "\n",
       "   Abs_Production_score Abs_Material  Abs_Material_score  \n",
       "0              0.998097      Ceramic            0.997609  \n",
       "1              0.998682      Ceramic            0.997980  \n",
       "2              0.999350      Ceramic            0.998179  \n",
       "3              0.999467        Metal            0.998895  \n",
       "4              0.999015      Ceramic            0.997971  "
      ]
     },
     "execution_count": 30,
     "metadata": {},
     "output_type": "execute_result"
    }
   ],
   "source": [
    "df_abs.head()"
   ]
  },
  {
   "cell_type": "code",
   "execution_count": 31,
   "metadata": {},
   "outputs": [
    {
     "data": {
      "text/html": [
       "<div>\n",
       "<style scoped>\n",
       "    .dataframe tbody tr th:only-of-type {\n",
       "        vertical-align: middle;\n",
       "    }\n",
       "\n",
       "    .dataframe tbody tr th {\n",
       "        vertical-align: top;\n",
       "    }\n",
       "\n",
       "    .dataframe thead th {\n",
       "        text-align: right;\n",
       "    }\n",
       "</style>\n",
       "<table border=\"1\" class=\"dataframe\">\n",
       "  <thead>\n",
       "    <tr style=\"text-align: right;\">\n",
       "      <th></th>\n",
       "      <th>Titles</th>\n",
       "      <th>Abstracts</th>\n",
       "      <th>Title_Production</th>\n",
       "      <th>Title_Production_score</th>\n",
       "      <th>Title_Material</th>\n",
       "      <th>Title_Material_score</th>\n",
       "    </tr>\n",
       "  </thead>\n",
       "  <tbody>\n",
       "    <tr>\n",
       "      <td>0</td>\n",
       "      <td>3D gel-printing of zirconia ceramic parts</td>\n",
       "      <td>3D gel-printing (3DGP) is a new printing metho...</td>\n",
       "      <td>FDM or FFF or EAM</td>\n",
       "      <td>0.999508</td>\n",
       "      <td>Ceramic</td>\n",
       "      <td>0.997689</td>\n",
       "    </tr>\n",
       "    <tr>\n",
       "      <td>1</td>\n",
       "      <td>3D Printed Glass Surface Finish and Bulk Prope...</td>\n",
       "      <td>It is impossible to print glass directly from ...</td>\n",
       "      <td>SLM or DMLS</td>\n",
       "      <td>0.999306</td>\n",
       "      <td>Metal</td>\n",
       "      <td>0.998427</td>\n",
       "    </tr>\n",
       "    <tr>\n",
       "      <td>2</td>\n",
       "      <td>3D printing of ceramics A review</td>\n",
       "      <td>Along with extensive research on the three-dim...</td>\n",
       "      <td>FDM or FFF or EAM</td>\n",
       "      <td>0.996989</td>\n",
       "      <td>Polymer</td>\n",
       "      <td>0.996782</td>\n",
       "    </tr>\n",
       "    <tr>\n",
       "      <td>3</td>\n",
       "      <td>3D Printing of Continuous-Fiber Composites by ...</td>\n",
       "      <td>We have developed a method for the three-dimen...</td>\n",
       "      <td>FDM or FFF or EAM</td>\n",
       "      <td>0.999171</td>\n",
       "      <td>Ceramic</td>\n",
       "      <td>0.997681</td>\n",
       "    </tr>\n",
       "    <tr>\n",
       "      <td>4</td>\n",
       "      <td>3D Printing of Transparent Glass</td>\n",
       "      <td>Traditional assembly line manufacturing is spe...</td>\n",
       "      <td>FDM or FFF or EAM</td>\n",
       "      <td>0.997951</td>\n",
       "      <td>Polymer</td>\n",
       "      <td>0.996479</td>\n",
       "    </tr>\n",
       "  </tbody>\n",
       "</table>\n",
       "</div>"
      ],
      "text/plain": [
       "                                              Titles  \\\n",
       "0          3D gel-printing of zirconia ceramic parts   \n",
       "1  3D Printed Glass Surface Finish and Bulk Prope...   \n",
       "2                   3D printing of ceramics A review   \n",
       "3  3D Printing of Continuous-Fiber Composites by ...   \n",
       "4                   3D Printing of Transparent Glass   \n",
       "\n",
       "                                           Abstracts   Title_Production  \\\n",
       "0  3D gel-printing (3DGP) is a new printing metho...  FDM or FFF or EAM   \n",
       "1  It is impossible to print glass directly from ...        SLM or DMLS   \n",
       "2  Along with extensive research on the three-dim...  FDM or FFF or EAM   \n",
       "3  We have developed a method for the three-dimen...  FDM or FFF or EAM   \n",
       "4  Traditional assembly line manufacturing is spe...  FDM or FFF or EAM   \n",
       "\n",
       "   Title_Production_score Title_Material  Title_Material_score  \n",
       "0                0.999508        Ceramic              0.997689  \n",
       "1                0.999306          Metal              0.998427  \n",
       "2                0.996989        Polymer              0.996782  \n",
       "3                0.999171        Ceramic              0.997681  \n",
       "4                0.997951        Polymer              0.996479  "
      ]
     },
     "execution_count": 31,
     "metadata": {},
     "output_type": "execute_result"
    }
   ],
   "source": [
    "df_title.head()"
   ]
  },
  {
   "cell_type": "code",
   "execution_count": 32,
   "metadata": {},
   "outputs": [],
   "source": [
    "import seaborn as sns\n",
    "from sklearn.decomposition import PCA\n",
    "import matplotlib.pyplot as plt"
   ]
  },
  {
   "cell_type": "code",
   "execution_count": 33,
   "metadata": {},
   "outputs": [],
   "source": [
    "def visu_pro(doc):\n",
    "    \n",
    "    X= []\n",
    "\n",
    "    for text in doc:\n",
    "        X.append(ft_model.get_sentence_vector(text))\n",
    "\n",
    "    pca = PCA(n_components=2)\n",
    "    X_reduced = pca.fit_transform(X)\n",
    "\n",
    "    pca_df = pd.DataFrame(index=title_list,columns=['First Component','Second Component'],data=X_reduced)\n",
    "    \n",
    "    if doc == tfidf_words_abstract:\n",
    "        pca_df[\"Labels\"] = df_abs[\"Abs_Production\"].values\n",
    "    else :\n",
    "        pca_df[\"Labels\"] = df_title[\"Title_Production\"].values\n",
    "\n",
    "    fig, ax = plt.subplots(figsize=(10,10))\n",
    "    ax = sns.scatterplot(x=pca_df['First Component'],y=pca_df['Second Component'],hue=pca_df['Labels'],palette ='Set1')\n",
    "    \n",
    "    return pca_df"
   ]
  },
  {
   "cell_type": "code",
   "execution_count": 34,
   "metadata": {},
   "outputs": [
    {
     "data": {
      "image/png": "[encoded data removed]",
      "text/plain": [
       "<Figure size 720x720 with 1 Axes>"
      ]
     },
     "metadata": {
      "needs_background": "light"
     },
     "output_type": "display_data"
    }
   ],
   "source": [
    "a_pro = visu_pro(tfidf_words_abstract)"
   ]
  },
  {
   "cell_type": "code",
   "execution_count": 35,
   "metadata": {},
   "outputs": [
    {
     "data": {
      "image/png": "[encoded data removed]",
      "text/plain": [
       "<Figure size 720x720 with 1 Axes>"
      ]
     },
     "metadata": {
      "needs_background": "light"
     },
     "output_type": "display_data"
    }
   ],
   "source": [
    "t_pro = visu_pro(tfidf_words_title)"
   ]
  },
  {
   "cell_type": "code",
   "execution_count": 36,
   "metadata": {},
   "outputs": [],
   "source": [
    "def visu_mat(doc):\n",
    "    \n",
    "    X= []\n",
    "\n",
    "    for text in doc:\n",
    "        X.append(ft_model.get_sentence_vector(text))\n",
    "\n",
    "    pca = PCA(n_components=2)\n",
    "    X_reduced = pca.fit_transform(X)\n",
    "\n",
    "    pca_df = pd.DataFrame(index=title_list,columns=['First Component','Second Component'],data=X_reduced)\n",
    "    \n",
    "    if doc == tfidf_words_abstract:\n",
    "        pca_df[\"Labels\"] = df_abs[\"Abs_Material\"].values\n",
    "    else :\n",
    "        pca_df[\"Labels\"] = df_title[\"Title_Material\"].values\n",
    "\n",
    "    fig, ax = plt.subplots(figsize=(10,10))\n",
    "    ax = sns.scatterplot(x=pca_df['First Component'],y=pca_df['Second Component'],hue=pca_df['Labels'],palette ='Set1')\n",
    "    \n",
    "    return pca_df"
   ]
  },
  {
   "cell_type": "code",
   "execution_count": 37,
   "metadata": {},
   "outputs": [
    {
     "data": {
      "image/png": "[encoded data removed]",
      "text/plain": [
       "<Figure size 720x720 with 1 Axes>"
      ]
     },
     "metadata": {
      "needs_background": "light"
     },
     "output_type": "display_data"
    }
   ],
   "source": [
    "a_mat = visu_mat(tfidf_words_abstract)"
   ]
  },
  {
   "cell_type": "code",
   "execution_count": 38,
   "metadata": {},
   "outputs": [
    {
     "data": {
      "image/png": "[encoded data removed]",
      "text/plain": [
       "<Figure size 720x720 with 1 Axes>"
      ]
     },
     "metadata": {
      "needs_background": "light"
     },
     "output_type": "display_data"
    }
   ],
   "source": [
    "t_mat = visu_mat(tfidf_words_title)"
   ]
  },
  {
   "cell_type": "code",
   "execution_count": 39,
   "metadata": {},
   "outputs": [
    {
     "ename": "NameError",
     "evalue": "name 'cxvcxvxc' is not defined",
     "output_type": "error",
     "traceback": [
      "\u001b[1;31m---------------------------------------------------------------------------\u001b[0m",
      "\u001b[1;31mNameError\u001b[0m                                 Traceback (most recent call last)",
      "\u001b[1;32m<ipython-input-39-1e2038c6504f>\u001b[0m in \u001b[0;36m<module>\u001b[1;34m\u001b[0m\n\u001b[1;32m----> 1\u001b[1;33m \u001b[0mcxvcxvxc\u001b[0m\u001b[1;33m\u001b[0m\u001b[1;33m\u001b[0m\u001b[0m\n\u001b[0m",
      "\u001b[1;31mNameError\u001b[0m: name 'cxvcxvxc' is not defined"
     ]
    }
   ],
   "source": [
    "cxvcxvxc"
   ]
  },
  {
   "cell_type": "code",
   "execution_count": null,
   "metadata": {},
   "outputs": [],
   "source": [
    "new_df = pd.DataFrame(dict(Titles=title_list,Abstracts=pdf_list))\n",
    "\n",
    "new_df[\"ABS_PRO\"] = df_abs[\"Abs_Production\"]\n",
    "new_df[\"TITLE_PRO\"] = df_title[\"Title_Production\"]\n",
    "\n",
    "new_df[\"ABS_MATERIAL\"] = df_abs[\"Abs_Material\"]\n",
    "new_df[\"TITLE_MATERIAL\"] = df_title[\"Title_Material\"]"
   ]
  },
  {
   "cell_type": "code",
   "execution_count": null,
   "metadata": {},
   "outputs": [],
   "source": [
    "new_df.head()"
   ]
  },
  {
   "cell_type": "code",
   "execution_count": null,
   "metadata": {},
   "outputs": [],
   "source": [
    "new_df[new_df.ABS_PRO!=new_df.TITLE_PRO].shape"
   ]
  },
  {
   "cell_type": "code",
   "execution_count": null,
   "metadata": {},
   "outputs": [],
   "source": [
    "new_df[new_df.ABS_MATERIAL!=new_df.TITLE_MATERIAL].shape"
   ]
  },
  {
   "cell_type": "code",
   "execution_count": null,
   "metadata": {},
   "outputs": [],
   "source": [
    "new_df[\"Titles\"][27]"
   ]
  },
  {
   "cell_type": "code",
   "execution_count": null,
   "metadata": {},
   "outputs": [],
   "source": [
    "df_abs.iloc[27]"
   ]
  },
  {
   "cell_type": "code",
   "execution_count": null,
   "metadata": {},
   "outputs": [],
   "source": [
    "df_title.iloc[27]"
   ]
  },
  {
   "cell_type": "code",
   "execution_count": null,
   "metadata": {},
   "outputs": [],
   "source": [
    "####################################################################################"
   ]
  },
  {
   "cell_type": "code",
   "execution_count": null,
   "metadata": {},
   "outputs": [],
   "source": [
    "new_df[\"Titles\"][25]"
   ]
  },
  {
   "cell_type": "code",
   "execution_count": null,
   "metadata": {},
   "outputs": [],
   "source": [
    "df_abs.iloc[25]"
   ]
  },
  {
   "cell_type": "code",
   "execution_count": null,
   "metadata": {},
   "outputs": [],
   "source": [
    "df_title.iloc[25]"
   ]
  },
  {
   "cell_type": "code",
   "execution_count": null,
   "metadata": {},
   "outputs": [],
   "source": [
    "####################################################################################"
   ]
  },
  {
   "cell_type": "code",
   "execution_count": null,
   "metadata": {},
   "outputs": [],
   "source": [
    "new_df[\"Titles\"][46]"
   ]
  },
  {
   "cell_type": "code",
   "execution_count": null,
   "metadata": {},
   "outputs": [],
   "source": [
    "df_abs.iloc[46]"
   ]
  },
  {
   "cell_type": "code",
   "execution_count": null,
   "metadata": {},
   "outputs": [],
   "source": [
    "df_title.iloc[46]"
   ]
  },
  {
   "cell_type": "code",
   "execution_count": null,
   "metadata": {},
   "outputs": [],
   "source": [
    "new_df[(new_df.ABS_MATERIAL!=new_df.TITLE_MATERIAL)&(new_df.ABS_PRO!=new_df.TITLE_PRO)]"
   ]
  },
  {
   "cell_type": "code",
   "execution_count": null,
   "metadata": {},
   "outputs": [],
   "source": [
    "new_df[\"Titles\"][38]"
   ]
  },
  {
   "cell_type": "code",
   "execution_count": null,
   "metadata": {},
   "outputs": [],
   "source": [
    "df_abs.iloc[38]"
   ]
  },
  {
   "cell_type": "code",
   "execution_count": null,
   "metadata": {},
   "outputs": [],
   "source": [
    "df_title.iloc[38]"
   ]
  },
  {
   "cell_type": "code",
   "execution_count": null,
   "metadata": {},
   "outputs": [],
   "source": [
    "####################################################################################"
   ]
  },
  {
   "cell_type": "code",
   "execution_count": null,
   "metadata": {},
   "outputs": [],
   "source": [
    "new_df[\"Titles\"][75]"
   ]
  },
  {
   "cell_type": "code",
   "execution_count": null,
   "metadata": {},
   "outputs": [],
   "source": [
    "df_abs.iloc[75]"
   ]
  },
  {
   "cell_type": "code",
   "execution_count": null,
   "metadata": {},
   "outputs": [],
   "source": [
    "df_title.iloc[75]"
   ]
  },
  {
   "cell_type": "code",
   "execution_count": null,
   "metadata": {},
   "outputs": [],
   "source": [
    "# def vis_docs(abs_n,title_n,doc_type): # Tuple , number, number, list\n",
    "    \n",
    "#     # Tfidf for abstracts\n",
    "#     vec_abs = TfidfVectorizer(max_df=0.9,min_df=2,stop_words='english',max_features=100,ngram_range=(1,2))\n",
    "#     vec_abs.fit(pdfs)\n",
    "\n",
    "#     # Tfidf for titles\n",
    "#     vec_title = TfidfVectorizer(max_df=0.9,min_df=2,stop_words='english',max_features=100,ngram_range=(1,2))\n",
    "#     vec_title.fit(titles)\n",
    "    \n",
    "#     tfidf_words_abstract = []\n",
    "\n",
    "#     for abstract in pdfs:\n",
    "#         tfidf_words_abstract.append(\" \".join(find_top_n(abstract,vec_abs,abs_n)))\n",
    "\n",
    "#     tfidf_words_title = []\n",
    "\n",
    "#     for title in titles:\n",
    "#         tfidf_words_title.append(\" \".join(find_top_n(title,vec_title,title_n)))\n",
    "        \n",
    "#     abs_production , abs_production_cos_score = pro_labeling(tfidf_words_abstract)\n",
    "#     abs_material , abs_material_cos_score = mat_labeling(tfidf_words_abstract)\n",
    "#     df_abs = create_df_abs()\n",
    "\n",
    "#     title_production , title_production_cos_score = pro_labeling(tfidf_words_title)\n",
    "#     title_material , title_material_cos_score = mat_labeling(tfidf_words_title)\n",
    "#     df_title = create_df_title()\n",
    "    \n",
    "#     X= []\n",
    "\n",
    "#     for text in doc_type:\n",
    "#         X.append(ft_model.get_sentence_vector(text))\n",
    "\n",
    "#     pca = PCA(n_components=2)\n",
    "#     X_reduced = pca.fit_transform(X)\n",
    "\n",
    "#     pca_df = pd.DataFrame(index=title_list,columns=['First Component','Second Component'],data=X_reduced)\n",
    "#     pca_df[\"Labels\"] = df_title[\"Title_Material\"].values\n",
    "    \n",
    "#     fig, ax = plt.subplots(figsize=(10,10))\n",
    "#     ax = sns.scatterplot(x=pca_df['First Component'],y=pca_df['Second Component'],hue=pca_df['Labels'],palette ='Set1')\n",
    "    \n",
    "#     return df_abs , df_title "
   ]
  },
  {
   "cell_type": "code",
   "execution_count": null,
   "metadata": {},
   "outputs": [],
   "source": [
    "# df_abs , df_title = vis_docs(abs_n=20,title_n=10,doc_type=tfidf_words_abstract)"
   ]
  },
  {
   "cell_type": "code",
   "execution_count": null,
   "metadata": {},
   "outputs": [],
   "source": [
    "# df_2 = df_2.drop('que',axis=1)"
   ]
  },
  {
   "cell_type": "code",
   "execution_count": null,
   "metadata": {},
   "outputs": [],
   "source": [
    "# def que(x):\n",
    "#     if x['Material_title'] == x['Material_abstract']:\n",
    "#         return True\n",
    "#     else:\n",
    "#         return False\n",
    "    \n",
    "# df_2['que'] = df_2.apply(que, axis=1)"
   ]
  },
  {
   "cell_type": "code",
   "execution_count": null,
   "metadata": {},
   "outputs": [],
   "source": [
    "# df_2['que'].apply(lambda x:\"x['que']\" ,if x ==\"Ceramic\",axis=1)"
   ]
  },
  {
   "cell_type": "code",
   "execution_count": null,
   "metadata": {},
   "outputs": [],
   "source": [
    "# sum(df_2['que'])"
   ]
  },
  {
   "cell_type": "code",
   "execution_count": null,
   "metadata": {},
   "outputs": [],
   "source": [
    "# df_2 = df_2[['Titles','Abstracts','Material_abstract','Material_abstract_score','Material_title','Material_title_score','que']]"
   ]
  },
  {
   "cell_type": "code",
   "execution_count": null,
   "metadata": {},
   "outputs": [],
   "source": [
    "# df_2 = df_2.drop(['que'],axis=1)"
   ]
  },
  {
   "cell_type": "code",
   "execution_count": null,
   "metadata": {},
   "outputs": [],
   "source": [
    "# df_2.to_excel(\"recent_results.xlsx\")"
   ]
  },
  {
   "cell_type": "code",
   "execution_count": null,
   "metadata": {},
   "outputs": [],
   "source": [
    "# def r(x):\n",
    "#     return round(x,2)\n",
    "\n",
    "# df_2[\"Material_title_score\"] = df_2[\"Material_title_score\"].apply(lambda x:round(x,2))\n",
    "# df_2[\"Production_title_score\"] = df_2[\"Production_title_score\"].apply(lambda x:round(x,2))"
   ]
  },
  {
   "cell_type": "code",
   "execution_count": null,
   "metadata": {},
   "outputs": [],
   "source": [
    "# temizlemeden bakilabilri aynimi diye\n",
    "# yuksek olan abs ve titledan birseltirielbilir\n",
    "# tfidf word sayilariyla oynanabilir\n",
    "\n",
    "# https://www.datacamp.com/community/tutorials/stemming-lemmatization-python"
   ]
  },
  {
   "cell_type": "code",
   "execution_count": null,
   "metadata": {},
   "outputs": [],
   "source": []
  }
 ],
 "metadata": {
  "kernelspec": {
   "display_name": "Python 3",
   "language": "python",
   "name": "python3"
  },
  "language_info": {
   "codemirror_mode": {
    "name": "ipython",
    "version": 3
   },
   "file_extension": ".py",
   "mimetype": "text/x-python",
   "name": "python",
   "nbconvert_exporter": "python",
   "pygments_lexer": "ipython3",
   "version": "3.7.4"
  }
 },
 "nbformat": 4,
 "nbformat_minor": 2
}
