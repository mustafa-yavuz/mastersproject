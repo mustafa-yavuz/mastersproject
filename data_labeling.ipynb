{
 "cells": [
  {
   "cell_type": "code",
   "execution_count": 1,
   "metadata": {
    "colab": {},
    "colab_type": "code",
    "id": "Da3g0-6gpafj"
   },
   "outputs": [],
   "source": [
    "import numpy as np\n",
    "import pandas as pd\n",
    "import pickle\n",
    "import torch\n",
    "import matplotlib.pyplot as plt\n",
    "import seaborn as sns\n",
    "import matplotlib.ticker as ticker\n",
    "\n",
    "from tqdm.auto import tqdm, trange\n",
    "\n",
    "from utils import embedding, find_top_n , tfidf_sentences, production_labeling, material_labeling, feature_labeling, get_embedding \n",
    "\n",
    "from flair.embeddings import WordEmbeddings, FlairEmbeddings, DocumentPoolEmbeddings\n",
    "from flair.data import Sentence\n",
    "from sklearn.feature_extraction.text import TfidfVectorizer\n",
    "\n",
    "with open('abstract_list.pkl', 'rb') as f:\n",
    "    abstract_list = pickle.load(f)\n",
    "with open('title_list.pkl', 'rb') as f:\n",
    "    title_list = pickle.load(f)"
   ]
  },
  {
   "cell_type": "code",
   "execution_count": 2,
   "metadata": {
    "colab": {},
    "colab_type": "code",
    "id": "rXdYZvJVr-Xy"
   },
   "outputs": [
    {
     "data": {
      "text/plain": [
       "TfidfVectorizer(analyzer='word', binary=False, decode_error='strict',\n",
       "                dtype=<class 'numpy.float64'>, encoding='utf-8',\n",
       "                input='content', lowercase=True, max_df=0.9, max_features=None,\n",
       "                min_df=2, ngram_range=(1, 1), norm='l2', preprocessor=None,\n",
       "                smooth_idf=True, stop_words='english', strip_accents=None,\n",
       "                sublinear_tf=False, token_pattern='(?u)\\\\b\\\\w\\\\w+\\\\b',\n",
       "                tokenizer=None, use_idf=True, vocabulary=None)"
      ]
     },
     "execution_count": 2,
     "metadata": {},
     "output_type": "execute_result"
    }
   ],
   "source": [
    "vectorizer = TfidfVectorizer(max_df=0.9,min_df=2,stop_words='english')\n",
    "vectorizer.fit(abstract_list)"
   ]
  },
  {
   "cell_type": "code",
   "execution_count": 3,
   "metadata": {
    "colab": {},
    "colab_type": "code",
    "id": "67Q0jXSJubD2"
   },
   "outputs": [],
   "source": [
    "cos = torch.nn.CosineSimilarity(dim=0, eps=1e-6)"
   ]
  },
  {
   "cell_type": "markdown",
   "metadata": {},
   "source": [
    "### Finding the cosine similarities between documents and labels"
   ]
  },
  {
   "cell_type": "markdown",
   "metadata": {},
   "source": [
    "* **Labels** : How materials are produced\n",
    "* **Material** : The material type after producuction\n",
    "\n",
    "\n",
    "* **SLM** : Selective laser melting\n",
    "* **DMLS** : Direct metal laser sintering\n",
    "* **FDM** : Fused deposition modeling \n",
    "* **FFF** : Fused filament fabrication\n",
    "* **EAM** : Extrusion-based additive manufacturing\n",
    "\n",
    "\n",
    "* Metal\n",
    "* Polymer \n",
    "* Ceramic  "
   ]
  },
  {
   "cell_type": "code",
   "execution_count": 4,
   "metadata": {},
   "outputs": [
    {
     "name": "stderr",
     "output_type": "stream",
     "text": [
      "..\\torch\\csrc\\utils\\tensor_numpy.cpp:141: UserWarning: The given NumPy array is not writeable, and PyTorch does not support non-writeable tensors. This means you can write to the underlying (supposedly non-writeable) NumPy array using the tensor. You may want to copy the array to protect its data or make it writeable before converting it to a tensor. This type of warning will be suppressed for the rest of this program.\n"
     ]
    }
   ],
   "source": [
    "# labels to find for each document\n",
    "label_1 = get_embedding('selective laser melting')\n",
    "label_2 = get_embedding('direct metal laser sintering')\n",
    "\n",
    "label_3 = get_embedding('fused deposition modeling')\n",
    "label_4 = get_embedding('fused filament fabrication')\n",
    "label_5 = get_embedding('extrusion based additive manufacturing')\n",
    "\n",
    "metal = get_embedding('metal')\n",
    "ceramic = get_embedding('ceramic')\n",
    "polymer = get_embedding('polymer')\n",
    "\n",
    "feature_1 = get_embedding('fracture toughness')\n",
    "feature_2 = get_embedding('tensile strength')\n",
    "feature_3 = get_embedding('yield strength')\n",
    "feature_4 = get_embedding('elastic modulus')\n",
    "feature_5 = get_embedding('strain fracture break')\n",
    "feature_6 = get_embedding('weibull modulus')"
   ]
  },
  {
   "cell_type": "code",
   "execution_count": 5,
   "metadata": {},
   "outputs": [
    {
     "data": {
      "application/vnd.jupyter.widget-view+json": {
       "model_id": "eec64a0c4aae4e0690233a7c7fab6bea",
       "version_major": 2,
       "version_minor": 0
      },
      "text/plain": [
       "HBox(children=(IntProgress(value=0, max=10000), HTML(value='')))"
      ]
     },
     "metadata": {},
     "output_type": "display_data"
    },
    {
     "name": "stdout",
     "output_type": "stream",
     "text": [
      "\n"
     ]
    },
    {
     "data": {
      "application/vnd.jupyter.widget-view+json": {
       "model_id": "00b84ae1fa514b60b7264d5146b1112b",
       "version_major": 2,
       "version_minor": 0
      },
      "text/plain": [
       "HBox(children=(IntProgress(value=0, max=10000), HTML(value='')))"
      ]
     },
     "metadata": {},
     "output_type": "display_data"
    },
    {
     "name": "stdout",
     "output_type": "stream",
     "text": [
      "\n"
     ]
    }
   ],
   "source": [
    "#new \n",
    "sentences = tfidf_sentences(abstract_list,vectorizer,3)"
   ]
  },
  {
   "cell_type": "code",
   "execution_count": 6,
   "metadata": {},
   "outputs": [
    {
     "data": {
      "application/vnd.jupyter.widget-view+json": {
       "model_id": "458cd5d4ba4a406cb5247b77c5acc14c",
       "version_major": 2,
       "version_minor": 0
      },
      "text/plain": [
       "HBox(children=(IntProgress(value=0, max=10000), HTML(value='')))"
      ]
     },
     "metadata": {},
     "output_type": "display_data"
    },
    {
     "name": "stdout",
     "output_type": "stream",
     "text": [
      "\n"
     ]
    }
   ],
   "source": [
    "# Labeling for production type\n",
    "production , production_cos_score = production_labeling(sentences,cos,label_1,label_2,label_3,label_4,label_5)"
   ]
  },
  {
   "cell_type": "code",
   "execution_count": 7,
   "metadata": {},
   "outputs": [
    {
     "data": {
      "application/vnd.jupyter.widget-view+json": {
       "model_id": "436fa2406ab943229eea74e3f88bd095",
       "version_major": 2,
       "version_minor": 0
      },
      "text/plain": [
       "HBox(children=(IntProgress(value=0, max=10000), HTML(value='')))"
      ]
     },
     "metadata": {},
     "output_type": "display_data"
    },
    {
     "name": "stdout",
     "output_type": "stream",
     "text": [
      "\n"
     ]
    }
   ],
   "source": [
    "# Labeling for material type\n",
    "material , material_cos_score = material_labeling(sentences,cos,metal,ceramic,polymer)"
   ]
  },
  {
   "cell_type": "code",
   "execution_count": 8,
   "metadata": {
    "colab": {},
    "colab_type": "code",
    "id": "gz8Ny0U_3D5X"
   },
   "outputs": [],
   "source": [
    "d = {'Documents/Abstracts':abstract_list,'Production':production,'P_score':production_cos_score,'Material':material,'M_score':material_cos_score}\n",
    "df = pd.DataFrame(d)"
   ]
  },
  {
   "cell_type": "code",
   "execution_count": 9,
   "metadata": {},
   "outputs": [],
   "source": [
    "df[\"Production/Material\"] = df[\"Production\"] + \" / \" + df[\"Material\"]"
   ]
  },
  {
   "cell_type": "code",
   "execution_count": 10,
   "metadata": {
    "colab": {},
    "colab_type": "code",
    "id": "F96ARgRH3Eg8"
   },
   "outputs": [
    {
     "data": {
      "text/html": [
       "<div>\n",
       "<style scoped>\n",
       "    .dataframe tbody tr th:only-of-type {\n",
       "        vertical-align: middle;\n",
       "    }\n",
       "\n",
       "    .dataframe tbody tr th {\n",
       "        vertical-align: top;\n",
       "    }\n",
       "\n",
       "    .dataframe thead th {\n",
       "        text-align: right;\n",
       "    }\n",
       "</style>\n",
       "<table border=\"1\" class=\"dataframe\">\n",
       "  <thead>\n",
       "    <tr style=\"text-align: right;\">\n",
       "      <th></th>\n",
       "      <th>Documents/Abstracts</th>\n",
       "      <th>Production</th>\n",
       "      <th>P_score</th>\n",
       "      <th>Material</th>\n",
       "      <th>M_score</th>\n",
       "      <th>Production/Material</th>\n",
       "    </tr>\n",
       "  </thead>\n",
       "  <tbody>\n",
       "    <tr>\n",
       "      <td>0</td>\n",
       "      <td>we study the electronic states of giant single...</td>\n",
       "      <td>SLM or DMLS</td>\n",
       "      <td>0.51</td>\n",
       "      <td>Polymer</td>\n",
       "      <td>0.40</td>\n",
       "      <td>SLM or DMLS / Polymer</td>\n",
       "    </tr>\n",
       "    <tr>\n",
       "      <td>1</td>\n",
       "      <td>the recursion and pathintegral methods are app...</td>\n",
       "      <td>FDM or FFF or EAM</td>\n",
       "      <td>0.55</td>\n",
       "      <td>Polymer</td>\n",
       "      <td>0.38</td>\n",
       "      <td>FDM or FFF or EAM / Polymer</td>\n",
       "    </tr>\n",
       "    <tr>\n",
       "      <td>2</td>\n",
       "      <td>we analytically study phonon transmission and ...</td>\n",
       "      <td>FDM or FFF or EAM</td>\n",
       "      <td>0.58</td>\n",
       "      <td>Polymer</td>\n",
       "      <td>0.33</td>\n",
       "      <td>FDM or FFF or EAM / Polymer</td>\n",
       "    </tr>\n",
       "    <tr>\n",
       "      <td>3</td>\n",
       "      <td>we study both analytically and numerically pho...</td>\n",
       "      <td>SLM or DMLS</td>\n",
       "      <td>0.59</td>\n",
       "      <td>Metal</td>\n",
       "      <td>0.43</td>\n",
       "      <td>SLM or DMLS / Metal</td>\n",
       "    </tr>\n",
       "    <tr>\n",
       "      <td>4</td>\n",
       "      <td>we present a model for thin film growth by par...</td>\n",
       "      <td>FDM or FFF or EAM</td>\n",
       "      <td>0.60</td>\n",
       "      <td>Polymer</td>\n",
       "      <td>0.38</td>\n",
       "      <td>FDM or FFF or EAM / Polymer</td>\n",
       "    </tr>\n",
       "    <tr>\n",
       "      <td>5</td>\n",
       "      <td>we study a class of models for brittle fractur...</td>\n",
       "      <td>SLM or DMLS</td>\n",
       "      <td>0.50</td>\n",
       "      <td>Metal</td>\n",
       "      <td>0.37</td>\n",
       "      <td>SLM or DMLS / Metal</td>\n",
       "    </tr>\n",
       "    <tr>\n",
       "      <td>6</td>\n",
       "      <td>the structure of co adsorbates on the surface ...</td>\n",
       "      <td>FDM or FFF or EAM</td>\n",
       "      <td>0.44</td>\n",
       "      <td>Ceramic</td>\n",
       "      <td>0.27</td>\n",
       "      <td>FDM or FFF or EAM / Ceramic</td>\n",
       "    </tr>\n",
       "    <tr>\n",
       "      <td>7</td>\n",
       "      <td>a firstprinciples atomic orbitalbased electron...</td>\n",
       "      <td>SLM or DMLS</td>\n",
       "      <td>0.46</td>\n",
       "      <td>Metal</td>\n",
       "      <td>0.39</td>\n",
       "      <td>SLM or DMLS / Metal</td>\n",
       "    </tr>\n",
       "    <tr>\n",
       "      <td>8</td>\n",
       "      <td>the traditional magnetic storage mechanisms bo...</td>\n",
       "      <td>SLM or DMLS</td>\n",
       "      <td>0.51</td>\n",
       "      <td>Ceramic</td>\n",
       "      <td>0.37</td>\n",
       "      <td>SLM or DMLS / Ceramic</td>\n",
       "    </tr>\n",
       "    <tr>\n",
       "      <td>9</td>\n",
       "      <td>zn in gan forms an efficient radiative center ...</td>\n",
       "      <td>FDM or FFF or EAM</td>\n",
       "      <td>0.41</td>\n",
       "      <td>Polymer</td>\n",
       "      <td>0.32</td>\n",
       "      <td>FDM or FFF or EAM / Polymer</td>\n",
       "    </tr>\n",
       "    <tr>\n",
       "      <td>10</td>\n",
       "      <td>impurity levels and formation energies of acce...</td>\n",
       "      <td>SLM or DMLS</td>\n",
       "      <td>0.35</td>\n",
       "      <td>Metal</td>\n",
       "      <td>0.25</td>\n",
       "      <td>SLM or DMLS / Metal</td>\n",
       "    </tr>\n",
       "    <tr>\n",
       "      <td>11</td>\n",
       "      <td>the formation energy of a solid surface can be...</td>\n",
       "      <td>FDM or FFF or EAM</td>\n",
       "      <td>0.60</td>\n",
       "      <td>Metal</td>\n",
       "      <td>0.52</td>\n",
       "      <td>FDM or FFF or EAM / Metal</td>\n",
       "    </tr>\n",
       "    <tr>\n",
       "      <td>12</td>\n",
       "      <td>the noise in the depth profiles of secondary i...</td>\n",
       "      <td>FDM or FFF or EAM</td>\n",
       "      <td>0.40</td>\n",
       "      <td>Metal</td>\n",
       "      <td>0.32</td>\n",
       "      <td>FDM or FFF or EAM / Metal</td>\n",
       "    </tr>\n",
       "    <tr>\n",
       "      <td>13</td>\n",
       "      <td>ab initio calculations predict that be is a sh...</td>\n",
       "      <td>FDM or FFF or EAM</td>\n",
       "      <td>0.32</td>\n",
       "      <td>Polymer</td>\n",
       "      <td>0.30</td>\n",
       "      <td>FDM or FFF or EAM / Polymer</td>\n",
       "    </tr>\n",
       "    <tr>\n",
       "      <td>14</td>\n",
       "      <td>extrinsic levels formation energies and relaxa...</td>\n",
       "      <td>FDM or FFF or EAM</td>\n",
       "      <td>0.36</td>\n",
       "      <td>Polymer</td>\n",
       "      <td>0.22</td>\n",
       "      <td>FDM or FFF or EAM / Polymer</td>\n",
       "    </tr>\n",
       "    <tr>\n",
       "      <td>15</td>\n",
       "      <td>we present a statistical fragmentation study o...</td>\n",
       "      <td>FDM or FFF or EAM</td>\n",
       "      <td>0.48</td>\n",
       "      <td>Polymer</td>\n",
       "      <td>0.39</td>\n",
       "      <td>FDM or FFF or EAM / Polymer</td>\n",
       "    </tr>\n",
       "    <tr>\n",
       "      <td>16</td>\n",
       "      <td>corelevel shifts and corehole screening effect...</td>\n",
       "      <td>SLM or DMLS</td>\n",
       "      <td>0.59</td>\n",
       "      <td>Metal</td>\n",
       "      <td>0.46</td>\n",
       "      <td>SLM or DMLS / Metal</td>\n",
       "    </tr>\n",
       "    <tr>\n",
       "      <td>17</td>\n",
       "      <td>the fatigue fracture surfaces of a metallic al...</td>\n",
       "      <td>SLM or DMLS</td>\n",
       "      <td>0.45</td>\n",
       "      <td>Metal</td>\n",
       "      <td>0.36</td>\n",
       "      <td>SLM or DMLS / Metal</td>\n",
       "    </tr>\n",
       "    <tr>\n",
       "      <td>18</td>\n",
       "      <td>the cubictoorthorhombic structural transition ...</td>\n",
       "      <td>SLM or DMLS</td>\n",
       "      <td>0.56</td>\n",
       "      <td>Metal</td>\n",
       "      <td>0.35</td>\n",
       "      <td>SLM or DMLS / Metal</td>\n",
       "    </tr>\n",
       "    <tr>\n",
       "      <td>19</td>\n",
       "      <td>physical properties of alloys are compared as ...</td>\n",
       "      <td>FDM or FFF or EAM</td>\n",
       "      <td>0.48</td>\n",
       "      <td>Polymer</td>\n",
       "      <td>0.43</td>\n",
       "      <td>FDM or FFF or EAM / Polymer</td>\n",
       "    </tr>\n",
       "  </tbody>\n",
       "</table>\n",
       "</div>"
      ],
      "text/plain": [
       "                                  Documents/Abstracts         Production  \\\n",
       "0   we study the electronic states of giant single...        SLM or DMLS   \n",
       "1   the recursion and pathintegral methods are app...  FDM or FFF or EAM   \n",
       "2   we analytically study phonon transmission and ...  FDM or FFF or EAM   \n",
       "3   we study both analytically and numerically pho...        SLM or DMLS   \n",
       "4   we present a model for thin film growth by par...  FDM or FFF or EAM   \n",
       "5   we study a class of models for brittle fractur...        SLM or DMLS   \n",
       "6   the structure of co adsorbates on the surface ...  FDM or FFF or EAM   \n",
       "7   a firstprinciples atomic orbitalbased electron...        SLM or DMLS   \n",
       "8   the traditional magnetic storage mechanisms bo...        SLM or DMLS   \n",
       "9   zn in gan forms an efficient radiative center ...  FDM or FFF or EAM   \n",
       "10  impurity levels and formation energies of acce...        SLM or DMLS   \n",
       "11  the formation energy of a solid surface can be...  FDM or FFF or EAM   \n",
       "12  the noise in the depth profiles of secondary i...  FDM or FFF or EAM   \n",
       "13  ab initio calculations predict that be is a sh...  FDM or FFF or EAM   \n",
       "14  extrinsic levels formation energies and relaxa...  FDM or FFF or EAM   \n",
       "15  we present a statistical fragmentation study o...  FDM or FFF or EAM   \n",
       "16  corelevel shifts and corehole screening effect...        SLM or DMLS   \n",
       "17  the fatigue fracture surfaces of a metallic al...        SLM or DMLS   \n",
       "18  the cubictoorthorhombic structural transition ...        SLM or DMLS   \n",
       "19  physical properties of alloys are compared as ...  FDM or FFF or EAM   \n",
       "\n",
       "    P_score Material  M_score          Production/Material  \n",
       "0      0.51  Polymer     0.40        SLM or DMLS / Polymer  \n",
       "1      0.55  Polymer     0.38  FDM or FFF or EAM / Polymer  \n",
       "2      0.58  Polymer     0.33  FDM or FFF or EAM / Polymer  \n",
       "3      0.59    Metal     0.43          SLM or DMLS / Metal  \n",
       "4      0.60  Polymer     0.38  FDM or FFF or EAM / Polymer  \n",
       "5      0.50    Metal     0.37          SLM or DMLS / Metal  \n",
       "6      0.44  Ceramic     0.27  FDM or FFF or EAM / Ceramic  \n",
       "7      0.46    Metal     0.39          SLM or DMLS / Metal  \n",
       "8      0.51  Ceramic     0.37        SLM or DMLS / Ceramic  \n",
       "9      0.41  Polymer     0.32  FDM or FFF or EAM / Polymer  \n",
       "10     0.35    Metal     0.25          SLM or DMLS / Metal  \n",
       "11     0.60    Metal     0.52    FDM or FFF or EAM / Metal  \n",
       "12     0.40    Metal     0.32    FDM or FFF or EAM / Metal  \n",
       "13     0.32  Polymer     0.30  FDM or FFF or EAM / Polymer  \n",
       "14     0.36  Polymer     0.22  FDM or FFF or EAM / Polymer  \n",
       "15     0.48  Polymer     0.39  FDM or FFF or EAM / Polymer  \n",
       "16     0.59    Metal     0.46          SLM or DMLS / Metal  \n",
       "17     0.45    Metal     0.36          SLM or DMLS / Metal  \n",
       "18     0.56    Metal     0.35          SLM or DMLS / Metal  \n",
       "19     0.48  Polymer     0.43  FDM or FFF or EAM / Polymer  "
      ]
     },
     "execution_count": 10,
     "metadata": {},
     "output_type": "execute_result"
    }
   ],
   "source": [
    "df.head(20)"
   ]
  },
  {
   "cell_type": "code",
   "execution_count": 11,
   "metadata": {},
   "outputs": [
    {
     "data": {
      "text/plain": [
       "SLM or DMLS          6147\n",
       "FDM or FFF or EAM    3853\n",
       "Name: Production, dtype: int64"
      ]
     },
     "execution_count": 11,
     "metadata": {},
     "output_type": "execute_result"
    }
   ],
   "source": [
    "df[\"Production\"].value_counts()"
   ]
  },
  {
   "cell_type": "code",
   "execution_count": 12,
   "metadata": {},
   "outputs": [
    {
     "data": {
      "text/plain": [
       "Polymer    5866\n",
       "Metal      2450\n",
       "Ceramic    1684\n",
       "Name: Material, dtype: int64"
      ]
     },
     "execution_count": 12,
     "metadata": {},
     "output_type": "execute_result"
    }
   ],
   "source": [
    "df[\"Material\"].value_counts()"
   ]
  },
  {
   "cell_type": "code",
   "execution_count": 13,
   "metadata": {},
   "outputs": [
    {
     "data": {
      "text/html": [
       "<div>\n",
       "<style scoped>\n",
       "    .dataframe tbody tr th:only-of-type {\n",
       "        vertical-align: middle;\n",
       "    }\n",
       "\n",
       "    .dataframe tbody tr th {\n",
       "        vertical-align: top;\n",
       "    }\n",
       "\n",
       "    .dataframe thead th {\n",
       "        text-align: right;\n",
       "    }\n",
       "</style>\n",
       "<table border=\"1\" class=\"dataframe\">\n",
       "  <thead>\n",
       "    <tr style=\"text-align: right;\">\n",
       "      <th></th>\n",
       "      <th>Documents/Abstracts</th>\n",
       "      <th>Production</th>\n",
       "      <th>P_score</th>\n",
       "      <th>Material</th>\n",
       "      <th>M_score</th>\n",
       "      <th>Production/Material</th>\n",
       "    </tr>\n",
       "  </thead>\n",
       "  <tbody>\n",
       "    <tr>\n",
       "      <td>9955</td>\n",
       "      <td>pfo powders in hexagonal structure have been s...</td>\n",
       "      <td>FDM or FFF or EAM</td>\n",
       "      <td>0.59</td>\n",
       "      <td>Ceramic</td>\n",
       "      <td>0.85</td>\n",
       "      <td>FDM or FFF or EAM / Ceramic</td>\n",
       "    </tr>\n",
       "  </tbody>\n",
       "</table>\n",
       "</div>"
      ],
      "text/plain": [
       "                                    Documents/Abstracts         Production  \\\n",
       "9955  pfo powders in hexagonal structure have been s...  FDM or FFF or EAM   \n",
       "\n",
       "      P_score Material  M_score          Production/Material  \n",
       "9955     0.59  Ceramic     0.85  FDM or FFF or EAM / Ceramic  "
      ]
     },
     "execution_count": 13,
     "metadata": {},
     "output_type": "execute_result"
    }
   ],
   "source": [
    "df[df['M_score']== max(df['M_score'])]"
   ]
  },
  {
   "cell_type": "code",
   "execution_count": 14,
   "metadata": {},
   "outputs": [
    {
     "data": {
      "text/plain": [
       "'pfo powders in hexagonal structure have been synthesized by solgel process using lead acetate glycerin and ferric acetylacetonate as the precursor ceramics were obtained by sintering the powders at c for hour distorted flaky hexahedron grains are frequently observed in the sem images of sintered ceramics large spontaneous polarization was observed in ceramic at room temperature exhibiting a clear ferroelectric hysteresis loop the remnant polarization of ceramic is estimated to be the distortion of hexahedron grains as well as the fe oxygen octahedron in its perovskitelike hexagonal unit cell is proposed to be the origin of polarization in ceramics meanwhile ceramics demonstrate strong ferromagnetism at room temperature simultaneous occurrence of large ferroelectricity and strong ferromagnetism in ceramics holds promise for its application in new generation of electronic devices as a practical multiferroic candidate in single phase'"
      ]
     },
     "execution_count": 14,
     "metadata": {},
     "output_type": "execute_result"
    }
   ],
   "source": [
    "max_material = df.iloc[9955]['Documents/Abstracts']\n",
    "df.iloc[9955]['Documents/Abstracts']"
   ]
  },
  {
   "cell_type": "code",
   "execution_count": 15,
   "metadata": {},
   "outputs": [
    {
     "data": {
      "text/plain": [
       "7"
      ]
     },
     "execution_count": 15,
     "metadata": {},
     "output_type": "execute_result"
    }
   ],
   "source": [
    "import re\n",
    "\n",
    "len(re.findall('ceramic',max_material)) # 7 ceramic in abstract with most score"
   ]
  },
  {
   "cell_type": "code",
   "execution_count": 16,
   "metadata": {},
   "outputs": [
    {
     "data": {
      "text/html": [
       "<div>\n",
       "<style scoped>\n",
       "    .dataframe tbody tr th:only-of-type {\n",
       "        vertical-align: middle;\n",
       "    }\n",
       "\n",
       "    .dataframe tbody tr th {\n",
       "        vertical-align: top;\n",
       "    }\n",
       "\n",
       "    .dataframe thead th {\n",
       "        text-align: right;\n",
       "    }\n",
       "</style>\n",
       "<table border=\"1\" class=\"dataframe\">\n",
       "  <thead>\n",
       "    <tr style=\"text-align: right;\">\n",
       "      <th></th>\n",
       "      <th>Documents/Abstracts</th>\n",
       "      <th>Production</th>\n",
       "      <th>P_score</th>\n",
       "      <th>Material</th>\n",
       "      <th>M_score</th>\n",
       "      <th>Production/Material</th>\n",
       "    </tr>\n",
       "  </thead>\n",
       "  <tbody>\n",
       "    <tr>\n",
       "      <td>2686</td>\n",
       "      <td>pulsed arf laser annealing in air and in hydro...</td>\n",
       "      <td>SLM or DMLS</td>\n",
       "      <td>0.75</td>\n",
       "      <td>Ceramic</td>\n",
       "      <td>0.5</td>\n",
       "      <td>SLM or DMLS / Ceramic</td>\n",
       "    </tr>\n",
       "  </tbody>\n",
       "</table>\n",
       "</div>"
      ],
      "text/plain": [
       "                                    Documents/Abstracts   Production  P_score  \\\n",
       "2686  pulsed arf laser annealing in air and in hydro...  SLM or DMLS     0.75   \n",
       "\n",
       "     Material  M_score    Production/Material  \n",
       "2686  Ceramic      0.5  SLM or DMLS / Ceramic  "
      ]
     },
     "execution_count": 16,
     "metadata": {},
     "output_type": "execute_result"
    }
   ],
   "source": [
    "df[df['P_score']== max(df['P_score'])]"
   ]
  },
  {
   "cell_type": "code",
   "execution_count": 17,
   "metadata": {},
   "outputs": [
    {
     "data": {
      "text/plain": [
       "'pulsed arf laser annealing in air and in hydrogen atmosphere improves the optical properties of zno nanostructured films independently on the ambient atmosphere laser annealing produces two major effects on the photoluminescence pl spectra first the efficiency of the exciton pl increases due to decrease of the number of nonradiative recombination centers second the intensity of the defectrelated orange band decreases because of the removing of excessive oxygen trapped into the films during deposition however annealing in the ambient air also increases the intensity of the green band related to oxygen vacancies we show that the combination of laser annealing and passivation of oxygen vacancies by hydrogen results in films free of defectrelated emission and keeps intact their nanostructural character'"
      ]
     },
     "execution_count": 17,
     "metadata": {},
     "output_type": "execute_result"
    }
   ],
   "source": [
    "max_production = df.iloc[2686]['Documents/Abstracts']\n",
    "df.iloc[2686]['Documents/Abstracts']"
   ]
  },
  {
   "cell_type": "markdown",
   "metadata": {},
   "source": [
    "### 3rd level of classification"
   ]
  },
  {
   "cell_type": "markdown",
   "metadata": {},
   "source": [
    "* **Features** : Features of materials\n",
    "\n",
    "\n",
    "* Fracture toughness or Work of fracture\n",
    "* Tensile strength or ultimate tensile strength\n",
    "* Yield strength\n",
    "* Elastic modulus or Young’s modulus\n",
    "* Strain at break or strain at fracture or fracture strain\n",
    "* Weibull modulus"
   ]
  },
  {
   "cell_type": "code",
   "execution_count": 18,
   "metadata": {},
   "outputs": [
    {
     "data": {
      "application/vnd.jupyter.widget-view+json": {
       "model_id": "21d3bd8ee1194d77b33b378d1f8dc401",
       "version_major": 2,
       "version_minor": 0
      },
      "text/plain": [
       "HBox(children=(IntProgress(value=0, max=10000), HTML(value='')))"
      ]
     },
     "metadata": {},
     "output_type": "display_data"
    },
    {
     "name": "stdout",
     "output_type": "stream",
     "text": [
      "\n"
     ]
    }
   ],
   "source": [
    "# Labeling for feature type\n",
    "feature , feature_cos_score = feature_labeling(sentences,cos,feature_1,feature_2,feature_3,feature_4,feature_5,feature_6)"
   ]
  },
  {
   "cell_type": "code",
   "execution_count": 19,
   "metadata": {},
   "outputs": [],
   "source": [
    "df['Features'] = feature\n",
    "df['F_score'] = feature_cos_score"
   ]
  },
  {
   "cell_type": "code",
   "execution_count": 20,
   "metadata": {},
   "outputs": [
    {
     "data": {
      "text/plain": [
       "Elastic modulus or Young’s modulus                          4052\n",
       "Strain at break or strain at fracture or fracture strain    2333\n",
       "Yield strength                                              1584\n",
       "Weibull modulus                                             1315\n",
       "Fracture toughness or Work of fracture                       502\n",
       "Tensile strength or ultimate tensile strength                214\n",
       "Name: Features, dtype: int64"
      ]
     },
     "execution_count": 20,
     "metadata": {},
     "output_type": "execute_result"
    }
   ],
   "source": [
    "df[\"Features\"].value_counts()"
   ]
  },
  {
   "cell_type": "code",
   "execution_count": 21,
   "metadata": {},
   "outputs": [],
   "source": [
    "df[\"Production/Material/Feature\"] = df[\"Production\"] + \" / \" + df[\"Material\"] + \" / \" + df[\"Features\"]"
   ]
  },
  {
   "cell_type": "code",
   "execution_count": 22,
   "metadata": {},
   "outputs": [
    {
     "data": {
      "text/html": [
       "<div>\n",
       "<style scoped>\n",
       "    .dataframe tbody tr th:only-of-type {\n",
       "        vertical-align: middle;\n",
       "    }\n",
       "\n",
       "    .dataframe tbody tr th {\n",
       "        vertical-align: top;\n",
       "    }\n",
       "\n",
       "    .dataframe thead th {\n",
       "        text-align: right;\n",
       "    }\n",
       "</style>\n",
       "<table border=\"1\" class=\"dataframe\">\n",
       "  <thead>\n",
       "    <tr style=\"text-align: right;\">\n",
       "      <th></th>\n",
       "      <th>Documents/Abstracts</th>\n",
       "      <th>Production</th>\n",
       "      <th>P_score</th>\n",
       "      <th>Material</th>\n",
       "      <th>M_score</th>\n",
       "      <th>Production/Material</th>\n",
       "      <th>Features</th>\n",
       "      <th>F_score</th>\n",
       "      <th>Production/Material/Feature</th>\n",
       "    </tr>\n",
       "  </thead>\n",
       "  <tbody>\n",
       "    <tr>\n",
       "      <td>0</td>\n",
       "      <td>we study the electronic states of giant single...</td>\n",
       "      <td>SLM or DMLS</td>\n",
       "      <td>0.51</td>\n",
       "      <td>Polymer</td>\n",
       "      <td>0.40</td>\n",
       "      <td>SLM or DMLS / Polymer</td>\n",
       "      <td>Elastic modulus or Young’s modulus</td>\n",
       "      <td>0.42</td>\n",
       "      <td>SLM or DMLS / Polymer / Elastic modulus or You...</td>\n",
       "    </tr>\n",
       "    <tr>\n",
       "      <td>1</td>\n",
       "      <td>the recursion and pathintegral methods are app...</td>\n",
       "      <td>FDM or FFF or EAM</td>\n",
       "      <td>0.55</td>\n",
       "      <td>Polymer</td>\n",
       "      <td>0.38</td>\n",
       "      <td>FDM or FFF or EAM / Polymer</td>\n",
       "      <td>Elastic modulus or Young’s modulus</td>\n",
       "      <td>0.49</td>\n",
       "      <td>FDM or FFF or EAM / Polymer / Elastic modulus ...</td>\n",
       "    </tr>\n",
       "    <tr>\n",
       "      <td>2</td>\n",
       "      <td>we analytically study phonon transmission and ...</td>\n",
       "      <td>FDM or FFF or EAM</td>\n",
       "      <td>0.58</td>\n",
       "      <td>Polymer</td>\n",
       "      <td>0.33</td>\n",
       "      <td>FDM or FFF or EAM / Polymer</td>\n",
       "      <td>Yield strength</td>\n",
       "      <td>0.43</td>\n",
       "      <td>FDM or FFF or EAM / Polymer / Yield strength</td>\n",
       "    </tr>\n",
       "    <tr>\n",
       "      <td>3</td>\n",
       "      <td>we study both analytically and numerically pho...</td>\n",
       "      <td>SLM or DMLS</td>\n",
       "      <td>0.59</td>\n",
       "      <td>Metal</td>\n",
       "      <td>0.43</td>\n",
       "      <td>SLM or DMLS / Metal</td>\n",
       "      <td>Strain at break or strain at fracture or fract...</td>\n",
       "      <td>0.46</td>\n",
       "      <td>SLM or DMLS / Metal / Strain at break or strai...</td>\n",
       "    </tr>\n",
       "    <tr>\n",
       "      <td>4</td>\n",
       "      <td>we present a model for thin film growth by par...</td>\n",
       "      <td>FDM or FFF or EAM</td>\n",
       "      <td>0.60</td>\n",
       "      <td>Polymer</td>\n",
       "      <td>0.38</td>\n",
       "      <td>FDM or FFF or EAM / Polymer</td>\n",
       "      <td>Yield strength</td>\n",
       "      <td>0.58</td>\n",
       "      <td>FDM or FFF or EAM / Polymer / Yield strength</td>\n",
       "    </tr>\n",
       "  </tbody>\n",
       "</table>\n",
       "</div>"
      ],
      "text/plain": [
       "                                 Documents/Abstracts         Production  \\\n",
       "0  we study the electronic states of giant single...        SLM or DMLS   \n",
       "1  the recursion and pathintegral methods are app...  FDM or FFF or EAM   \n",
       "2  we analytically study phonon transmission and ...  FDM or FFF or EAM   \n",
       "3  we study both analytically and numerically pho...        SLM or DMLS   \n",
       "4  we present a model for thin film growth by par...  FDM or FFF or EAM   \n",
       "\n",
       "   P_score Material  M_score          Production/Material  \\\n",
       "0     0.51  Polymer     0.40        SLM or DMLS / Polymer   \n",
       "1     0.55  Polymer     0.38  FDM or FFF or EAM / Polymer   \n",
       "2     0.58  Polymer     0.33  FDM or FFF or EAM / Polymer   \n",
       "3     0.59    Metal     0.43          SLM or DMLS / Metal   \n",
       "4     0.60  Polymer     0.38  FDM or FFF or EAM / Polymer   \n",
       "\n",
       "                                            Features  F_score  \\\n",
       "0                 Elastic modulus or Young’s modulus     0.42   \n",
       "1                 Elastic modulus or Young’s modulus     0.49   \n",
       "2                                     Yield strength     0.43   \n",
       "3  Strain at break or strain at fracture or fract...     0.46   \n",
       "4                                     Yield strength     0.58   \n",
       "\n",
       "                         Production/Material/Feature  \n",
       "0  SLM or DMLS / Polymer / Elastic modulus or You...  \n",
       "1  FDM or FFF or EAM / Polymer / Elastic modulus ...  \n",
       "2       FDM or FFF or EAM / Polymer / Yield strength  \n",
       "3  SLM or DMLS / Metal / Strain at break or strai...  \n",
       "4       FDM or FFF or EAM / Polymer / Yield strength  "
      ]
     },
     "execution_count": 22,
     "metadata": {},
     "output_type": "execute_result"
    }
   ],
   "source": [
    "df.head()"
   ]
  },
  {
   "cell_type": "code",
   "execution_count": 23,
   "metadata": {},
   "outputs": [
    {
     "data": {
      "text/plain": [
       "SLM or DMLS / Polymer / Elastic modulus or Young’s modulus                                1723\n",
       "FDM or FFF or EAM / Polymer / Elastic modulus or Young’s modulus                          1439\n",
       "SLM or DMLS / Metal / Strain at break or strain at fracture or fracture strain            1101\n",
       "FDM or FFF or EAM / Polymer / Weibull modulus                                              626\n",
       "SLM or DMLS / Metal / Yield strength                                                       595\n",
       "SLM or DMLS / Polymer / Strain at break or strain at fracture or fracture strain           491\n",
       "SLM or DMLS / Ceramic / Elastic modulus or Young’s modulus                                 420\n",
       "SLM or DMLS / Polymer / Yield strength                                                     358\n",
       "SLM or DMLS / Polymer / Weibull modulus                                                    286\n",
       "SLM or DMLS / Ceramic / Strain at break or strain at fracture or fracture strain           282\n",
       "FDM or FFF or EAM / Polymer / Yield strength                                               274\n",
       "FDM or FFF or EAM / Ceramic / Elastic modulus or Young’s modulus                           243\n",
       "FDM or FFF or EAM / Metal / Yield strength                                                 234\n",
       "FDM or FFF or EAM / Ceramic / Weibull modulus                                              198\n",
       "FDM or FFF or EAM / Polymer / Fracture toughness or Work of fracture                       197\n",
       "SLM or DMLS / Metal / Elastic modulus or Young’s modulus                                   194\n",
       "SLM or DMLS / Ceramic / Weibull modulus                                                    189\n",
       "FDM or FFF or EAM / Polymer / Strain at break or strain at fracture or fracture strain     184\n",
       "FDM or FFF or EAM / Metal / Strain at break or strain at fracture or fracture strain       169\n",
       "SLM or DMLS / Polymer / Fracture toughness or Work of fracture                             144\n",
       "SLM or DMLS / Polymer / Tensile strength or ultimate tensile strength                      116\n",
       "FDM or FFF or EAM / Ceramic / Strain at break or strain at fracture or fracture strain     106\n",
       "SLM or DMLS / Ceramic / Yield strength                                                      87\n",
       "SLM or DMLS / Ceramic / Fracture toughness or Work of fracture                              51\n",
       "FDM or FFF or EAM / Ceramic / Fracture toughness or Work of fracture                        47\n",
       "SLM or DMLS / Metal / Tensile strength or ultimate tensile strength                         39\n",
       "SLM or DMLS / Metal / Fracture toughness or Work of fracture                                37\n",
       "FDM or FFF or EAM / Ceramic / Yield strength                                                36\n",
       "FDM or FFF or EAM / Metal / Elastic modulus or Young’s modulus                              33\n",
       "FDM or FFF or EAM / Polymer / Tensile strength or ultimate tensile strength                 28\n",
       "FDM or FFF or EAM / Metal / Fracture toughness or Work of fracture                          26\n",
       "SLM or DMLS / Ceramic / Tensile strength or ultimate tensile strength                       20\n",
       "SLM or DMLS / Metal / Weibull modulus                                                       14\n",
       "FDM or FFF or EAM / Metal / Tensile strength or ultimate tensile strength                    6\n",
       "FDM or FFF or EAM / Ceramic / Tensile strength or ultimate tensile strength                  5\n",
       "FDM or FFF or EAM / Metal / Weibull modulus                                                  2\n",
       "Name: Production/Material/Feature, dtype: int64"
      ]
     },
     "execution_count": 23,
     "metadata": {},
     "output_type": "execute_result"
    }
   ],
   "source": [
    "df[\"Production/Material/Feature\"].value_counts()"
   ]
  },
  {
   "cell_type": "code",
   "execution_count": 24,
   "metadata": {},
   "outputs": [
    {
     "data": {
      "text/plain": [
       "0.36    500\n",
       "0.39    473\n",
       "0.35    462\n",
       "0.38    440\n",
       "0.41    418\n",
       "       ... \n",
       "0.76      1\n",
       "0.10      1\n",
       "0.08      1\n",
       "0.78      1\n",
       "0.70      1\n",
       "Name: M_score, Length: 70, dtype: int64"
      ]
     },
     "execution_count": 24,
     "metadata": {},
     "output_type": "execute_result"
    }
   ],
   "source": [
    "df[\"M_score\"].value_counts()"
   ]
  },
  {
   "cell_type": "code",
   "execution_count": 25,
   "metadata": {},
   "outputs": [
    {
     "data": {
      "text/plain": [
       "count    10000.000000\n",
       "mean         0.384617\n",
       "std          0.087080\n",
       "min          0.080000\n",
       "25%          0.330000\n",
       "50%          0.380000\n",
       "75%          0.440000\n",
       "max          0.850000\n",
       "Name: M_score, dtype: float64"
      ]
     },
     "execution_count": 25,
     "metadata": {},
     "output_type": "execute_result"
    }
   ],
   "source": [
    "df['M_score'].describe()"
   ]
  },
  {
   "cell_type": "code",
   "execution_count": 26,
   "metadata": {},
   "outputs": [
    {
     "data": {
      "text/plain": [
       "70"
      ]
     },
     "execution_count": 26,
     "metadata": {},
     "output_type": "execute_result"
    }
   ],
   "source": [
    "df[\"M_score\"].nunique()"
   ]
  },
  {
   "cell_type": "code",
   "execution_count": 27,
   "metadata": {},
   "outputs": [],
   "source": [
    "X_axis = list(\"0\" + 30 * \" \" + \"0.425\" + 30 * \" \"+ \"0.85\")"
   ]
  },
  {
   "cell_type": "code",
   "execution_count": 34,
   "metadata": {},
   "outputs": [
    {
     "data": {
      "image/png": "[encoded data removed]",
      "text/plain": [
       "<Figure size 1080x720 with 1 Axes>"
      ]
     },
     "metadata": {
      "needs_background": "light"
     },
     "output_type": "display_data"
    }
   ],
   "source": [
    "plt.figure(figsize=(15,10))\n",
    "sns.set(style=\"darkgrid\")\n",
    "\n",
    "ax = sns.countplot(x=\"M_score\", data=df)\n",
    "ax.xaxis.set_major_formatter(ticker.FixedFormatter(X_axis))\n",
    "#ax.xaxis.set_major_locator(ticker.MultipleLocator(base=10))"
   ]
  },
  {
   "cell_type": "code",
   "execution_count": 29,
   "metadata": {},
   "outputs": [
    {
     "data": {
      "text/html": [
       "<div>\n",
       "<style scoped>\n",
       "    .dataframe tbody tr th:only-of-type {\n",
       "        vertical-align: middle;\n",
       "    }\n",
       "\n",
       "    .dataframe tbody tr th {\n",
       "        vertical-align: top;\n",
       "    }\n",
       "\n",
       "    .dataframe thead th {\n",
       "        text-align: right;\n",
       "    }\n",
       "</style>\n",
       "<table border=\"1\" class=\"dataframe\">\n",
       "  <thead>\n",
       "    <tr style=\"text-align: right;\">\n",
       "      <th></th>\n",
       "      <th>Documents/Abstracts</th>\n",
       "      <th>Production</th>\n",
       "      <th>P_score</th>\n",
       "      <th>Material</th>\n",
       "      <th>M_score</th>\n",
       "      <th>Production/Material</th>\n",
       "      <th>Features</th>\n",
       "      <th>F_score</th>\n",
       "      <th>Production/Material/Feature</th>\n",
       "    </tr>\n",
       "  </thead>\n",
       "  <tbody>\n",
       "    <tr>\n",
       "      <td>7878</td>\n",
       "      <td>binding of atoms in a metallic chromium was in...</td>\n",
       "      <td>SLM or DMLS</td>\n",
       "      <td>0.11</td>\n",
       "      <td>Ceramic</td>\n",
       "      <td>0.08</td>\n",
       "      <td>SLM or DMLS / Ceramic</td>\n",
       "      <td>Weibull modulus</td>\n",
       "      <td>0.18</td>\n",
       "      <td>SLM or DMLS / Ceramic / Weibull modulus</td>\n",
       "    </tr>\n",
       "  </tbody>\n",
       "</table>\n",
       "</div>"
      ],
      "text/plain": [
       "                                    Documents/Abstracts   Production  P_score  \\\n",
       "7878  binding of atoms in a metallic chromium was in...  SLM or DMLS     0.11   \n",
       "\n",
       "     Material  M_score    Production/Material         Features  F_score  \\\n",
       "7878  Ceramic     0.08  SLM or DMLS / Ceramic  Weibull modulus     0.18   \n",
       "\n",
       "                  Production/Material/Feature  \n",
       "7878  SLM or DMLS / Ceramic / Weibull modulus  "
      ]
     },
     "execution_count": 29,
     "metadata": {},
     "output_type": "execute_result"
    }
   ],
   "source": [
    "df[df['M_score']== min(df['M_score'])]"
   ]
  },
  {
   "cell_type": "code",
   "execution_count": 30,
   "metadata": {},
   "outputs": [
    {
     "data": {
      "text/plain": [
       "'binding of atoms in a metallic chromium was investigated in a crfe alloy containing less than at fe enriched to in isotope using mossbauer spectroscopy the binding force was derived from the debye temperature td that in turn was calculated from the temperature dependence of the central shift of the mossbauer spectra recorded in the range of to k following a temperature dependence of the line width that shows a minimum at k two temperature intervals were considered a low temperature one lt ranging from to k and the td value of k or k and a high temperature one ht ranging from to k with the td value of or k depending on the fitting procedure the corresponding values of the harmonic force spring constant are nm and nm or nm and nm for the lt and ht respectively this means that in the ht range the binding force of atoms by the cr matrix is by a factor of stronger than that in the lt range this anomaly is possibly related with a different polarization of the spindensity waves in the lt and ht phases'"
      ]
     },
     "execution_count": 30,
     "metadata": {},
     "output_type": "execute_result"
    }
   ],
   "source": [
    "df[\"Documents/Abstracts\"][df['M_score'].idxmin()] # least cos score"
   ]
  },
  {
   "cell_type": "code",
   "execution_count": 31,
   "metadata": {},
   "outputs": [
    {
     "data": {
      "text/plain": [
       "'pfo powders in hexagonal structure have been synthesized by solgel process using lead acetate glycerin and ferric acetylacetonate as the precursor ceramics were obtained by sintering the powders at c for hour distorted flaky hexahedron grains are frequently observed in the sem images of sintered ceramics large spontaneous polarization was observed in ceramic at room temperature exhibiting a clear ferroelectric hysteresis loop the remnant polarization of ceramic is estimated to be the distortion of hexahedron grains as well as the fe oxygen octahedron in its perovskitelike hexagonal unit cell is proposed to be the origin of polarization in ceramics meanwhile ceramics demonstrate strong ferromagnetism at room temperature simultaneous occurrence of large ferroelectricity and strong ferromagnetism in ceramics holds promise for its application in new generation of electronic devices as a practical multiferroic candidate in single phase'"
      ]
     },
     "execution_count": 31,
     "metadata": {},
     "output_type": "execute_result"
    }
   ],
   "source": [
    "df[\"Documents/Abstracts\"][df['M_score'].idxmax()] # most cos score"
   ]
  },
  {
   "cell_type": "code",
   "execution_count": 32,
   "metadata": {},
   "outputs": [
    {
     "data": {
      "text/plain": [
       "count    6244.000000\n",
       "mean        0.436957\n",
       "std         0.060171\n",
       "min         0.360000\n",
       "25%         0.390000\n",
       "50%         0.430000\n",
       "75%         0.470000\n",
       "max         0.850000\n",
       "Name: M_score, dtype: float64"
      ]
     },
     "execution_count": 32,
     "metadata": {},
     "output_type": "execute_result"
    }
   ],
   "source": [
    "df[df['M_score']>0.35]['M_score'].describe()"
   ]
  },
  {
   "cell_type": "code",
   "execution_count": 33,
   "metadata": {},
   "outputs": [],
   "source": [
    "#df.to_csv(\"data labeling.csv\")"
   ]
  }
 ],
 "metadata": {
  "colab": {
   "collapsed_sections": [],
   "name": "data_labeling",
   "provenance": []
  },
  "kernelspec": {
   "display_name": "Python 3",
   "language": "python",
   "name": "python3"
  },
  "language_info": {
   "codemirror_mode": {
    "name": "ipython",
    "version": 3
   },
   "file_extension": ".py",
   "mimetype": "text/x-python",
   "name": "python",
   "nbconvert_exporter": "python",
   "pygments_lexer": "ipython3",
   "version": "3.7.4"
  }
 },
 "nbformat": 4,
 "nbformat_minor": 1
}
