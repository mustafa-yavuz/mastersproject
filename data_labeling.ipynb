{
 "cells": [
  {
   "cell_type": "code",
   "execution_count": 1,
   "metadata": {
    "colab": {},
    "colab_type": "code",
    "id": "Da3g0-6gpafj"
   },
   "outputs": [],
   "source": [
    "import numpy as np\n",
    "import pandas as pd\n",
    "import pickle\n",
    "import torch\n",
    "from tqdm.auto import tqdm, trange\n",
    "\n",
    "from build_embeddings_pdf import embedding\n",
    "from flair.embeddings import WordEmbeddings, FlairEmbeddings, DocumentPoolEmbeddings\n",
    "from flair.data import Sentence\n",
    "from sklearn.feature_extraction.text import TfidfVectorizer\n",
    "\n",
    "with open('abstract_list.pkl', 'rb') as f:\n",
    "    abstract_list = pickle.load(f)\n",
    "with open('title_list.pkl', 'rb') as f:\n",
    "    title_list = pickle.load(f)"
   ]
  },
  {
   "cell_type": "code",
   "execution_count": 2,
   "metadata": {
    "colab": {},
    "colab_type": "code",
    "id": "rXdYZvJVr-Xy"
   },
   "outputs": [],
   "source": [
    "vectorizer = TfidfVectorizer(max_df=0.9,min_df=2,stop_words='english')\n",
    "vectorizer.fit(abstract_list)\n",
    "\n",
    "# returns top n elements with most tf-idf values\n",
    "def find_top_n(text,n):\n",
    "\n",
    "    response = vectorizer.transform([text])\n",
    "\n",
    "    feature_array = np.array(vectorizer.get_feature_names())\n",
    "    tfidf_sorting = np.argsort(response.toarray()).flatten()[::-1]\n",
    "\n",
    "    return feature_array[tfidf_sorting][:n]"
   ]
  },
  {
   "cell_type": "code",
   "execution_count": 3,
   "metadata": {
    "colab": {
     "base_uri": "https://localhost:8080/",
     "height": 357
    },
    "colab_type": "code",
    "id": "RW-dSIf5sjE5",
    "outputId": "3b17aa96-0f48-4aae-c4dd-22437f3f1449"
   },
   "outputs": [],
   "source": [
    "words_tfidf = []\n",
    "\n",
    "# Concatenating tf-idf words into sentences\n",
    "for text in abstract_list:\n",
    "    words_tfidf.append(\" \".join(find_top_n(text,3)))"
   ]
  },
  {
   "cell_type": "code",
   "execution_count": 4,
   "metadata": {
    "colab": {},
    "colab_type": "code",
    "id": "67Q0jXSJubD2"
   },
   "outputs": [],
   "source": [
    "cos = torch.nn.CosineSimilarity(dim=0, eps=1e-6)"
   ]
  },
  {
   "cell_type": "code",
   "execution_count": 5,
   "metadata": {
    "colab": {},
    "colab_type": "code",
    "id": "OxEOKWDVwbQH"
   },
   "outputs": [],
   "source": [
    "# Creating flair embedding\n",
    "e4 = embedding()"
   ]
  },
  {
   "cell_type": "code",
   "execution_count": 6,
   "metadata": {
    "colab": {},
    "colab_type": "code",
    "id": "diS0WMzOvGFj"
   },
   "outputs": [],
   "source": [
    "# returns flair embedding of a text in torch tensor format\n",
    "def get_embedding(text):\n",
    "    sentence = Sentence(text)\n",
    "    e4.embed(sentence)\n",
    "    return sentence.embedding"
   ]
  },
  {
   "cell_type": "code",
   "execution_count": 7,
   "metadata": {
    "colab": {},
    "colab_type": "code",
    "id": "SHy4KoPJvID1"
   },
   "outputs": [
    {
     "name": "stderr",
     "output_type": "stream",
     "text": [
      "..\\torch\\csrc\\utils\\tensor_numpy.cpp:141: UserWarning: The given NumPy array is not writeable, and PyTorch does not support non-writeable tensors. This means you can write to the underlying (supposedly non-writeable) NumPy array using the tensor. You may want to copy the array to protect its data or make it writeable before converting it to a tensor. This type of warning will be suppressed for the rest of this program.\n"
     ]
    }
   ],
   "source": [
    "# labels to find for each document\n",
    "label_1 = get_embedding('selective laser melting')\n",
    "label_2 = get_embedding('direct metal laser sintering')\n",
    "\n",
    "label_3 = get_embedding('fused deposition modeling')\n",
    "label_4 = get_embedding('fused filament fabrication')\n",
    "label_5 = get_embedding('extrusion based additive manufacturing')\n",
    "\n",
    "metal = get_embedding('metal')\n",
    "ceramic = get_embedding('ceramic')\n",
    "polymer = get_embedding('polymer')"
   ]
  },
  {
   "cell_type": "code",
   "execution_count": 8,
   "metadata": {
    "colab": {
     "base_uri": "https://localhost:8080/",
     "height": 244
    },
    "colab_type": "code",
    "id": "U-wATyGnszaA",
    "outputId": "b77fc91b-701c-41b2-b69a-8040785cff0b"
   },
   "outputs": [
    {
     "data": {
      "application/vnd.jupyter.widget-view+json": {
       "model_id": "879586922d8c452db6b80e5ed017d8e6",
       "version_major": 2,
       "version_minor": 0
      },
      "text/plain": [
       "HBox(children=(IntProgress(value=0, max=10000), HTML(value='')))"
      ]
     },
     "metadata": {},
     "output_type": "display_data"
    },
    {
     "name": "stdout",
     "output_type": "stream",
     "text": [
      "\n"
     ]
    }
   ],
   "source": [
    "# embeddings for concatenated tf-idf sentences\n",
    "tfidf_sentences = [get_embedding(text) for text in tqdm(words_tfidf)]"
   ]
  },
  {
   "cell_type": "markdown",
   "metadata": {},
   "source": [
    "Finding the cosine similarities between documents and labels"
   ]
  },
  {
   "cell_type": "code",
   "execution_count": 9,
   "metadata": {},
   "outputs": [],
   "source": [
    "# Labels : How materials are produced\n",
    "# Material : The material type after producuction\n",
    "\n",
    "# SLM : Selective laser melting\n",
    "# DMLS : Direct metal laser sintering\n",
    "# FDM : Fused deposition modeling \n",
    "# FFF : Fused filament fabrication\n",
    "# EAM: Extrusion-based additive manufacturing\n",
    "production = []\n",
    "production_cos_score = []\n",
    "\n",
    "# Metal\n",
    "# Polymer \n",
    "# Ceramic  \n",
    "material = []  \n",
    "material_cos_score = []"
   ]
  },
  {
   "cell_type": "code",
   "execution_count": 10,
   "metadata": {},
   "outputs": [],
   "source": [
    "# Labeling for production type\n",
    "for text in tfidf_sentences:\n",
    "\n",
    "    lbl= []\n",
    "    \n",
    "    lbl.append(cos(text,label_1))\n",
    "    lbl.append(cos(text,label_2))\n",
    "    lbl.append(cos(text,label_3))\n",
    "    lbl.append(cos(text,label_4))\n",
    "    lbl.append(cos(text,label_5))\n",
    "\n",
    "    if lbl.index(max(lbl))==0 or lbl.index(max(lbl))==1:\n",
    "        production.append('SLM or DMLS')\n",
    "        production_cos_score.append(max(lbl))\n",
    "    else:\n",
    "        production.append('FDM or FFF or EAM')\n",
    "        production_cos_score.append(max(lbl))"
   ]
  },
  {
   "cell_type": "code",
   "execution_count": 11,
   "metadata": {},
   "outputs": [],
   "source": [
    "# Finding cosine scores\n",
    "production_cos_score = list(map(float,production_cos_score))\n",
    "production_cos_score = list(map(lambda x: round(x,2), production_cos_score)) "
   ]
  },
  {
   "cell_type": "code",
   "execution_count": 12,
   "metadata": {},
   "outputs": [],
   "source": [
    "# Labeling for material type\n",
    "for text in tfidf_sentences:\n",
    "\n",
    "    lbl= []\n",
    "    \n",
    "    lbl.append(cos(text,metal))\n",
    "    lbl.append(cos(text,ceramic))\n",
    "    lbl.append(cos(text,polymer))\n",
    "\n",
    "    if lbl.index(max(lbl))==0:\n",
    "        material.append('Metal')\n",
    "        material_cos_score.append(max(lbl))\n",
    "    elif lbl.index(max(lbl))==1:\n",
    "        material.append('Ceramic')\n",
    "        material_cos_score.append(max(lbl))\n",
    "    else:\n",
    "        material.append('Polymer')\n",
    "        material_cos_score.append(max(lbl))"
   ]
  },
  {
   "cell_type": "code",
   "execution_count": 13,
   "metadata": {},
   "outputs": [],
   "source": [
    "# Finding cosine scores\n",
    "material_cos_score = list(map(float,material_cos_score))\n",
    "material_cos_score = list(map(lambda x: round(x,2), material_cos_score)) "
   ]
  },
  {
   "cell_type": "code",
   "execution_count": 14,
   "metadata": {
    "colab": {},
    "colab_type": "code",
    "id": "gz8Ny0U_3D5X"
   },
   "outputs": [],
   "source": [
    "d = {'Documents/Abstracts':abstract_list,'Production':production,'P_score':production_cos_score,'Material':material,'M_score':material_cos_score}\n",
    "df = pd.DataFrame(d)"
   ]
  },
  {
   "cell_type": "code",
   "execution_count": 15,
   "metadata": {},
   "outputs": [],
   "source": [
    "df[\"Production/Material\"] = df[\"Production\"] + \" / \" + df[\"Material\"]"
   ]
  },
  {
   "cell_type": "code",
   "execution_count": 16,
   "metadata": {
    "colab": {},
    "colab_type": "code",
    "id": "F96ARgRH3Eg8"
   },
   "outputs": [
    {
     "data": {
      "text/html": [
       "<div>\n",
       "<style scoped>\n",
       "    .dataframe tbody tr th:only-of-type {\n",
       "        vertical-align: middle;\n",
       "    }\n",
       "\n",
       "    .dataframe tbody tr th {\n",
       "        vertical-align: top;\n",
       "    }\n",
       "\n",
       "    .dataframe thead th {\n",
       "        text-align: right;\n",
       "    }\n",
       "</style>\n",
       "<table border=\"1\" class=\"dataframe\">\n",
       "  <thead>\n",
       "    <tr style=\"text-align: right;\">\n",
       "      <th></th>\n",
       "      <th>Documents/Abstracts</th>\n",
       "      <th>Production</th>\n",
       "      <th>P_score</th>\n",
       "      <th>Material</th>\n",
       "      <th>M_score</th>\n",
       "      <th>Production/Material</th>\n",
       "    </tr>\n",
       "  </thead>\n",
       "  <tbody>\n",
       "    <tr>\n",
       "      <td>0</td>\n",
       "      <td>we study the electronic states of giant single...</td>\n",
       "      <td>SLM or DMLS</td>\n",
       "      <td>0.51</td>\n",
       "      <td>Polymer</td>\n",
       "      <td>0.40</td>\n",
       "      <td>SLM or DMLS / Polymer</td>\n",
       "    </tr>\n",
       "    <tr>\n",
       "      <td>1</td>\n",
       "      <td>the recursion and pathintegral methods are app...</td>\n",
       "      <td>FDM or FFF or EAM</td>\n",
       "      <td>0.55</td>\n",
       "      <td>Polymer</td>\n",
       "      <td>0.38</td>\n",
       "      <td>FDM or FFF or EAM / Polymer</td>\n",
       "    </tr>\n",
       "    <tr>\n",
       "      <td>2</td>\n",
       "      <td>we analytically study phonon transmission and ...</td>\n",
       "      <td>FDM or FFF or EAM</td>\n",
       "      <td>0.58</td>\n",
       "      <td>Polymer</td>\n",
       "      <td>0.33</td>\n",
       "      <td>FDM or FFF or EAM / Polymer</td>\n",
       "    </tr>\n",
       "    <tr>\n",
       "      <td>3</td>\n",
       "      <td>we study both analytically and numerically pho...</td>\n",
       "      <td>SLM or DMLS</td>\n",
       "      <td>0.59</td>\n",
       "      <td>Metal</td>\n",
       "      <td>0.43</td>\n",
       "      <td>SLM or DMLS / Metal</td>\n",
       "    </tr>\n",
       "    <tr>\n",
       "      <td>4</td>\n",
       "      <td>we present a model for thin film growth by par...</td>\n",
       "      <td>FDM or FFF or EAM</td>\n",
       "      <td>0.60</td>\n",
       "      <td>Polymer</td>\n",
       "      <td>0.38</td>\n",
       "      <td>FDM or FFF or EAM / Polymer</td>\n",
       "    </tr>\n",
       "    <tr>\n",
       "      <td>5</td>\n",
       "      <td>we study a class of models for brittle fractur...</td>\n",
       "      <td>SLM or DMLS</td>\n",
       "      <td>0.50</td>\n",
       "      <td>Metal</td>\n",
       "      <td>0.37</td>\n",
       "      <td>SLM or DMLS / Metal</td>\n",
       "    </tr>\n",
       "    <tr>\n",
       "      <td>6</td>\n",
       "      <td>the structure of co adsorbates on the surface ...</td>\n",
       "      <td>FDM or FFF or EAM</td>\n",
       "      <td>0.44</td>\n",
       "      <td>Ceramic</td>\n",
       "      <td>0.27</td>\n",
       "      <td>FDM or FFF or EAM / Ceramic</td>\n",
       "    </tr>\n",
       "    <tr>\n",
       "      <td>7</td>\n",
       "      <td>a firstprinciples atomic orbitalbased electron...</td>\n",
       "      <td>SLM or DMLS</td>\n",
       "      <td>0.46</td>\n",
       "      <td>Metal</td>\n",
       "      <td>0.39</td>\n",
       "      <td>SLM or DMLS / Metal</td>\n",
       "    </tr>\n",
       "    <tr>\n",
       "      <td>8</td>\n",
       "      <td>the traditional magnetic storage mechanisms bo...</td>\n",
       "      <td>SLM or DMLS</td>\n",
       "      <td>0.51</td>\n",
       "      <td>Ceramic</td>\n",
       "      <td>0.37</td>\n",
       "      <td>SLM or DMLS / Ceramic</td>\n",
       "    </tr>\n",
       "    <tr>\n",
       "      <td>9</td>\n",
       "      <td>zn in gan forms an efficient radiative center ...</td>\n",
       "      <td>FDM or FFF or EAM</td>\n",
       "      <td>0.41</td>\n",
       "      <td>Polymer</td>\n",
       "      <td>0.32</td>\n",
       "      <td>FDM or FFF or EAM / Polymer</td>\n",
       "    </tr>\n",
       "    <tr>\n",
       "      <td>10</td>\n",
       "      <td>impurity levels and formation energies of acce...</td>\n",
       "      <td>SLM or DMLS</td>\n",
       "      <td>0.35</td>\n",
       "      <td>Metal</td>\n",
       "      <td>0.25</td>\n",
       "      <td>SLM or DMLS / Metal</td>\n",
       "    </tr>\n",
       "    <tr>\n",
       "      <td>11</td>\n",
       "      <td>the formation energy of a solid surface can be...</td>\n",
       "      <td>FDM or FFF or EAM</td>\n",
       "      <td>0.60</td>\n",
       "      <td>Metal</td>\n",
       "      <td>0.52</td>\n",
       "      <td>FDM or FFF or EAM / Metal</td>\n",
       "    </tr>\n",
       "    <tr>\n",
       "      <td>12</td>\n",
       "      <td>the noise in the depth profiles of secondary i...</td>\n",
       "      <td>FDM or FFF or EAM</td>\n",
       "      <td>0.40</td>\n",
       "      <td>Metal</td>\n",
       "      <td>0.32</td>\n",
       "      <td>FDM or FFF or EAM / Metal</td>\n",
       "    </tr>\n",
       "    <tr>\n",
       "      <td>13</td>\n",
       "      <td>ab initio calculations predict that be is a sh...</td>\n",
       "      <td>FDM or FFF or EAM</td>\n",
       "      <td>0.32</td>\n",
       "      <td>Polymer</td>\n",
       "      <td>0.30</td>\n",
       "      <td>FDM or FFF or EAM / Polymer</td>\n",
       "    </tr>\n",
       "    <tr>\n",
       "      <td>14</td>\n",
       "      <td>extrinsic levels formation energies and relaxa...</td>\n",
       "      <td>FDM or FFF or EAM</td>\n",
       "      <td>0.36</td>\n",
       "      <td>Polymer</td>\n",
       "      <td>0.22</td>\n",
       "      <td>FDM or FFF or EAM / Polymer</td>\n",
       "    </tr>\n",
       "    <tr>\n",
       "      <td>15</td>\n",
       "      <td>we present a statistical fragmentation study o...</td>\n",
       "      <td>FDM or FFF or EAM</td>\n",
       "      <td>0.48</td>\n",
       "      <td>Polymer</td>\n",
       "      <td>0.39</td>\n",
       "      <td>FDM or FFF or EAM / Polymer</td>\n",
       "    </tr>\n",
       "    <tr>\n",
       "      <td>16</td>\n",
       "      <td>corelevel shifts and corehole screening effect...</td>\n",
       "      <td>SLM or DMLS</td>\n",
       "      <td>0.59</td>\n",
       "      <td>Metal</td>\n",
       "      <td>0.46</td>\n",
       "      <td>SLM or DMLS / Metal</td>\n",
       "    </tr>\n",
       "    <tr>\n",
       "      <td>17</td>\n",
       "      <td>the fatigue fracture surfaces of a metallic al...</td>\n",
       "      <td>SLM or DMLS</td>\n",
       "      <td>0.45</td>\n",
       "      <td>Metal</td>\n",
       "      <td>0.36</td>\n",
       "      <td>SLM or DMLS / Metal</td>\n",
       "    </tr>\n",
       "    <tr>\n",
       "      <td>18</td>\n",
       "      <td>the cubictoorthorhombic structural transition ...</td>\n",
       "      <td>SLM or DMLS</td>\n",
       "      <td>0.56</td>\n",
       "      <td>Metal</td>\n",
       "      <td>0.35</td>\n",
       "      <td>SLM or DMLS / Metal</td>\n",
       "    </tr>\n",
       "    <tr>\n",
       "      <td>19</td>\n",
       "      <td>physical properties of alloys are compared as ...</td>\n",
       "      <td>FDM or FFF or EAM</td>\n",
       "      <td>0.48</td>\n",
       "      <td>Polymer</td>\n",
       "      <td>0.43</td>\n",
       "      <td>FDM or FFF or EAM / Polymer</td>\n",
       "    </tr>\n",
       "  </tbody>\n",
       "</table>\n",
       "</div>"
      ],
      "text/plain": [
       "                                  Documents/Abstracts         Production  \\\n",
       "0   we study the electronic states of giant single...        SLM or DMLS   \n",
       "1   the recursion and pathintegral methods are app...  FDM or FFF or EAM   \n",
       "2   we analytically study phonon transmission and ...  FDM or FFF or EAM   \n",
       "3   we study both analytically and numerically pho...        SLM or DMLS   \n",
       "4   we present a model for thin film growth by par...  FDM or FFF or EAM   \n",
       "5   we study a class of models for brittle fractur...        SLM or DMLS   \n",
       "6   the structure of co adsorbates on the surface ...  FDM or FFF or EAM   \n",
       "7   a firstprinciples atomic orbitalbased electron...        SLM or DMLS   \n",
       "8   the traditional magnetic storage mechanisms bo...        SLM or DMLS   \n",
       "9   zn in gan forms an efficient radiative center ...  FDM or FFF or EAM   \n",
       "10  impurity levels and formation energies of acce...        SLM or DMLS   \n",
       "11  the formation energy of a solid surface can be...  FDM or FFF or EAM   \n",
       "12  the noise in the depth profiles of secondary i...  FDM or FFF or EAM   \n",
       "13  ab initio calculations predict that be is a sh...  FDM or FFF or EAM   \n",
       "14  extrinsic levels formation energies and relaxa...  FDM or FFF or EAM   \n",
       "15  we present a statistical fragmentation study o...  FDM or FFF or EAM   \n",
       "16  corelevel shifts and corehole screening effect...        SLM or DMLS   \n",
       "17  the fatigue fracture surfaces of a metallic al...        SLM or DMLS   \n",
       "18  the cubictoorthorhombic structural transition ...        SLM or DMLS   \n",
       "19  physical properties of alloys are compared as ...  FDM or FFF or EAM   \n",
       "\n",
       "    P_score Material  M_score          Production/Material  \n",
       "0      0.51  Polymer     0.40        SLM or DMLS / Polymer  \n",
       "1      0.55  Polymer     0.38  FDM or FFF or EAM / Polymer  \n",
       "2      0.58  Polymer     0.33  FDM or FFF or EAM / Polymer  \n",
       "3      0.59    Metal     0.43          SLM or DMLS / Metal  \n",
       "4      0.60  Polymer     0.38  FDM or FFF or EAM / Polymer  \n",
       "5      0.50    Metal     0.37          SLM or DMLS / Metal  \n",
       "6      0.44  Ceramic     0.27  FDM or FFF or EAM / Ceramic  \n",
       "7      0.46    Metal     0.39          SLM or DMLS / Metal  \n",
       "8      0.51  Ceramic     0.37        SLM or DMLS / Ceramic  \n",
       "9      0.41  Polymer     0.32  FDM or FFF or EAM / Polymer  \n",
       "10     0.35    Metal     0.25          SLM or DMLS / Metal  \n",
       "11     0.60    Metal     0.52    FDM or FFF or EAM / Metal  \n",
       "12     0.40    Metal     0.32    FDM or FFF or EAM / Metal  \n",
       "13     0.32  Polymer     0.30  FDM or FFF or EAM / Polymer  \n",
       "14     0.36  Polymer     0.22  FDM or FFF or EAM / Polymer  \n",
       "15     0.48  Polymer     0.39  FDM or FFF or EAM / Polymer  \n",
       "16     0.59    Metal     0.46          SLM or DMLS / Metal  \n",
       "17     0.45    Metal     0.36          SLM or DMLS / Metal  \n",
       "18     0.56    Metal     0.35          SLM or DMLS / Metal  \n",
       "19     0.48  Polymer     0.43  FDM or FFF or EAM / Polymer  "
      ]
     },
     "execution_count": 16,
     "metadata": {},
     "output_type": "execute_result"
    }
   ],
   "source": [
    "df.head(20)"
   ]
  },
  {
   "cell_type": "code",
   "execution_count": 17,
   "metadata": {},
   "outputs": [
    {
     "data": {
      "text/plain": [
       "SLM or DMLS          6147\n",
       "FDM or FFF or EAM    3853\n",
       "Name: Production, dtype: int64"
      ]
     },
     "execution_count": 17,
     "metadata": {},
     "output_type": "execute_result"
    }
   ],
   "source": [
    "df[\"Production\"].value_counts()"
   ]
  },
  {
   "cell_type": "code",
   "execution_count": 18,
   "metadata": {},
   "outputs": [
    {
     "data": {
      "text/plain": [
       "Polymer    5866\n",
       "Metal      2450\n",
       "Ceramic    1684\n",
       "Name: Material, dtype: int64"
      ]
     },
     "execution_count": 18,
     "metadata": {},
     "output_type": "execute_result"
    }
   ],
   "source": [
    "df[\"Material\"].value_counts()"
   ]
  },
  {
   "cell_type": "code",
   "execution_count": 19,
   "metadata": {},
   "outputs": [
    {
     "data": {
      "text/html": [
       "<div>\n",
       "<style scoped>\n",
       "    .dataframe tbody tr th:only-of-type {\n",
       "        vertical-align: middle;\n",
       "    }\n",
       "\n",
       "    .dataframe tbody tr th {\n",
       "        vertical-align: top;\n",
       "    }\n",
       "\n",
       "    .dataframe thead th {\n",
       "        text-align: right;\n",
       "    }\n",
       "</style>\n",
       "<table border=\"1\" class=\"dataframe\">\n",
       "  <thead>\n",
       "    <tr style=\"text-align: right;\">\n",
       "      <th></th>\n",
       "      <th>Documents/Abstracts</th>\n",
       "      <th>Production</th>\n",
       "      <th>P_score</th>\n",
       "      <th>Material</th>\n",
       "      <th>M_score</th>\n",
       "      <th>Production/Material</th>\n",
       "    </tr>\n",
       "  </thead>\n",
       "  <tbody>\n",
       "    <tr>\n",
       "      <td>9955</td>\n",
       "      <td>pfo powders in hexagonal structure have been s...</td>\n",
       "      <td>FDM or FFF or EAM</td>\n",
       "      <td>0.59</td>\n",
       "      <td>Ceramic</td>\n",
       "      <td>0.85</td>\n",
       "      <td>FDM or FFF or EAM / Ceramic</td>\n",
       "    </tr>\n",
       "  </tbody>\n",
       "</table>\n",
       "</div>"
      ],
      "text/plain": [
       "                                    Documents/Abstracts         Production  \\\n",
       "9955  pfo powders in hexagonal structure have been s...  FDM or FFF or EAM   \n",
       "\n",
       "      P_score Material  M_score          Production/Material  \n",
       "9955     0.59  Ceramic     0.85  FDM or FFF or EAM / Ceramic  "
      ]
     },
     "execution_count": 19,
     "metadata": {},
     "output_type": "execute_result"
    }
   ],
   "source": [
    "df[df['M_score']== max(df['M_score'])]"
   ]
  },
  {
   "cell_type": "code",
   "execution_count": 20,
   "metadata": {},
   "outputs": [
    {
     "data": {
      "text/plain": [
       "'pfo powders in hexagonal structure have been synthesized by solgel process using lead acetate glycerin and ferric acetylacetonate as the precursor ceramics were obtained by sintering the powders at c for hour distorted flaky hexahedron grains are frequently observed in the sem images of sintered ceramics large spontaneous polarization was observed in ceramic at room temperature exhibiting a clear ferroelectric hysteresis loop the remnant polarization of ceramic is estimated to be the distortion of hexahedron grains as well as the fe oxygen octahedron in its perovskitelike hexagonal unit cell is proposed to be the origin of polarization in ceramics meanwhile ceramics demonstrate strong ferromagnetism at room temperature simultaneous occurrence of large ferroelectricity and strong ferromagnetism in ceramics holds promise for its application in new generation of electronic devices as a practical multiferroic candidate in single phase'"
      ]
     },
     "execution_count": 20,
     "metadata": {},
     "output_type": "execute_result"
    }
   ],
   "source": [
    "max_material = df.iloc[9955]['Documents/Abstracts']\n",
    "df.iloc[9955]['Documents/Abstracts']"
   ]
  },
  {
   "cell_type": "code",
   "execution_count": 21,
   "metadata": {},
   "outputs": [
    {
     "data": {
      "text/plain": [
       "7"
      ]
     },
     "execution_count": 21,
     "metadata": {},
     "output_type": "execute_result"
    }
   ],
   "source": [
    "import re\n",
    "\n",
    "len(re.findall('ceramic',max_material)) # 7 ceramic in abstract with most score"
   ]
  },
  {
   "cell_type": "code",
   "execution_count": 22,
   "metadata": {},
   "outputs": [
    {
     "data": {
      "text/html": [
       "<div>\n",
       "<style scoped>\n",
       "    .dataframe tbody tr th:only-of-type {\n",
       "        vertical-align: middle;\n",
       "    }\n",
       "\n",
       "    .dataframe tbody tr th {\n",
       "        vertical-align: top;\n",
       "    }\n",
       "\n",
       "    .dataframe thead th {\n",
       "        text-align: right;\n",
       "    }\n",
       "</style>\n",
       "<table border=\"1\" class=\"dataframe\">\n",
       "  <thead>\n",
       "    <tr style=\"text-align: right;\">\n",
       "      <th></th>\n",
       "      <th>Documents/Abstracts</th>\n",
       "      <th>Production</th>\n",
       "      <th>P_score</th>\n",
       "      <th>Material</th>\n",
       "      <th>M_score</th>\n",
       "      <th>Production/Material</th>\n",
       "    </tr>\n",
       "  </thead>\n",
       "  <tbody>\n",
       "    <tr>\n",
       "      <td>2686</td>\n",
       "      <td>pulsed arf laser annealing in air and in hydro...</td>\n",
       "      <td>SLM or DMLS</td>\n",
       "      <td>0.75</td>\n",
       "      <td>Ceramic</td>\n",
       "      <td>0.5</td>\n",
       "      <td>SLM or DMLS / Ceramic</td>\n",
       "    </tr>\n",
       "  </tbody>\n",
       "</table>\n",
       "</div>"
      ],
      "text/plain": [
       "                                    Documents/Abstracts   Production  P_score  \\\n",
       "2686  pulsed arf laser annealing in air and in hydro...  SLM or DMLS     0.75   \n",
       "\n",
       "     Material  M_score    Production/Material  \n",
       "2686  Ceramic      0.5  SLM or DMLS / Ceramic  "
      ]
     },
     "execution_count": 22,
     "metadata": {},
     "output_type": "execute_result"
    }
   ],
   "source": [
    "df[df['P_score']== max(df['P_score'])]"
   ]
  },
  {
   "cell_type": "code",
   "execution_count": 23,
   "metadata": {},
   "outputs": [
    {
     "data": {
      "text/plain": [
       "'pulsed arf laser annealing in air and in hydrogen atmosphere improves the optical properties of zno nanostructured films independently on the ambient atmosphere laser annealing produces two major effects on the photoluminescence pl spectra first the efficiency of the exciton pl increases due to decrease of the number of nonradiative recombination centers second the intensity of the defectrelated orange band decreases because of the removing of excessive oxygen trapped into the films during deposition however annealing in the ambient air also increases the intensity of the green band related to oxygen vacancies we show that the combination of laser annealing and passivation of oxygen vacancies by hydrogen results in films free of defectrelated emission and keeps intact their nanostructural character'"
      ]
     },
     "execution_count": 23,
     "metadata": {},
     "output_type": "execute_result"
    }
   ],
   "source": [
    "max_production = df.iloc[2686]['Documents/Abstracts']\n",
    "df.iloc[2686]['Documents/Abstracts']"
   ]
  },
  {
   "cell_type": "code",
   "execution_count": null,
   "metadata": {},
   "outputs": [],
   "source": []
  }
 ],
 "metadata": {
  "colab": {
   "collapsed_sections": [],
   "name": "data_labeling",
   "provenance": []
  },
  "kernelspec": {
   "display_name": "Python 3",
   "language": "python",
   "name": "python3"
  },
  "language_info": {
   "codemirror_mode": {
    "name": "ipython",
    "version": 3
   },
   "file_extension": ".py",
   "mimetype": "text/x-python",
   "name": "python",
   "nbconvert_exporter": "python",
   "pygments_lexer": "ipython3",
   "version": "3.7.4"
  }
 },
 "nbformat": 4,
 "nbformat_minor": 1
}
