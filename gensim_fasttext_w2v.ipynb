{
 "cells": [
  {
   "cell_type": "code",
   "execution_count": 1,
   "metadata": {},
   "outputs": [],
   "source": [
    "import numpy as np\n",
    "import pandas as pd\n",
    "import pickle, os\n",
    "\n",
    "import re\n",
    "import string\n",
    "\n",
    "from tqdm.auto import tqdm, trange\n",
    "from scipy.spatial.distance import cosine\n",
    "\n",
    "from utils import find_top_n, pro_labeling ,mat_labeling\n",
    "from sklearn.feature_extraction.text import TfidfVectorizer"
   ]
  },
  {
   "cell_type": "code",
   "execution_count": 2,
   "metadata": {},
   "outputs": [],
   "source": [
    "import fasttext\n",
    "from gensim.models import FastText\n",
    "\n",
    "import nltk\n",
    "from string import punctuation\n",
    "from nltk.corpus import stopwords\n",
    "from nltk.tokenize import word_tokenize\n",
    "from nltk.stem import WordNetLemmatizer\n",
    "from nltk.tokenize import sent_tokenize\n",
    "from nltk import WordPunctTokenizer\n",
    "\n",
    "stemmer = WordNetLemmatizer()\n",
    "en_stop = set(nltk.corpus.stopwords.words('english'))"
   ]
  },
  {
   "cell_type": "code",
   "execution_count": 3,
   "metadata": {},
   "outputs": [],
   "source": [
    "with open('abstract_list.pkl', 'rb') as f:\n",
    "    abstract_old = pickle.load(f)\n",
    "with open('title_list.pkl', 'rb') as f:\n",
    "    title_old = pickle.load(f)"
   ]
  },
  {
   "cell_type": "code",
   "execution_count": 4,
   "metadata": {},
   "outputs": [
    {
     "data": {
      "text/plain": [
       "50000"
      ]
     },
     "execution_count": 4,
     "metadata": {},
     "output_type": "execute_result"
    }
   ],
   "source": [
    "with open('abstract_40k.pkl', 'rb') as f:\n",
    "    abstracts_40 = pickle.load(f)\n",
    "with open('title_40k.pkl', 'rb') as f:\n",
    "    titles_40 = pickle.load(f)\n",
    "\n",
    "with open('abstract_40ve50.pkl', 'rb') as f:\n",
    "    abstracts_50 = pickle.load(f)\n",
    "with open('title_40ve50.pkl', 'rb') as f:\n",
    "    titles_50 = pickle.load(f)\n",
    "\n",
    "abstracts_50k = abstracts_40 + abstracts_50\n",
    "titles_50k = titles_40 + titles_50\n",
    "\n",
    "len(abstracts_50k)"
   ]
  },
  {
   "cell_type": "code",
   "execution_count": 5,
   "metadata": {},
   "outputs": [],
   "source": [
    "def text_cleaning(data):\n",
    "\n",
    "    data = data.lower()\n",
    "    data = re.sub('\\$(.*?)\\$',' ',data)\n",
    "    data = re.sub('\\[*?\\]', ' ', data)\n",
    "    data = re.sub(f'[{re.escape(string.punctuation)}]', ' ', data)\n",
    "    data = re.sub('\\w*\\d\\w*', ' ', data)\n",
    "    data = data.replace(\"\\n\",\" \")\n",
    "\n",
    "    \n",
    "    data = re.sub('[^a-zA-Z0-9 -]','',data)\n",
    "    data = re.sub(r\"\\b[a-zA-Z]\\b\", \"\", data)\n",
    "    data = re.sub(r\" mm \", \" \", data)\n",
    "\n",
    "    data = data.split()\n",
    "    tokens = [stemmer.lemmatize(word) for word in data]\n",
    "    tokens = [word for word in tokens if word not in en_stop]\n",
    "    #tokens = [word for word in tokens if len(word) > 3]\n",
    "    return tokens"
   ]
  },
  {
   "cell_type": "code",
   "execution_count": 6,
   "metadata": {},
   "outputs": [
    {
     "data": {
      "text/plain": [
       "'We study the electronic states of giant single-shell and the recently\\ndiscovered nested multi-shell carbon fullerenes within the tight-binding\\napproximation. We use two different approaches, one based on iterations and the\\nother on symmetry, to obtain the $\\\\pi$-state energy spectra of large fullerene\\ncages: $C_{240}$, $C_{540}$, $C_{960}$, $C_{1500}$, $C_{2160}$ and $C_{2940}$.\\nOur iteration technique reduces the dimensionality of the problem by more than\\none order of magnitude (factors of $\\\\sim 12$ and $20$), while the\\nsymmetry-based approach reduces it by a factor of $10$. We also find formulae\\nfor the highest occupied and lowest unoccupied molecular orbital (HOMO and\\nLUMO) energies of $C_{60{\\\\cdot}n^{2}}$ fullerenes as a function of $n$,\\ndemonstrating a tendency towards metallic regime for increasing $n$. For\\nmulti-shell fullerenes, we analytically obtain the eigenvalues of the\\nintershell interaction.'"
      ]
     },
     "execution_count": 6,
     "metadata": {},
     "output_type": "execute_result"
    }
   ],
   "source": [
    "abstracts_50k[0]"
   ]
  },
  {
   "cell_type": "code",
   "execution_count": 7,
   "metadata": {},
   "outputs": [
    {
     "data": {
      "text/plain": [
       "['We study the electronic states of giant single-shell and the recently\\ndiscovered nested multi-shell carbon fullerenes within the tight-binding\\napproximation.',\n",
       " 'We use two different approaches, one based on iterations and the\\nother on symmetry, to obtain the $\\\\pi$-state energy spectra of large fullerene\\ncages: $C_{240}$, $C_{540}$, $C_{960}$, $C_{1500}$, $C_{2160}$ and $C_{2940}$.',\n",
       " 'Our iteration technique reduces the dimensionality of the problem by more than\\none order of magnitude (factors of $\\\\sim 12$ and $20$), while the\\nsymmetry-based approach reduces it by a factor of $10$.',\n",
       " 'We also find formulae\\nfor the highest occupied and lowest unoccupied molecular orbital (HOMO and\\nLUMO) energies of $C_{60{\\\\cdot}n^{2}}$ fullerenes as a function of $n$,\\ndemonstrating a tendency towards metallic regime for increasing $n$.',\n",
       " 'For\\nmulti-shell fullerenes, we analytically obtain the eigenvalues of the\\nintershell interaction.']"
      ]
     },
     "execution_count": 7,
     "metadata": {},
     "output_type": "execute_result"
    }
   ],
   "source": [
    "sent_tokenize(abstracts_50k[0])"
   ]
  },
  {
   "cell_type": "code",
   "execution_count": null,
   "metadata": {},
   "outputs": [],
   "source": [
    "# [text_cleaning(sentence) for sentence in sent_tokenize(abstracts_50k[0]) if sentence.strip() !='']"
   ]
  },
  {
   "cell_type": "code",
   "execution_count": 8,
   "metadata": {},
   "outputs": [],
   "source": [
    "corpus = abstracts_50k + titles_50k"
   ]
  },
  {
   "cell_type": "code",
   "execution_count": 9,
   "metadata": {},
   "outputs": [
    {
     "data": {
      "text/plain": [
       "100000"
      ]
     },
     "execution_count": 9,
     "metadata": {},
     "output_type": "execute_result"
    }
   ],
   "source": [
    "len(corpus)"
   ]
  },
  {
   "cell_type": "code",
   "execution_count": 10,
   "metadata": {},
   "outputs": [],
   "source": [
    "corpus = [sentences for text in corpus for sentences in sent_tokenize(text)]"
   ]
  },
  {
   "cell_type": "code",
   "execution_count": 11,
   "metadata": {},
   "outputs": [
    {
     "data": {
      "text/plain": [
       "331319"
      ]
     },
     "execution_count": 11,
     "metadata": {},
     "output_type": "execute_result"
    }
   ],
   "source": [
    "len(corpus)"
   ]
  },
  {
   "cell_type": "code",
   "execution_count": 83,
   "metadata": {},
   "outputs": [
    {
     "data": {
      "text/plain": [
       "'We study the electronic states of giant single-shell and the recently\\ndiscovered nested multi-shell carbon fullerenes within the tight-binding\\napproximation.'"
      ]
     },
     "execution_count": 83,
     "metadata": {},
     "output_type": "execute_result"
    }
   ],
   "source": [
    "corpus[0]"
   ]
  },
  {
   "cell_type": "code",
   "execution_count": 13,
   "metadata": {},
   "outputs": [],
   "source": [
    "final_corpus = [text_cleaning(sentences) for sentences in corpus if sentences.strip() !='']"
   ]
  },
  {
   "cell_type": "code",
   "execution_count": 84,
   "metadata": {},
   "outputs": [
    {
     "data": {
      "text/plain": [
       "['study',\n",
       " 'electronic',\n",
       " 'state',\n",
       " 'giant',\n",
       " 'single',\n",
       " 'shell',\n",
       " 'recently',\n",
       " 'discovered',\n",
       " 'nested',\n",
       " 'multi',\n",
       " 'shell',\n",
       " 'carbon',\n",
       " 'fullerene',\n",
       " 'within',\n",
       " 'tight',\n",
       " 'binding',\n",
       " 'approximation']"
      ]
     },
     "execution_count": 84,
     "metadata": {},
     "output_type": "execute_result"
    }
   ],
   "source": [
    "final_corpus[0]"
   ]
  },
  {
   "cell_type": "code",
   "execution_count": null,
   "metadata": {},
   "outputs": [],
   "source": [
    "# abstracts = list(map(lambda x: text_cleaning(x), abstracts_50k))\n",
    "# titles = list(map(lambda x: text_cleaning(x), titles_50k))"
   ]
  },
  {
   "cell_type": "code",
   "execution_count": null,
   "metadata": {},
   "outputs": [],
   "source": []
  },
  {
   "cell_type": "code",
   "execution_count": null,
   "metadata": {},
   "outputs": [],
   "source": [
    "# # Getting the titles from file names\n",
    "# title_list = []\n",
    "\n",
    "# for file in os.listdir(\"Local pdf text files\"):\n",
    "#   if file.endswith(\".txt\"):\n",
    "#     title_list.append(file.split(\".\")[0])\n",
    "    \n",
    "# # Getting the text from local text files\n",
    "# pdf_list = []\n",
    "    \n",
    "# for file in os.listdir(\"Local pdf text files\"):\n",
    "#   if file.endswith(\".txt\"):\n",
    "#     with open(\"Local pdf text files/\"+file,\"r\",encoding=\"utf8\") as f:\n",
    "#         pdf_list.append(f.read())"
   ]
  },
  {
   "cell_type": "code",
   "execution_count": null,
   "metadata": {},
   "outputs": [],
   "source": [
    "# pdfs = list(map(lambda x: text_cleaning(x), pdf_list))\n",
    "# titles = list(map(lambda x: text_cleaning(x), title_list))"
   ]
  },
  {
   "cell_type": "code",
   "execution_count": null,
   "metadata": {},
   "outputs": [],
   "source": [
    "# pdfs[1]"
   ]
  },
  {
   "cell_type": "code",
   "execution_count": null,
   "metadata": {},
   "outputs": [],
   "source": [
    "# ft_model = FastText(abstracts, size=100, window=5, min_count=5, workers=4,sg=1)"
   ]
  },
  {
   "cell_type": "code",
   "execution_count": null,
   "metadata": {},
   "outputs": [],
   "source": [
    "# %%time\n",
    "# ft_model = FastText(abstracts, size=100, window=40, min_count=5, sample=1e-2, sg=1,iter=100)"
   ]
  },
  {
   "cell_type": "code",
   "execution_count": 15,
   "metadata": {},
   "outputs": [
    {
     "name": "stdout",
     "output_type": "stream",
     "text": [
      "Wall time: 1min 53s\n"
     ]
    }
   ],
   "source": [
    "%%time\n",
    "ft_model = FastText(final_corpus, size=100, window=10, min_count=5,workers=4, sg=1)"
   ]
  },
  {
   "cell_type": "code",
   "execution_count": 16,
   "metadata": {},
   "outputs": [],
   "source": [
    "ft_model.save(\"gensim_model_new_2.bin\")\n",
    "# ft_model = FastText.load('gensim_model_new.bin')"
   ]
  },
  {
   "cell_type": "code",
   "execution_count": 17,
   "metadata": {},
   "outputs": [
    {
     "data": {
      "text/plain": [
       "[('nonmetal', 0.7858569622039795),\n",
       " ('metalization', 0.721686065196991),\n",
       " ('metallisation', 0.7186127305030823),\n",
       " ('metalic', 0.7125375270843506),\n",
       " ('metallo', 0.7095639109611511),\n",
       " ('atypical', 0.7062879800796509),\n",
       " ('nonmetallic', 0.6977999210357666),\n",
       " ('petal', 0.6844149827957153),\n",
       " ('transtion', 0.6705237627029419),\n",
       " ('noble', 0.6630264520645142)]"
      ]
     },
     "execution_count": 17,
     "metadata": {},
     "output_type": "execute_result"
    }
   ],
   "source": [
    "ft_model.wv.most_similar(\"metal\") "
   ]
  },
  {
   "cell_type": "code",
   "execution_count": 81,
   "metadata": {},
   "outputs": [
    {
     "data": {
      "text/plain": [
       "[('biopolymer', 0.9137256741523743),\n",
       " ('polymersomes', 0.8813596963882446),\n",
       " ('homopolymer', 0.8753225803375244),\n",
       " ('biopolymers', 0.8731505870819092),\n",
       " ('polymeric', 0.8603378534317017),\n",
       " ('azopolymers', 0.8601329922676086),\n",
       " ('tribopolymer', 0.8541461229324341),\n",
       " ('copolymer', 0.8442385196685791),\n",
       " ('fluoropolymer', 0.8402372598648071),\n",
       " ('polymethyl', 0.8362335562705994)]"
      ]
     },
     "execution_count": 81,
     "metadata": {},
     "output_type": "execute_result"
    }
   ],
   "source": [
    "ft_model.wv.most_similar(\"polymer\")"
   ]
  },
  {
   "cell_type": "code",
   "execution_count": 82,
   "metadata": {},
   "outputs": [
    {
     "data": {
      "text/plain": [
       "[('ceram', 0.8762143850326538),\n",
       " ('piezoceramic', 0.8336099982261658),\n",
       " ('ccto', 0.7820297479629517),\n",
       " ('piezoceramics', 0.7733694911003113),\n",
       " ('bczt', 0.7497743368148804),\n",
       " ('nzfo', 0.7245482802391052),\n",
       " ('pztfw', 0.7197600603103638),\n",
       " ('nbt', 0.7049596905708313),\n",
       " ('plzt', 0.7035001516342163),\n",
       " ('xlax', 0.6985239386558533)]"
      ]
     },
     "execution_count": 82,
     "metadata": {},
     "output_type": "execute_result"
    }
   ],
   "source": [
    "ft_model.wv.most_similar(\"ceramic\")"
   ]
  },
  {
   "cell_type": "code",
   "execution_count": 21,
   "metadata": {},
   "outputs": [
    {
     "data": {
      "text/plain": [
       "'study electronic state giant single shell recently discovered nested multi shell carbon fullerene within tight binding approximation'"
      ]
     },
     "execution_count": 21,
     "metadata": {},
     "output_type": "execute_result"
    }
   ],
   "source": [
    "\" \".join(final_corpus[0])"
   ]
  },
  {
   "cell_type": "code",
   "execution_count": 22,
   "metadata": {},
   "outputs": [
    {
     "data": {
      "text/plain": [
       "0.62559295"
      ]
     },
     "execution_count": 22,
     "metadata": {},
     "output_type": "execute_result"
    }
   ],
   "source": [
    "ft_model.wv.similarity(\" \".join(final_corpus[0]),\"metal\")"
   ]
  },
  {
   "cell_type": "code",
   "execution_count": 23,
   "metadata": {},
   "outputs": [
    {
     "data": {
      "text/plain": [
       "0.34308237"
      ]
     },
     "execution_count": 23,
     "metadata": {},
     "output_type": "execute_result"
    }
   ],
   "source": [
    "ft_model.wv.similarity(\" \".join(final_corpus[0]),\"ceramic\")"
   ]
  },
  {
   "cell_type": "code",
   "execution_count": 24,
   "metadata": {},
   "outputs": [
    {
     "data": {
      "text/plain": [
       "0.46300992"
      ]
     },
     "execution_count": 24,
     "metadata": {},
     "output_type": "execute_result"
    }
   ],
   "source": [
    "ft_model.wv.similarity(\" \".join(final_corpus[0]),\"polymer\")"
   ]
  },
  {
   "cell_type": "code",
   "execution_count": 25,
   "metadata": {},
   "outputs": [],
   "source": [
    "pro_1 = ft_model.wv.get_vector('selective laser melting')\n",
    "pro_2 = ft_model.wv.get_vector('direct metal laser sintering')\n",
    "\n",
    "pro_3 = ft_model.wv.get_vector('fused deposition modeling')\n",
    "pro_4 = ft_model.wv.get_vector('fused filament fabrication')\n",
    "pro_5 = ft_model.wv.get_vector('extrusion based additive manufacturing')\n",
    "\n",
    "metal = ft_model.wv.get_vector('metal')\n",
    "ceramic = ft_model.wv.get_vector('ceramic')\n",
    "polymer = ft_model.wv.get_vector('polymer')"
   ]
  },
  {
   "cell_type": "code",
   "execution_count": 74,
   "metadata": {},
   "outputs": [],
   "source": [
    "def create_df_abs():\n",
    "    \n",
    "    d_abs = {'Titles':title_old,\n",
    "         'Abstracts':abstract_old,\n",
    "         'Abs_Production':abs_production,\n",
    "         'Abs_Production_score':abs_production_cos_score,\n",
    "         'Abs_Material':abs_material,\n",
    "         'Abs_Material_score':abs_material_cos_score\n",
    "        }\n",
    "    \n",
    "    df = pd.DataFrame(d_abs)\n",
    "    #df[\"Production/Material\"] = df[\"Abs_Production\"] + \" / \" + df[\"Abs_Material\"]\n",
    "    \n",
    "    return df"
   ]
  },
  {
   "cell_type": "code",
   "execution_count": 75,
   "metadata": {},
   "outputs": [],
   "source": [
    "def create_df_title():\n",
    "    \n",
    "    d_title = {'Titles':title_old, #title_old\n",
    "         'Abstracts':abstract_old, #abstract_old\n",
    "         'Title_Production':title_production,\n",
    "         'Title_Production_score':title_production_cos_score,\n",
    "         'Title_Material':title_material,\n",
    "         'Title_Material_score':title_material_cos_score\n",
    "        }\n",
    "    \n",
    "    df = pd.DataFrame(d_title)\n",
    "    #df[\"Production/Material\"] = df[\"Title_Production\"] + \" / \" + df[\"Title_Material\"]\n",
    "    \n",
    "    return df"
   ]
  },
  {
   "cell_type": "code",
   "execution_count": 28,
   "metadata": {},
   "outputs": [],
   "source": [
    "def pro_labeling(doc,ft_model,cosine,pro_1,pro_2,pro_3,pro_4,pro_5):\n",
    "    \n",
    "    production = []\n",
    "    production_cos_score = []\n",
    "    \n",
    "    for text in doc:\n",
    "        \n",
    "        text = ft_model.wv.get_vector(text)\n",
    "        \n",
    "        lbl= []\n",
    "\n",
    "        lbl.append(1-cosine(text,pro_1))\n",
    "        lbl.append(1-cosine(text,pro_2))\n",
    "        lbl.append(1-cosine(text,pro_3))\n",
    "        lbl.append(1-cosine(text,pro_4))\n",
    "        lbl.append(1-cosine(text,pro_5))\n",
    "\n",
    "        if lbl.index(max(lbl))==0 or lbl.index(max(lbl))==1:\n",
    "            production.append('SLM or DMLS')\n",
    "            production_cos_score.append(max(lbl))\n",
    "        else:\n",
    "            production.append('FDM or FFF or EAM')\n",
    "            production_cos_score.append(max(lbl))\n",
    "    \n",
    "    return production , production_cos_score"
   ]
  },
  {
   "cell_type": "code",
   "execution_count": 29,
   "metadata": {},
   "outputs": [],
   "source": [
    "def mat_labeling(doc,ft_model,cosine,metal,ceramic,polymer):\n",
    "\n",
    "    material = []  \n",
    "    material_cos_score = []\n",
    "\n",
    "    for text in doc:\n",
    "        \n",
    "        text = ft_model.wv.get_vector(text)\n",
    "        \n",
    "        lbl= []\n",
    "\n",
    "        lbl.append(1-cosine(text,metal))\n",
    "        lbl.append(1-cosine(text,ceramic))\n",
    "        lbl.append(1-cosine(text,polymer))\n",
    "\n",
    "        if lbl.index(max(lbl))==0:\n",
    "            material.append('Metal')\n",
    "            material_cos_score.append(max(lbl))\n",
    "        elif lbl.index(max(lbl))==1:\n",
    "            material.append('Ceramic')\n",
    "            material_cos_score.append(max(lbl))\n",
    "        else:\n",
    "            material.append('Polymer')\n",
    "            material_cos_score.append(max(lbl))\n",
    "    \n",
    "    return material , material_cos_score"
   ]
  },
  {
   "cell_type": "code",
   "execution_count": 44,
   "metadata": {},
   "outputs": [],
   "source": [
    "abstracts = list(map(lambda x: text_cleaning(x), abstracts_50k))\n",
    "titles = list(map(lambda x: text_cleaning(x), titles_50k))"
   ]
  },
  {
   "cell_type": "code",
   "execution_count": 86,
   "metadata": {},
   "outputs": [
    {
     "data": {
      "text/plain": [
       "['study',\n",
       " 'electronic',\n",
       " 'state',\n",
       " 'giant',\n",
       " 'single',\n",
       " 'shell',\n",
       " 'recently',\n",
       " 'discovered',\n",
       " 'nested',\n",
       " 'multi',\n",
       " 'shell',\n",
       " 'carbon',\n",
       " 'fullerene',\n",
       " 'within',\n",
       " 'tight',\n",
       " 'binding',\n",
       " 'approximation',\n",
       " 'use',\n",
       " 'two',\n",
       " 'different',\n",
       " 'approach',\n",
       " 'one',\n",
       " 'based',\n",
       " 'iteration',\n",
       " 'symmetry',\n",
       " 'obtain',\n",
       " 'state',\n",
       " 'energy',\n",
       " 'spectrum',\n",
       " 'large',\n",
       " 'fullerene',\n",
       " 'cage',\n",
       " 'iteration',\n",
       " 'technique',\n",
       " 'reduces',\n",
       " 'dimensionality',\n",
       " 'problem',\n",
       " 'one',\n",
       " 'order',\n",
       " 'magnitude',\n",
       " 'factor',\n",
       " 'symmetry',\n",
       " 'based',\n",
       " 'approach',\n",
       " 'reduces',\n",
       " 'factor',\n",
       " 'also',\n",
       " 'find',\n",
       " 'formula',\n",
       " 'highest',\n",
       " 'occupied',\n",
       " 'lowest',\n",
       " 'unoccupied',\n",
       " 'molecular',\n",
       " 'orbital',\n",
       " 'homo',\n",
       " 'lumo',\n",
       " 'energy',\n",
       " 'fullerene',\n",
       " 'function',\n",
       " 'demonstrating',\n",
       " 'tendency',\n",
       " 'towards',\n",
       " 'metallic',\n",
       " 'regime',\n",
       " 'increasing',\n",
       " 'multi',\n",
       " 'shell',\n",
       " 'fullerene',\n",
       " 'analytically',\n",
       " 'obtain',\n",
       " 'eigenvalue',\n",
       " 'intershell',\n",
       " 'interaction']"
      ]
     },
     "execution_count": 86,
     "metadata": {},
     "output_type": "execute_result"
    }
   ],
   "source": [
    "abstracts[0]"
   ]
  },
  {
   "cell_type": "code",
   "execution_count": 46,
   "metadata": {},
   "outputs": [],
   "source": [
    "abstracts_sen = list(map(lambda x: \" \".join(x), abstracts))\n",
    "titles_sen = list(map(lambda x: \" \".join(x), titles))"
   ]
  },
  {
   "cell_type": "code",
   "execution_count": 85,
   "metadata": {},
   "outputs": [
    {
     "data": {
      "text/plain": [
       "'study electronic state giant single shell recently discovered nested multi shell carbon fullerene within tight binding approximation use two different approach one based iteration symmetry obtain state energy spectrum large fullerene cage iteration technique reduces dimensionality problem one order magnitude factor symmetry based approach reduces factor also find formula highest occupied lowest unoccupied molecular orbital homo lumo energy fullerene function demonstrating tendency towards metallic regime increasing multi shell fullerene analytically obtain eigenvalue intershell interaction'"
      ]
     },
     "execution_count": 85,
     "metadata": {},
     "output_type": "execute_result"
    }
   ],
   "source": [
    "abstracts_sen[0]"
   ]
  },
  {
   "cell_type": "code",
   "execution_count": 57,
   "metadata": {},
   "outputs": [],
   "source": [
    "abs_production , abs_production_cos_score = pro_labeling(abstracts_sen,ft_model,cosine,pro_1,pro_2,pro_3,pro_4,pro_5)\n",
    "abs_material , abs_material_cos_score = mat_labeling(abstracts_sen,ft_model,cosine,metal,ceramic,polymer)\n",
    "df_abs = create_df_abs()\n",
    "\n",
    "title_production , title_production_cos_score = pro_labeling(titles_sen,ft_model,cosine,pro_1,pro_2,pro_3,pro_4,pro_5)\n",
    "title_material , title_material_cos_score = mat_labeling(titles_sen,ft_model,cosine,metal,ceramic,polymer)\n",
    "df_title = create_df_title()"
   ]
  },
  {
   "cell_type": "code",
   "execution_count": 58,
   "metadata": {},
   "outputs": [
    {
     "data": {
      "text/plain": [
       "SLM or DMLS          42772\n",
       "FDM or FFF or EAM     7228\n",
       "Name: Abs_Production, dtype: int64"
      ]
     },
     "execution_count": 58,
     "metadata": {},
     "output_type": "execute_result"
    }
   ],
   "source": [
    "df_abs[\"Abs_Production\"].value_counts()"
   ]
  },
  {
   "cell_type": "code",
   "execution_count": 59,
   "metadata": {},
   "outputs": [
    {
     "data": {
      "text/plain": [
       "SLM or DMLS          38150\n",
       "FDM or FFF or EAM    11850\n",
       "Name: Title_Production, dtype: int64"
      ]
     },
     "execution_count": 59,
     "metadata": {},
     "output_type": "execute_result"
    }
   ],
   "source": [
    "df_title[\"Title_Production\"].value_counts()"
   ]
  },
  {
   "cell_type": "code",
   "execution_count": 60,
   "metadata": {},
   "outputs": [
    {
     "data": {
      "text/plain": [
       "Metal      47149\n",
       "Ceramic     1570\n",
       "Polymer     1281\n",
       "Name: Abs_Material, dtype: int64"
      ]
     },
     "execution_count": 60,
     "metadata": {},
     "output_type": "execute_result"
    }
   ],
   "source": [
    "df_abs[\"Abs_Material\"].value_counts()"
   ]
  },
  {
   "cell_type": "code",
   "execution_count": 61,
   "metadata": {},
   "outputs": [
    {
     "data": {
      "text/plain": [
       "Metal      39980\n",
       "Ceramic     5768\n",
       "Polymer     4252\n",
       "Name: Title_Material, dtype: int64"
      ]
     },
     "execution_count": 61,
     "metadata": {},
     "output_type": "execute_result"
    }
   ],
   "source": [
    "df_title[\"Title_Material\"].value_counts()"
   ]
  },
  {
   "cell_type": "code",
   "execution_count": 62,
   "metadata": {},
   "outputs": [],
   "source": [
    "import seaborn as sns\n",
    "from sklearn.decomposition import PCA\n",
    "import matplotlib.pyplot as plt"
   ]
  },
  {
   "cell_type": "code",
   "execution_count": null,
   "metadata": {},
   "outputs": [],
   "source": [
    "def visu_pro(doc):\n",
    "    \n",
    "    X= []\n",
    "\n",
    "    for text in doc:\n",
    "        X.append(ft_model.wv.get_vector(text))\n",
    "\n",
    "    pca = PCA(n_components=2)\n",
    "    X_reduced = pca.fit_transform(X)\n",
    "\n",
    "    pca_df = pd.DataFrame(index=title_old[:10000],columns=['First Component','Second Component'],data=X_reduced)\n",
    "    \n",
    "    if doc == abstracts_sen[:10000]:\n",
    "        pca_df[\"Labels\"] = df_abs[\"Abs_Production\"].values\n",
    "    else :\n",
    "        pca_df[\"Labels\"] = df_title[\"Title_Production\"].values\n",
    "\n",
    "    fig, ax = plt.subplots(figsize=(10,10))\n",
    "    ax = sns.scatterplot(x=pca_df['First Component'],y=pca_df['Second Component'],hue=pca_df['Labels'],palette ='Set1')\n",
    "    \n",
    "    return pca_df"
   ]
  },
  {
   "cell_type": "code",
   "execution_count": null,
   "metadata": {},
   "outputs": [],
   "source": [
    "a_pro = visu_pro(abstracts_sen[:10000])"
   ]
  },
  {
   "cell_type": "code",
   "execution_count": null,
   "metadata": {},
   "outputs": [],
   "source": [
    "t_pro = visu_pro(titles_sen[:10000])"
   ]
  },
  {
   "cell_type": "code",
   "execution_count": null,
   "metadata": {},
   "outputs": [],
   "source": [
    "def visu_mat(doc):\n",
    "    \n",
    "    X= []\n",
    "\n",
    "    for text in doc:\n",
    "        X.append(ft_model.wv.get_vector(text))\n",
    "\n",
    "    pca = PCA(n_components=2)\n",
    "    X_reduced = pca.fit_transform(X)\n",
    "\n",
    "    pca_df = pd.DataFrame(index=title_old[:10000],columns=['First Component','Second Component'],data=X_reduced)\n",
    "    \n",
    "    if doc == abstracts_sen[:10000]:\n",
    "        pca_df[\"Labels\"] = df_abs[\"Abs_Material\"].values\n",
    "    else :\n",
    "        pca_df[\"Labels\"] = df_title[\"Title_Material\"].values\n",
    "\n",
    "    fig, ax = plt.subplots(figsize=(10,10))\n",
    "    ax = sns.scatterplot(x=pca_df['First Component'],y=pca_df['Second Component'],hue=pca_df['Labels'],palette ='Set1')\n",
    "    \n",
    "    return pca_df"
   ]
  },
  {
   "cell_type": "code",
   "execution_count": null,
   "metadata": {},
   "outputs": [],
   "source": [
    "a_mat = visu_mat(abstracts_sen[:10000])"
   ]
  },
  {
   "cell_type": "code",
   "execution_count": null,
   "metadata": {},
   "outputs": [],
   "source": [
    "t_mat = visu_mat(titles_sen[:10000])"
   ]
  },
  {
   "cell_type": "code",
   "execution_count": null,
   "metadata": {},
   "outputs": [],
   "source": [
    "df_abs.Abstracts[17]"
   ]
  },
  {
   "cell_type": "code",
   "execution_count": null,
   "metadata": {},
   "outputs": [],
   "source": [
    "df_abs.head(20) #new"
   ]
  },
  {
   "cell_type": "code",
   "execution_count": null,
   "metadata": {},
   "outputs": [],
   "source": [
    "df_abs.head()"
   ]
  },
  {
   "cell_type": "code",
   "execution_count": null,
   "metadata": {},
   "outputs": [],
   "source": [
    "df_title.head(20) #new"
   ]
  },
  {
   "cell_type": "code",
   "execution_count": null,
   "metadata": {},
   "outputs": [],
   "source": [
    "df_title.head()"
   ]
  },
  {
   "cell_type": "markdown",
   "metadata": {},
   "source": [
    "# tfidf"
   ]
  },
  {
   "cell_type": "code",
   "execution_count": 65,
   "metadata": {},
   "outputs": [
    {
     "data": {
      "text/plain": [
       "50000"
      ]
     },
     "execution_count": 65,
     "metadata": {},
     "output_type": "execute_result"
    }
   ],
   "source": [
    "len(abstracts_sen)"
   ]
  },
  {
   "cell_type": "code",
   "execution_count": 70,
   "metadata": {},
   "outputs": [
    {
     "data": {
      "text/plain": [
       "TfidfVectorizer(analyzer='word', binary=False, decode_error='strict',\n",
       "                dtype=<class 'numpy.float64'>, encoding='utf-8',\n",
       "                input='content', lowercase=True, max_df=0.9, max_features=None,\n",
       "                min_df=10, ngram_range=(1, 2), norm='l2', preprocessor=None,\n",
       "                smooth_idf=True, stop_words='english', strip_accents=None,\n",
       "                sublinear_tf=False, token_pattern='(?u)\\\\b\\\\w\\\\w+\\\\b',\n",
       "                tokenizer=None, use_idf=True, vocabulary=None)"
      ]
     },
     "execution_count": 70,
     "metadata": {},
     "output_type": "execute_result"
    }
   ],
   "source": [
    "# Tfidf for abstracts\n",
    "vec = TfidfVectorizer(max_df=0.9,min_df=10,ngram_range=(1, 2),stop_words='english')\n",
    "vec.fit(abstracts_sen[:10000])"
   ]
  },
  {
   "cell_type": "code",
   "execution_count": 71,
   "metadata": {},
   "outputs": [
    {
     "data": {
      "text/plain": [
       "9692"
      ]
     },
     "execution_count": 71,
     "metadata": {},
     "output_type": "execute_result"
    }
   ],
   "source": [
    "len(vec.vocabulary_)"
   ]
  },
  {
   "cell_type": "code",
   "execution_count": 72,
   "metadata": {},
   "outputs": [
    {
     "data": {
      "application/vnd.jupyter.widget-view+json": {
       "model_id": "caf11f2f4f724120a5994b7d0eaf4cfe",
       "version_major": 2,
       "version_minor": 0
      },
      "text/plain": [
       "HBox(children=(IntProgress(value=0, max=10000), HTML(value='')))"
      ]
     },
     "metadata": {},
     "output_type": "display_data"
    },
    {
     "name": "stdout",
     "output_type": "stream",
     "text": [
      "\n"
     ]
    },
    {
     "data": {
      "application/vnd.jupyter.widget-view+json": {
       "model_id": "5924acb1046b4f6d8b01867eefc4e790",
       "version_major": 2,
       "version_minor": 0
      },
      "text/plain": [
       "HBox(children=(IntProgress(value=0, max=10000), HTML(value='')))"
      ]
     },
     "metadata": {},
     "output_type": "display_data"
    },
    {
     "name": "stdout",
     "output_type": "stream",
     "text": [
      "\n"
     ]
    }
   ],
   "source": [
    "# Creating sentences for each document with the strongest tfidf words\n",
    "\n",
    "tfidf_words_abstract = []\n",
    "\n",
    "for abstract in tqdm(abstracts_sen[:10000]):\n",
    "    tfidf_words_abstract.append(\" \".join(find_top_n(abstract,vec,10)))\n",
    "    \n",
    "tfidf_words_title = []\n",
    "\n",
    "for title in tqdm(titles_sen[:10000]):\n",
    "    tfidf_words_title.append(\" \".join(find_top_n(title,vec,5)))"
   ]
  },
  {
   "cell_type": "code",
   "execution_count": 76,
   "metadata": {},
   "outputs": [],
   "source": [
    "abs_production , abs_production_cos_score = pro_labeling(tfidf_words_abstract,ft_model,cosine,pro_1,pro_2,pro_3,pro_4,pro_5)\n",
    "abs_material , abs_material_cos_score = mat_labeling(tfidf_words_abstract,ft_model,cosine,metal,ceramic,polymer)\n",
    "df_abs = create_df_abs()\n",
    "\n",
    "title_production , title_production_cos_score = pro_labeling(tfidf_words_title,ft_model,cosine,pro_1,pro_2,pro_3,pro_4,pro_5)\n",
    "title_material , title_material_cos_score = mat_labeling(tfidf_words_title,ft_model,cosine,metal,ceramic,polymer)\n",
    "df_title = create_df_title()"
   ]
  },
  {
   "cell_type": "code",
   "execution_count": 77,
   "metadata": {},
   "outputs": [
    {
     "data": {
      "text/plain": [
       "SLM or DMLS          7535\n",
       "FDM or FFF or EAM    2465\n",
       "Name: Abs_Production, dtype: int64"
      ]
     },
     "execution_count": 77,
     "metadata": {},
     "output_type": "execute_result"
    }
   ],
   "source": [
    "df_abs[\"Abs_Production\"].value_counts()"
   ]
  },
  {
   "cell_type": "code",
   "execution_count": 78,
   "metadata": {},
   "outputs": [
    {
     "data": {
      "text/plain": [
       "SLM or DMLS          7293\n",
       "FDM or FFF or EAM    2707\n",
       "Name: Title_Production, dtype: int64"
      ]
     },
     "execution_count": 78,
     "metadata": {},
     "output_type": "execute_result"
    }
   ],
   "source": [
    "df_title[\"Title_Production\"].value_counts()"
   ]
  },
  {
   "cell_type": "code",
   "execution_count": 79,
   "metadata": {},
   "outputs": [
    {
     "data": {
      "text/plain": [
       "Metal      8052\n",
       "Ceramic    1202\n",
       "Polymer     746\n",
       "Name: Abs_Material, dtype: int64"
      ]
     },
     "execution_count": 79,
     "metadata": {},
     "output_type": "execute_result"
    }
   ],
   "source": [
    "df_abs[\"Abs_Material\"].value_counts()"
   ]
  },
  {
   "cell_type": "code",
   "execution_count": 80,
   "metadata": {},
   "outputs": [
    {
     "data": {
      "text/plain": [
       "Metal      7539\n",
       "Ceramic    1523\n",
       "Polymer     938\n",
       "Name: Title_Material, dtype: int64"
      ]
     },
     "execution_count": 80,
     "metadata": {},
     "output_type": "execute_result"
    }
   ],
   "source": [
    "df_title[\"Title_Material\"].value_counts()"
   ]
  },
  {
   "cell_type": "code",
   "execution_count": null,
   "metadata": {},
   "outputs": [],
   "source": [
    "def visu_mat(doc):\n",
    "    \n",
    "    X= []\n",
    "\n",
    "    for text in doc:\n",
    "        X.append(ft_model.wv.get_vector(text))\n",
    "\n",
    "    pca = PCA(n_components=2)\n",
    "    X_reduced = pca.fit_transform(X)\n",
    "\n",
    "    pca_df = pd.DataFrame(index=title_old[:10000],columns=['First Component','Second Component'],data=X_reduced)\n",
    "    \n",
    "    if doc == tfidf_words_abstract:\n",
    "        pca_df[\"Labels\"] = df_abs[\"Abs_Material\"].values\n",
    "    else :\n",
    "        pca_df[\"Labels\"] = df_title[\"Title_Material\"].values\n",
    "\n",
    "    fig, ax = plt.subplots(figsize=(10,10))\n",
    "    ax = sns.scatterplot(x=pca_df['First Component'],y=pca_df['Second Component'],hue=pca_df['Labels'],palette ='Set1')\n",
    "    \n",
    "    return pca_df"
   ]
  },
  {
   "cell_type": "code",
   "execution_count": null,
   "metadata": {},
   "outputs": [],
   "source": [
    "a_mat = visu_mat(tfidf_words_abstract)"
   ]
  },
  {
   "cell_type": "code",
   "execution_count": null,
   "metadata": {},
   "outputs": [],
   "source": [
    "t_mat = visu_mat(tfidf_words_title)"
   ]
  },
  {
   "cell_type": "code",
   "execution_count": null,
   "metadata": {},
   "outputs": [],
   "source": [
    "tfidf_words_abstract[0]"
   ]
  },
  {
   "cell_type": "code",
   "execution_count": null,
   "metadata": {},
   "outputs": [],
   "source": [
    "ft_model.wv.similarity(tfidf_words_abstract[0],\"metal\") #0.424"
   ]
  },
  {
   "cell_type": "code",
   "execution_count": null,
   "metadata": {},
   "outputs": [],
   "source": [
    "ft_model.wv.similarity(tfidf_words_abstract[0],\"ceramic\") #0.312"
   ]
  },
  {
   "cell_type": "code",
   "execution_count": null,
   "metadata": {},
   "outputs": [],
   "source": [
    "ft_model.wv.similarity(tfidf_words_abstract[0],\"polymer\")#0.422"
   ]
  },
  {
   "cell_type": "code",
   "execution_count": null,
   "metadata": {},
   "outputs": [],
   "source": [
    "ft_model.wv.similarity(tfidf_words_title[0],\"metal\") "
   ]
  },
  {
   "cell_type": "code",
   "execution_count": null,
   "metadata": {},
   "outputs": [],
   "source": [
    "ft_model.wv.similarity(tfidf_words_title[0],\"ceramic\") "
   ]
  },
  {
   "cell_type": "code",
   "execution_count": null,
   "metadata": {},
   "outputs": [],
   "source": [
    "ft_model.wv.similarity(tfidf_words_title[0],\"polymer\") #0.424"
   ]
  },
  {
   "cell_type": "code",
   "execution_count": null,
   "metadata": {},
   "outputs": [],
   "source": [
    "tfidf_words_title[0]"
   ]
  },
  {
   "cell_type": "code",
   "execution_count": null,
   "metadata": {},
   "outputs": [],
   "source": [
    "a = ft_model.wv.get_vector(tfidf_words_title[0])\n",
    "b = ft_model.wv.get_vector('metal')\n",
    "1-cosine(a,b)"
   ]
  },
  {
   "cell_type": "code",
   "execution_count": null,
   "metadata": {},
   "outputs": [],
   "source": []
  }
 ],
 "metadata": {
  "kernelspec": {
   "display_name": "Python 3",
   "language": "python",
   "name": "python3"
  },
  "language_info": {
   "codemirror_mode": {
    "name": "ipython",
    "version": 3
   },
   "file_extension": ".py",
   "mimetype": "text/x-python",
   "name": "python",
   "nbconvert_exporter": "python",
   "pygments_lexer": "ipython3",
   "version": "3.7.4"
  }
 },
 "nbformat": 4,
 "nbformat_minor": 2
}
