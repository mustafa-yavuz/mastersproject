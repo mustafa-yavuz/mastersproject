{
 "cells": [
  {
   "cell_type": "code",
   "execution_count": 1,
   "metadata": {},
   "outputs": [],
   "source": [
    "import numpy as np\n",
    "import pandas as pd\n",
    "import pickle\n",
    "import torch\n",
    "import re\n",
    "import spacy\n",
    "import os\n",
    "\n",
    "from tqdm.auto import tqdm, trange\n",
    "\n",
    "from utils import embedding, get_embedding, text_cleaning, find_top_n , tfidf_sentences\n",
    "from utils import production_labeling, material_labeling, feature_labeling \n",
    "\n",
    "from flair.embeddings import WordEmbeddings, FlairEmbeddings, DocumentPoolEmbeddings\n",
    "from flair.data import Sentence\n",
    "from sklearn.feature_extraction.text import TfidfVectorizer"
   ]
  },
  {
   "cell_type": "code",
   "execution_count": 2,
   "metadata": {},
   "outputs": [],
   "source": [
    "# Loading spacy nlp model\n",
    "nlp = spacy.load(\"en_core_web_sm\")"
   ]
  },
  {
   "cell_type": "code",
   "execution_count": 3,
   "metadata": {},
   "outputs": [],
   "source": [
    "title_list = []\n",
    "\n",
    "for file in os.listdir(\"Local pdf text files\"):\n",
    "  if file.endswith(\".txt\"):\n",
    "    title_list.append(file.split(\".\")[0])"
   ]
  },
  {
   "cell_type": "code",
   "execution_count": 4,
   "metadata": {
    "scrolled": false
   },
   "outputs": [],
   "source": [
    "pdf_list = []\n",
    "    \n",
    "for file in os.listdir(\"Local pdf text files\"):\n",
    "  if file.endswith(\".txt\"):\n",
    "    with open(\"Local pdf text files/\"+file,\"r\",encoding=\"utf8\") as f:\n",
    "        pdf_list.append(f.read())"
   ]
  },
  {
   "cell_type": "code",
   "execution_count": 5,
   "metadata": {},
   "outputs": [],
   "source": [
    "pdfs = list(map(lambda x: text_cleaning(x,nlp), pdf_list))"
   ]
  },
  {
   "cell_type": "code",
   "execution_count": 6,
   "metadata": {},
   "outputs": [],
   "source": [
    "pdf_list_lemma = []\n",
    "\n",
    "for text in pdfs:\n",
    "    pdf_list_lemma.append(' '.join([token.lemma_ for token in text]))"
   ]
  },
  {
   "cell_type": "code",
   "execution_count": 7,
   "metadata": {},
   "outputs": [
    {
     "data": {
      "text/plain": [
       "TfidfVectorizer(analyzer='word', binary=False, decode_error='strict',\n",
       "                dtype=<class 'numpy.float64'>, encoding='utf-8',\n",
       "                input='content', lowercase=True, max_df=0.9, max_features=None,\n",
       "                min_df=2, ngram_range=(1, 1), norm='l2', preprocessor=None,\n",
       "                smooth_idf=True, stop_words='english', strip_accents=None,\n",
       "                sublinear_tf=False, token_pattern='(?u)\\\\b\\\\w\\\\w+\\\\b',\n",
       "                tokenizer=None, use_idf=True, vocabulary=None)"
      ]
     },
     "execution_count": 7,
     "metadata": {},
     "output_type": "execute_result"
    }
   ],
   "source": [
    "vectorizer = TfidfVectorizer(max_df=0.9,min_df=2,stop_words='english')\n",
    "vectorizer.fit(pdf_list_lemma)"
   ]
  },
  {
   "cell_type": "code",
   "execution_count": 8,
   "metadata": {},
   "outputs": [],
   "source": [
    "cos = torch.nn.CosineSimilarity(dim=0, eps=1e-6)"
   ]
  },
  {
   "cell_type": "code",
   "execution_count": 9,
   "metadata": {},
   "outputs": [
    {
     "name": "stderr",
     "output_type": "stream",
     "text": [
      "..\\torch\\csrc\\utils\\tensor_numpy.cpp:141: UserWarning: The given NumPy array is not writeable, and PyTorch does not support non-writeable tensors. This means you can write to the underlying (supposedly non-writeable) NumPy array using the tensor. You may want to copy the array to protect its data or make it writeable before converting it to a tensor. This type of warning will be suppressed for the rest of this program.\n"
     ]
    }
   ],
   "source": [
    "label_1 = get_embedding('selective laser melting')\n",
    "label_2 = get_embedding('direct metal laser sintering')\n",
    "\n",
    "label_3 = get_embedding('fused deposition modeling')\n",
    "label_4 = get_embedding('fused filament fabrication')\n",
    "label_5 = get_embedding('extrusion based additive manufacturing')\n",
    "\n",
    "metal = get_embedding('metal')\n",
    "ceramic = get_embedding('ceramic')\n",
    "polymer = get_embedding('polymer')\n",
    "\n",
    "feature_1 = get_embedding('fracture toughness')\n",
    "feature_2 = get_embedding('tensile strength')\n",
    "feature_3 = get_embedding('yield strength')\n",
    "feature_4 = get_embedding('elastic modulus')\n",
    "feature_5 = get_embedding('strain fracture break')\n",
    "feature_6 = get_embedding('weibull modulus')"
   ]
  },
  {
   "cell_type": "code",
   "execution_count": 10,
   "metadata": {},
   "outputs": [],
   "source": [
    "def create_df_abstract(documents,tfidf_n):\n",
    "    \n",
    "    sentences = tfidf_sentences(documents,vectorizer,tfidf_n)\n",
    "    abstract_production , abstract_production_cos_score = production_labeling(sentences,cos,label_1,label_2,label_3,label_4,label_5)\n",
    "    abstract_material , abstract_material_cos_score = material_labeling(sentences,cos,metal,ceramic,polymer)\n",
    "    \n",
    "    d = {'Titles':title_list,\n",
    "         'Abstracts':pdf_list,\n",
    "         'Production':abstract_production,\n",
    "         'Production_abstract_score':abstract_production_cos_score,\n",
    "         'Material':abstract_material,\n",
    "         'Material_abstract_score':abstract_material_cos_score}\n",
    "    \n",
    "    df = pd.DataFrame(d)\n",
    "    df[\"Production/Material\"] = df[\"Production\"] + \" / \" + df[\"Material\"]\n",
    "    \n",
    "    return df"
   ]
  },
  {
   "cell_type": "code",
   "execution_count": 11,
   "metadata": {},
   "outputs": [
    {
     "data": {
      "application/vnd.jupyter.widget-view+json": {
       "model_id": "7ec1eb63ddf04ff68ddbff34edf52517",
       "version_major": 2,
       "version_minor": 0
      },
      "text/plain": [
       "HBox(children=(IntProgress(value=0, max=99), HTML(value='')))"
      ]
     },
     "metadata": {},
     "output_type": "display_data"
    },
    {
     "name": "stdout",
     "output_type": "stream",
     "text": [
      "\n"
     ]
    },
    {
     "data": {
      "application/vnd.jupyter.widget-view+json": {
       "model_id": "c4f18755c54d49618038c4a9c4b36602",
       "version_major": 2,
       "version_minor": 0
      },
      "text/plain": [
       "HBox(children=(IntProgress(value=0, max=99), HTML(value='')))"
      ]
     },
     "metadata": {},
     "output_type": "display_data"
    },
    {
     "name": "stdout",
     "output_type": "stream",
     "text": [
      "\n"
     ]
    },
    {
     "data": {
      "application/vnd.jupyter.widget-view+json": {
       "model_id": "9f19792b137f4c8a8fc1f6930e4bf51e",
       "version_major": 2,
       "version_minor": 0
      },
      "text/plain": [
       "HBox(children=(IntProgress(value=0, max=99), HTML(value='')))"
      ]
     },
     "metadata": {},
     "output_type": "display_data"
    },
    {
     "name": "stdout",
     "output_type": "stream",
     "text": [
      "\n"
     ]
    },
    {
     "data": {
      "application/vnd.jupyter.widget-view+json": {
       "model_id": "632c50eac247490dbbaf4d8048227026",
       "version_major": 2,
       "version_minor": 0
      },
      "text/plain": [
       "HBox(children=(IntProgress(value=0, max=99), HTML(value='')))"
      ]
     },
     "metadata": {},
     "output_type": "display_data"
    },
    {
     "name": "stdout",
     "output_type": "stream",
     "text": [
      "\n"
     ]
    }
   ],
   "source": [
    "abstract_df = create_df_abstract(pdf_list_lemma,3)"
   ]
  },
  {
   "cell_type": "code",
   "execution_count": 12,
   "metadata": {},
   "outputs": [
    {
     "data": {
      "text/html": [
       "<div>\n",
       "<style scoped>\n",
       "    .dataframe tbody tr th:only-of-type {\n",
       "        vertical-align: middle;\n",
       "    }\n",
       "\n",
       "    .dataframe tbody tr th {\n",
       "        vertical-align: top;\n",
       "    }\n",
       "\n",
       "    .dataframe thead th {\n",
       "        text-align: right;\n",
       "    }\n",
       "</style>\n",
       "<table border=\"1\" class=\"dataframe\">\n",
       "  <thead>\n",
       "    <tr style=\"text-align: right;\">\n",
       "      <th></th>\n",
       "      <th>Titles</th>\n",
       "      <th>Abstracts</th>\n",
       "      <th>Production</th>\n",
       "      <th>Production_abstract_score</th>\n",
       "      <th>Material</th>\n",
       "      <th>Material_abstract_score</th>\n",
       "      <th>Production/Material</th>\n",
       "    </tr>\n",
       "  </thead>\n",
       "  <tbody>\n",
       "    <tr>\n",
       "      <td>0</td>\n",
       "      <td>3D gel-printing of zirconia ceramic parts</td>\n",
       "      <td>3D gel-printing (3DGP) is a new printing metho...</td>\n",
       "      <td>SLM or DMLS</td>\n",
       "      <td>0.40</td>\n",
       "      <td>Ceramic</td>\n",
       "      <td>0.33</td>\n",
       "      <td>SLM or DMLS / Ceramic</td>\n",
       "    </tr>\n",
       "    <tr>\n",
       "      <td>1</td>\n",
       "      <td>3D Printed Glass Surface Finish and Bulk Prope...</td>\n",
       "      <td>It is impossible to print glass directly from ...</td>\n",
       "      <td>SLM or DMLS</td>\n",
       "      <td>0.66</td>\n",
       "      <td>Metal</td>\n",
       "      <td>0.54</td>\n",
       "      <td>SLM or DMLS / Metal</td>\n",
       "    </tr>\n",
       "    <tr>\n",
       "      <td>2</td>\n",
       "      <td>3D printing of ceramics A review</td>\n",
       "      <td>Along with extensive research on the three-dim...</td>\n",
       "      <td>SLM or DMLS</td>\n",
       "      <td>0.65</td>\n",
       "      <td>Ceramic</td>\n",
       "      <td>0.65</td>\n",
       "      <td>SLM or DMLS / Ceramic</td>\n",
       "    </tr>\n",
       "    <tr>\n",
       "      <td>3</td>\n",
       "      <td>3D Printing of Continuous-Fiber Composites by ...</td>\n",
       "      <td>We have developed a method for the three-dimen...</td>\n",
       "      <td>SLM or DMLS</td>\n",
       "      <td>0.59</td>\n",
       "      <td>Polymer</td>\n",
       "      <td>0.60</td>\n",
       "      <td>SLM or DMLS / Polymer</td>\n",
       "    </tr>\n",
       "    <tr>\n",
       "      <td>4</td>\n",
       "      <td>3D Printing of Transparent Glass</td>\n",
       "      <td>Traditional assembly line manufacturing is spe...</td>\n",
       "      <td>SLM or DMLS</td>\n",
       "      <td>0.62</td>\n",
       "      <td>Metal</td>\n",
       "      <td>0.51</td>\n",
       "      <td>SLM or DMLS / Metal</td>\n",
       "    </tr>\n",
       "  </tbody>\n",
       "</table>\n",
       "</div>"
      ],
      "text/plain": [
       "                                              Titles  \\\n",
       "0          3D gel-printing of zirconia ceramic parts   \n",
       "1  3D Printed Glass Surface Finish and Bulk Prope...   \n",
       "2                   3D printing of ceramics A review   \n",
       "3  3D Printing of Continuous-Fiber Composites by ...   \n",
       "4                   3D Printing of Transparent Glass   \n",
       "\n",
       "                                           Abstracts   Production  \\\n",
       "0  3D gel-printing (3DGP) is a new printing metho...  SLM or DMLS   \n",
       "1  It is impossible to print glass directly from ...  SLM or DMLS   \n",
       "2  Along with extensive research on the three-dim...  SLM or DMLS   \n",
       "3  We have developed a method for the three-dimen...  SLM or DMLS   \n",
       "4  Traditional assembly line manufacturing is spe...  SLM or DMLS   \n",
       "\n",
       "   Production_abstract_score Material  Material_abstract_score  \\\n",
       "0                       0.40  Ceramic                     0.33   \n",
       "1                       0.66    Metal                     0.54   \n",
       "2                       0.65  Ceramic                     0.65   \n",
       "3                       0.59  Polymer                     0.60   \n",
       "4                       0.62    Metal                     0.51   \n",
       "\n",
       "     Production/Material  \n",
       "0  SLM or DMLS / Ceramic  \n",
       "1    SLM or DMLS / Metal  \n",
       "2  SLM or DMLS / Ceramic  \n",
       "3  SLM or DMLS / Polymer  \n",
       "4    SLM or DMLS / Metal  "
      ]
     },
     "execution_count": 12,
     "metadata": {},
     "output_type": "execute_result"
    }
   ],
   "source": [
    "abstract_df.head(5)"
   ]
  },
  {
   "cell_type": "code",
   "execution_count": 13,
   "metadata": {},
   "outputs": [
    {
     "data": {
      "text/plain": [
       "SLM or DMLS          67\n",
       "FDM or FFF or EAM    32\n",
       "Name: Production, dtype: int64"
      ]
     },
     "execution_count": 13,
     "metadata": {},
     "output_type": "execute_result"
    }
   ],
   "source": [
    "abstract_df[\"Production\"].value_counts()"
   ]
  },
  {
   "cell_type": "code",
   "execution_count": 14,
   "metadata": {},
   "outputs": [
    {
     "data": {
      "text/plain": [
       "Metal      39\n",
       "Polymer    39\n",
       "Ceramic    21\n",
       "Name: Material, dtype: int64"
      ]
     },
     "execution_count": 14,
     "metadata": {},
     "output_type": "execute_result"
    }
   ],
   "source": [
    "abstract_df[\"Material\"].value_counts()"
   ]
  },
  {
   "cell_type": "markdown",
   "metadata": {},
   "source": [
    "TITLES"
   ]
  },
  {
   "cell_type": "code",
   "execution_count": 17,
   "metadata": {},
   "outputs": [],
   "source": [
    "titles = list(map(lambda x: text_cleaning(x,nlp), title_list))"
   ]
  },
  {
   "cell_type": "code",
   "execution_count": 18,
   "metadata": {},
   "outputs": [
    {
     "data": {
      "text/plain": [
       "'Selective laser melting of stainless steel and alumina composite Experimental and simulation studies on processing parameters, microstructure and mechanical properties'"
      ]
     },
     "execution_count": 18,
     "metadata": {},
     "output_type": "execute_result"
    }
   ],
   "source": [
    "title_list[80]"
   ]
  },
  {
   "cell_type": "code",
   "execution_count": 19,
   "metadata": {},
   "outputs": [],
   "source": [
    "title_list_lemma = []\n",
    "\n",
    "for text in titles:\n",
    "    title_list_lemma.append(' '.join([token.lemma_ for token in text]))"
   ]
  },
  {
   "cell_type": "code",
   "execution_count": 20,
   "metadata": {},
   "outputs": [
    {
     "data": {
      "text/plain": [
       "selective laser melting of stainless steel and alumina composite experimental and simulation studies on processing parameters microstructure and mechanical properties"
      ]
     },
     "execution_count": 20,
     "metadata": {},
     "output_type": "execute_result"
    }
   ],
   "source": [
    "titles[80]"
   ]
  },
  {
   "cell_type": "code",
   "execution_count": 21,
   "metadata": {},
   "outputs": [
    {
     "data": {
      "text/plain": [
       "'selective laser melting of stainless steel and alumina composite experimental and simulation study on process parameter microstructure and mechanical property'"
      ]
     },
     "execution_count": 21,
     "metadata": {},
     "output_type": "execute_result"
    }
   ],
   "source": [
    "title_list_lemma[80]"
   ]
  },
  {
   "cell_type": "code",
   "execution_count": 22,
   "metadata": {},
   "outputs": [],
   "source": [
    "def create_df_title(documents,tfidf_n):\n",
    "    \n",
    "    sentences = tfidf_sentences(documents,vectorizer,tfidf_n)\n",
    "    title_production , title_production_cos_score = production_labeling(sentences,cos,label_1,label_2,label_3,label_4,label_5)\n",
    "    title_material , title_material_cos_score = material_labeling(sentences,cos,metal,ceramic,polymer)\n",
    "    \n",
    "    d = {'Titles':title_list,\n",
    "         'Abstracts':pdf_list,\n",
    "         'Production':title_production,\n",
    "         'Production_title_score':title_production_cos_score,\n",
    "         'Material':title_material,\n",
    "         'Material_title_score':title_material_cos_score}\n",
    "    \n",
    "    df = pd.DataFrame(d)\n",
    "    df[\"Production/Material\"] = df[\"Production\"] + \" / \" + df[\"Material\"]\n",
    "    \n",
    "    return df"
   ]
  },
  {
   "cell_type": "code",
   "execution_count": 23,
   "metadata": {},
   "outputs": [
    {
     "data": {
      "application/vnd.jupyter.widget-view+json": {
       "model_id": "4af90fb5db254cb285be16488659cab6",
       "version_major": 2,
       "version_minor": 0
      },
      "text/plain": [
       "HBox(children=(IntProgress(value=0, max=99), HTML(value='')))"
      ]
     },
     "metadata": {},
     "output_type": "display_data"
    },
    {
     "name": "stdout",
     "output_type": "stream",
     "text": [
      "\n"
     ]
    },
    {
     "data": {
      "application/vnd.jupyter.widget-view+json": {
       "model_id": "97bcd81939fb4deea4a575039c167694",
       "version_major": 2,
       "version_minor": 0
      },
      "text/plain": [
       "HBox(children=(IntProgress(value=0, max=99), HTML(value='')))"
      ]
     },
     "metadata": {},
     "output_type": "display_data"
    },
    {
     "name": "stdout",
     "output_type": "stream",
     "text": [
      "\n"
     ]
    },
    {
     "data": {
      "application/vnd.jupyter.widget-view+json": {
       "model_id": "3733c1f570bd4290ba795c3c13c73fdd",
       "version_major": 2,
       "version_minor": 0
      },
      "text/plain": [
       "HBox(children=(IntProgress(value=0, max=99), HTML(value='')))"
      ]
     },
     "metadata": {},
     "output_type": "display_data"
    },
    {
     "name": "stdout",
     "output_type": "stream",
     "text": [
      "\n"
     ]
    },
    {
     "data": {
      "application/vnd.jupyter.widget-view+json": {
       "model_id": "b08d13df1f6949689f4ff7409822508b",
       "version_major": 2,
       "version_minor": 0
      },
      "text/plain": [
       "HBox(children=(IntProgress(value=0, max=99), HTML(value='')))"
      ]
     },
     "metadata": {},
     "output_type": "display_data"
    },
    {
     "name": "stdout",
     "output_type": "stream",
     "text": [
      "\n"
     ]
    }
   ],
   "source": [
    "title_df = create_df_title(title_list_lemma,3)"
   ]
  },
  {
   "cell_type": "code",
   "execution_count": 47,
   "metadata": {},
   "outputs": [
    {
     "data": {
      "text/plain": [
       "SLM or DMLS          53\n",
       "FDM or FFF or EAM    46\n",
       "Name: Production, dtype: int64"
      ]
     },
     "execution_count": 47,
     "metadata": {},
     "output_type": "execute_result"
    }
   ],
   "source": [
    "title_df[\"Production\"].value_counts()"
   ]
  },
  {
   "cell_type": "code",
   "execution_count": 48,
   "metadata": {},
   "outputs": [
    {
     "data": {
      "text/plain": [
       "Polymer    43\n",
       "Ceramic    32\n",
       "Metal      24\n",
       "Name: Material, dtype: int64"
      ]
     },
     "execution_count": 48,
     "metadata": {},
     "output_type": "execute_result"
    }
   ],
   "source": [
    "title_df[\"Material\"].value_counts()"
   ]
  },
  {
   "cell_type": "code",
   "execution_count": 31,
   "metadata": {},
   "outputs": [],
   "source": [
    "result = pd.concat([abstract_df, title_df[[\"Production_title_score\",\"Material_title_score\"]]], axis=1, sort=False)"
   ]
  },
  {
   "cell_type": "code",
   "execution_count": 32,
   "metadata": {},
   "outputs": [
    {
     "data": {
      "text/html": [
       "<div>\n",
       "<style scoped>\n",
       "    .dataframe tbody tr th:only-of-type {\n",
       "        vertical-align: middle;\n",
       "    }\n",
       "\n",
       "    .dataframe tbody tr th {\n",
       "        vertical-align: top;\n",
       "    }\n",
       "\n",
       "    .dataframe thead th {\n",
       "        text-align: right;\n",
       "    }\n",
       "</style>\n",
       "<table border=\"1\" class=\"dataframe\">\n",
       "  <thead>\n",
       "    <tr style=\"text-align: right;\">\n",
       "      <th></th>\n",
       "      <th>Titles</th>\n",
       "      <th>Abstracts</th>\n",
       "      <th>Production</th>\n",
       "      <th>Production_abstract_score</th>\n",
       "      <th>Material</th>\n",
       "      <th>Material_abstract_score</th>\n",
       "      <th>Production/Material</th>\n",
       "      <th>Production_title_score</th>\n",
       "      <th>Material_title_score</th>\n",
       "    </tr>\n",
       "  </thead>\n",
       "  <tbody>\n",
       "    <tr>\n",
       "      <td>0</td>\n",
       "      <td>3D gel-printing of zirconia ceramic parts</td>\n",
       "      <td>3D gel-printing (3DGP) is a new printing metho...</td>\n",
       "      <td>SLM or DMLS</td>\n",
       "      <td>0.40</td>\n",
       "      <td>Ceramic</td>\n",
       "      <td>0.33</td>\n",
       "      <td>SLM or DMLS / Ceramic</td>\n",
       "      <td>0.60</td>\n",
       "      <td>0.77</td>\n",
       "    </tr>\n",
       "    <tr>\n",
       "      <td>1</td>\n",
       "      <td>3D Printed Glass Surface Finish and Bulk Prope...</td>\n",
       "      <td>It is impossible to print glass directly from ...</td>\n",
       "      <td>SLM or DMLS</td>\n",
       "      <td>0.66</td>\n",
       "      <td>Metal</td>\n",
       "      <td>0.54</td>\n",
       "      <td>SLM or DMLS / Metal</td>\n",
       "      <td>0.53</td>\n",
       "      <td>0.37</td>\n",
       "    </tr>\n",
       "    <tr>\n",
       "      <td>2</td>\n",
       "      <td>3D printing of ceramics A review</td>\n",
       "      <td>Along with extensive research on the three-dim...</td>\n",
       "      <td>SLM or DMLS</td>\n",
       "      <td>0.65</td>\n",
       "      <td>Ceramic</td>\n",
       "      <td>0.65</td>\n",
       "      <td>SLM or DMLS / Ceramic</td>\n",
       "      <td>0.58</td>\n",
       "      <td>0.63</td>\n",
       "    </tr>\n",
       "    <tr>\n",
       "      <td>3</td>\n",
       "      <td>3D Printing of Continuous-Fiber Composites by ...</td>\n",
       "      <td>We have developed a method for the three-dimen...</td>\n",
       "      <td>SLM or DMLS</td>\n",
       "      <td>0.59</td>\n",
       "      <td>Polymer</td>\n",
       "      <td>0.60</td>\n",
       "      <td>SLM or DMLS / Polymer</td>\n",
       "      <td>0.54</td>\n",
       "      <td>0.48</td>\n",
       "    </tr>\n",
       "    <tr>\n",
       "      <td>4</td>\n",
       "      <td>3D Printing of Transparent Glass</td>\n",
       "      <td>Traditional assembly line manufacturing is spe...</td>\n",
       "      <td>SLM or DMLS</td>\n",
       "      <td>0.62</td>\n",
       "      <td>Metal</td>\n",
       "      <td>0.51</td>\n",
       "      <td>SLM or DMLS / Metal</td>\n",
       "      <td>0.61</td>\n",
       "      <td>0.57</td>\n",
       "    </tr>\n",
       "  </tbody>\n",
       "</table>\n",
       "</div>"
      ],
      "text/plain": [
       "                                              Titles  \\\n",
       "0          3D gel-printing of zirconia ceramic parts   \n",
       "1  3D Printed Glass Surface Finish and Bulk Prope...   \n",
       "2                   3D printing of ceramics A review   \n",
       "3  3D Printing of Continuous-Fiber Composites by ...   \n",
       "4                   3D Printing of Transparent Glass   \n",
       "\n",
       "                                           Abstracts   Production  \\\n",
       "0  3D gel-printing (3DGP) is a new printing metho...  SLM or DMLS   \n",
       "1  It is impossible to print glass directly from ...  SLM or DMLS   \n",
       "2  Along with extensive research on the three-dim...  SLM or DMLS   \n",
       "3  We have developed a method for the three-dimen...  SLM or DMLS   \n",
       "4  Traditional assembly line manufacturing is spe...  SLM or DMLS   \n",
       "\n",
       "   Production_abstract_score Material  Material_abstract_score  \\\n",
       "0                       0.40  Ceramic                     0.33   \n",
       "1                       0.66    Metal                     0.54   \n",
       "2                       0.65  Ceramic                     0.65   \n",
       "3                       0.59  Polymer                     0.60   \n",
       "4                       0.62    Metal                     0.51   \n",
       "\n",
       "     Production/Material  Production_title_score  Material_title_score  \n",
       "0  SLM or DMLS / Ceramic                    0.60                  0.77  \n",
       "1    SLM or DMLS / Metal                    0.53                  0.37  \n",
       "2  SLM or DMLS / Ceramic                    0.58                  0.63  \n",
       "3  SLM or DMLS / Polymer                    0.54                  0.48  \n",
       "4    SLM or DMLS / Metal                    0.61                  0.57  "
      ]
     },
     "execution_count": 32,
     "metadata": {},
     "output_type": "execute_result"
    }
   ],
   "source": [
    "result.head()"
   ]
  },
  {
   "cell_type": "code",
   "execution_count": 33,
   "metadata": {},
   "outputs": [
    {
     "data": {
      "text/plain": [
       "['Titles',\n",
       " 'Abstracts',\n",
       " 'Production',\n",
       " 'Production_abstract_score',\n",
       " 'Material',\n",
       " 'Material_abstract_score',\n",
       " 'Production/Material',\n",
       " 'Production_title_score',\n",
       " 'Material_title_score']"
      ]
     },
     "execution_count": 33,
     "metadata": {},
     "output_type": "execute_result"
    }
   ],
   "source": [
    "list(result.columns.values)"
   ]
  },
  {
   "cell_type": "code",
   "execution_count": 34,
   "metadata": {},
   "outputs": [],
   "source": [
    "result = result[['Titles', 'Abstracts', 'Production', 'Production_abstract_score','Production_title_score', 'Material','Material_abstract_score','Material_title_score']]"
   ]
  },
  {
   "cell_type": "code",
   "execution_count": 40,
   "metadata": {},
   "outputs": [],
   "source": [
    "result[\"Mean_product\"] = (result[\"Production_abstract_score\"] + result[\"Production_title_score\"])/2\n",
    "result[\"Mean_material\"] = (result[\"Material_abstract_score\"] + result[\"Material_title_score\"])/2"
   ]
  },
  {
   "cell_type": "code",
   "execution_count": 43,
   "metadata": {},
   "outputs": [],
   "source": [
    "result = result[['Titles', 'Abstracts', 'Production', 'Production_abstract_score','Production_title_score',\"Mean_product\", 'Material','Material_abstract_score','Material_title_score',\"Mean_material\"]]"
   ]
  },
  {
   "cell_type": "code",
   "execution_count": 42,
   "metadata": {
    "scrolled": true
   },
   "outputs": [
    {
     "data": {
      "text/html": [
       "<div>\n",
       "<style scoped>\n",
       "    .dataframe tbody tr th:only-of-type {\n",
       "        vertical-align: middle;\n",
       "    }\n",
       "\n",
       "    .dataframe tbody tr th {\n",
       "        vertical-align: top;\n",
       "    }\n",
       "\n",
       "    .dataframe thead th {\n",
       "        text-align: right;\n",
       "    }\n",
       "</style>\n",
       "<table border=\"1\" class=\"dataframe\">\n",
       "  <thead>\n",
       "    <tr style=\"text-align: right;\">\n",
       "      <th></th>\n",
       "      <th>Titles</th>\n",
       "      <th>Abstracts</th>\n",
       "      <th>Production</th>\n",
       "      <th>Production_abstract_score</th>\n",
       "      <th>Production_title_score</th>\n",
       "      <th>Mean_product</th>\n",
       "      <th>Material</th>\n",
       "      <th>Material_abstract_score</th>\n",
       "      <th>Material_title_score</th>\n",
       "      <th>Mean_material</th>\n",
       "    </tr>\n",
       "  </thead>\n",
       "  <tbody>\n",
       "    <tr>\n",
       "      <td>0</td>\n",
       "      <td>3D gel-printing of zirconia ceramic parts</td>\n",
       "      <td>3D gel-printing (3DGP) is a new printing metho...</td>\n",
       "      <td>SLM or DMLS</td>\n",
       "      <td>0.40</td>\n",
       "      <td>0.60</td>\n",
       "      <td>0.500</td>\n",
       "      <td>Ceramic</td>\n",
       "      <td>0.33</td>\n",
       "      <td>0.77</td>\n",
       "      <td>0.550</td>\n",
       "    </tr>\n",
       "    <tr>\n",
       "      <td>1</td>\n",
       "      <td>3D Printed Glass Surface Finish and Bulk Prope...</td>\n",
       "      <td>It is impossible to print glass directly from ...</td>\n",
       "      <td>SLM or DMLS</td>\n",
       "      <td>0.66</td>\n",
       "      <td>0.53</td>\n",
       "      <td>0.595</td>\n",
       "      <td>Metal</td>\n",
       "      <td>0.54</td>\n",
       "      <td>0.37</td>\n",
       "      <td>0.455</td>\n",
       "    </tr>\n",
       "    <tr>\n",
       "      <td>2</td>\n",
       "      <td>3D printing of ceramics A review</td>\n",
       "      <td>Along with extensive research on the three-dim...</td>\n",
       "      <td>SLM or DMLS</td>\n",
       "      <td>0.65</td>\n",
       "      <td>0.58</td>\n",
       "      <td>0.615</td>\n",
       "      <td>Ceramic</td>\n",
       "      <td>0.65</td>\n",
       "      <td>0.63</td>\n",
       "      <td>0.640</td>\n",
       "    </tr>\n",
       "    <tr>\n",
       "      <td>3</td>\n",
       "      <td>3D Printing of Continuous-Fiber Composites by ...</td>\n",
       "      <td>We have developed a method for the three-dimen...</td>\n",
       "      <td>SLM or DMLS</td>\n",
       "      <td>0.59</td>\n",
       "      <td>0.54</td>\n",
       "      <td>0.565</td>\n",
       "      <td>Polymer</td>\n",
       "      <td>0.60</td>\n",
       "      <td>0.48</td>\n",
       "      <td>0.540</td>\n",
       "    </tr>\n",
       "    <tr>\n",
       "      <td>4</td>\n",
       "      <td>3D Printing of Transparent Glass</td>\n",
       "      <td>Traditional assembly line manufacturing is spe...</td>\n",
       "      <td>SLM or DMLS</td>\n",
       "      <td>0.62</td>\n",
       "      <td>0.61</td>\n",
       "      <td>0.615</td>\n",
       "      <td>Metal</td>\n",
       "      <td>0.51</td>\n",
       "      <td>0.57</td>\n",
       "      <td>0.540</td>\n",
       "    </tr>\n",
       "    <tr>\n",
       "      <td>5</td>\n",
       "      <td>A Review of Additive Manufacturing</td>\n",
       "      <td>Additive manufacturing processes take the info...</td>\n",
       "      <td>FDM or FFF or EAM</td>\n",
       "      <td>0.80</td>\n",
       "      <td>0.85</td>\n",
       "      <td>0.825</td>\n",
       "      <td>Metal</td>\n",
       "      <td>0.38</td>\n",
       "      <td>0.38</td>\n",
       "      <td>0.380</td>\n",
       "    </tr>\n",
       "    <tr>\n",
       "      <td>6</td>\n",
       "      <td>Additive manufacturing and its societal impact...</td>\n",
       "      <td>Thirty years into its development, additive ma...</td>\n",
       "      <td>FDM or FFF or EAM</td>\n",
       "      <td>0.74</td>\n",
       "      <td>0.44</td>\n",
       "      <td>0.590</td>\n",
       "      <td>Polymer</td>\n",
       "      <td>0.39</td>\n",
       "      <td>0.30</td>\n",
       "      <td>0.345</td>\n",
       "    </tr>\n",
       "    <tr>\n",
       "      <td>7</td>\n",
       "      <td>Additive manufacturing and mechanical characte...</td>\n",
       "      <td>Mechanical properties of additively manufactur...</td>\n",
       "      <td>FDM or FFF or EAM</td>\n",
       "      <td>0.58</td>\n",
       "      <td>0.42</td>\n",
       "      <td>0.500</td>\n",
       "      <td>Polymer</td>\n",
       "      <td>0.48</td>\n",
       "      <td>0.30</td>\n",
       "      <td>0.390</td>\n",
       "    </tr>\n",
       "    <tr>\n",
       "      <td>8</td>\n",
       "      <td>Additive manufacturing of carbonfiber-reinforc...</td>\n",
       "      <td>Carbon fiber-reinforced plastic composites hav...</td>\n",
       "      <td>SLM or DMLS</td>\n",
       "      <td>0.67</td>\n",
       "      <td>0.75</td>\n",
       "      <td>0.710</td>\n",
       "      <td>Metal</td>\n",
       "      <td>0.63</td>\n",
       "      <td>0.56</td>\n",
       "      <td>0.595</td>\n",
       "    </tr>\n",
       "    <tr>\n",
       "      <td>9</td>\n",
       "      <td>Additive Manufacturing of Ceramic Based Materials</td>\n",
       "      <td>This paper offers a review of present achievem...</td>\n",
       "      <td>SLM or DMLS</td>\n",
       "      <td>0.54</td>\n",
       "      <td>0.69</td>\n",
       "      <td>0.615</td>\n",
       "      <td>Metal</td>\n",
       "      <td>0.45</td>\n",
       "      <td>0.69</td>\n",
       "      <td>0.570</td>\n",
       "    </tr>\n",
       "    <tr>\n",
       "      <td>10</td>\n",
       "      <td>Additive manufacturing of ceramics issues, pot...</td>\n",
       "      <td>Additive manufacturing (AM) is a technology wh...</td>\n",
       "      <td>FDM or FFF or EAM</td>\n",
       "      <td>0.59</td>\n",
       "      <td>0.67</td>\n",
       "      <td>0.630</td>\n",
       "      <td>Metal</td>\n",
       "      <td>0.41</td>\n",
       "      <td>0.65</td>\n",
       "      <td>0.530</td>\n",
       "    </tr>\n",
       "    <tr>\n",
       "      <td>11</td>\n",
       "      <td>Additive Manufacturing of Dense Ceramic Parts ...</td>\n",
       "      <td>Additive manufacturing of near-net-shaped dens...</td>\n",
       "      <td>SLM or DMLS</td>\n",
       "      <td>0.52</td>\n",
       "      <td>0.57</td>\n",
       "      <td>0.545</td>\n",
       "      <td>Metal</td>\n",
       "      <td>0.45</td>\n",
       "      <td>0.49</td>\n",
       "      <td>0.470</td>\n",
       "    </tr>\n",
       "    <tr>\n",
       "      <td>12</td>\n",
       "      <td>Additive Manufacturing of Glass</td>\n",
       "      <td>Selective laser melting (SLM) is a technique f...</td>\n",
       "      <td>SLM or DMLS</td>\n",
       "      <td>0.52</td>\n",
       "      <td>0.84</td>\n",
       "      <td>0.680</td>\n",
       "      <td>Metal</td>\n",
       "      <td>0.52</td>\n",
       "      <td>0.55</td>\n",
       "      <td>0.535</td>\n",
       "    </tr>\n",
       "    <tr>\n",
       "      <td>13</td>\n",
       "      <td>Additive Manufacturing of Optically Transparen...</td>\n",
       "      <td>We present a fully functional material extrusi...</td>\n",
       "      <td>SLM or DMLS</td>\n",
       "      <td>0.59</td>\n",
       "      <td>0.64</td>\n",
       "      <td>0.615</td>\n",
       "      <td>Ceramic</td>\n",
       "      <td>0.56</td>\n",
       "      <td>0.58</td>\n",
       "      <td>0.570</td>\n",
       "    </tr>\n",
       "    <tr>\n",
       "      <td>14</td>\n",
       "      <td>An experimental demonstration of effective Cur...</td>\n",
       "      <td>Fused   Filament   Fabrication   (FFF)   is   ...</td>\n",
       "      <td>SLM or DMLS</td>\n",
       "      <td>0.52</td>\n",
       "      <td>0.65</td>\n",
       "      <td>0.585</td>\n",
       "      <td>Metal</td>\n",
       "      <td>0.35</td>\n",
       "      <td>0.39</td>\n",
       "      <td>0.370</td>\n",
       "    </tr>\n",
       "    <tr>\n",
       "      <td>15</td>\n",
       "      <td>Anisotropic material properties of fused depos...</td>\n",
       "      <td>Rapid Prototyping (RP) technologies provide th...</td>\n",
       "      <td>FDM or FFF or EAM</td>\n",
       "      <td>0.45</td>\n",
       "      <td>0.59</td>\n",
       "      <td>0.520</td>\n",
       "      <td>Polymer</td>\n",
       "      <td>0.38</td>\n",
       "      <td>0.47</td>\n",
       "      <td>0.425</td>\n",
       "    </tr>\n",
       "    <tr>\n",
       "      <td>16</td>\n",
       "      <td>Anisotropic Mechanical Behavior of AlSi10Mg Pa...</td>\n",
       "      <td>AlSi 10Mg cylinders produced by laser powder-b...</td>\n",
       "      <td>SLM or DMLS</td>\n",
       "      <td>0.50</td>\n",
       "      <td>0.72</td>\n",
       "      <td>0.610</td>\n",
       "      <td>Metal</td>\n",
       "      <td>0.43</td>\n",
       "      <td>0.42</td>\n",
       "      <td>0.425</td>\n",
       "    </tr>\n",
       "    <tr>\n",
       "      <td>17</td>\n",
       "      <td>Anisotropic mechanical properties of ABS parts...</td>\n",
       "      <td>Layered manufacturing (LM) methods have tradit...</td>\n",
       "      <td>FDM or FFF or EAM</td>\n",
       "      <td>0.50</td>\n",
       "      <td>0.60</td>\n",
       "      <td>0.550</td>\n",
       "      <td>Metal</td>\n",
       "      <td>0.34</td>\n",
       "      <td>0.47</td>\n",
       "      <td>0.405</td>\n",
       "    </tr>\n",
       "    <tr>\n",
       "      <td>18</td>\n",
       "      <td>Assessing the Structural Integrity of Additive...</td>\n",
       "      <td>This paper presents a study of structural inte...</td>\n",
       "      <td>SLM or DMLS</td>\n",
       "      <td>0.53</td>\n",
       "      <td>0.40</td>\n",
       "      <td>0.465</td>\n",
       "      <td>Polymer</td>\n",
       "      <td>0.36</td>\n",
       "      <td>0.24</td>\n",
       "      <td>0.300</td>\n",
       "    </tr>\n",
       "    <tr>\n",
       "      <td>19</td>\n",
       "      <td>Binding Mechanisms in Selective Laser Sinterin...</td>\n",
       "      <td>Layer Manufacturing (LM) technologies like Sel...</td>\n",
       "      <td>SLM or DMLS</td>\n",
       "      <td>0.47</td>\n",
       "      <td>0.87</td>\n",
       "      <td>0.670</td>\n",
       "      <td>Polymer</td>\n",
       "      <td>0.36</td>\n",
       "      <td>0.48</td>\n",
       "      <td>0.420</td>\n",
       "    </tr>\n",
       "  </tbody>\n",
       "</table>\n",
       "</div>"
      ],
      "text/plain": [
       "                                               Titles  \\\n",
       "0           3D gel-printing of zirconia ceramic parts   \n",
       "1   3D Printed Glass Surface Finish and Bulk Prope...   \n",
       "2                    3D printing of ceramics A review   \n",
       "3   3D Printing of Continuous-Fiber Composites by ...   \n",
       "4                    3D Printing of Transparent Glass   \n",
       "5                  A Review of Additive Manufacturing   \n",
       "6   Additive manufacturing and its societal impact...   \n",
       "7   Additive manufacturing and mechanical characte...   \n",
       "8   Additive manufacturing of carbonfiber-reinforc...   \n",
       "9   Additive Manufacturing of Ceramic Based Materials   \n",
       "10  Additive manufacturing of ceramics issues, pot...   \n",
       "11  Additive Manufacturing of Dense Ceramic Parts ...   \n",
       "12                    Additive Manufacturing of Glass   \n",
       "13  Additive Manufacturing of Optically Transparen...   \n",
       "14  An experimental demonstration of effective Cur...   \n",
       "15  Anisotropic material properties of fused depos...   \n",
       "16  Anisotropic Mechanical Behavior of AlSi10Mg Pa...   \n",
       "17  Anisotropic mechanical properties of ABS parts...   \n",
       "18  Assessing the Structural Integrity of Additive...   \n",
       "19  Binding Mechanisms in Selective Laser Sinterin...   \n",
       "\n",
       "                                            Abstracts         Production  \\\n",
       "0   3D gel-printing (3DGP) is a new printing metho...        SLM or DMLS   \n",
       "1   It is impossible to print glass directly from ...        SLM or DMLS   \n",
       "2   Along with extensive research on the three-dim...        SLM or DMLS   \n",
       "3   We have developed a method for the three-dimen...        SLM or DMLS   \n",
       "4   Traditional assembly line manufacturing is spe...        SLM or DMLS   \n",
       "5   Additive manufacturing processes take the info...  FDM or FFF or EAM   \n",
       "6   Thirty years into its development, additive ma...  FDM or FFF or EAM   \n",
       "7   Mechanical properties of additively manufactur...  FDM or FFF or EAM   \n",
       "8   Carbon fiber-reinforced plastic composites hav...        SLM or DMLS   \n",
       "9   This paper offers a review of present achievem...        SLM or DMLS   \n",
       "10  Additive manufacturing (AM) is a technology wh...  FDM or FFF or EAM   \n",
       "11  Additive manufacturing of near-net-shaped dens...        SLM or DMLS   \n",
       "12  Selective laser melting (SLM) is a technique f...        SLM or DMLS   \n",
       "13  We present a fully functional material extrusi...        SLM or DMLS   \n",
       "14  Fused   Filament   Fabrication   (FFF)   is   ...        SLM or DMLS   \n",
       "15  Rapid Prototyping (RP) technologies provide th...  FDM or FFF or EAM   \n",
       "16  AlSi 10Mg cylinders produced by laser powder-b...        SLM or DMLS   \n",
       "17  Layered manufacturing (LM) methods have tradit...  FDM or FFF or EAM   \n",
       "18  This paper presents a study of structural inte...        SLM or DMLS   \n",
       "19  Layer Manufacturing (LM) technologies like Sel...        SLM or DMLS   \n",
       "\n",
       "    Production_abstract_score  Production_title_score  Mean_product Material  \\\n",
       "0                        0.40                    0.60         0.500  Ceramic   \n",
       "1                        0.66                    0.53         0.595    Metal   \n",
       "2                        0.65                    0.58         0.615  Ceramic   \n",
       "3                        0.59                    0.54         0.565  Polymer   \n",
       "4                        0.62                    0.61         0.615    Metal   \n",
       "5                        0.80                    0.85         0.825    Metal   \n",
       "6                        0.74                    0.44         0.590  Polymer   \n",
       "7                        0.58                    0.42         0.500  Polymer   \n",
       "8                        0.67                    0.75         0.710    Metal   \n",
       "9                        0.54                    0.69         0.615    Metal   \n",
       "10                       0.59                    0.67         0.630    Metal   \n",
       "11                       0.52                    0.57         0.545    Metal   \n",
       "12                       0.52                    0.84         0.680    Metal   \n",
       "13                       0.59                    0.64         0.615  Ceramic   \n",
       "14                       0.52                    0.65         0.585    Metal   \n",
       "15                       0.45                    0.59         0.520  Polymer   \n",
       "16                       0.50                    0.72         0.610    Metal   \n",
       "17                       0.50                    0.60         0.550    Metal   \n",
       "18                       0.53                    0.40         0.465  Polymer   \n",
       "19                       0.47                    0.87         0.670  Polymer   \n",
       "\n",
       "    Material_abstract_score  Material_title_score  Mean_material  \n",
       "0                      0.33                  0.77          0.550  \n",
       "1                      0.54                  0.37          0.455  \n",
       "2                      0.65                  0.63          0.640  \n",
       "3                      0.60                  0.48          0.540  \n",
       "4                      0.51                  0.57          0.540  \n",
       "5                      0.38                  0.38          0.380  \n",
       "6                      0.39                  0.30          0.345  \n",
       "7                      0.48                  0.30          0.390  \n",
       "8                      0.63                  0.56          0.595  \n",
       "9                      0.45                  0.69          0.570  \n",
       "10                     0.41                  0.65          0.530  \n",
       "11                     0.45                  0.49          0.470  \n",
       "12                     0.52                  0.55          0.535  \n",
       "13                     0.56                  0.58          0.570  \n",
       "14                     0.35                  0.39          0.370  \n",
       "15                     0.38                  0.47          0.425  \n",
       "16                     0.43                  0.42          0.425  \n",
       "17                     0.34                  0.47          0.405  \n",
       "18                     0.36                  0.24          0.300  \n",
       "19                     0.36                  0.48          0.420  "
      ]
     },
     "execution_count": 42,
     "metadata": {},
     "output_type": "execute_result"
    }
   ],
   "source": [
    "result.head(20)"
   ]
  },
  {
   "cell_type": "code",
   "execution_count": 44,
   "metadata": {},
   "outputs": [],
   "source": [
    "result.to_excel(\"results2.xlsx\")"
   ]
  },
  {
   "cell_type": "code",
   "execution_count": null,
   "metadata": {},
   "outputs": [],
   "source": []
  }
 ],
 "metadata": {
  "kernelspec": {
   "display_name": "Python 3",
   "language": "python",
   "name": "python3"
  },
  "language_info": {
   "codemirror_mode": {
    "name": "ipython",
    "version": 3
   },
   "file_extension": ".py",
   "mimetype": "text/x-python",
   "name": "python",
   "nbconvert_exporter": "python",
   "pygments_lexer": "ipython3",
   "version": "3.7.4"
  }
 },
 "nbformat": 4,
 "nbformat_minor": 2
}
