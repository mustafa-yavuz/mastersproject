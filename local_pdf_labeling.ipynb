{
 "cells": [
  {
   "cell_type": "code",
   "execution_count": 1,
   "metadata": {},
   "outputs": [],
   "source": [
    "import numpy as np\n",
    "import pandas as pd\n",
    "import pickle\n",
    "import torch\n",
    "import re\n",
    "import spacy\n",
    "import os\n",
    "\n",
    "from tqdm.auto import tqdm, trange\n",
    "\n",
    "from utils import embedding, get_embedding, text_cleaning, find_top_n , tfidf_sentences\n",
    "from utils import production_labeling, material_labeling, feature_labeling \n",
    "\n",
    "from flair.embeddings import WordEmbeddings, FlairEmbeddings, DocumentPoolEmbeddings\n",
    "from flair.data import Sentence\n",
    "from sklearn.feature_extraction.text import TfidfVectorizer"
   ]
  },
  {
   "cell_type": "code",
   "execution_count": 2,
   "metadata": {},
   "outputs": [],
   "source": [
    "# Loading spacy nlp model\n",
    "nlp = spacy.load(\"en_core_web_sm\")"
   ]
  },
  {
   "cell_type": "code",
   "execution_count": 3,
   "metadata": {},
   "outputs": [],
   "source": [
    "title_list = []\n",
    "\n",
    "for file in os.listdir(\"Local pdf text files\"):\n",
    "  if file.endswith(\".txt\"):\n",
    "    title_list.append(file.split(\".\")[0])"
   ]
  },
  {
   "cell_type": "code",
   "execution_count": 4,
   "metadata": {
    "scrolled": false
   },
   "outputs": [],
   "source": [
    "pdf_list = []\n",
    "    \n",
    "for file in os.listdir(\"Local pdf text files\"):\n",
    "  if file.endswith(\".txt\"):\n",
    "    with open(\"Local pdf text files/\"+file,\"r\",encoding=\"utf8\") as f:\n",
    "        pdf_list.append(f.read())"
   ]
  },
  {
   "cell_type": "code",
   "execution_count": 5,
   "metadata": {},
   "outputs": [],
   "source": [
    "pdfs = list(map(lambda x: text_cleaning(x,nlp), pdf_list))"
   ]
  },
  {
   "cell_type": "code",
   "execution_count": 6,
   "metadata": {},
   "outputs": [],
   "source": [
    "pdf_list_lemma = []\n",
    "\n",
    "for text in pdfs:\n",
    "    pdf_list_lemma.append(' '.join([token.lemma_ for token in text]))"
   ]
  },
  {
   "cell_type": "code",
   "execution_count": 7,
   "metadata": {},
   "outputs": [
    {
     "data": {
      "text/plain": [
       "TfidfVectorizer(analyzer='word', binary=False, decode_error='strict',\n",
       "                dtype=<class 'numpy.float64'>, encoding='utf-8',\n",
       "                input='content', lowercase=True, max_df=0.9, max_features=None,\n",
       "                min_df=2, ngram_range=(1, 1), norm='l2', preprocessor=None,\n",
       "                smooth_idf=True, stop_words='english', strip_accents=None,\n",
       "                sublinear_tf=False, token_pattern='(?u)\\\\b\\\\w\\\\w+\\\\b',\n",
       "                tokenizer=None, use_idf=True, vocabulary=None)"
      ]
     },
     "execution_count": 7,
     "metadata": {},
     "output_type": "execute_result"
    }
   ],
   "source": [
    "vectorizer = TfidfVectorizer(max_df=0.9,min_df=2,stop_words='english')\n",
    "vectorizer.fit(pdf_list_lemma)"
   ]
  },
  {
   "cell_type": "code",
   "execution_count": 8,
   "metadata": {},
   "outputs": [],
   "source": [
    "cos = torch.nn.CosineSimilarity(dim=0, eps=1e-6)"
   ]
  },
  {
   "cell_type": "code",
   "execution_count": 9,
   "metadata": {},
   "outputs": [
    {
     "name": "stderr",
     "output_type": "stream",
     "text": [
      "..\\torch\\csrc\\utils\\tensor_numpy.cpp:141: UserWarning: The given NumPy array is not writeable, and PyTorch does not support non-writeable tensors. This means you can write to the underlying (supposedly non-writeable) NumPy array using the tensor. You may want to copy the array to protect its data or make it writeable before converting it to a tensor. This type of warning will be suppressed for the rest of this program.\n"
     ]
    }
   ],
   "source": [
    "label_1 = get_embedding('selective laser melting')\n",
    "label_2 = get_embedding('direct metal laser sintering')\n",
    "\n",
    "label_3 = get_embedding('fused deposition modeling')\n",
    "label_4 = get_embedding('fused filament fabrication')\n",
    "label_5 = get_embedding('extrusion based additive manufacturing')\n",
    "\n",
    "metal = get_embedding('metal')\n",
    "ceramic = get_embedding('ceramic')\n",
    "polymer = get_embedding('polymer')\n",
    "\n",
    "feature_1 = get_embedding('fracture toughness')\n",
    "feature_2 = get_embedding('tensile strength')\n",
    "feature_3 = get_embedding('yield strength')\n",
    "feature_4 = get_embedding('elastic modulus')\n",
    "feature_5 = get_embedding('strain fracture break')\n",
    "feature_6 = get_embedding('weibull modulus')"
   ]
  },
  {
   "cell_type": "code",
   "execution_count": 10,
   "metadata": {},
   "outputs": [],
   "source": [
    "def create_df_abstract(documents,tfidf_n):\n",
    "    \n",
    "    sentences = tfidf_sentences(documents,vectorizer,tfidf_n)\n",
    "    abstract_production , abstract_production_cos_score = production_labeling(sentences,cos,label_1,label_2,label_3,label_4,label_5)\n",
    "    abstract_material , abstract_material_cos_score = material_labeling(sentences,cos,metal,ceramic,polymer)\n",
    "    \n",
    "    d = {'Titles':title_list,\n",
    "         'Abstracts':pdf_list,\n",
    "         'Production_abstract':abstract_production,\n",
    "         'Production_abstract_score':abstract_production_cos_score,\n",
    "         'Material_abstract':abstract_material,\n",
    "         'Material_abstract_score':abstract_material_cos_score}\n",
    "    \n",
    "    df = pd.DataFrame(d)\n",
    "    #df[\"Production/Material\"] = df[\"Production_abstract\"] + \" / \" + df[\"Material_abstract\"]\n",
    "    \n",
    "    return df"
   ]
  },
  {
   "cell_type": "code",
   "execution_count": 11,
   "metadata": {},
   "outputs": [
    {
     "data": {
      "application/vnd.jupyter.widget-view+json": {
       "model_id": "c4440d0e992e4adcb8e2aba6e8918418",
       "version_major": 2,
       "version_minor": 0
      },
      "text/plain": [
       "HBox(children=(IntProgress(value=0, max=99), HTML(value='')))"
      ]
     },
     "metadata": {},
     "output_type": "display_data"
    },
    {
     "name": "stdout",
     "output_type": "stream",
     "text": [
      "\n"
     ]
    },
    {
     "data": {
      "application/vnd.jupyter.widget-view+json": {
       "model_id": "ad6daa19beef48fd8d826a7a4aea7796",
       "version_major": 2,
       "version_minor": 0
      },
      "text/plain": [
       "HBox(children=(IntProgress(value=0, max=99), HTML(value='')))"
      ]
     },
     "metadata": {},
     "output_type": "display_data"
    },
    {
     "name": "stdout",
     "output_type": "stream",
     "text": [
      "\n"
     ]
    },
    {
     "data": {
      "application/vnd.jupyter.widget-view+json": {
       "model_id": "fbf45a9d8edc4fe39d49379ce130eec7",
       "version_major": 2,
       "version_minor": 0
      },
      "text/plain": [
       "HBox(children=(IntProgress(value=0, max=99), HTML(value='')))"
      ]
     },
     "metadata": {},
     "output_type": "display_data"
    },
    {
     "name": "stdout",
     "output_type": "stream",
     "text": [
      "\n"
     ]
    },
    {
     "data": {
      "application/vnd.jupyter.widget-view+json": {
       "model_id": "d3a4d977fc89431b9ccf10d5add1c5d5",
       "version_major": 2,
       "version_minor": 0
      },
      "text/plain": [
       "HBox(children=(IntProgress(value=0, max=99), HTML(value='')))"
      ]
     },
     "metadata": {},
     "output_type": "display_data"
    },
    {
     "name": "stdout",
     "output_type": "stream",
     "text": [
      "\n"
     ]
    }
   ],
   "source": [
    "abstract_df = create_df_abstract(pdf_list_lemma,3)"
   ]
  },
  {
   "cell_type": "code",
   "execution_count": 12,
   "metadata": {},
   "outputs": [
    {
     "data": {
      "text/html": [
       "<div>\n",
       "<style scoped>\n",
       "    .dataframe tbody tr th:only-of-type {\n",
       "        vertical-align: middle;\n",
       "    }\n",
       "\n",
       "    .dataframe tbody tr th {\n",
       "        vertical-align: top;\n",
       "    }\n",
       "\n",
       "    .dataframe thead th {\n",
       "        text-align: right;\n",
       "    }\n",
       "</style>\n",
       "<table border=\"1\" class=\"dataframe\">\n",
       "  <thead>\n",
       "    <tr style=\"text-align: right;\">\n",
       "      <th></th>\n",
       "      <th>Titles</th>\n",
       "      <th>Abstracts</th>\n",
       "      <th>Production_abstract</th>\n",
       "      <th>Production_abstract_score</th>\n",
       "      <th>Material_abstract</th>\n",
       "      <th>Material_abstract_score</th>\n",
       "    </tr>\n",
       "  </thead>\n",
       "  <tbody>\n",
       "    <tr>\n",
       "      <td>0</td>\n",
       "      <td>3D gel-printing of zirconia ceramic parts</td>\n",
       "      <td>3D gel-printing (3DGP) is a new printing metho...</td>\n",
       "      <td>SLM or DMLS</td>\n",
       "      <td>0.48</td>\n",
       "      <td>Ceramic</td>\n",
       "      <td>0.40</td>\n",
       "    </tr>\n",
       "    <tr>\n",
       "      <td>1</td>\n",
       "      <td>3D Printed Glass Surface Finish and Bulk Prope...</td>\n",
       "      <td>It is impossible to print glass directly from ...</td>\n",
       "      <td>SLM or DMLS</td>\n",
       "      <td>0.73</td>\n",
       "      <td>Metal</td>\n",
       "      <td>0.63</td>\n",
       "    </tr>\n",
       "    <tr>\n",
       "      <td>2</td>\n",
       "      <td>3D printing of ceramics A review</td>\n",
       "      <td>Along with extensive research on the three-dim...</td>\n",
       "      <td>SLM or DMLS</td>\n",
       "      <td>0.75</td>\n",
       "      <td>Ceramic</td>\n",
       "      <td>0.74</td>\n",
       "    </tr>\n",
       "    <tr>\n",
       "      <td>3</td>\n",
       "      <td>3D Printing of Continuous-Fiber Composites by ...</td>\n",
       "      <td>We have developed a method for the three-dimen...</td>\n",
       "      <td>FDM or FFF or EAM</td>\n",
       "      <td>0.70</td>\n",
       "      <td>Polymer</td>\n",
       "      <td>0.68</td>\n",
       "    </tr>\n",
       "    <tr>\n",
       "      <td>4</td>\n",
       "      <td>3D Printing of Transparent Glass</td>\n",
       "      <td>Traditional assembly line manufacturing is spe...</td>\n",
       "      <td>SLM or DMLS</td>\n",
       "      <td>0.72</td>\n",
       "      <td>Ceramic</td>\n",
       "      <td>0.61</td>\n",
       "    </tr>\n",
       "  </tbody>\n",
       "</table>\n",
       "</div>"
      ],
      "text/plain": [
       "                                              Titles  \\\n",
       "0          3D gel-printing of zirconia ceramic parts   \n",
       "1  3D Printed Glass Surface Finish and Bulk Prope...   \n",
       "2                   3D printing of ceramics A review   \n",
       "3  3D Printing of Continuous-Fiber Composites by ...   \n",
       "4                   3D Printing of Transparent Glass   \n",
       "\n",
       "                                           Abstracts Production_abstract  \\\n",
       "0  3D gel-printing (3DGP) is a new printing metho...         SLM or DMLS   \n",
       "1  It is impossible to print glass directly from ...         SLM or DMLS   \n",
       "2  Along with extensive research on the three-dim...         SLM or DMLS   \n",
       "3  We have developed a method for the three-dimen...   FDM or FFF or EAM   \n",
       "4  Traditional assembly line manufacturing is spe...         SLM or DMLS   \n",
       "\n",
       "   Production_abstract_score Material_abstract  Material_abstract_score  \n",
       "0                       0.48           Ceramic                     0.40  \n",
       "1                       0.73             Metal                     0.63  \n",
       "2                       0.75           Ceramic                     0.74  \n",
       "3                       0.70           Polymer                     0.68  \n",
       "4                       0.72           Ceramic                     0.61  "
      ]
     },
     "execution_count": 12,
     "metadata": {},
     "output_type": "execute_result"
    }
   ],
   "source": [
    "abstract_df.head(5)"
   ]
  },
  {
   "cell_type": "code",
   "execution_count": 13,
   "metadata": {},
   "outputs": [
    {
     "data": {
      "text/plain": [
       "SLM or DMLS          51\n",
       "FDM or FFF or EAM    48\n",
       "Name: Production_abstract, dtype: int64"
      ]
     },
     "execution_count": 13,
     "metadata": {},
     "output_type": "execute_result"
    }
   ],
   "source": [
    "abstract_df[\"Production_abstract\"].value_counts()"
   ]
  },
  {
   "cell_type": "code",
   "execution_count": 14,
   "metadata": {},
   "outputs": [
    {
     "data": {
      "text/plain": [
       "Polymer    40\n",
       "Metal      38\n",
       "Ceramic    21\n",
       "Name: Material_abstract, dtype: int64"
      ]
     },
     "execution_count": 14,
     "metadata": {},
     "output_type": "execute_result"
    }
   ],
   "source": [
    "abstract_df[\"Material_abstract\"].value_counts()"
   ]
  },
  {
   "cell_type": "markdown",
   "metadata": {},
   "source": [
    "TITLES"
   ]
  },
  {
   "cell_type": "code",
   "execution_count": 15,
   "metadata": {},
   "outputs": [],
   "source": [
    "titles = list(map(lambda x: text_cleaning(x,nlp), title_list))"
   ]
  },
  {
   "cell_type": "code",
   "execution_count": 16,
   "metadata": {},
   "outputs": [
    {
     "data": {
      "text/plain": [
       "'Selective laser melting of stainless steel and alumina composite Experimental and simulation studies on processing parameters, microstructure and mechanical properties'"
      ]
     },
     "execution_count": 16,
     "metadata": {},
     "output_type": "execute_result"
    }
   ],
   "source": [
    "title_list[80]"
   ]
  },
  {
   "cell_type": "code",
   "execution_count": 17,
   "metadata": {},
   "outputs": [],
   "source": [
    "title_list_lemma = []\n",
    "\n",
    "for text in titles:\n",
    "    title_list_lemma.append(' '.join([token.lemma_ for token in text]))"
   ]
  },
  {
   "cell_type": "code",
   "execution_count": 18,
   "metadata": {},
   "outputs": [
    {
     "data": {
      "text/plain": [
       "selective laser melting of stainless steel and alumina composite experimental and simulation studies on processing parameters microstructure and mechanical properties"
      ]
     },
     "execution_count": 18,
     "metadata": {},
     "output_type": "execute_result"
    }
   ],
   "source": [
    "titles[80]"
   ]
  },
  {
   "cell_type": "code",
   "execution_count": 19,
   "metadata": {},
   "outputs": [
    {
     "data": {
      "text/plain": [
       "'selective laser melting of stainless steel and alumina composite experimental and simulation study on process parameter microstructure and mechanical property'"
      ]
     },
     "execution_count": 19,
     "metadata": {},
     "output_type": "execute_result"
    }
   ],
   "source": [
    "title_list_lemma[80]"
   ]
  },
  {
   "cell_type": "code",
   "execution_count": 20,
   "metadata": {},
   "outputs": [
    {
     "data": {
      "text/plain": [
       "TfidfVectorizer(analyzer='word', binary=False, decode_error='strict',\n",
       "                dtype=<class 'numpy.float64'>, encoding='utf-8',\n",
       "                input='content', lowercase=True, max_df=0.9, max_features=None,\n",
       "                min_df=2, ngram_range=(1, 1), norm='l2', preprocessor=None,\n",
       "                smooth_idf=True, stop_words='english', strip_accents=None,\n",
       "                sublinear_tf=False, token_pattern='(?u)\\\\b\\\\w\\\\w+\\\\b',\n",
       "                tokenizer=None, use_idf=True, vocabulary=None)"
      ]
     },
     "execution_count": 20,
     "metadata": {},
     "output_type": "execute_result"
    }
   ],
   "source": [
    "vectorizer = TfidfVectorizer(max_df=0.9,min_df=2,stop_words='english')\n",
    "vectorizer.fit(title_list_lemma)"
   ]
  },
  {
   "cell_type": "code",
   "execution_count": 21,
   "metadata": {},
   "outputs": [],
   "source": [
    "def create_df_title(documents,tfidf_n):\n",
    "    \n",
    "    sentences = tfidf_sentences(documents,vectorizer,tfidf_n)\n",
    "    title_production , title_production_cos_score = production_labeling(sentences,cos,label_1,label_2,label_3,label_4,label_5)\n",
    "    title_material , title_material_cos_score = material_labeling(sentences,cos,metal,ceramic,polymer)\n",
    "    \n",
    "    d = {'Titles':title_list,\n",
    "         'Abstracts':pdf_list,\n",
    "         'Production_title':title_production,\n",
    "         'Production_title_score':title_production_cos_score,\n",
    "         'Material_title':title_material,\n",
    "         'Material_title_score':title_material_cos_score}\n",
    "    \n",
    "    df = pd.DataFrame(d)\n",
    "    #df[\"Production/Material\"] = df[\"Production_title\"] + \" / \" + df[\"Material_title\"]\n",
    "    \n",
    "    return df"
   ]
  },
  {
   "cell_type": "code",
   "execution_count": 22,
   "metadata": {},
   "outputs": [
    {
     "data": {
      "application/vnd.jupyter.widget-view+json": {
       "model_id": "4e5fd5b8b3954e12b9e15b962b732f76",
       "version_major": 2,
       "version_minor": 0
      },
      "text/plain": [
       "HBox(children=(IntProgress(value=0, max=99), HTML(value='')))"
      ]
     },
     "metadata": {},
     "output_type": "display_data"
    },
    {
     "name": "stdout",
     "output_type": "stream",
     "text": [
      "\n"
     ]
    },
    {
     "data": {
      "application/vnd.jupyter.widget-view+json": {
       "model_id": "2edcebacff44434d9640f8d6f4a9fd55",
       "version_major": 2,
       "version_minor": 0
      },
      "text/plain": [
       "HBox(children=(IntProgress(value=0, max=99), HTML(value='')))"
      ]
     },
     "metadata": {},
     "output_type": "display_data"
    },
    {
     "name": "stdout",
     "output_type": "stream",
     "text": [
      "\n"
     ]
    },
    {
     "data": {
      "application/vnd.jupyter.widget-view+json": {
       "model_id": "75ec5a38c5aa41a9872c1926730c072f",
       "version_major": 2,
       "version_minor": 0
      },
      "text/plain": [
       "HBox(children=(IntProgress(value=0, max=99), HTML(value='')))"
      ]
     },
     "metadata": {},
     "output_type": "display_data"
    },
    {
     "name": "stdout",
     "output_type": "stream",
     "text": [
      "\n"
     ]
    },
    {
     "data": {
      "application/vnd.jupyter.widget-view+json": {
       "model_id": "63e4a31034e14f17bacbb12d8307495a",
       "version_major": 2,
       "version_minor": 0
      },
      "text/plain": [
       "HBox(children=(IntProgress(value=0, max=99), HTML(value='')))"
      ]
     },
     "metadata": {},
     "output_type": "display_data"
    },
    {
     "name": "stdout",
     "output_type": "stream",
     "text": [
      "\n"
     ]
    }
   ],
   "source": [
    "title_df = create_df_title(title_list_lemma,3)"
   ]
  },
  {
   "cell_type": "code",
   "execution_count": 23,
   "metadata": {},
   "outputs": [
    {
     "data": {
      "text/plain": [
       "FDM or FFF or EAM    60\n",
       "SLM or DMLS          39\n",
       "Name: Production_title, dtype: int64"
      ]
     },
     "execution_count": 23,
     "metadata": {},
     "output_type": "execute_result"
    }
   ],
   "source": [
    "title_df[\"Production_title\"].value_counts()"
   ]
  },
  {
   "cell_type": "code",
   "execution_count": 24,
   "metadata": {},
   "outputs": [
    {
     "data": {
      "text/plain": [
       "Polymer    42\n",
       "Metal      30\n",
       "Ceramic    27\n",
       "Name: Material_title, dtype: int64"
      ]
     },
     "execution_count": 24,
     "metadata": {},
     "output_type": "execute_result"
    }
   ],
   "source": [
    "title_df[\"Material_title\"].value_counts()"
   ]
  },
  {
   "cell_type": "code",
   "execution_count": 25,
   "metadata": {},
   "outputs": [
    {
     "data": {
      "text/html": [
       "<div>\n",
       "<style scoped>\n",
       "    .dataframe tbody tr th:only-of-type {\n",
       "        vertical-align: middle;\n",
       "    }\n",
       "\n",
       "    .dataframe tbody tr th {\n",
       "        vertical-align: top;\n",
       "    }\n",
       "\n",
       "    .dataframe thead th {\n",
       "        text-align: right;\n",
       "    }\n",
       "</style>\n",
       "<table border=\"1\" class=\"dataframe\">\n",
       "  <thead>\n",
       "    <tr style=\"text-align: right;\">\n",
       "      <th></th>\n",
       "      <th>Titles</th>\n",
       "      <th>Abstracts</th>\n",
       "      <th>Production_title</th>\n",
       "      <th>Production_title_score</th>\n",
       "      <th>Material_title</th>\n",
       "      <th>Material_title_score</th>\n",
       "    </tr>\n",
       "  </thead>\n",
       "  <tbody>\n",
       "    <tr>\n",
       "      <td>0</td>\n",
       "      <td>3D gel-printing of zirconia ceramic parts</td>\n",
       "      <td>3D gel-printing (3DGP) is a new printing metho...</td>\n",
       "      <td>FDM or FFF or EAM</td>\n",
       "      <td>0.74</td>\n",
       "      <td>Ceramic</td>\n",
       "      <td>0.74</td>\n",
       "    </tr>\n",
       "    <tr>\n",
       "      <td>1</td>\n",
       "      <td>3D Printed Glass Surface Finish and Bulk Prope...</td>\n",
       "      <td>It is impossible to print glass directly from ...</td>\n",
       "      <td>SLM or DMLS</td>\n",
       "      <td>0.70</td>\n",
       "      <td>Metal</td>\n",
       "      <td>0.57</td>\n",
       "    </tr>\n",
       "    <tr>\n",
       "      <td>2</td>\n",
       "      <td>3D printing of ceramics A review</td>\n",
       "      <td>Along with extensive research on the three-dim...</td>\n",
       "      <td>SLM or DMLS</td>\n",
       "      <td>0.68</td>\n",
       "      <td>Ceramic</td>\n",
       "      <td>0.71</td>\n",
       "    </tr>\n",
       "    <tr>\n",
       "      <td>3</td>\n",
       "      <td>3D Printing of Continuous-Fiber Composites by ...</td>\n",
       "      <td>We have developed a method for the three-dimen...</td>\n",
       "      <td>SLM or DMLS</td>\n",
       "      <td>0.68</td>\n",
       "      <td>Ceramic</td>\n",
       "      <td>0.63</td>\n",
       "    </tr>\n",
       "    <tr>\n",
       "      <td>4</td>\n",
       "      <td>3D Printing of Transparent Glass</td>\n",
       "      <td>Traditional assembly line manufacturing is spe...</td>\n",
       "      <td>SLM or DMLS</td>\n",
       "      <td>0.69</td>\n",
       "      <td>Ceramic</td>\n",
       "      <td>0.63</td>\n",
       "    </tr>\n",
       "  </tbody>\n",
       "</table>\n",
       "</div>"
      ],
      "text/plain": [
       "                                              Titles  \\\n",
       "0          3D gel-printing of zirconia ceramic parts   \n",
       "1  3D Printed Glass Surface Finish and Bulk Prope...   \n",
       "2                   3D printing of ceramics A review   \n",
       "3  3D Printing of Continuous-Fiber Composites by ...   \n",
       "4                   3D Printing of Transparent Glass   \n",
       "\n",
       "                                           Abstracts   Production_title  \\\n",
       "0  3D gel-printing (3DGP) is a new printing metho...  FDM or FFF or EAM   \n",
       "1  It is impossible to print glass directly from ...        SLM or DMLS   \n",
       "2  Along with extensive research on the three-dim...        SLM or DMLS   \n",
       "3  We have developed a method for the three-dimen...        SLM or DMLS   \n",
       "4  Traditional assembly line manufacturing is spe...        SLM or DMLS   \n",
       "\n",
       "   Production_title_score Material_title  Material_title_score  \n",
       "0                    0.74        Ceramic                  0.74  \n",
       "1                    0.70          Metal                  0.57  \n",
       "2                    0.68        Ceramic                  0.71  \n",
       "3                    0.68        Ceramic                  0.63  \n",
       "4                    0.69        Ceramic                  0.63  "
      ]
     },
     "execution_count": 25,
     "metadata": {},
     "output_type": "execute_result"
    }
   ],
   "source": [
    "title_df.head()"
   ]
  },
  {
   "cell_type": "code",
   "execution_count": 26,
   "metadata": {},
   "outputs": [],
   "source": [
    "result = pd.concat([abstract_df, title_df[[\"Production_title\",\"Production_title_score\",\"Material_title\",\"Material_title_score\"]]], axis=1, sort=False)"
   ]
  },
  {
   "cell_type": "code",
   "execution_count": 27,
   "metadata": {},
   "outputs": [
    {
     "data": {
      "text/html": [
       "<div>\n",
       "<style scoped>\n",
       "    .dataframe tbody tr th:only-of-type {\n",
       "        vertical-align: middle;\n",
       "    }\n",
       "\n",
       "    .dataframe tbody tr th {\n",
       "        vertical-align: top;\n",
       "    }\n",
       "\n",
       "    .dataframe thead th {\n",
       "        text-align: right;\n",
       "    }\n",
       "</style>\n",
       "<table border=\"1\" class=\"dataframe\">\n",
       "  <thead>\n",
       "    <tr style=\"text-align: right;\">\n",
       "      <th></th>\n",
       "      <th>Titles</th>\n",
       "      <th>Abstracts</th>\n",
       "      <th>Production_abstract</th>\n",
       "      <th>Production_abstract_score</th>\n",
       "      <th>Material_abstract</th>\n",
       "      <th>Material_abstract_score</th>\n",
       "      <th>Production_title</th>\n",
       "      <th>Production_title_score</th>\n",
       "      <th>Material_title</th>\n",
       "      <th>Material_title_score</th>\n",
       "    </tr>\n",
       "  </thead>\n",
       "  <tbody>\n",
       "    <tr>\n",
       "      <td>0</td>\n",
       "      <td>3D gel-printing of zirconia ceramic parts</td>\n",
       "      <td>3D gel-printing (3DGP) is a new printing metho...</td>\n",
       "      <td>SLM or DMLS</td>\n",
       "      <td>0.48</td>\n",
       "      <td>Ceramic</td>\n",
       "      <td>0.40</td>\n",
       "      <td>FDM or FFF or EAM</td>\n",
       "      <td>0.74</td>\n",
       "      <td>Ceramic</td>\n",
       "      <td>0.74</td>\n",
       "    </tr>\n",
       "    <tr>\n",
       "      <td>1</td>\n",
       "      <td>3D Printed Glass Surface Finish and Bulk Prope...</td>\n",
       "      <td>It is impossible to print glass directly from ...</td>\n",
       "      <td>SLM or DMLS</td>\n",
       "      <td>0.73</td>\n",
       "      <td>Metal</td>\n",
       "      <td>0.63</td>\n",
       "      <td>SLM or DMLS</td>\n",
       "      <td>0.70</td>\n",
       "      <td>Metal</td>\n",
       "      <td>0.57</td>\n",
       "    </tr>\n",
       "    <tr>\n",
       "      <td>2</td>\n",
       "      <td>3D printing of ceramics A review</td>\n",
       "      <td>Along with extensive research on the three-dim...</td>\n",
       "      <td>SLM or DMLS</td>\n",
       "      <td>0.75</td>\n",
       "      <td>Ceramic</td>\n",
       "      <td>0.74</td>\n",
       "      <td>SLM or DMLS</td>\n",
       "      <td>0.68</td>\n",
       "      <td>Ceramic</td>\n",
       "      <td>0.71</td>\n",
       "    </tr>\n",
       "    <tr>\n",
       "      <td>3</td>\n",
       "      <td>3D Printing of Continuous-Fiber Composites by ...</td>\n",
       "      <td>We have developed a method for the three-dimen...</td>\n",
       "      <td>FDM or FFF or EAM</td>\n",
       "      <td>0.70</td>\n",
       "      <td>Polymer</td>\n",
       "      <td>0.68</td>\n",
       "      <td>SLM or DMLS</td>\n",
       "      <td>0.68</td>\n",
       "      <td>Ceramic</td>\n",
       "      <td>0.63</td>\n",
       "    </tr>\n",
       "    <tr>\n",
       "      <td>4</td>\n",
       "      <td>3D Printing of Transparent Glass</td>\n",
       "      <td>Traditional assembly line manufacturing is spe...</td>\n",
       "      <td>SLM or DMLS</td>\n",
       "      <td>0.72</td>\n",
       "      <td>Ceramic</td>\n",
       "      <td>0.61</td>\n",
       "      <td>SLM or DMLS</td>\n",
       "      <td>0.69</td>\n",
       "      <td>Ceramic</td>\n",
       "      <td>0.63</td>\n",
       "    </tr>\n",
       "  </tbody>\n",
       "</table>\n",
       "</div>"
      ],
      "text/plain": [
       "                                              Titles  \\\n",
       "0          3D gel-printing of zirconia ceramic parts   \n",
       "1  3D Printed Glass Surface Finish and Bulk Prope...   \n",
       "2                   3D printing of ceramics A review   \n",
       "3  3D Printing of Continuous-Fiber Composites by ...   \n",
       "4                   3D Printing of Transparent Glass   \n",
       "\n",
       "                                           Abstracts Production_abstract  \\\n",
       "0  3D gel-printing (3DGP) is a new printing metho...         SLM or DMLS   \n",
       "1  It is impossible to print glass directly from ...         SLM or DMLS   \n",
       "2  Along with extensive research on the three-dim...         SLM or DMLS   \n",
       "3  We have developed a method for the three-dimen...   FDM or FFF or EAM   \n",
       "4  Traditional assembly line manufacturing is spe...         SLM or DMLS   \n",
       "\n",
       "   Production_abstract_score Material_abstract  Material_abstract_score  \\\n",
       "0                       0.48           Ceramic                     0.40   \n",
       "1                       0.73             Metal                     0.63   \n",
       "2                       0.75           Ceramic                     0.74   \n",
       "3                       0.70           Polymer                     0.68   \n",
       "4                       0.72           Ceramic                     0.61   \n",
       "\n",
       "    Production_title  Production_title_score Material_title  \\\n",
       "0  FDM or FFF or EAM                    0.74        Ceramic   \n",
       "1        SLM or DMLS                    0.70          Metal   \n",
       "2        SLM or DMLS                    0.68        Ceramic   \n",
       "3        SLM or DMLS                    0.68        Ceramic   \n",
       "4        SLM or DMLS                    0.69        Ceramic   \n",
       "\n",
       "   Material_title_score  \n",
       "0                  0.74  \n",
       "1                  0.57  \n",
       "2                  0.71  \n",
       "3                  0.63  \n",
       "4                  0.63  "
      ]
     },
     "execution_count": 27,
     "metadata": {},
     "output_type": "execute_result"
    }
   ],
   "source": [
    "result.head()"
   ]
  },
  {
   "cell_type": "code",
   "execution_count": 28,
   "metadata": {},
   "outputs": [],
   "source": [
    "result[\"Mean_product\"] = (result[\"Production_abstract_score\"] + result[\"Production_title_score\"])/2\n",
    "result[\"Mean_material\"] = (result[\"Material_abstract_score\"] + result[\"Material_title_score\"])/2"
   ]
  },
  {
   "cell_type": "code",
   "execution_count": 29,
   "metadata": {},
   "outputs": [
    {
     "data": {
      "text/plain": [
       "['Titles',\n",
       " 'Abstracts',\n",
       " 'Production_abstract',\n",
       " 'Production_abstract_score',\n",
       " 'Material_abstract',\n",
       " 'Material_abstract_score',\n",
       " 'Production_title',\n",
       " 'Production_title_score',\n",
       " 'Material_title',\n",
       " 'Material_title_score',\n",
       " 'Mean_product',\n",
       " 'Mean_material']"
      ]
     },
     "execution_count": 29,
     "metadata": {},
     "output_type": "execute_result"
    }
   ],
   "source": [
    "list(result.columns.values)"
   ]
  },
  {
   "cell_type": "code",
   "execution_count": 30,
   "metadata": {},
   "outputs": [],
   "source": [
    "result = result[['Titles', \n",
    "                 'Abstracts', \n",
    "                 'Production_abstract', \n",
    "                 'Production_abstract_score',\n",
    "                 'Production_title',\n",
    "                 'Production_title_score',\n",
    "                 'Mean_product',\n",
    "                 'Material_abstract',\n",
    "                 'Material_abstract_score',\n",
    "                 'Material_title',\n",
    "                 'Material_title_score',\n",
    "                 'Mean_material'\n",
    "                ]]"
   ]
  },
  {
   "cell_type": "code",
   "execution_count": 31,
   "metadata": {
    "scrolled": true
   },
   "outputs": [
    {
     "data": {
      "text/html": [
       "<div>\n",
       "<style scoped>\n",
       "    .dataframe tbody tr th:only-of-type {\n",
       "        vertical-align: middle;\n",
       "    }\n",
       "\n",
       "    .dataframe tbody tr th {\n",
       "        vertical-align: top;\n",
       "    }\n",
       "\n",
       "    .dataframe thead th {\n",
       "        text-align: right;\n",
       "    }\n",
       "</style>\n",
       "<table border=\"1\" class=\"dataframe\">\n",
       "  <thead>\n",
       "    <tr style=\"text-align: right;\">\n",
       "      <th></th>\n",
       "      <th>Titles</th>\n",
       "      <th>Abstracts</th>\n",
       "      <th>Production_abstract</th>\n",
       "      <th>Production_abstract_score</th>\n",
       "      <th>Production_title</th>\n",
       "      <th>Production_title_score</th>\n",
       "      <th>Mean_product</th>\n",
       "      <th>Material_abstract</th>\n",
       "      <th>Material_abstract_score</th>\n",
       "      <th>Material_title</th>\n",
       "      <th>Material_title_score</th>\n",
       "      <th>Mean_material</th>\n",
       "    </tr>\n",
       "  </thead>\n",
       "  <tbody>\n",
       "    <tr>\n",
       "      <td>0</td>\n",
       "      <td>3D gel-printing of zirconia ceramic parts</td>\n",
       "      <td>3D gel-printing (3DGP) is a new printing metho...</td>\n",
       "      <td>SLM or DMLS</td>\n",
       "      <td>0.48</td>\n",
       "      <td>FDM or FFF or EAM</td>\n",
       "      <td>0.74</td>\n",
       "      <td>0.610</td>\n",
       "      <td>Ceramic</td>\n",
       "      <td>0.40</td>\n",
       "      <td>Ceramic</td>\n",
       "      <td>0.74</td>\n",
       "      <td>0.570</td>\n",
       "    </tr>\n",
       "    <tr>\n",
       "      <td>1</td>\n",
       "      <td>3D Printed Glass Surface Finish and Bulk Prope...</td>\n",
       "      <td>It is impossible to print glass directly from ...</td>\n",
       "      <td>SLM or DMLS</td>\n",
       "      <td>0.73</td>\n",
       "      <td>SLM or DMLS</td>\n",
       "      <td>0.70</td>\n",
       "      <td>0.715</td>\n",
       "      <td>Metal</td>\n",
       "      <td>0.63</td>\n",
       "      <td>Metal</td>\n",
       "      <td>0.57</td>\n",
       "      <td>0.600</td>\n",
       "    </tr>\n",
       "    <tr>\n",
       "      <td>2</td>\n",
       "      <td>3D printing of ceramics A review</td>\n",
       "      <td>Along with extensive research on the three-dim...</td>\n",
       "      <td>SLM or DMLS</td>\n",
       "      <td>0.75</td>\n",
       "      <td>SLM or DMLS</td>\n",
       "      <td>0.68</td>\n",
       "      <td>0.715</td>\n",
       "      <td>Ceramic</td>\n",
       "      <td>0.74</td>\n",
       "      <td>Ceramic</td>\n",
       "      <td>0.71</td>\n",
       "      <td>0.725</td>\n",
       "    </tr>\n",
       "    <tr>\n",
       "      <td>3</td>\n",
       "      <td>3D Printing of Continuous-Fiber Composites by ...</td>\n",
       "      <td>We have developed a method for the three-dimen...</td>\n",
       "      <td>FDM or FFF or EAM</td>\n",
       "      <td>0.70</td>\n",
       "      <td>SLM or DMLS</td>\n",
       "      <td>0.68</td>\n",
       "      <td>0.690</td>\n",
       "      <td>Polymer</td>\n",
       "      <td>0.68</td>\n",
       "      <td>Ceramic</td>\n",
       "      <td>0.63</td>\n",
       "      <td>0.655</td>\n",
       "    </tr>\n",
       "    <tr>\n",
       "      <td>4</td>\n",
       "      <td>3D Printing of Transparent Glass</td>\n",
       "      <td>Traditional assembly line manufacturing is spe...</td>\n",
       "      <td>SLM or DMLS</td>\n",
       "      <td>0.72</td>\n",
       "      <td>SLM or DMLS</td>\n",
       "      <td>0.69</td>\n",
       "      <td>0.705</td>\n",
       "      <td>Ceramic</td>\n",
       "      <td>0.61</td>\n",
       "      <td>Ceramic</td>\n",
       "      <td>0.63</td>\n",
       "      <td>0.620</td>\n",
       "    </tr>\n",
       "  </tbody>\n",
       "</table>\n",
       "</div>"
      ],
      "text/plain": [
       "                                              Titles  \\\n",
       "0          3D gel-printing of zirconia ceramic parts   \n",
       "1  3D Printed Glass Surface Finish and Bulk Prope...   \n",
       "2                   3D printing of ceramics A review   \n",
       "3  3D Printing of Continuous-Fiber Composites by ...   \n",
       "4                   3D Printing of Transparent Glass   \n",
       "\n",
       "                                           Abstracts Production_abstract  \\\n",
       "0  3D gel-printing (3DGP) is a new printing metho...         SLM or DMLS   \n",
       "1  It is impossible to print glass directly from ...         SLM or DMLS   \n",
       "2  Along with extensive research on the three-dim...         SLM or DMLS   \n",
       "3  We have developed a method for the three-dimen...   FDM or FFF or EAM   \n",
       "4  Traditional assembly line manufacturing is spe...         SLM or DMLS   \n",
       "\n",
       "   Production_abstract_score   Production_title  Production_title_score  \\\n",
       "0                       0.48  FDM or FFF or EAM                    0.74   \n",
       "1                       0.73        SLM or DMLS                    0.70   \n",
       "2                       0.75        SLM or DMLS                    0.68   \n",
       "3                       0.70        SLM or DMLS                    0.68   \n",
       "4                       0.72        SLM or DMLS                    0.69   \n",
       "\n",
       "   Mean_product Material_abstract  Material_abstract_score Material_title  \\\n",
       "0         0.610           Ceramic                     0.40        Ceramic   \n",
       "1         0.715             Metal                     0.63          Metal   \n",
       "2         0.715           Ceramic                     0.74        Ceramic   \n",
       "3         0.690           Polymer                     0.68        Ceramic   \n",
       "4         0.705           Ceramic                     0.61        Ceramic   \n",
       "\n",
       "   Material_title_score  Mean_material  \n",
       "0                  0.74          0.570  \n",
       "1                  0.57          0.600  \n",
       "2                  0.71          0.725  \n",
       "3                  0.63          0.655  \n",
       "4                  0.63          0.620  "
      ]
     },
     "execution_count": 31,
     "metadata": {},
     "output_type": "execute_result"
    }
   ],
   "source": [
    "result.head(5)"
   ]
  },
  {
   "cell_type": "code",
   "execution_count": null,
   "metadata": {},
   "outputs": [],
   "source": []
  }
 ],
 "metadata": {
  "kernelspec": {
   "display_name": "Python 3",
   "language": "python",
   "name": "python3"
  },
  "language_info": {
   "codemirror_mode": {
    "name": "ipython",
    "version": 3
   },
   "file_extension": ".py",
   "mimetype": "text/x-python",
   "name": "python",
   "nbconvert_exporter": "python",
   "pygments_lexer": "ipython3",
   "version": "3.7.4"
  }
 },
 "nbformat": 4,
 "nbformat_minor": 2
}
