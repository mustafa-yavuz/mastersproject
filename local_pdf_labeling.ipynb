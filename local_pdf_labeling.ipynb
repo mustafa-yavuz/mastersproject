{
 "cells": [
  {
   "cell_type": "code",
   "execution_count": 1,
   "metadata": {},
   "outputs": [],
   "source": [
    "import numpy as np\n",
    "import pandas as pd\n",
    "import pickle\n",
    "import torch\n",
    "import re\n",
    "import spacy\n",
    "import os\n",
    "\n",
    "from tqdm.auto import tqdm, trange\n",
    "\n",
    "from utils import embedding, get_embedding, text_cleaning, find_top_n , tfidf_sentences\n",
    "from utils import production_labeling, material_labeling, feature_labeling \n",
    "\n",
    "from flair.embeddings import WordEmbeddings, FlairEmbeddings, DocumentPoolEmbeddings\n",
    "from flair.data import Sentence\n",
    "from sklearn.feature_extraction.text import TfidfVectorizer"
   ]
  },
  {
   "cell_type": "code",
   "execution_count": 2,
   "metadata": {},
   "outputs": [],
   "source": [
    "# Loading spacy nlp model\n",
    "nlp = spacy.load(\"en_core_web_sm\")"
   ]
  },
  {
   "cell_type": "code",
   "execution_count": 3,
   "metadata": {},
   "outputs": [],
   "source": [
    "title_list = []\n",
    "\n",
    "for file in os.listdir(\"Local pdf text files\"):\n",
    "  if file.endswith(\".txt\"):\n",
    "    title_list.append(file.split(\".\")[0])"
   ]
  },
  {
   "cell_type": "code",
   "execution_count": 4,
   "metadata": {
    "scrolled": false
   },
   "outputs": [],
   "source": [
    "pdf_list = []\n",
    "    \n",
    "for file in os.listdir(\"Local pdf text files\"):\n",
    "  if file.endswith(\".txt\"):\n",
    "    with open(\"Local pdf text files/\"+file,\"r\",encoding=\"utf8\") as f:\n",
    "        pdf_list.append(f.read())"
   ]
  },
  {
   "cell_type": "code",
   "execution_count": 5,
   "metadata": {},
   "outputs": [],
   "source": [
    "pdfs = list(map(lambda x: text_cleaning(x,nlp), pdf_list))"
   ]
  },
  {
   "cell_type": "code",
   "execution_count": 6,
   "metadata": {},
   "outputs": [],
   "source": [
    "pdf_list_lemma = []\n",
    "\n",
    "for text in pdfs:\n",
    "    pdf_list_lemma.append(' '.join([token.lemma_ for token in text]))"
   ]
  },
  {
   "cell_type": "code",
   "execution_count": 7,
   "metadata": {},
   "outputs": [
    {
     "data": {
      "text/plain": [
       "TfidfVectorizer(analyzer='word', binary=False, decode_error='strict',\n",
       "                dtype=<class 'numpy.float64'>, encoding='utf-8',\n",
       "                input='content', lowercase=True, max_df=0.9, max_features=None,\n",
       "                min_df=2, ngram_range=(1, 1), norm='l2', preprocessor=None,\n",
       "                smooth_idf=True, stop_words='english', strip_accents=None,\n",
       "                sublinear_tf=False, token_pattern='(?u)\\\\b\\\\w\\\\w+\\\\b',\n",
       "                tokenizer=None, use_idf=True, vocabulary=None)"
      ]
     },
     "execution_count": 7,
     "metadata": {},
     "output_type": "execute_result"
    }
   ],
   "source": [
    "vectorizer = TfidfVectorizer(max_df=0.9,min_df=2,stop_words='english')\n",
    "vectorizer.fit(pdf_list_lemma)"
   ]
  },
  {
   "cell_type": "code",
   "execution_count": 8,
   "metadata": {},
   "outputs": [],
   "source": [
    "cos = torch.nn.CosineSimilarity(dim=0, eps=1e-6)"
   ]
  },
  {
   "cell_type": "code",
   "execution_count": 9,
   "metadata": {},
   "outputs": [
    {
     "name": "stderr",
     "output_type": "stream",
     "text": [
      "..\\torch\\csrc\\utils\\tensor_numpy.cpp:141: UserWarning: The given NumPy array is not writeable, and PyTorch does not support non-writeable tensors. This means you can write to the underlying (supposedly non-writeable) NumPy array using the tensor. You may want to copy the array to protect its data or make it writeable before converting it to a tensor. This type of warning will be suppressed for the rest of this program.\n"
     ]
    }
   ],
   "source": [
    "label_1 = get_embedding('selective laser melting')\n",
    "label_2 = get_embedding('direct metal laser sintering')\n",
    "\n",
    "label_3 = get_embedding('fused deposition modeling')\n",
    "label_4 = get_embedding('fused filament fabrication')\n",
    "label_5 = get_embedding('extrusion based additive manufacturing')\n",
    "\n",
    "metal = get_embedding('metal')\n",
    "ceramic = get_embedding('ceramic')\n",
    "polymer = get_embedding('polymer')\n",
    "\n",
    "feature_1 = get_embedding('fracture toughness')\n",
    "feature_2 = get_embedding('tensile strength')\n",
    "feature_3 = get_embedding('yield strength')\n",
    "feature_4 = get_embedding('elastic modulus')\n",
    "feature_5 = get_embedding('strain fracture break')\n",
    "feature_6 = get_embedding('weibull modulus')"
   ]
  },
  {
   "cell_type": "code",
   "execution_count": 10,
   "metadata": {},
   "outputs": [
    {
     "data": {
      "application/vnd.jupyter.widget-view+json": {
       "model_id": "c12bc49a9d264c1ea2f7cd75ea5f7508",
       "version_major": 2,
       "version_minor": 0
      },
      "text/plain": [
       "HBox(children=(IntProgress(value=0, max=99), HTML(value='')))"
      ]
     },
     "metadata": {},
     "output_type": "display_data"
    },
    {
     "name": "stdout",
     "output_type": "stream",
     "text": [
      "\n"
     ]
    },
    {
     "data": {
      "application/vnd.jupyter.widget-view+json": {
       "model_id": "e459b730638948e3ae0453c2d8d9650b",
       "version_major": 2,
       "version_minor": 0
      },
      "text/plain": [
       "HBox(children=(IntProgress(value=0, max=99), HTML(value='')))"
      ]
     },
     "metadata": {},
     "output_type": "display_data"
    },
    {
     "name": "stdout",
     "output_type": "stream",
     "text": [
      "\n"
     ]
    },
    {
     "data": {
      "application/vnd.jupyter.widget-view+json": {
       "model_id": "6f6f475ea2a6451282fcb1cba3f938c3",
       "version_major": 2,
       "version_minor": 0
      },
      "text/plain": [
       "HBox(children=(IntProgress(value=0, max=99), HTML(value='')))"
      ]
     },
     "metadata": {},
     "output_type": "display_data"
    },
    {
     "name": "stdout",
     "output_type": "stream",
     "text": [
      "\n"
     ]
    },
    {
     "data": {
      "application/vnd.jupyter.widget-view+json": {
       "model_id": "1fefe8082ac74411ab497537fa7ef92e",
       "version_major": 2,
       "version_minor": 0
      },
      "text/plain": [
       "HBox(children=(IntProgress(value=0, max=99), HTML(value='')))"
      ]
     },
     "metadata": {},
     "output_type": "display_data"
    },
    {
     "name": "stdout",
     "output_type": "stream",
     "text": [
      "\n"
     ]
    }
   ],
   "source": [
    "sentences = tfidf_sentences(pdf_list_lemma,vectorizer,3)\n",
    "production , production_cos_score = production_labeling(sentences,cos,label_1,label_2,label_3,label_4,label_5)\n",
    "material , material_cos_score = material_labeling(sentences,cos,metal,ceramic,polymer)"
   ]
  },
  {
   "cell_type": "code",
   "execution_count": 11,
   "metadata": {},
   "outputs": [],
   "source": [
    "d = {'Titles':title_list,'Abstracts':pdf_list,'Production':production,'P_score':production_cos_score,'Material':material,'M_score':material_cos_score}\n",
    "df = pd.DataFrame(d)"
   ]
  },
  {
   "cell_type": "code",
   "execution_count": 12,
   "metadata": {},
   "outputs": [],
   "source": [
    "df[\"Production/Material\"] = df[\"Production\"] + \" / \" + df[\"Material\"]"
   ]
  },
  {
   "cell_type": "code",
   "execution_count": 13,
   "metadata": {},
   "outputs": [
    {
     "data": {
      "text/html": [
       "<div>\n",
       "<style scoped>\n",
       "    .dataframe tbody tr th:only-of-type {\n",
       "        vertical-align: middle;\n",
       "    }\n",
       "\n",
       "    .dataframe tbody tr th {\n",
       "        vertical-align: top;\n",
       "    }\n",
       "\n",
       "    .dataframe thead th {\n",
       "        text-align: right;\n",
       "    }\n",
       "</style>\n",
       "<table border=\"1\" class=\"dataframe\">\n",
       "  <thead>\n",
       "    <tr style=\"text-align: right;\">\n",
       "      <th></th>\n",
       "      <th>Titles</th>\n",
       "      <th>Abstracts</th>\n",
       "      <th>Production</th>\n",
       "      <th>P_score</th>\n",
       "      <th>Material</th>\n",
       "      <th>M_score</th>\n",
       "      <th>Production/Material</th>\n",
       "    </tr>\n",
       "  </thead>\n",
       "  <tbody>\n",
       "    <tr>\n",
       "      <td>0</td>\n",
       "      <td>3D gel-printing of zirconia ceramic parts</td>\n",
       "      <td>3D gel-printing (3DGP) is a new printing metho...</td>\n",
       "      <td>SLM or DMLS</td>\n",
       "      <td>0.40</td>\n",
       "      <td>Ceramic</td>\n",
       "      <td>0.33</td>\n",
       "      <td>SLM or DMLS / Ceramic</td>\n",
       "    </tr>\n",
       "    <tr>\n",
       "      <td>1</td>\n",
       "      <td>3D Printed Glass Surface Finish and Bulk Prope...</td>\n",
       "      <td>It is impossible to print glass directly from ...</td>\n",
       "      <td>SLM or DMLS</td>\n",
       "      <td>0.66</td>\n",
       "      <td>Metal</td>\n",
       "      <td>0.54</td>\n",
       "      <td>SLM or DMLS / Metal</td>\n",
       "    </tr>\n",
       "    <tr>\n",
       "      <td>2</td>\n",
       "      <td>3D printing of ceramics A review</td>\n",
       "      <td>Along with extensive research on the three-dim...</td>\n",
       "      <td>SLM or DMLS</td>\n",
       "      <td>0.65</td>\n",
       "      <td>Ceramic</td>\n",
       "      <td>0.65</td>\n",
       "      <td>SLM or DMLS / Ceramic</td>\n",
       "    </tr>\n",
       "    <tr>\n",
       "      <td>3</td>\n",
       "      <td>3D Printing of Continuous-Fiber Composites by ...</td>\n",
       "      <td>We have developed a method for the three-dimen...</td>\n",
       "      <td>SLM or DMLS</td>\n",
       "      <td>0.59</td>\n",
       "      <td>Polymer</td>\n",
       "      <td>0.60</td>\n",
       "      <td>SLM or DMLS / Polymer</td>\n",
       "    </tr>\n",
       "    <tr>\n",
       "      <td>4</td>\n",
       "      <td>3D Printing of Transparent Glass</td>\n",
       "      <td>Traditional assembly line manufacturing is spe...</td>\n",
       "      <td>SLM or DMLS</td>\n",
       "      <td>0.62</td>\n",
       "      <td>Metal</td>\n",
       "      <td>0.51</td>\n",
       "      <td>SLM or DMLS / Metal</td>\n",
       "    </tr>\n",
       "    <tr>\n",
       "      <td>5</td>\n",
       "      <td>A Review of Additive Manufacturing</td>\n",
       "      <td>Additive manufacturing processes take the info...</td>\n",
       "      <td>FDM or FFF or EAM</td>\n",
       "      <td>0.80</td>\n",
       "      <td>Metal</td>\n",
       "      <td>0.38</td>\n",
       "      <td>FDM or FFF or EAM / Metal</td>\n",
       "    </tr>\n",
       "    <tr>\n",
       "      <td>6</td>\n",
       "      <td>Additive manufacturing and its societal impact...</td>\n",
       "      <td>Thirty years into its development, additive ma...</td>\n",
       "      <td>FDM or FFF or EAM</td>\n",
       "      <td>0.74</td>\n",
       "      <td>Polymer</td>\n",
       "      <td>0.39</td>\n",
       "      <td>FDM or FFF or EAM / Polymer</td>\n",
       "    </tr>\n",
       "    <tr>\n",
       "      <td>7</td>\n",
       "      <td>Additive manufacturing and mechanical characte...</td>\n",
       "      <td>Mechanical properties of additively manufactur...</td>\n",
       "      <td>FDM or FFF or EAM</td>\n",
       "      <td>0.58</td>\n",
       "      <td>Polymer</td>\n",
       "      <td>0.48</td>\n",
       "      <td>FDM or FFF or EAM / Polymer</td>\n",
       "    </tr>\n",
       "    <tr>\n",
       "      <td>8</td>\n",
       "      <td>Additive manufacturing of carbonfiber-reinforc...</td>\n",
       "      <td>Carbon fiber-reinforced plastic composites hav...</td>\n",
       "      <td>SLM or DMLS</td>\n",
       "      <td>0.67</td>\n",
       "      <td>Metal</td>\n",
       "      <td>0.63</td>\n",
       "      <td>SLM or DMLS / Metal</td>\n",
       "    </tr>\n",
       "    <tr>\n",
       "      <td>9</td>\n",
       "      <td>Additive Manufacturing of Ceramic Based Materials</td>\n",
       "      <td>This paper offers a review of present achievem...</td>\n",
       "      <td>SLM or DMLS</td>\n",
       "      <td>0.54</td>\n",
       "      <td>Metal</td>\n",
       "      <td>0.45</td>\n",
       "      <td>SLM or DMLS / Metal</td>\n",
       "    </tr>\n",
       "    <tr>\n",
       "      <td>10</td>\n",
       "      <td>Additive manufacturing of ceramics issues, pot...</td>\n",
       "      <td>Additive manufacturing (AM) is a technology wh...</td>\n",
       "      <td>FDM or FFF or EAM</td>\n",
       "      <td>0.59</td>\n",
       "      <td>Metal</td>\n",
       "      <td>0.41</td>\n",
       "      <td>FDM or FFF or EAM / Metal</td>\n",
       "    </tr>\n",
       "    <tr>\n",
       "      <td>11</td>\n",
       "      <td>Additive Manufacturing of Dense Ceramic Parts ...</td>\n",
       "      <td>Additive manufacturing of near-net-shaped dens...</td>\n",
       "      <td>SLM or DMLS</td>\n",
       "      <td>0.52</td>\n",
       "      <td>Metal</td>\n",
       "      <td>0.45</td>\n",
       "      <td>SLM or DMLS / Metal</td>\n",
       "    </tr>\n",
       "    <tr>\n",
       "      <td>12</td>\n",
       "      <td>Additive Manufacturing of Glass</td>\n",
       "      <td>Selective laser melting (SLM) is a technique f...</td>\n",
       "      <td>SLM or DMLS</td>\n",
       "      <td>0.52</td>\n",
       "      <td>Metal</td>\n",
       "      <td>0.52</td>\n",
       "      <td>SLM or DMLS / Metal</td>\n",
       "    </tr>\n",
       "    <tr>\n",
       "      <td>13</td>\n",
       "      <td>Additive Manufacturing of Optically Transparen...</td>\n",
       "      <td>We present a fully functional material extrusi...</td>\n",
       "      <td>SLM or DMLS</td>\n",
       "      <td>0.59</td>\n",
       "      <td>Ceramic</td>\n",
       "      <td>0.56</td>\n",
       "      <td>SLM or DMLS / Ceramic</td>\n",
       "    </tr>\n",
       "    <tr>\n",
       "      <td>14</td>\n",
       "      <td>An experimental demonstration of effective Cur...</td>\n",
       "      <td>Fused   Filament   Fabrication   (FFF)   is   ...</td>\n",
       "      <td>SLM or DMLS</td>\n",
       "      <td>0.52</td>\n",
       "      <td>Metal</td>\n",
       "      <td>0.35</td>\n",
       "      <td>SLM or DMLS / Metal</td>\n",
       "    </tr>\n",
       "    <tr>\n",
       "      <td>15</td>\n",
       "      <td>Anisotropic material properties of fused depos...</td>\n",
       "      <td>Rapid Prototyping (RP) technologies provide th...</td>\n",
       "      <td>FDM or FFF or EAM</td>\n",
       "      <td>0.45</td>\n",
       "      <td>Polymer</td>\n",
       "      <td>0.38</td>\n",
       "      <td>FDM or FFF or EAM / Polymer</td>\n",
       "    </tr>\n",
       "    <tr>\n",
       "      <td>16</td>\n",
       "      <td>Anisotropic Mechanical Behavior of AlSi10Mg Pa...</td>\n",
       "      <td>AlSi 10Mg cylinders produced by laser powder-b...</td>\n",
       "      <td>SLM or DMLS</td>\n",
       "      <td>0.50</td>\n",
       "      <td>Metal</td>\n",
       "      <td>0.43</td>\n",
       "      <td>SLM or DMLS / Metal</td>\n",
       "    </tr>\n",
       "    <tr>\n",
       "      <td>17</td>\n",
       "      <td>Anisotropic mechanical properties of ABS parts...</td>\n",
       "      <td>Layered manufacturing (LM) methods have tradit...</td>\n",
       "      <td>FDM or FFF or EAM</td>\n",
       "      <td>0.50</td>\n",
       "      <td>Metal</td>\n",
       "      <td>0.34</td>\n",
       "      <td>FDM or FFF or EAM / Metal</td>\n",
       "    </tr>\n",
       "    <tr>\n",
       "      <td>18</td>\n",
       "      <td>Assessing the Structural Integrity of Additive...</td>\n",
       "      <td>This paper presents a study of structural inte...</td>\n",
       "      <td>SLM or DMLS</td>\n",
       "      <td>0.53</td>\n",
       "      <td>Polymer</td>\n",
       "      <td>0.36</td>\n",
       "      <td>SLM or DMLS / Polymer</td>\n",
       "    </tr>\n",
       "    <tr>\n",
       "      <td>19</td>\n",
       "      <td>Binding Mechanisms in Selective Laser Sinterin...</td>\n",
       "      <td>Layer Manufacturing (LM) technologies like Sel...</td>\n",
       "      <td>SLM or DMLS</td>\n",
       "      <td>0.47</td>\n",
       "      <td>Polymer</td>\n",
       "      <td>0.36</td>\n",
       "      <td>SLM or DMLS / Polymer</td>\n",
       "    </tr>\n",
       "  </tbody>\n",
       "</table>\n",
       "</div>"
      ],
      "text/plain": [
       "                                               Titles  \\\n",
       "0           3D gel-printing of zirconia ceramic parts   \n",
       "1   3D Printed Glass Surface Finish and Bulk Prope...   \n",
       "2                    3D printing of ceramics A review   \n",
       "3   3D Printing of Continuous-Fiber Composites by ...   \n",
       "4                    3D Printing of Transparent Glass   \n",
       "5                  A Review of Additive Manufacturing   \n",
       "6   Additive manufacturing and its societal impact...   \n",
       "7   Additive manufacturing and mechanical characte...   \n",
       "8   Additive manufacturing of carbonfiber-reinforc...   \n",
       "9   Additive Manufacturing of Ceramic Based Materials   \n",
       "10  Additive manufacturing of ceramics issues, pot...   \n",
       "11  Additive Manufacturing of Dense Ceramic Parts ...   \n",
       "12                    Additive Manufacturing of Glass   \n",
       "13  Additive Manufacturing of Optically Transparen...   \n",
       "14  An experimental demonstration of effective Cur...   \n",
       "15  Anisotropic material properties of fused depos...   \n",
       "16  Anisotropic Mechanical Behavior of AlSi10Mg Pa...   \n",
       "17  Anisotropic mechanical properties of ABS parts...   \n",
       "18  Assessing the Structural Integrity of Additive...   \n",
       "19  Binding Mechanisms in Selective Laser Sinterin...   \n",
       "\n",
       "                                            Abstracts         Production  \\\n",
       "0   3D gel-printing (3DGP) is a new printing metho...        SLM or DMLS   \n",
       "1   It is impossible to print glass directly from ...        SLM or DMLS   \n",
       "2   Along with extensive research on the three-dim...        SLM or DMLS   \n",
       "3   We have developed a method for the three-dimen...        SLM or DMLS   \n",
       "4   Traditional assembly line manufacturing is spe...        SLM or DMLS   \n",
       "5   Additive manufacturing processes take the info...  FDM or FFF or EAM   \n",
       "6   Thirty years into its development, additive ma...  FDM or FFF or EAM   \n",
       "7   Mechanical properties of additively manufactur...  FDM or FFF or EAM   \n",
       "8   Carbon fiber-reinforced plastic composites hav...        SLM or DMLS   \n",
       "9   This paper offers a review of present achievem...        SLM or DMLS   \n",
       "10  Additive manufacturing (AM) is a technology wh...  FDM or FFF or EAM   \n",
       "11  Additive manufacturing of near-net-shaped dens...        SLM or DMLS   \n",
       "12  Selective laser melting (SLM) is a technique f...        SLM or DMLS   \n",
       "13  We present a fully functional material extrusi...        SLM or DMLS   \n",
       "14  Fused   Filament   Fabrication   (FFF)   is   ...        SLM or DMLS   \n",
       "15  Rapid Prototyping (RP) technologies provide th...  FDM or FFF or EAM   \n",
       "16  AlSi 10Mg cylinders produced by laser powder-b...        SLM or DMLS   \n",
       "17  Layered manufacturing (LM) methods have tradit...  FDM or FFF or EAM   \n",
       "18  This paper presents a study of structural inte...        SLM or DMLS   \n",
       "19  Layer Manufacturing (LM) technologies like Sel...        SLM or DMLS   \n",
       "\n",
       "    P_score Material  M_score          Production/Material  \n",
       "0      0.40  Ceramic     0.33        SLM or DMLS / Ceramic  \n",
       "1      0.66    Metal     0.54          SLM or DMLS / Metal  \n",
       "2      0.65  Ceramic     0.65        SLM or DMLS / Ceramic  \n",
       "3      0.59  Polymer     0.60        SLM or DMLS / Polymer  \n",
       "4      0.62    Metal     0.51          SLM or DMLS / Metal  \n",
       "5      0.80    Metal     0.38    FDM or FFF or EAM / Metal  \n",
       "6      0.74  Polymer     0.39  FDM or FFF or EAM / Polymer  \n",
       "7      0.58  Polymer     0.48  FDM or FFF or EAM / Polymer  \n",
       "8      0.67    Metal     0.63          SLM or DMLS / Metal  \n",
       "9      0.54    Metal     0.45          SLM or DMLS / Metal  \n",
       "10     0.59    Metal     0.41    FDM or FFF or EAM / Metal  \n",
       "11     0.52    Metal     0.45          SLM or DMLS / Metal  \n",
       "12     0.52    Metal     0.52          SLM or DMLS / Metal  \n",
       "13     0.59  Ceramic     0.56        SLM or DMLS / Ceramic  \n",
       "14     0.52    Metal     0.35          SLM or DMLS / Metal  \n",
       "15     0.45  Polymer     0.38  FDM or FFF or EAM / Polymer  \n",
       "16     0.50    Metal     0.43          SLM or DMLS / Metal  \n",
       "17     0.50    Metal     0.34    FDM or FFF or EAM / Metal  \n",
       "18     0.53  Polymer     0.36        SLM or DMLS / Polymer  \n",
       "19     0.47  Polymer     0.36        SLM or DMLS / Polymer  "
      ]
     },
     "execution_count": 13,
     "metadata": {},
     "output_type": "execute_result"
    }
   ],
   "source": [
    "df.head(20)"
   ]
  },
  {
   "cell_type": "code",
   "execution_count": 14,
   "metadata": {},
   "outputs": [
    {
     "data": {
      "text/plain": [
       "SLM or DMLS          67\n",
       "FDM or FFF or EAM    32\n",
       "Name: Production, dtype: int64"
      ]
     },
     "execution_count": 14,
     "metadata": {},
     "output_type": "execute_result"
    }
   ],
   "source": [
    "df[\"Production\"].value_counts()"
   ]
  },
  {
   "cell_type": "code",
   "execution_count": 15,
   "metadata": {},
   "outputs": [
    {
     "data": {
      "text/plain": [
       "Metal      39\n",
       "Polymer    39\n",
       "Ceramic    21\n",
       "Name: Material, dtype: int64"
      ]
     },
     "execution_count": 15,
     "metadata": {},
     "output_type": "execute_result"
    }
   ],
   "source": [
    "df[\"Material\"].value_counts()"
   ]
  },
  {
   "cell_type": "code",
   "execution_count": 16,
   "metadata": {},
   "outputs": [],
   "source": [
    "df.to_excel('results.xlsx')"
   ]
  }
 ],
 "metadata": {
  "kernelspec": {
   "display_name": "Python 3",
   "language": "python",
   "name": "python3"
  },
  "language_info": {
   "codemirror_mode": {
    "name": "ipython",
    "version": 3
   },
   "file_extension": ".py",
   "mimetype": "text/x-python",
   "name": "python",
   "nbconvert_exporter": "python",
   "pygments_lexer": "ipython3",
   "version": "3.7.4"
  }
 },
 "nbformat": 4,
 "nbformat_minor": 2
}
